{
 "cells": [
  {
   "cell_type": "code",
   "execution_count": 1,
   "metadata": {},
   "outputs": [],
   "source": [
    "import os\n",
    "import numpy as np\n",
    "import cv2\n",
    "import matplotlib.pyplot as plt\n",
    "from skimage.morphology import skeletonize, thin\n",
    "from skimage.io import imshow\n",
    "from utils import *"
   ]
  },
  {
   "cell_type": "code",
   "execution_count": 2,
   "metadata": {},
   "outputs": [],
   "source": [
    "def RGBtoYCbCr (R, G, B):\n",
    "    R = int(R)\n",
    "    G = int(G)\n",
    "    B = int(B)\n",
    "    R /= 255.0\n",
    "    G /= 255.0\n",
    "    B /= 255.0\n",
    "    Y = 16 + (65.481 * R + 128.553 * G + 24.966 * B)\n",
    "    Cb = 128 + (-37.797 * R - 74.203 * G + 112.0 * B)\n",
    "    Cr = 128 + (112.0 * R - 93.786 * G - 18.214 * B)\n",
    "    return Y, Cb, Cr"
   ]
  },
  {
   "cell_type": "code",
   "execution_count": 3,
   "metadata": {},
   "outputs": [],
   "source": [
    "path = './Skin_NonSkin.txt'\n",
    "content = \"\"\n",
    "with open(path, 'r') as file:\n",
    "    content = file.read()\n",
    "entries = content.split('\\n')\n",
    "dataset = dict()\n",
    "for line in entries:\n",
    "    if line:\n",
    "        R, G, B, label = line.split()\n",
    "        label = int(label)\n",
    "        if(label not in dataset):\n",
    "            dataset[label] = []\n",
    "        Y, Cb, Cr = RGBtoYCbCr(R, G, B)\n",
    "        dataset[label].append([Cb, Cr])"
   ]
  },
  {
   "cell_type": "code",
   "execution_count": 4,
   "metadata": {},
   "outputs": [],
   "source": [
    "def get_mean_cov(dataset):\n",
    "    mean = dict()\n",
    "    cov = dict()\n",
    "    for label in dataset:\n",
    "        data = np.array(dataset[label])\n",
    "        mean[label] = np.mean(data, axis=0)\n",
    "        cov[label] = np.cov(data, rowvar=False)\n",
    "    return mean, cov\n",
    "mean, cov = get_mean_cov(dataset)\n",
    "skinMean = mean[1]\n",
    "skinCov = cov[1]\n",
    "nonSkinMean = mean[2]\n",
    "nonSkinCov = cov[2]"
   ]
  },
  {
   "cell_type": "code",
   "execution_count": 5,
   "metadata": {},
   "outputs": [],
   "source": [
    "def prob_c_label(C, mean, cov):\n",
    "\n",
    "    C = np.array(C)\n",
    "    mean = np.array(mean)\n",
    "    cov = np.array(cov)\n",
    "\n",
    "    C_diff = C - mean\n",
    "    inv_cov = np.linalg.inv(cov)    \n",
    "    prob = np.exp(-0.5 * np.sum(C_diff @ inv_cov * C_diff,axis=-1))\n",
    "\n",
    "    norm_factor = np.sqrt(np.linalg.det(cov) * (2 * np.pi) ** C.shape[1])\n",
    "    \n",
    "    return prob / norm_factor\n",
    "# def prob_c_label(C, mean, cov):\n",
    "#     C = np.array(C)\n",
    "#     mean = np.array(mean)\n",
    "#     cov = np.array(cov)\n",
    "    \n",
    "#     C_diff = C - mean\n",
    "#     inv_cov = np.linalg.inv(cov)\n",
    "    \n",
    "#     # Use log determinant to avoid overflow\n",
    "#     log_det = np.log(np.linalg.det(cov))\n",
    "    \n",
    "#     # Compute in log space\n",
    "#     log_norm_factor = 0.5 * (log_det + C.shape[1] * np.log(2 * np.pi))\n",
    "    \n",
    "#     # Rest of the computation remains similar\n",
    "#     x = np.einsum('ijk,kl,ijl->ij', C_diff, inv_cov, C_diff)\n",
    "    \n",
    "#     # Compute log-probability first to avoid overflow\n",
    "#     log_prob = -0.5 * x - log_norm_factor\n",
    "    \n",
    "#     prob = np.exp(log_prob)\n",
    "    \n",
    "#     return prob\n",
    "def prob_skin_c(C, skinMean, skinCov, nonSkinMean, nonSkinCov):\n",
    "    probCskin = prob_c_label(C, skinMean, skinCov)\n",
    "    probCnonSkin = prob_c_label(C, nonSkinMean, nonSkinCov)\n",
    "\n",
    "    return probCskin / (probCskin + probCnonSkin)"
   ]
  },
  {
   "cell_type": "code",
   "execution_count": 11,
   "metadata": {},
   "outputs": [],
   "source": [
    "max_face = None\n",
    "max_area_face = 0\n",
    "def appendFaceContour(frame, resizedSize, contour_areas, smallest_contours):\n",
    "    original_height, original_width = frame.shape[:2]\n",
    "    scale_x = resizedSize[0] / original_width\n",
    "    scale_y = resizedSize[1] / original_height\n",
    "    faces = face_cascade.detectMultiScale(frame, 1.3, 5)\n",
    "    global max_face\n",
    "    if len(faces) > 0:\n",
    "        max_area = 0\n",
    "        max_face = None\n",
    "        for (x, y, w, h) in faces:\n",
    "            area = w * h\n",
    "            if area > max_area and (max_area_face == 0 or abs(area - max_area_face) < 0.1 * max_area_face):\n",
    "                max_area = area\n",
    "                max_face = (x, y, w, h)\n",
    "    if max_face:\n",
    "        (x, y, w, h) = max_face\n",
    "\n",
    "        x_resized = int(x * scale_x)\n",
    "        y_resized = int(y * scale_y)\n",
    "        w_resized = int(w * scale_x)\n",
    "        h_resized = int(h * scale_y)\n",
    "        middle_x = x_resized + w_resized // 2\n",
    "        middle_y = y_resized + h_resized // 2\n",
    "        for _, contour in contour_areas[-min(2,len(contour_areas)):]: \n",
    "            midpoint = (float(middle_x), float(middle_y))\n",
    "            result = cv2.pointPolygonTest(contour, midpoint, False)\n",
    "            d_x = 20\n",
    "            d_y = 20\n",
    "            different_dirs = [(d_x, d_y), (-d_x, d_y), (d_x, -d_y), (-d_x, -d_y)]\n",
    "            for dir in different_dirs:\n",
    "                if result < 0:\n",
    "                    result = cv2.pointPolygonTest(contour, (middle_x + dir[0], middle_y + dir[1]), False)\n",
    "            if result >= 0:  \n",
    "                smallest_contours.append(contour)\n",
    "                break  \n",
    "    elif len(contour_areas) > 1:\n",
    "        smallest_contours.append(contour_areas[-2][1])\n",
    "def removeContours(mask, frame, resizedSize):\n",
    "    contours = cv2.findContours(mask.astype(np.uint8), cv2.RETR_TREE, cv2.CHAIN_APPROX_SIMPLE)[0]\n",
    "    contour_areas = [(cv2.contourArea(c), c) for c in contours]\n",
    "    contour_areas.sort(key=lambda x: x[0]) \n",
    "    smallest_contours = [c[1] for c in contour_areas[:-min(2, len(contour_areas))]]\n",
    "    # if len(contour_areas) > 1 and contour_areas[-2][0] < contour_areas[-1][0] / 2:\n",
    "    #     smallest_contours.append(contour_areas[-2][1])\n",
    "    maybe_face = contour_areas[-min(2, len(contour_areas)):]\n",
    "    appendFaceContour(frame, resizedSize, maybe_face, smallest_contours)\n",
    "    if len(smallest_contours) > 0:\n",
    "        cv2.drawContours(mask, smallest_contours, -1, 0, -1)\n",
    "def cleanMask(skinMask, frame, resizedSize):\n",
    "    binaryMask = cv2.threshold(skinMask, 0.15, 1, cv2.THRESH_BINARY)[1]\n",
    "    # binaryMask = cv2.morphologyEx(binaryMask, cv2.MORPH_CLOSE, np.ones((3, 3)), iterations=3)\n",
    "    # binaryMask = cv2.morphologyEx(binaryMask, cv2.MORPH_OPEN, np.ones((3, 3)), iterations=3)\n",
    "    removeContours(binaryMask, frame, resizedSize)\n",
    "    return binaryMask\n",
    "def show_images(images,titles=None):\n",
    "    #This function is used to show image(s) with titles by sending an array of images and an array of associated titles.\n",
    "    # images[0] will be drawn with the title titles[0] if exists\n",
    "    # You aren't required to understand this function, use it as-is.\n",
    "    n_ims = len(images)\n",
    "    if titles is None: titles = ['(%d)' % i for i in range(1,n_ims + 1)]\n",
    "    fig = plt.figure()\n",
    "    n = 1\n",
    "    for image,title in zip(images,titles):\n",
    "        a = fig.add_subplot(1,n_ims,n)\n",
    "        if image.ndim == 2:\n",
    "            plt.gray()\n",
    "        plt.imshow(image)\n",
    "        a.set_title(title)\n",
    "        plt.axis('off')\n",
    "        n += 1\n",
    "    fig.set_size_inches(np.array(fig.get_size_inches()) * n_ims)\n",
    "    plt.show()"
   ]
  },
  {
   "cell_type": "code",
   "execution_count": 12,
   "metadata": {},
   "outputs": [],
   "source": [
    "def removeFaceMask(image, face_cascade):\n",
    "    gray = cv2.cvtColor(image, cv2.COLOR_BGR2GRAY)\n",
    "    \n",
    "    faces = face_cascade.detectMultiScale(gray, scaleFactor=1.1, minNeighbors=5, minSize=(30, 30))\n",
    "    \n",
    "    mask = np.ones((image.shape[0], image.shape[1]), dtype=np.uint8)\n",
    "    \n",
    "    Y, X = np.ogrid[:image.shape[0], :image.shape[1]]  # Create grid of indices\n",
    "    for (x, y, w, h) in faces:\n",
    "        center_x, center_y = x + w // 2, y + h // 2  \n",
    "        radius = 1.1 * (max(w, h) // 2 ) \n",
    "        \n",
    "        dist_from_center = (X - center_x)**2 + (Y - center_y)**2\n",
    "        circular_mask = dist_from_center <= radius**2\n",
    "        \n",
    "        mask[circular_mask] = 0\n",
    "    \n",
    "    return mask"
   ]
  },
  {
   "cell_type": "code",
   "execution_count": 23,
   "metadata": {},
   "outputs": [],
   "source": [
    "drawing_color = (0, 0, 255)\n",
    "\n",
    "color_squares = {\n",
    "    (10, 10, 50, 50): (255, 0, 0), \n",
    "    (60, 10, 110, 50): (0, 255, 0), \n",
    "    (120, 10, 170, 50): (0, 0, 255), \n",
    "}\n",
    "\n",
    "def select_color_from_fingertip(x, y):\n",
    "    global drawing_color\n",
    "    for (x1, y1, x2, y2), color in color_squares.items():\n",
    "        if x1 <= x <= x2 and y1 <= y <= y2:\n",
    "            drawing_color = color\n",
    "            break"
   ]
  },
  {
   "cell_type": "code",
   "execution_count": 27,
   "metadata": {},
   "outputs": [
    {
     "name": "stderr",
     "output_type": "stream",
     "text": [
      "INFO:webcam_skin_detection:Webcam opened successfully\n",
      "INFO:webcam_skin_detection:Fingers detected: 1\n"
     ]
    },
    {
     "name": "stdout",
     "output_type": "stream",
     "text": [
      "(480, 640, 3)\n",
      "[ 0  1  2  3  4  5  6  7  8  9 10 11 12 13]\n"
     ]
    },
    {
     "name": "stderr",
     "output_type": "stream",
     "text": [
      "INFO:webcam_skin_detection:Fingers detected: 1\n",
      "INFO:webcam_skin_detection:Fingers detected: 1\n",
      "INFO:webcam_skin_detection:Fingers detected: 1\n"
     ]
    },
    {
     "name": "stdout",
     "output_type": "stream",
     "text": [
      "(480, 640, 3)\n",
      "[ 0  1  2  3  4  5  6  7  8  9 10 11 12 13 14]\n",
      "(480, 640, 3)\n",
      "[ 0  1  2  3  4  5  6  7  8  9 10 11 12 13]\n",
      "(480, 640, 3)\n"
     ]
    },
    {
     "name": "stderr",
     "output_type": "stream",
     "text": [
      "INFO:webcam_skin_detection:Fingers detected: 1\n",
      "INFO:webcam_skin_detection:Fingers detected: 1\n"
     ]
    },
    {
     "name": "stdout",
     "output_type": "stream",
     "text": [
      "[ 0  1  2  3  4  5  6  7  8  9 10 11 12 13 14]\n",
      "(480, 640, 3)\n",
      "[ 0  1  2  3  4  5  6  7  8  9 10 11 12 13 14]\n",
      "(480, 640, 3)\n"
     ]
    },
    {
     "name": "stderr",
     "output_type": "stream",
     "text": [
      "INFO:webcam_skin_detection:Fingers detected: 1\n",
      "INFO:webcam_skin_detection:Fingers detected: 1\n"
     ]
    },
    {
     "name": "stdout",
     "output_type": "stream",
     "text": [
      "[ 0  1  2  3  4  5  6  7  8  9 10 11 12 13 14]\n",
      "(480, 640, 3)\n",
      "[ 0  1  2  3  4  5  6  7  8  9 10 11 12 13]\n",
      "(480, 640, 3)\n",
      "[ 0  1  2  3  4  5  6  7  8  9 11 12 13]\n",
      "(480, 640, 3)\n"
     ]
    },
    {
     "name": "stderr",
     "output_type": "stream",
     "text": [
      "INFO:webcam_skin_detection:Fingers detected: 1\n",
      "INFO:webcam_skin_detection:Fingers detected: 1\n",
      "INFO:webcam_skin_detection:Fingers detected: 1\n"
     ]
    },
    {
     "name": "stdout",
     "output_type": "stream",
     "text": [
      "[ 0  1  2  3  4  5  6  7  8  9 10 11 12 13]\n",
      "(480, 640, 3)\n",
      "[ 0  1  2  3  4  5  6  7  8  9 10 11 12 13]\n",
      "(480, 640, 3)\n",
      "[ 0  1  2  3  4  5  6  7  8  9 10 11 12 13]\n",
      "(480, 640, 3)\n"
     ]
    },
    {
     "name": "stderr",
     "output_type": "stream",
     "text": [
      "INFO:webcam_skin_detection:Fingers detected: 1\n",
      "INFO:webcam_skin_detection:Fingers detected: 1\n",
      "INFO:webcam_skin_detection:Fingers detected: 1\n"
     ]
    },
    {
     "name": "stdout",
     "output_type": "stream",
     "text": [
      "[ 0  1  2  3  4  5  6  7  8  9 10 11 12 13 14]\n",
      "(480, 640, 3)\n",
      "[ 0  1  2  3  4  5  6  7  8  9 10 11 12 13 14 15]\n",
      "(480, 640, 3)\n",
      "[ 0  1  2  3  4  5  6  7  8  9 10 11 12 13 14]\n",
      "(480, 640, 3)\n"
     ]
    },
    {
     "name": "stderr",
     "output_type": "stream",
     "text": [
      "INFO:webcam_skin_detection:Fingers detected: 1\n",
      "INFO:webcam_skin_detection:Fingers detected: 1\n",
      "INFO:webcam_skin_detection:Fingers detected: 1\n"
     ]
    },
    {
     "name": "stdout",
     "output_type": "stream",
     "text": [
      "[ 0  1  2  3  4  5  6  7  8  9 10 11 12 13 14 15]\n",
      "(480, 640, 3)\n",
      "[ 0  1  2  3  4  5  6  7  8  9 10 11 12 13 14]\n",
      "(480, 640, 3)\n",
      "[ 0  1  2  3  4  5  6  7  8  9 10 11 12 13 14]\n",
      "(480, 640, 3)\n"
     ]
    },
    {
     "name": "stderr",
     "output_type": "stream",
     "text": [
      "INFO:webcam_skin_detection:Fingers detected: 1\n",
      "INFO:webcam_skin_detection:Fingers detected: 1\n",
      "INFO:webcam_skin_detection:Fingers detected: 1\n",
      "INFO:webcam_skin_detection:Fingers detected: 1\n"
     ]
    },
    {
     "name": "stdout",
     "output_type": "stream",
     "text": [
      "[ 0  1  2  3  4  5  6  7  8  9 10 11 12 13 14]\n",
      "(480, 640, 3)\n",
      "[ 0  1  2  3  4  5  6  7  8  9 10 11 12 13 14]\n",
      "(480, 640, 3)\n",
      "[ 0  1  2  3  4  5  6  7  8  9 10 11 12 13 14]\n",
      "(480, 640, 3)\n"
     ]
    },
    {
     "name": "stderr",
     "output_type": "stream",
     "text": [
      "INFO:webcam_skin_detection:Fingers detected: 1\n",
      "INFO:webcam_skin_detection:Fingers detected: 1\n",
      "INFO:webcam_skin_detection:Fingers detected: 1\n"
     ]
    },
    {
     "name": "stdout",
     "output_type": "stream",
     "text": [
      "[ 0  1  2  3  4  5  6  7  8  9 10 11 12 13 14]\n",
      "(480, 640, 3)\n",
      "[ 0  1  2  3  4  5  6  7  8  9 10 11 12 13 14]\n",
      "(480, 640, 3)\n",
      "[ 0  1  2  3  4  5  6  7  8  9 10 11 12 13 14]\n",
      "(480, 640, 3)\n"
     ]
    },
    {
     "name": "stderr",
     "output_type": "stream",
     "text": [
      "INFO:webcam_skin_detection:Fingers detected: 1\n",
      "INFO:webcam_skin_detection:Fingers detected: 1\n"
     ]
    },
    {
     "name": "stdout",
     "output_type": "stream",
     "text": [
      "[ 0  1  2  3  4  5  6  7  8  9 10 11 12 13 14]\n",
      "(480, 640, 3)\n",
      "[ 0  1  2  3  4  5  6  7  8  9 10 11 12 13 14 15]\n",
      "(480, 640, 3)\n",
      "[ 0  1  2  3  4  5  6  7  8  9 10 11 12 13 14 15]\n",
      "(480, 640, 3)\n"
     ]
    },
    {
     "name": "stderr",
     "output_type": "stream",
     "text": [
      "INFO:webcam_skin_detection:Fingers detected: 1\n",
      "INFO:webcam_skin_detection:Fingers detected: 0\n",
      "INFO:webcam_skin_detection:Fingers detected: 2\n"
     ]
    },
    {
     "name": "stdout",
     "output_type": "stream",
     "text": [
      "[ 0  1  2  3  4  5  6  7  8  9 10 11 12 13 14]\n",
      "(480, 640, 3)\n",
      "Error in count_fingers\n",
      "(480, 640, 3)\n",
      "(480, 640, 3)\n"
     ]
    },
    {
     "name": "stderr",
     "output_type": "stream",
     "text": [
      "INFO:webcam_skin_detection:Fingers detected: 1\n",
      "INFO:webcam_skin_detection:Fingers detected: 1\n",
      "INFO:webcam_skin_detection:Fingers detected: 2\n"
     ]
    },
    {
     "name": "stdout",
     "output_type": "stream",
     "text": [
      "[ 0  1  2  3  4  5  6  7  8  9 10 11 12 13 14]\n",
      "(480, 640, 3)\n",
      "[ 0  1  2  3  4  5  6  7  8  9 10 11 12 13 14 15]\n",
      "(480, 640, 3)\n",
      "(480, 640, 3)\n"
     ]
    },
    {
     "name": "stderr",
     "output_type": "stream",
     "text": [
      "INFO:webcam_skin_detection:Fingers detected: 1\n",
      "INFO:webcam_skin_detection:Fingers detected: 1\n",
      "INFO:webcam_skin_detection:Fingers detected: 2\n",
      "INFO:webcam_skin_detection:Fingers detected: 1\n"
     ]
    },
    {
     "name": "stdout",
     "output_type": "stream",
     "text": [
      "[ 0  1  2  3  4  5  6  7  8  9 10 11 12 13 14]\n",
      "(480, 640, 3)\n",
      "[ 0  1  2  3  4  5  6  7  8  9 10 11 12 13 14 15]\n",
      "(480, 640, 3)\n",
      "(480, 640, 3)\n"
     ]
    },
    {
     "name": "stderr",
     "output_type": "stream",
     "text": [
      "INFO:webcam_skin_detection:Fingers detected: 4\n",
      "INFO:webcam_skin_detection:Fingers detected: 2\n"
     ]
    },
    {
     "name": "stdout",
     "output_type": "stream",
     "text": [
      "[ 0  1  2  3  4  5  6  7  8  9 10 11 12 13 14 15]\n",
      "(480, 640, 3)\n",
      "(480, 640, 3)\n",
      "(480, 640, 3)\n"
     ]
    },
    {
     "name": "stderr",
     "output_type": "stream",
     "text": [
      "INFO:webcam_skin_detection:Fingers detected: 3\n",
      "INFO:webcam_skin_detection:Fingers detected: 1\n",
      "INFO:webcam_skin_detection:Fingers detected: 2\n"
     ]
    },
    {
     "name": "stdout",
     "output_type": "stream",
     "text": [
      "(480, 640, 3)\n",
      "[ 0  1  2  3  4  5  6  7  8  9 10 11 12 13 14]\n",
      "(480, 640, 3)\n",
      "(480, 640, 3)\n"
     ]
    },
    {
     "name": "stderr",
     "output_type": "stream",
     "text": [
      "INFO:webcam_skin_detection:Fingers detected: 4\n",
      "INFO:webcam_skin_detection:Fingers detected: 3\n",
      "INFO:webcam_skin_detection:Fingers detected: 4\n"
     ]
    },
    {
     "name": "stdout",
     "output_type": "stream",
     "text": [
      "(480, 640, 3)\n",
      "(480, 640, 3)\n",
      "(480, 640, 3)\n"
     ]
    },
    {
     "name": "stderr",
     "output_type": "stream",
     "text": [
      "INFO:webcam_skin_detection:Fingers detected: 4\n",
      "INFO:webcam_skin_detection:Fingers detected: 4\n",
      "INFO:webcam_skin_detection:Fingers detected: 3\n",
      "INFO:webcam_skin_detection:Fingers detected: 2\n"
     ]
    },
    {
     "name": "stdout",
     "output_type": "stream",
     "text": [
      "(480, 640, 3)\n",
      "(480, 640, 3)\n",
      "(480, 640, 3)\n"
     ]
    },
    {
     "name": "stderr",
     "output_type": "stream",
     "text": [
      "INFO:webcam_skin_detection:Fingers detected: 3\n",
      "INFO:webcam_skin_detection:Fingers detected: 3\n",
      "INFO:webcam_skin_detection:Fingers detected: 1\n"
     ]
    },
    {
     "name": "stdout",
     "output_type": "stream",
     "text": [
      "(480, 640, 3)\n",
      "(480, 640, 3)\n",
      "(480, 640, 3)\n"
     ]
    },
    {
     "name": "stderr",
     "output_type": "stream",
     "text": [
      "INFO:webcam_skin_detection:Fingers detected: 2\n",
      "INFO:webcam_skin_detection:Fingers detected: 1\n",
      "INFO:webcam_skin_detection:Fingers detected: 1\n"
     ]
    },
    {
     "name": "stdout",
     "output_type": "stream",
     "text": [
      "[ 0  1  2  3  4  5  6  7  8  9 10 11 12 13 14]\n",
      "(480, 640, 3)\n",
      "(480, 640, 3)\n",
      "[ 0  1  2  3  4  5  6  7  8  9 10 11 12 13 14]\n",
      "(480, 640, 3)\n"
     ]
    },
    {
     "name": "stderr",
     "output_type": "stream",
     "text": [
      "INFO:webcam_skin_detection:Fingers detected: 1\n",
      "INFO:webcam_skin_detection:Fingers detected: 0\n"
     ]
    },
    {
     "name": "stdout",
     "output_type": "stream",
     "text": [
      "[ 0  1  2  3  4  5  6  7  8  9 10 11 12 13]\n",
      "(480, 640, 3)\n",
      "[ 0  1  2  3  4  5  6  7  8  9 10 11 12 13 14]\n",
      "(480, 640, 3)\n",
      "Error in count_fingers\n",
      "(480, 640, 3)\n"
     ]
    },
    {
     "name": "stderr",
     "output_type": "stream",
     "text": [
      "INFO:webcam_skin_detection:Fingers detected: 1\n",
      "INFO:webcam_skin_detection:Fingers detected: 1\n",
      "INFO:webcam_skin_detection:Fingers detected: 2\n",
      "INFO:webcam_skin_detection:Fingers detected: 2\n"
     ]
    },
    {
     "name": "stdout",
     "output_type": "stream",
     "text": [
      "[ 0  1  2  3  4  5  6  7  8  9 10 11 12 13 14]\n",
      "(480, 640, 3)\n",
      "[ 0  1  2  3  4  5  6  7  8  9 10 11 12 13 14 15]\n",
      "(480, 640, 3)\n",
      "(480, 640, 3)\n"
     ]
    },
    {
     "name": "stderr",
     "output_type": "stream",
     "text": [
      "INFO:webcam_skin_detection:Fingers detected: 2\n",
      "INFO:webcam_skin_detection:Fingers detected: 1\n",
      "INFO:webcam_skin_detection:Fingers detected: 0\n"
     ]
    },
    {
     "name": "stdout",
     "output_type": "stream",
     "text": [
      "(480, 640, 3)\n",
      "(480, 640, 3)\n",
      "[ 0  1  2  3  4  5  6  7  8  9 10 11 12 13 14]\n",
      "(480, 640, 3)\n",
      "Error in count_fingers\n"
     ]
    },
    {
     "name": "stderr",
     "output_type": "stream",
     "text": [
      "INFO:webcam_skin_detection:Fingers detected: 1\n",
      "INFO:webcam_skin_detection:Fingers detected: 1\n"
     ]
    },
    {
     "name": "stdout",
     "output_type": "stream",
     "text": [
      "(480, 640, 3)\n",
      "[ 0  1  2  3  4  5  6  7  8  9 10 11 12 13 14 15]\n",
      "(480, 640, 3)\n",
      "[ 0  1  2  3  4  5  6  7  8  9 10 11 12 13 14]\n",
      "(480, 640, 3)\n"
     ]
    },
    {
     "name": "stderr",
     "output_type": "stream",
     "text": [
      "INFO:webcam_skin_detection:Fingers detected: 2\n",
      "INFO:webcam_skin_detection:Fingers detected: 2\n",
      "INFO:webcam_skin_detection:Fingers detected: 1\n",
      "INFO:webcam_skin_detection:Fingers detected: 1\n"
     ]
    },
    {
     "name": "stdout",
     "output_type": "stream",
     "text": [
      "(480, 640, 3)\n",
      "(480, 640, 3)\n",
      "[ 0  1  2  3  4  5  6  7  8  9 10 11 12 13 14]\n",
      "(480, 640, 3)\n"
     ]
    },
    {
     "name": "stderr",
     "output_type": "stream",
     "text": [
      "INFO:webcam_skin_detection:Fingers detected: 1\n",
      "INFO:webcam_skin_detection:Fingers detected: 1\n",
      "INFO:webcam_skin_detection:Fingers detected: 1\n"
     ]
    },
    {
     "name": "stdout",
     "output_type": "stream",
     "text": [
      "[ 0  1  2  3  4  5  6  7  8  9 10 11 12 13 14 15]\n",
      "(480, 640, 3)\n",
      "[ 0  1  2  3  4  5  6  7  8  9 10 11 12 13 14]\n",
      "(480, 640, 3)\n",
      "[ 0  1  2  3  4  5  6  7  8  9 10 11 12 13 14]\n",
      "(480, 640, 3)\n"
     ]
    },
    {
     "name": "stderr",
     "output_type": "stream",
     "text": [
      "INFO:webcam_skin_detection:Fingers detected: 1\n",
      "INFO:webcam_skin_detection:Fingers detected: 0\n",
      "INFO:webcam_skin_detection:Fingers detected: 1\n"
     ]
    },
    {
     "name": "stdout",
     "output_type": "stream",
     "text": [
      "[ 0  1  2  3  4  5  6  7  8  9 10 11 12 13 14]\n",
      "(480, 640, 3)\n",
      "[ 0  1  2  3  4  5  6  7  8  9 10 11 12 13 14 15]\n",
      "(480, 640, 3)\n",
      "Error in count_fingers\n",
      "(480, 640, 3)\n",
      "[ 0  1  2  3  4  5  6  7  8  9 10 11 12 13 14]\n",
      "(480, 640, 3)\n"
     ]
    },
    {
     "name": "stderr",
     "output_type": "stream",
     "text": [
      "INFO:webcam_skin_detection:Fingers detected: 1\n",
      "INFO:webcam_skin_detection:Fingers detected: 1\n",
      "INFO:webcam_skin_detection:Fingers detected: 1\n"
     ]
    },
    {
     "name": "stdout",
     "output_type": "stream",
     "text": [
      "[ 0  1  2  3  4  5  6  7  8  9 10 11 12 13 14 15]\n",
      "(480, 640, 3)\n",
      "[ 0  1  2  3  4  5  6  7  8  9 10 11 12 13 14 15]\n",
      "(480, 640, 3)\n",
      "[ 0  1  2  3  4  5  6  7  8  9 10 11 12 13 14 15]\n",
      "(480, 640, 3)\n"
     ]
    },
    {
     "name": "stderr",
     "output_type": "stream",
     "text": [
      "INFO:webcam_skin_detection:Fingers detected: 1\n",
      "INFO:webcam_skin_detection:Fingers detected: 1\n",
      "INFO:webcam_skin_detection:Fingers detected: 1\n",
      "INFO:webcam_skin_detection:Fingers detected: 1\n"
     ]
    },
    {
     "name": "stdout",
     "output_type": "stream",
     "text": [
      "[ 0  1  2  3  4  5  6  7  8  9 10 11 12 13 14]\n",
      "(480, 640, 3)\n",
      "[ 0  1  2  3  4  5  6  7  8  9 10 11 12 13 14]\n",
      "(480, 640, 3)\n",
      "[ 0  1  2  3  4  5  6  7  8  9 10 11 12 13 14]\n",
      "(480, 640, 3)\n"
     ]
    },
    {
     "name": "stderr",
     "output_type": "stream",
     "text": [
      "INFO:webcam_skin_detection:Fingers detected: 2\n",
      "INFO:webcam_skin_detection:Fingers detected: 1\n"
     ]
    },
    {
     "name": "stdout",
     "output_type": "stream",
     "text": [
      "[ 0  1  2  3  4  5  6  7  8  9 10 11 12 13 14]\n",
      "(480, 640, 3)\n",
      "(480, 640, 3)\n",
      "[ 0  1  2  3  4  5  6  7  8  9 10 11 12 13 14 15]\n",
      "(480, 640, 3)\n"
     ]
    },
    {
     "name": "stderr",
     "output_type": "stream",
     "text": [
      "INFO:webcam_skin_detection:Fingers detected: 1\n",
      "INFO:webcam_skin_detection:Fingers detected: 0\n",
      "INFO:webcam_skin_detection:Fingers detected: 1\n",
      "INFO:webcam_skin_detection:Fingers detected: 1\n"
     ]
    },
    {
     "name": "stdout",
     "output_type": "stream",
     "text": [
      "[ 0  1  2  3  4  5  6  7  8  9 10 11 12 13]\n",
      "(480, 640, 3)\n",
      "Error in count_fingers\n",
      "(480, 640, 3)\n",
      "[ 0  1  2  3  4  5  6  7  8  9 10 11 12 13 14 15]\n",
      "(480, 640, 3)\n"
     ]
    },
    {
     "name": "stderr",
     "output_type": "stream",
     "text": [
      "INFO:webcam_skin_detection:Fingers detected: 1\n",
      "INFO:webcam_skin_detection:Fingers detected: 2\n",
      "INFO:webcam_skin_detection:Fingers detected: 1\n"
     ]
    },
    {
     "name": "stdout",
     "output_type": "stream",
     "text": [
      "[ 0  1  2  3  4  5  6  7  8  9 10 11 12 13 14]\n",
      "(480, 640, 3)\n",
      "[ 0  1  2  3  4  5  6  7  8  9 10 11 12 13 14]\n",
      "(480, 640, 3)\n",
      "(480, 640, 3)\n"
     ]
    },
    {
     "name": "stderr",
     "output_type": "stream",
     "text": [
      "INFO:webcam_skin_detection:Fingers detected: 0\n",
      "INFO:webcam_skin_detection:Fingers detected: 1\n",
      "INFO:webcam_skin_detection:Fingers detected: 2\n"
     ]
    },
    {
     "name": "stdout",
     "output_type": "stream",
     "text": [
      "[ 0  1  2  3  4  5  6  7  8  9 10 11 12 13 14]\n",
      "(480, 640, 3)\n",
      "Error in count_fingers\n",
      "(480, 640, 3)\n",
      "[ 0  1  2  3  4  5  6  7  8  9 10 11 12 13 14 15]\n",
      "(480, 640, 3)\n"
     ]
    },
    {
     "name": "stderr",
     "output_type": "stream",
     "text": [
      "INFO:webcam_skin_detection:Fingers detected: 2\n",
      "INFO:webcam_skin_detection:Fingers detected: 1\n",
      "INFO:webcam_skin_detection:Fingers detected: 3\n"
     ]
    },
    {
     "name": "stdout",
     "output_type": "stream",
     "text": [
      "(480, 640, 3)\n",
      "(480, 640, 3)\n",
      "[ 0  1  2  3  4  5  6  7  8  9 10 11 12 13 14 15]\n",
      "(480, 640, 3)\n",
      "(480, 640, 3)\n"
     ]
    },
    {
     "name": "stderr",
     "output_type": "stream",
     "text": [
      "INFO:webcam_skin_detection:Fingers detected: 1\n",
      "INFO:webcam_skin_detection:Fingers detected: 2\n",
      "INFO:webcam_skin_detection:Fingers detected: 0\n",
      "INFO:webcam_skin_detection:Fingers detected: 1\n"
     ]
    },
    {
     "name": "stdout",
     "output_type": "stream",
     "text": [
      "[ 0  1  2  3  4  5  6  7  8  9 10 11 12 13 14]\n",
      "(480, 640, 3)\n",
      "(480, 640, 3)\n",
      "Error in count_fingers\n",
      "(480, 640, 3)\n",
      "[ 0  1  2  3  4  5  6  7  8  9 10 11 12 13 14 15]\n",
      "(480, 640, 3)\n"
     ]
    },
    {
     "name": "stderr",
     "output_type": "stream",
     "text": [
      "INFO:webcam_skin_detection:Fingers detected: 1\n",
      "INFO:webcam_skin_detection:Fingers detected: 1\n",
      "INFO:webcam_skin_detection:Fingers detected: 1\n",
      "INFO:webcam_skin_detection:Fingers detected: 1\n"
     ]
    },
    {
     "name": "stdout",
     "output_type": "stream",
     "text": [
      "[ 0  1  2  3  4  5  6  7  8  9 10 11 12 13]\n",
      "(480, 640, 3)\n",
      "[ 0  1  2  3  4  5  6  7  8  9 10 11 12 13 14]\n",
      "(480, 640, 3)\n",
      "[ 0  1  2  3  4  5  6  7  8  9 10 11 12 13 14]\n",
      "(480, 640, 3)\n"
     ]
    },
    {
     "name": "stderr",
     "output_type": "stream",
     "text": [
      "INFO:webcam_skin_detection:Fingers detected: 1\n",
      "INFO:webcam_skin_detection:Fingers detected: 1\n",
      "INFO:webcam_skin_detection:Fingers detected: 1\n"
     ]
    },
    {
     "name": "stdout",
     "output_type": "stream",
     "text": [
      "[ 0  1  2  3  4  5  6  7  8  9 10 11 12 13 14]\n",
      "(480, 640, 3)\n",
      "[ 0  1  2  3  4  5  6  7  8  9 10 11 12 13 14]\n",
      "(480, 640, 3)\n",
      "[ 0  1  2  3  4  5  6  7  8  9 10 11 12 13 14 15]\n",
      "(480, 640, 3)\n"
     ]
    },
    {
     "name": "stderr",
     "output_type": "stream",
     "text": [
      "INFO:webcam_skin_detection:Fingers detected: 1\n",
      "INFO:webcam_skin_detection:Fingers detected: 0\n",
      "INFO:webcam_skin_detection:Fingers detected: 2\n"
     ]
    },
    {
     "name": "stdout",
     "output_type": "stream",
     "text": [
      "[ 0  1  2  3  4  5  6  7  8  9 10 11 12 13 14 15]\n",
      "(480, 640, 3)\n",
      "[ 0  1  2  3  4  5  6  7  8  9 10 11 12 13 14 15]\n",
      "(480, 640, 3)\n",
      "Error in count_fingers\n",
      "(480, 640, 3)\n"
     ]
    },
    {
     "name": "stderr",
     "output_type": "stream",
     "text": [
      "INFO:webcam_skin_detection:Fingers detected: 1\n",
      "INFO:webcam_skin_detection:Fingers detected: 1\n",
      "INFO:webcam_skin_detection:Fingers detected: 1\n"
     ]
    },
    {
     "name": "stdout",
     "output_type": "stream",
     "text": [
      "(480, 640, 3)\n",
      "[ 0  1  2  3  4  5  6  7  8  9 10 11 12 13 14]\n",
      "(480, 640, 3)\n",
      "[ 0  1  2  3  4  5  6  7  8  9 10 11 12 13 14]\n",
      "(480, 640, 3)\n"
     ]
    },
    {
     "name": "stderr",
     "output_type": "stream",
     "text": [
      "INFO:webcam_skin_detection:Fingers detected: 1\n",
      "INFO:webcam_skin_detection:Fingers detected: 1\n"
     ]
    },
    {
     "name": "stdout",
     "output_type": "stream",
     "text": [
      "[ 0  1  2  3  4  5  6  7  8  9 10 11 12 13 14]\n",
      "(480, 640, 3)\n",
      "[ 0  1  2  3  4  5  6  7  8  9 10 11 12 13 14 15]\n",
      "(480, 640, 3)\n",
      "[ 0  1  2  3  4  5  6  7  8  9 10 11 12 13 14]\n",
      "(480, 640, 3)\n"
     ]
    },
    {
     "name": "stderr",
     "output_type": "stream",
     "text": [
      "INFO:webcam_skin_detection:Fingers detected: 1\n",
      "INFO:webcam_skin_detection:Fingers detected: 3\n",
      "INFO:webcam_skin_detection:Fingers detected: 1\n"
     ]
    },
    {
     "name": "stdout",
     "output_type": "stream",
     "text": [
      "[ 0  1  2  3  4  5  6  7  8  9 10 11 12 13 14 15]\n",
      "(480, 640, 3)\n",
      "(480, 640, 3)\n",
      "[ 0  1  2  3  4  5  6  7  8  9 10 11 12 13]\n",
      "(480, 640, 3)\n"
     ]
    },
    {
     "name": "stderr",
     "output_type": "stream",
     "text": [
      "INFO:webcam_skin_detection:Fingers detected: 2\n",
      "INFO:webcam_skin_detection:Fingers detected: 2\n",
      "INFO:webcam_skin_detection:Fingers detected: 2\n"
     ]
    },
    {
     "name": "stdout",
     "output_type": "stream",
     "text": [
      "(480, 640, 3)\n",
      "(480, 640, 3)\n",
      "(480, 640, 3)\n"
     ]
    },
    {
     "name": "stderr",
     "output_type": "stream",
     "text": [
      "INFO:webcam_skin_detection:Fingers detected: 0\n",
      "INFO:webcam_skin_detection:Fingers detected: 1\n",
      "INFO:webcam_skin_detection:Fingers detected: 2\n"
     ]
    },
    {
     "name": "stdout",
     "output_type": "stream",
     "text": [
      "Error in count_fingers\n",
      "(480, 640, 3)\n",
      "[ 0  1  2  3  4  5  6  7  8  9 10 11 12 13 14 15]\n",
      "(480, 640, 3)\n",
      "(480, 640, 3)\n"
     ]
    },
    {
     "name": "stderr",
     "output_type": "stream",
     "text": [
      "INFO:webcam_skin_detection:Fingers detected: 2\n",
      "INFO:webcam_skin_detection:Fingers detected: 1\n",
      "INFO:webcam_skin_detection:Fingers detected: 1\n"
     ]
    },
    {
     "name": "stdout",
     "output_type": "stream",
     "text": [
      "(480, 640, 3)\n",
      "[ 0  1  2  3  4  5  6  7  8  9 10 11 12 13 14 15]\n",
      "(480, 640, 3)\n",
      "[ 0  1  2  3  4  5  6  7  8  9 10 11 12 13 14 15]\n",
      "(480, 640, 3)\n"
     ]
    },
    {
     "name": "stderr",
     "output_type": "stream",
     "text": [
      "INFO:webcam_skin_detection:Fingers detected: 1\n",
      "INFO:webcam_skin_detection:Fingers detected: 3\n",
      "INFO:webcam_skin_detection:Fingers detected: 1\n"
     ]
    },
    {
     "name": "stdout",
     "output_type": "stream",
     "text": [
      "[ 0  1  2  3  4  5  6  7  8  9 10 11 12 13 14 15]\n",
      "(480, 640, 3)\n",
      "(480, 640, 3)\n",
      "[ 0  1  2  3  4  5  6  7  8  9 10 11 12 13 14 15]\n",
      "(480, 640, 3)\n"
     ]
    },
    {
     "name": "stderr",
     "output_type": "stream",
     "text": [
      "INFO:webcam_skin_detection:Fingers detected: 3\n",
      "INFO:webcam_skin_detection:Fingers detected: 1\n",
      "INFO:webcam_skin_detection:Fingers detected: 1\n",
      "INFO:webcam_skin_detection:Fingers detected: 1\n"
     ]
    },
    {
     "name": "stdout",
     "output_type": "stream",
     "text": [
      "(480, 640, 3)\n",
      "[ 0  1  2  3  4  5  6  7  8  9 10 11 12 13 14 15]\n",
      "(480, 640, 3)\n",
      "[ 0  1  2  3  4  5  6  7  8  9 10 11 12 13 14 15]\n",
      "(480, 640, 3)\n"
     ]
    },
    {
     "name": "stderr",
     "output_type": "stream",
     "text": [
      "INFO:webcam_skin_detection:Fingers detected: 1\n",
      "INFO:webcam_skin_detection:Fingers detected: 1\n"
     ]
    },
    {
     "name": "stdout",
     "output_type": "stream",
     "text": [
      "[ 0  1  2  3  4  5  6  7  8  9 10 11 12 13 14]\n",
      "(480, 640, 3)\n",
      "[ 0  1  2  3  4  5  6  7  8  9 10 11 12 13 14 15]\n",
      "(480, 640, 3)\n",
      "[ 0  1  2  3  4  5  6  7  8  9 10 11 12 13 14]\n",
      "(480, 640, 3)\n"
     ]
    },
    {
     "name": "stderr",
     "output_type": "stream",
     "text": [
      "INFO:webcam_skin_detection:Fingers detected: 1\n",
      "INFO:webcam_skin_detection:Fingers detected: 1\n",
      "INFO:webcam_skin_detection:Fingers detected: 2\n"
     ]
    },
    {
     "name": "stdout",
     "output_type": "stream",
     "text": [
      "[ 0  1  2  3  4  5  6  7  8  9 10 11 12 13 14]\n",
      "(480, 640, 3)\n",
      "[ 0  1  2  3  4  5  6  7  8  9 10 11 12 13]\n",
      "(480, 640, 3)\n",
      "(480, 640, 3)\n"
     ]
    },
    {
     "name": "stderr",
     "output_type": "stream",
     "text": [
      "INFO:webcam_skin_detection:Fingers detected: 1\n",
      "INFO:webcam_skin_detection:Fingers detected: 0\n",
      "INFO:webcam_skin_detection:Fingers detected: 2\n",
      "INFO:webcam_skin_detection:Fingers detected: 2\n"
     ]
    },
    {
     "name": "stdout",
     "output_type": "stream",
     "text": [
      "[ 0  1  2  3  4  5  6  7  8  9 10 11 12 13 14 15]\n",
      "(480, 640, 3)\n",
      "Error in count_fingers\n",
      "(480, 640, 3)\n",
      "(480, 640, 3)\n",
      "(480, 640, 3)\n"
     ]
    },
    {
     "name": "stderr",
     "output_type": "stream",
     "text": [
      "INFO:webcam_skin_detection:Fingers detected: 1\n",
      "INFO:webcam_skin_detection:Fingers detected: 2\n",
      "INFO:webcam_skin_detection:Fingers detected: 2\n",
      "INFO:webcam_skin_detection:Fingers detected: 1\n"
     ]
    },
    {
     "name": "stdout",
     "output_type": "stream",
     "text": [
      "[ 0  1  2  3  4  5  6  7  8  9 10 11 12 13 14]\n",
      "(480, 640, 3)\n",
      "(480, 640, 3)\n",
      "(480, 640, 3)\n",
      "[ 0  1  2  3  4  5  6  7  8  9 10 11 12 13 14 15]\n",
      "(480, 640, 3)\n"
     ]
    },
    {
     "name": "stderr",
     "output_type": "stream",
     "text": [
      "INFO:webcam_skin_detection:Fingers detected: 2\n",
      "INFO:webcam_skin_detection:Fingers detected: 2\n",
      "INFO:webcam_skin_detection:Fingers detected: 2\n",
      "INFO:webcam_skin_detection:Fingers detected: 1\n"
     ]
    },
    {
     "name": "stdout",
     "output_type": "stream",
     "text": [
      "(480, 640, 3)\n",
      "(480, 640, 3)\n",
      "(480, 640, 3)\n",
      "[ 0  1  2  3  4  5  6  7  8  9 10 11 12 13 14]\n",
      "(480, 640, 3)\n"
     ]
    },
    {
     "name": "stderr",
     "output_type": "stream",
     "text": [
      "INFO:webcam_skin_detection:Fingers detected: 1\n",
      "INFO:webcam_skin_detection:Fingers detected: 1\n",
      "INFO:webcam_skin_detection:Fingers detected: 1\n",
      "INFO:webcam_skin_detection:Fingers detected: 1\n"
     ]
    },
    {
     "name": "stdout",
     "output_type": "stream",
     "text": [
      "[ 0  1  2  3  4  5  6  7  8  9 10 11 12 13 14]\n",
      "(480, 640, 3)\n",
      "[ 0  1  2  3  4  5  6  7  8  9 10 11 12 13 14 15]\n",
      "(480, 640, 3)\n",
      "[ 0  1  2  3  4  5  6  7  8  9 10 11 12 13 14]\n",
      "(480, 640, 3)\n"
     ]
    },
    {
     "name": "stderr",
     "output_type": "stream",
     "text": [
      "INFO:webcam_skin_detection:Fingers detected: 1\n",
      "INFO:webcam_skin_detection:Fingers detected: 1\n"
     ]
    },
    {
     "name": "stdout",
     "output_type": "stream",
     "text": [
      "[ 0  1  2  3  4  5  6  7  8  9 10 11 12 13 14 15]\n",
      "(480, 640, 3)\n",
      "[ 0  1  2  3  4  5  6  7  8  9 10 11 12 13 14]\n",
      "(480, 640, 3)\n",
      "[ 0  1  2  3  4  5  6  7  8  9 10 11 12 13 14]\n",
      "(480, 640, 3)\n"
     ]
    },
    {
     "name": "stderr",
     "output_type": "stream",
     "text": [
      "INFO:webcam_skin_detection:Fingers detected: 1\n",
      "INFO:webcam_skin_detection:Fingers detected: 1\n",
      "INFO:webcam_skin_detection:Fingers detected: 0\n",
      "INFO:webcam_skin_detection:Fingers detected: 1\n"
     ]
    },
    {
     "name": "stdout",
     "output_type": "stream",
     "text": [
      "[ 0  1  2  3  4  5  6  7  8  9 10 11 12 13]\n",
      "(480, 640, 3)\n",
      "[ 0  1  2  3  4  5  6  7  8  9 10 11 12 13 14 15]\n",
      "(480, 640, 3)\n",
      "Error in count_fingers\n",
      "(480, 640, 3)\n"
     ]
    },
    {
     "name": "stderr",
     "output_type": "stream",
     "text": [
      "INFO:webcam_skin_detection:Fingers detected: 1\n",
      "INFO:webcam_skin_detection:Fingers detected: 1\n",
      "INFO:webcam_skin_detection:Fingers detected: 1\n"
     ]
    },
    {
     "name": "stdout",
     "output_type": "stream",
     "text": [
      "[ 0  1  2  3  4  5  6  7  8  9 10 11 12 13 14 15]\n",
      "(480, 640, 3)\n",
      "[ 0  1  2  3  4  5  6  7  8  9 10 11 12 13 14 15]\n",
      "(480, 640, 3)\n",
      "[ 0  1  2  3  4  5  6  7  8  9 10 11 12 13 14]\n",
      "(480, 640, 3)\n"
     ]
    },
    {
     "name": "stderr",
     "output_type": "stream",
     "text": [
      "INFO:webcam_skin_detection:Fingers detected: 1\n",
      "INFO:webcam_skin_detection:Fingers detected: 2\n",
      "INFO:webcam_skin_detection:Fingers detected: 1\n"
     ]
    },
    {
     "name": "stdout",
     "output_type": "stream",
     "text": [
      "[ 0  1  2  3  4  5  6  7  8  9 10 11 12 13 14 15]\n",
      "(480, 640, 3)\n",
      "[ 0  1  2  3  4  5  6  7  8  9 10 11 12 13 14]\n",
      "(480, 640, 3)\n",
      "(480, 640, 3)\n"
     ]
    },
    {
     "name": "stderr",
     "output_type": "stream",
     "text": [
      "INFO:webcam_skin_detection:Fingers detected: 1\n",
      "INFO:webcam_skin_detection:Fingers detected: 1\n",
      "INFO:webcam_skin_detection:Fingers detected: 1\n"
     ]
    },
    {
     "name": "stdout",
     "output_type": "stream",
     "text": [
      "[ 0  1  2  3  4  5  6  7  8  9 10 11 12 13 14]\n",
      "(480, 640, 3)\n",
      "[ 0  1  2  3  4  5  6  7  8  9 10 11 12 13 14]\n",
      "(480, 640, 3)\n",
      "[ 0  1  2  3  4  5  6  7  8  9 10 11 12 13]\n",
      "(480, 640, 3)\n"
     ]
    },
    {
     "name": "stderr",
     "output_type": "stream",
     "text": [
      "INFO:webcam_skin_detection:Fingers detected: 1\n",
      "INFO:webcam_skin_detection:Fingers detected: 1\n"
     ]
    },
    {
     "name": "stdout",
     "output_type": "stream",
     "text": [
      "[ 0  1  2  3  4  5  6  7  8  9 10 11 12 13 14]\n",
      "(480, 640, 3)\n",
      "[ 0  1  2  3  4  5  6  7  8  9 10 11 12 13 14 15]\n",
      "(480, 640, 3)\n",
      "[ 0  1  2  3  4  5  6  7  8  9 10 11 12 13 14]\n",
      "(480, 640, 3)\n"
     ]
    },
    {
     "name": "stderr",
     "output_type": "stream",
     "text": [
      "INFO:webcam_skin_detection:Fingers detected: 1\n",
      "INFO:webcam_skin_detection:Fingers detected: 2\n",
      "INFO:webcam_skin_detection:Fingers detected: 1\n",
      "INFO:webcam_skin_detection:Fingers detected: 2\n"
     ]
    },
    {
     "name": "stdout",
     "output_type": "stream",
     "text": [
      "[ 0  1  2  3  4  5  6  7  8  9 10 11 12 13 14 15]\n",
      "(480, 640, 3)\n",
      "(480, 640, 3)\n",
      "[ 0  1  2  3  4  5  6  7  8  9 10 11 12 13 14]\n",
      "(480, 640, 3)\n",
      "(480, 640, 3)\n"
     ]
    },
    {
     "name": "stderr",
     "output_type": "stream",
     "text": [
      "INFO:webcam_skin_detection:Fingers detected: 2\n",
      "INFO:webcam_skin_detection:Fingers detected: 2\n",
      "INFO:webcam_skin_detection:Fingers detected: 2\n",
      "INFO:webcam_skin_detection:Fingers detected: 1\n"
     ]
    },
    {
     "name": "stdout",
     "output_type": "stream",
     "text": [
      "(480, 640, 3)\n",
      "(480, 640, 3)\n",
      "(480, 640, 3)\n"
     ]
    },
    {
     "name": "stderr",
     "output_type": "stream",
     "text": [
      "INFO:webcam_skin_detection:Fingers detected: 0\n",
      "INFO:webcam_skin_detection:Fingers detected: 0\n",
      "INFO:webcam_skin_detection:Fingers detected: 1\n"
     ]
    },
    {
     "name": "stdout",
     "output_type": "stream",
     "text": [
      "[ 0  1  2  3  4  5  6  7  8  9 10 11 12 13 14 15]\n",
      "(480, 640, 3)\n",
      "Error in count_fingers\n",
      "(480, 640, 3)\n",
      "Error in count_fingers\n",
      "(480, 640, 3)\n"
     ]
    },
    {
     "name": "stderr",
     "output_type": "stream",
     "text": [
      "INFO:webcam_skin_detection:Fingers detected: 1\n",
      "INFO:webcam_skin_detection:Fingers detected: 1\n",
      "INFO:webcam_skin_detection:Fingers detected: 1\n"
     ]
    },
    {
     "name": "stdout",
     "output_type": "stream",
     "text": [
      "[ 0  1  2  3  4  5  6  7  8  9 10 11 12 13 14 15]\n",
      "(480, 640, 3)\n",
      "[ 0  1  2  3  4  5  6  7  8  9 10 11 12 13 14 15]\n",
      "(480, 640, 3)\n",
      "[ 0  1  2  3  4  5  6  7  8  9 10 11 12 13 14]\n",
      "(480, 640, 3)\n"
     ]
    },
    {
     "name": "stderr",
     "output_type": "stream",
     "text": [
      "INFO:webcam_skin_detection:Fingers detected: 1\n",
      "INFO:webcam_skin_detection:Fingers detected: 1\n",
      "INFO:webcam_skin_detection:Fingers detected: 1\n"
     ]
    },
    {
     "name": "stdout",
     "output_type": "stream",
     "text": [
      "[ 0  1  2  3  4  5  6  7  8  9 10 11 12 13 14]\n",
      "(480, 640, 3)\n",
      "[ 0  1  2  3  4  5  6  7  8  9 10 11 12 13 14]\n",
      "(480, 640, 3)\n",
      "[ 0  1  2  3  4  5  6  7  8  9 10 11 12 13 14 15]\n",
      "(480, 640, 3)\n"
     ]
    },
    {
     "name": "stderr",
     "output_type": "stream",
     "text": [
      "INFO:webcam_skin_detection:Fingers detected: 1\n",
      "INFO:webcam_skin_detection:Fingers detected: 1\n",
      "INFO:webcam_skin_detection:Fingers detected: 1\n"
     ]
    },
    {
     "name": "stdout",
     "output_type": "stream",
     "text": [
      "[ 0  1  2  3  4  5  6  7  8  9 10 11 12 13 14 15]\n",
      "(480, 640, 3)\n",
      "[ 0  1  2  3  4  5  6  7  8  9 10 11 12 13 14 15]\n",
      "(480, 640, 3)\n",
      "[ 0  1  2  3  4  5  6  7  8  9 10 11 12 13 14 16]\n",
      "(480, 640, 3)\n"
     ]
    },
    {
     "name": "stderr",
     "output_type": "stream",
     "text": [
      "INFO:webcam_skin_detection:Fingers detected: 1\n",
      "INFO:webcam_skin_detection:Fingers detected: 1\n"
     ]
    },
    {
     "name": "stdout",
     "output_type": "stream",
     "text": [
      "[ 0  1  2  3  4  5  6  7  8  9 10 11 12 13]\n",
      "(480, 640, 3)\n",
      "[ 0  1  2  3  4  5  6  7  8  9 11 12 13]\n",
      "(480, 640, 3)\n",
      "[ 0  1  2  3  4  5  6  7  8  9 10 11 12 13 15]\n",
      "(480, 640, 3)\n"
     ]
    },
    {
     "name": "stderr",
     "output_type": "stream",
     "text": [
      "INFO:webcam_skin_detection:Fingers detected: 1\n",
      "INFO:webcam_skin_detection:Fingers detected: 1\n",
      "INFO:webcam_skin_detection:Fingers detected: 1\n",
      "INFO:webcam_skin_detection:Fingers detected: 1\n"
     ]
    },
    {
     "name": "stdout",
     "output_type": "stream",
     "text": [
      "[ 0  1  2  3  4  5  6  7  8  9 10 11 12 13]\n",
      "(480, 640, 3)\n",
      "[ 0  1  2  3  4  5  6  7  8  9 10 11 12 13 14]\n",
      "(480, 640, 3)\n",
      "[ 0  1  2  3  4  5  6  7  8  9 11 12 13]\n",
      "(480, 640, 3)\n"
     ]
    },
    {
     "name": "stderr",
     "output_type": "stream",
     "text": [
      "INFO:webcam_skin_detection:Fingers detected: 1\n",
      "INFO:webcam_skin_detection:Fingers detected: 1\n",
      "INFO:webcam_skin_detection:Fingers detected: 1\n"
     ]
    },
    {
     "name": "stdout",
     "output_type": "stream",
     "text": [
      "[ 0  1  2  3  4  5  6  7  8  9 10 11 12 13 14]\n",
      "(480, 640, 3)\n",
      "[ 0  1  2  3  4  5  6  7  8  9 10 11 12 13]\n",
      "(480, 640, 3)\n",
      "[ 0  1  2  3  4  5  6  7  8  9 10 11 12 13]\n",
      "(480, 640, 3)\n"
     ]
    },
    {
     "name": "stderr",
     "output_type": "stream",
     "text": [
      "INFO:webcam_skin_detection:Fingers detected: 1\n",
      "INFO:webcam_skin_detection:Fingers detected: 1\n"
     ]
    },
    {
     "name": "stdout",
     "output_type": "stream",
     "text": [
      "[ 0  1  2  3  4  5  6  7  8  9 10 11 12 13 14]\n",
      "(480, 640, 3)\n",
      "[ 0  1  2  3  4  5  6  7  8  9 10 11 12 13 14 15]\n",
      "(480, 640, 3)\n",
      "[ 0  1  2  3  4  5  6  7  8  9 10 11 12 13 14]\n",
      "(480, 640, 3)\n"
     ]
    },
    {
     "name": "stderr",
     "output_type": "stream",
     "text": [
      "INFO:webcam_skin_detection:Fingers detected: 1\n",
      "INFO:webcam_skin_detection:Fingers detected: 1\n",
      "INFO:webcam_skin_detection:Fingers detected: 1\n"
     ]
    },
    {
     "name": "stdout",
     "output_type": "stream",
     "text": [
      "[ 0  1  2  3  4  5  6  7  8  9 10 11 12 13 14]\n",
      "(480, 640, 3)\n",
      "[ 0  1  2  3  4  5  6  7  8  9 10 11 12 13 14]\n",
      "(480, 640, 3)\n",
      "[ 0  1  2  3  4  5  6  7  8  9 11 12 13]\n",
      "(480, 640, 3)\n"
     ]
    },
    {
     "name": "stderr",
     "output_type": "stream",
     "text": [
      "INFO:webcam_skin_detection:Fingers detected: 1\n",
      "INFO:webcam_skin_detection:Fingers detected: 1\n",
      "INFO:webcam_skin_detection:Fingers detected: 1\n"
     ]
    },
    {
     "name": "stdout",
     "output_type": "stream",
     "text": [
      "[ 0  1  2  3  4  5  6  7  8  9 10 11 12 13 14]\n",
      "(480, 640, 3)\n",
      "[ 0  1  2  3  4  5  6  7  8  9 10 11 12 13]\n",
      "(480, 640, 3)\n",
      "[ 0  1  2  3  4  5  6  7  8  9 10 11 12 13 14 15 16]\n",
      "(480, 640, 3)\n"
     ]
    },
    {
     "name": "stderr",
     "output_type": "stream",
     "text": [
      "INFO:webcam_skin_detection:Fingers detected: 1\n",
      "INFO:webcam_skin_detection:Fingers detected: 1\n",
      "INFO:webcam_skin_detection:Fingers detected: 1\n",
      "INFO:webcam_skin_detection:Fingers detected: 1\n"
     ]
    },
    {
     "name": "stdout",
     "output_type": "stream",
     "text": [
      "[ 0  1  2  3  4  5  6  7  8  9 10 11 12 13]\n",
      "(480, 640, 3)\n",
      "[ 0  1  2  3  4  5  6  7  8  9 10 11 12 13 14 15]\n",
      "(480, 640, 3)\n",
      "[ 0  1  2  3  4  5  6  7  8  9 10 11 12 13 14]\n",
      "(480, 640, 3)\n"
     ]
    },
    {
     "name": "stderr",
     "output_type": "stream",
     "text": [
      "INFO:webcam_skin_detection:Fingers detected: 1\n",
      "INFO:webcam_skin_detection:Fingers detected: 1\n"
     ]
    },
    {
     "name": "stdout",
     "output_type": "stream",
     "text": [
      "[ 0  1  2  3  4  5  6  7  8  9 10 11 12 13]\n",
      "(480, 640, 3)\n",
      "[ 0  1  2  3  4  5  6  7  8  9 10 11 12 13 14 15 16]\n",
      "(480, 640, 3)\n",
      "[ 0  1  2  3  4  5  6  7  8  9 10 11 12 13 14 15]\n",
      "(480, 640, 3)\n"
     ]
    },
    {
     "name": "stderr",
     "output_type": "stream",
     "text": [
      "INFO:webcam_skin_detection:Fingers detected: 1\n",
      "INFO:webcam_skin_detection:Fingers detected: 1\n",
      "INFO:webcam_skin_detection:Fingers detected: 1\n"
     ]
    },
    {
     "name": "stdout",
     "output_type": "stream",
     "text": [
      "[ 0  1  2  3  4  5  6  7  8  9 10 11 12 13 14]\n",
      "(480, 640, 3)\n",
      "[ 0  1  2  3  4  5  6  7  8  9 10 11 12 13]\n",
      "(480, 640, 3)\n",
      "[ 0  1  2  3  4  5  6  7  8  9 10 11 12 13 14]\n",
      "(480, 640, 3)\n"
     ]
    },
    {
     "name": "stderr",
     "output_type": "stream",
     "text": [
      "INFO:webcam_skin_detection:Fingers detected: 2\n",
      "INFO:webcam_skin_detection:Fingers detected: 1\n",
      "INFO:webcam_skin_detection:Fingers detected: 2\n"
     ]
    },
    {
     "name": "stdout",
     "output_type": "stream",
     "text": [
      "(480, 640, 3)\n",
      "[ 0  1  2  3  4  5  6  7  8  9 10 11 12 13 14]\n",
      "(480, 640, 3)\n",
      "(480, 640, 3)\n"
     ]
    },
    {
     "name": "stderr",
     "output_type": "stream",
     "text": [
      "INFO:webcam_skin_detection:Fingers detected: 2\n",
      "INFO:webcam_skin_detection:Fingers detected: 2\n",
      "INFO:webcam_skin_detection:Fingers detected: 2\n",
      "INFO:webcam_skin_detection:Fingers detected: 1\n"
     ]
    },
    {
     "name": "stdout",
     "output_type": "stream",
     "text": [
      "(480, 640, 3)\n",
      "(480, 640, 3)\n",
      "(480, 640, 3)\n"
     ]
    },
    {
     "name": "stderr",
     "output_type": "stream",
     "text": [
      "INFO:webcam_skin_detection:Fingers detected: 2\n",
      "INFO:webcam_skin_detection:Fingers detected: 1\n"
     ]
    },
    {
     "name": "stdout",
     "output_type": "stream",
     "text": [
      "[ 0  1  2  3  4  5  6  7  8  9 10 11 12 13 14 15]\n",
      "(480, 640, 3)\n",
      "(480, 640, 3)\n",
      "[ 0  1  2  3  4  5  6  7  8  9 10 11 12 13 14 15]\n",
      "(480, 640, 3)\n"
     ]
    },
    {
     "name": "stderr",
     "output_type": "stream",
     "text": [
      "INFO:webcam_skin_detection:Fingers detected: 2\n",
      "INFO:webcam_skin_detection:Fingers detected: 2\n",
      "INFO:webcam_skin_detection:Fingers detected: 2\n"
     ]
    },
    {
     "name": "stdout",
     "output_type": "stream",
     "text": [
      "(480, 640, 3)\n",
      "(480, 640, 3)\n",
      "(480, 640, 3)\n"
     ]
    },
    {
     "name": "stderr",
     "output_type": "stream",
     "text": [
      "INFO:webcam_skin_detection:Fingers detected: 1\n",
      "INFO:webcam_skin_detection:Fingers detected: 2\n",
      "INFO:webcam_skin_detection:Fingers detected: 2\n"
     ]
    },
    {
     "name": "stdout",
     "output_type": "stream",
     "text": [
      "[ 0  1  2  3  4  5  6  7  8  9 10 11 12 13 14 15]\n",
      "(480, 640, 3)\n",
      "(480, 640, 3)\n",
      "(480, 640, 3)\n"
     ]
    },
    {
     "name": "stderr",
     "output_type": "stream",
     "text": [
      "INFO:webcam_skin_detection:Fingers detected: 2\n",
      "INFO:webcam_skin_detection:Fingers detected: 1\n",
      "INFO:webcam_skin_detection:Fingers detected: 2\n",
      "INFO:webcam_skin_detection:Fingers detected: 1\n"
     ]
    },
    {
     "name": "stdout",
     "output_type": "stream",
     "text": [
      "(480, 640, 3)\n",
      "[ 0  1  2  3  4  5  6  7  8  9 10 11 12 13 14]\n",
      "(480, 640, 3)\n",
      "(480, 640, 3)\n"
     ]
    },
    {
     "name": "stderr",
     "output_type": "stream",
     "text": [
      "INFO:webcam_skin_detection:Fingers detected: 1\n",
      "INFO:webcam_skin_detection:Fingers detected: 1\n"
     ]
    },
    {
     "name": "stdout",
     "output_type": "stream",
     "text": [
      "[ 0  1  2  3  4  5  6  7  8  9 10 11 12 13 14]\n",
      "(480, 640, 3)\n",
      "[ 0  1  2  3  4  5  6  7  8  9 10 11 12 13 14]\n",
      "(480, 640, 3)\n",
      "[ 0  1  2  3  4  5  6  7  8  9 10 11 12 13 14]\n",
      "(480, 640, 3)\n"
     ]
    },
    {
     "name": "stderr",
     "output_type": "stream",
     "text": [
      "INFO:webcam_skin_detection:Fingers detected: 1\n",
      "INFO:webcam_skin_detection:Fingers detected: 1\n",
      "INFO:webcam_skin_detection:Fingers detected: 1\n"
     ]
    },
    {
     "name": "stdout",
     "output_type": "stream",
     "text": [
      "[ 0  1  2  3  4  5  6  7  8  9 10 11 12 13 14]\n",
      "(480, 640, 3)\n",
      "[ 0  1  2  3  4  5  6  7  8  9 10 11 12 13 14]\n",
      "(480, 640, 3)\n",
      "[ 0  1  2  3  4  5  6  7  8  9 10 11 12 13 14]\n",
      "(480, 640, 3)\n"
     ]
    },
    {
     "name": "stderr",
     "output_type": "stream",
     "text": [
      "INFO:webcam_skin_detection:Fingers detected: 1\n",
      "INFO:webcam_skin_detection:Fingers detected: 0\n",
      "INFO:webcam_skin_detection:Fingers detected: 0\n",
      "INFO:webcam_skin_detection:Fingers detected: 1\n"
     ]
    },
    {
     "name": "stdout",
     "output_type": "stream",
     "text": [
      "[ 0  1  2  3  4  5  6  7  8  9 10 11 12 13 14]\n",
      "(480, 640, 3)\n",
      "Error in count_fingers\n",
      "(480, 640, 3)\n",
      "Error in count_fingers\n",
      "(480, 640, 3)\n",
      "[ 0  1  2  3  4  5  6  7  8  9 10 11 12 13 14 15]\n",
      "(480, 640, 3)\n"
     ]
    },
    {
     "name": "stderr",
     "output_type": "stream",
     "text": [
      "INFO:webcam_skin_detection:Fingers detected: 1\n",
      "INFO:webcam_skin_detection:Fingers detected: 1\n",
      "INFO:webcam_skin_detection:Fingers detected: 2\n"
     ]
    },
    {
     "name": "stdout",
     "output_type": "stream",
     "text": [
      "[ 0  1  2  3  4  5  6  7  8  9 10 11 12 13 14 15]\n",
      "(480, 640, 3)\n",
      "[ 0  1  2  3  4  5  6  7  8  9 10 11 12 13 14]\n",
      "(480, 640, 3)\n",
      "(480, 640, 3)\n"
     ]
    },
    {
     "name": "stderr",
     "output_type": "stream",
     "text": [
      "INFO:webcam_skin_detection:Fingers detected: 1\n",
      "INFO:webcam_skin_detection:Fingers detected: 1\n",
      "INFO:webcam_skin_detection:Fingers detected: 1\n",
      "INFO:webcam_skin_detection:Fingers detected: 1\n"
     ]
    },
    {
     "name": "stdout",
     "output_type": "stream",
     "text": [
      "[ 0  1  2  3  4  5  6  7  8  9 10 11 12 13 14]\n",
      "(480, 640, 3)\n",
      "[ 0  1  2  3  4  5  6  7  8  9 10 11 12 13]\n",
      "(480, 640, 3)\n",
      "[ 0  1  2  3  4  5  6  7  8  9 10 11 12 13 14]\n",
      "(480, 640, 3)\n"
     ]
    },
    {
     "name": "stderr",
     "output_type": "stream",
     "text": [
      "INFO:webcam_skin_detection:Fingers detected: 1\n",
      "INFO:webcam_skin_detection:Fingers detected: 1\n"
     ]
    },
    {
     "name": "stdout",
     "output_type": "stream",
     "text": [
      "[ 0  1  2  3  4  5  6  7  8  9 10 11 12 13 14]\n",
      "(480, 640, 3)\n",
      "[ 0  1  2  3  4  5  6  7  8  9 10 11 12 13]\n",
      "(480, 640, 3)\n",
      "[ 0  1  2  3  4  5  6  7  8  9 10 11 12 13]\n"
     ]
    },
    {
     "name": "stderr",
     "output_type": "stream",
     "text": [
      "INFO:webcam_skin_detection:Webcam released and windows closed\n"
     ]
    }
   ],
   "source": [
    "def main():\n",
    "    global drawing_color\n",
    "    # Open the webcam\n",
    "    cap = cv2.VideoCapture(0)\n",
    "    if not cap.isOpened():\n",
    "        logger.error(\"Could not open webcam\")\n",
    "        return\n",
    "\n",
    "    logger.info(\"Webcam opened successfully\")\n",
    "\n",
    "    # Create a blank canvas for drawing\n",
    "    drawing_canvas = None\n",
    "\n",
    "    try:\n",
    "        x_canvas, y_canvas = -1, -1\n",
    "        while True:\n",
    "            # Read a frame from the webcam\n",
    "            ret, frame = cap.read()\n",
    "            print(frame.shape)\n",
    "            resizingSizeX = 256\n",
    "            resizingSizeY = 256\n",
    "            resizingSize = (resizingSizeX, resizingSizeY)\n",
    "            if not ret:\n",
    "                logger.error(\"Failed to read frame from webcam\")\n",
    "                break\n",
    "            frame = cv2.flip(frame, 1)\n",
    "                \n",
    "            # Initialize the drawing canvas if not already done\n",
    "            if drawing_canvas is None:\n",
    "                drawing_canvas = np.zeros((resizingSizeX,resizingSizeY, 3), dtype=np.float64)\n",
    "\n",
    "            # Process the frame\n",
    "            try:\n",
    "                # Process skin mask\n",
    "                faceMask = np.ones((frame.shape[0], frame.shape[1]))\n",
    "                # faceMask = removeFaceMask(frame, face_cascade)\n",
    "                original = frame.copy()\n",
    "                frame = np.multiply(frame, faceMask[:, :, np.newaxis])\n",
    "                frame = frame.astype(np.uint8)\n",
    "                frame = cv2.resize(frame, resizingSize)\n",
    "                cv2.imshow('Original Frame', frame)\n",
    "\n",
    "                frame = cv2.cvtColor(frame, cv2.COLOR_BGR2RGB)\n",
    "                YCC = cv2.cvtColor(frame, cv2.COLOR_RGB2YCrCb)\n",
    "                frame = frame.astype(np.float64) / 255\n",
    "                C = YCC[:, :, 1:]\n",
    "\n",
    "\n",
    "                skinMask = prob_skin_c(C, skinMean, skinCov, nonSkinMean, nonSkinCov)\n",
    "                cv2.imshow('Skin Mask', skinMask)\n",
    "\n",
    "                hand_mask = cleanMask(skinMask, original, resizingSize)\n",
    "                if hand_mask.dtype != np.uint8:\n",
    "                    hand_mask = (hand_mask * 255).astype(np.uint8)\n",
    "                skeleton = skeletonize(hand_mask)\n",
    "                try:\n",
    "                    finger_count = count_fingers(hand_mask)\n",
    "                except:\n",
    "                    finger_count = 0\n",
    "                    print(\"Error in count_fingers\")\n",
    "                \n",
    "\n",
    "                logger.info(f\"Fingers detected: {finger_count}\")\n",
    "\n",
    "                # Draw or clear canvas based on finger count\n",
    "                if finger_count == 1:  # Draw on the canvas\n",
    "                    tips = detect_fingertips_gray(hand_mask, skeleton)\n",
    "                    if tips:\n",
    "                        x, y = tips\n",
    "                        select_color_from_fingertip(x, y) \n",
    "                        cv2.circle(drawing_canvas, (x, y), 7, drawing_color, -1)\n",
    "                        if x_canvas != -1 and y_canvas != -1 :\n",
    "                            if (x_canvas - x) ** 2 + (y_canvas - y) ** 2 < 1000:\n",
    "                                cv2.line(drawing_canvas, (x, y), (x_canvas, y_canvas), drawing_color, 7)\n",
    "                        x_canvas, y_canvas = x, y\n",
    "                elif finger_count >= 4:  # Clear the canvas\n",
    "                    drawing_canvas = np.zeros_like(frame)\n",
    "                elif finger_count != 2:  \n",
    "                    x_canvas, y_canvas = -1, -1\n",
    "                    \n",
    "                for (x1, y1, x2, y2), color in color_squares.items():\n",
    "                    cv2.rectangle(frame, (x1, y1), (x2, y2), color, -1)\n",
    "                    cv2.rectangle(frame, (x1, y1), (x2, y2), (0, 0, 0), 2)\n",
    "                # Combine the drawing canvas with the original frame\n",
    "                combined_frame = cv2.addWeighted(frame, 0.7, drawing_canvas, 0.3, 0)\n",
    "                combined_frame = (combined_frame * 255).astype(np.uint8)\n",
    "                for (x1, y1, x2, y2), color in color_squares.items():\n",
    "                    cv2.rectangle(combined_frame, (x1, y1), (x2, y2), color, -1)\n",
    "                    cv2.rectangle(combined_frame, (x1, y1), (x2, y2), (0, 0, 0), 2)\n",
    "                combined_frame = cv2.cvtColor(combined_frame, cv2.COLOR_RGB2BGR)\n",
    "\n",
    "                # Display the results\n",
    "                cv2.imshow('Original + Drawing', combined_frame)\n",
    "                cv2.imshow('Hand Skeleton', skeleton)\n",
    "                cv2.imshow('Hand Mask', hand_mask)\n",
    "\n",
    "            except Exception as e:\n",
    "                logger.error(f\"Error during processing: {e}\")\n",
    "                break\n",
    "\n",
    "            # Press 'q' to exit\n",
    "            if cv2.waitKey(1) & 0xFF == ord('q'):\n",
    "                break\n",
    "\n",
    "    finally:\n",
    "        # Release the webcam and close windows\n",
    "        cap.release()\n",
    "        cv2.destroyAllWindows()\n",
    "        logger.info(\"Webcam released and windows closed\")\n",
    "\n",
    "if __name__ == \"__main__\":\n",
    "    main()\n"
   ]
  },
  {
   "cell_type": "code",
   "execution_count": null,
   "metadata": {},
   "outputs": [],
   "source": []
  }
 ],
 "metadata": {
  "kernelspec": {
   "display_name": "Python 3",
   "language": "python",
   "name": "python3"
  },
  "language_info": {
   "codemirror_mode": {
    "name": "ipython",
    "version": 3
   },
   "file_extension": ".py",
   "mimetype": "text/x-python",
   "name": "python",
   "nbconvert_exporter": "python",
   "pygments_lexer": "ipython3",
   "version": "3.12.0"
  }
 },
 "nbformat": 4,
 "nbformat_minor": 2
}
