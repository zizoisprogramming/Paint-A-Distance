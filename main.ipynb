{
 "cells": [
  {
   "cell_type": "code",
   "execution_count": 291,
   "metadata": {},
   "outputs": [],
   "source": [
    "import os\n",
    "import numpy as np\n",
    "import cv2\n",
    "import matplotlib.pyplot as plt\n",
    "from skimage.morphology import skeletonize, thin\n",
    "from skimage.io import imshow\n",
    "import time\n",
    "from utils import *"
   ]
  },
  {
   "cell_type": "code",
   "execution_count": 292,
   "metadata": {},
   "outputs": [],
   "source": [
    "def RGBtoYCbCr (R, G, B):\n",
    "    R = int(R)\n",
    "    G = int(G)\n",
    "    B = int(B)\n",
    "    R /= 255.0\n",
    "    G /= 255.0\n",
    "    B /= 255.0\n",
    "    Y = 16 + (65.481 * R + 128.553 * G + 24.966 * B)\n",
    "    Cb = 128 + (-37.797 * R - 74.203 * G + 112.0 * B)\n",
    "    Cr = 128 + (112.0 * R - 93.786 * G - 18.214 * B)\n",
    "    return Y, Cb, Cr"
   ]
  },
  {
   "cell_type": "code",
   "execution_count": 293,
   "metadata": {},
   "outputs": [],
   "source": [
    "path = './Skin_NonSkin.txt'\n",
    "content = \"\"\n",
    "with open(path, 'r') as file:\n",
    "    content = file.read()\n",
    "entries = content.split('\\n')\n",
    "dataset = dict()\n",
    "for line in entries:\n",
    "    if line:\n",
    "        R, G, B, label = line.split()\n",
    "        label = int(label)\n",
    "        if(label not in dataset):\n",
    "            dataset[label] = []\n",
    "        Y, Cb, Cr = RGBtoYCbCr(R, G, B)\n",
    "        dataset[label].append([Cb, Cr])"
   ]
  },
  {
   "cell_type": "code",
   "execution_count": 294,
   "metadata": {},
   "outputs": [],
   "source": [
    "def get_mean_cov(dataset):\n",
    "    mean = dict()\n",
    "    cov = dict()\n",
    "    for label in dataset:\n",
    "        data = np.array(dataset[label])\n",
    "        mean[label] = np.mean(data, axis=0)\n",
    "        cov[label] = np.cov(data, rowvar=False)\n",
    "    return mean, cov\n",
    "mean, cov = get_mean_cov(dataset)\n",
    "skinMean = mean[1]\n",
    "skinCov = cov[1]\n",
    "nonSkinMean = mean[2]\n",
    "nonSkinCov = cov[2]"
   ]
  },
  {
   "cell_type": "code",
   "execution_count": 295,
   "metadata": {},
   "outputs": [],
   "source": [
    "# def prob_c_label(C, mean, cov):\n",
    "\n",
    "#     C = np.array(C)\n",
    "#     mean = np.array(mean)\n",
    "#     cov = np.array(cov)\n",
    "\n",
    "#     C_diff = C - mean\n",
    "#     inv_cov = np.linalg.inv(cov)    \n",
    "#     prob = np.exp(-0.5 * np.sum(C_diff @ inv_cov * C_diff,axis=-1))\n",
    "\n",
    "#     norm_factor = np.sqrt(np.linalg.det(cov) * (2 * np.pi) ** C.shape[1])\n",
    "    \n",
    "#     return prob / norm_factor\n",
    "def prob_c_label(C, mean, cov):\n",
    "    C = np.array(C)\n",
    "    mean = np.array(mean)\n",
    "    cov = np.array(cov)\n",
    "    \n",
    "    C_diff = C - mean\n",
    "    inv_cov = np.linalg.inv(cov)\n",
    "    \n",
    "    # Use log determinant to avoid overflow\n",
    "    log_det = np.log(np.linalg.det(cov))\n",
    "    \n",
    "    # Compute in log space\n",
    "    log_norm_factor = 0.5 * (log_det + C.shape[1] * np.log(2 * np.pi))\n",
    "    \n",
    "    # Rest of the computation remains similar\n",
    "    x = np.einsum('ijk,kl,ijl->ij', C_diff, inv_cov, C_diff)\n",
    "    \n",
    "    # Compute log-probability first to avoid overflow\n",
    "    log_prob = -0.5 * x - log_norm_factor\n",
    "    \n",
    "    prob = np.exp(log_prob)\n",
    "    \n",
    "    return prob\n",
    "def prob_skin_c(C, skinMean, skinCov, nonSkinMean, nonSkinCov):\n",
    "    probCskin = prob_c_label(C, skinMean, skinCov)\n",
    "    probCnonSkin = prob_c_label(C, nonSkinMean, nonSkinCov)\n",
    "\n",
    "    return probCskin / (probCskin + probCnonSkin)"
   ]
  },
  {
   "cell_type": "code",
   "execution_count": 296,
   "metadata": {},
   "outputs": [],
   "source": [
    "max_face = None\n",
    "max_area_face = 0\n",
    "def appendFaceContour(frame, resizedSize, contour_areas, smallest_contours):\n",
    "    original_height, original_width = frame.shape[:2]\n",
    "    scale_x = resizedSize[0] / original_width\n",
    "    scale_y = resizedSize[1] / original_height\n",
    "    faces = face_cascade.detectMultiScale(frame, 1.3, 5)\n",
    "    global max_face\n",
    "    global max_area_face\n",
    "    if len(faces) > 0:\n",
    "        max_area = 0\n",
    "        # max_face = None\n",
    "        for (x, y, w, h) in faces:\n",
    "            area = w * h\n",
    "            if area > max_area and (max_area_face == 0 or abs(area - max_area_face) < 0.3 * max_area_face):\n",
    "                max_area = area\n",
    "                max_face = (x, y, w, h)\n",
    "                max_area_face = max_area\n",
    "    if max_face:\n",
    "        (x, y, w, h) = max_face\n",
    "        face = frame.copy()\n",
    "        cv2.rectangle(face, (x, y), (x + w, y + h), (0, 255, 0), 2)\n",
    "        radius = min(w, h) // 2 \n",
    "        center_x = x + w // 2\n",
    "        center_y = y + h // 2\n",
    "        cv2.circle(face, (center_x, center_y), radius, (0, 255, 0), 2)\n",
    "        cv2.imshow('face', face)\n",
    "        x_resized = int(x * scale_x)\n",
    "        y_resized = int(y * scale_y)\n",
    "        w_resized = int(w * scale_x)\n",
    "        h_resized = int(h * scale_y)\n",
    "        middle_x = x_resized + w_resized // 2\n",
    "        middle_y = y_resized + h_resized // 2\n",
    "        for _, contour in contour_areas[-min(2,len(contour_areas)):]: \n",
    "            temp = contour.reshape(-1, 2)\n",
    "            min_x = min(temp[:, 0])\n",
    "            max_x = max(temp[:, 0])\n",
    "            min_y = min(temp[:, 1])\n",
    "            max_y = max(temp[:, 1])\n",
    "            print(f\"middle point {[middle_x, middle_y]}\")\n",
    "            print(f\"min,max {[min_x,max_x,min_y, max_y]}\" )\n",
    "            if (middle_x >= min_x and middle_x <= max_x) and (middle_y >= min_y and middle_y <= max_y):\n",
    "                smallest_contours.append(contour)\n",
    "                print(\"face shall be removed\")\n",
    "            # midpoint = (float(middle_x), float(middle_y))\n",
    "            # result = cv2.pointPolygonTest(contour, midpoint, False)\n",
    "            # dChange = 20\n",
    "            # d_x = dChange\n",
    "            # d_y = dChange\n",
    "            # different_dirs = [(d_x, d_y), (-d_x, d_y), (d_x, -d_y), (-d_x, -d_y)]\n",
    "            # for dir in different_dirs:\n",
    "            #     if result < 0:\n",
    "            #         result = cv2.pointPolygonTest(contour, (middle_x + dir[0], middle_y + dir[1]), False)\n",
    "            # if result >= 0:  \n",
    "            #     smallest_contours.append(contour)\n",
    "            #     return  \n",
    "    elif len(contour_areas) > 1:\n",
    "        smallest_contours.append(contour_areas[-2][1])\n",
    "def removeContours(mask, frame, resizedSize):\n",
    "    closedMask = cv2.morphologyEx(mask, cv2.MORPH_DILATE, np.ones((20, 5)), iterations=3)\n",
    "    contours = cv2.findContours(closedMask.astype(np.uint8), cv2.RETR_TREE, cv2.CHAIN_APPROX_SIMPLE)[0]\n",
    "    contour_areas = [(cv2.contourArea(c), c) for c in contours]\n",
    "    contour_areas.sort(key=lambda x: x[0]) \n",
    "    smallest_contours = [c[1] for c in contour_areas[:-min(2, len(contour_areas))]]\n",
    "    ### can be removed\n",
    "    if len(contour_areas) > 1 and contour_areas[-2][0] < contour_areas[-1][0] / 2:\n",
    "        smallest_contours.append(contour_areas[-2][1])\n",
    "    ### can be removed\n",
    "    maybe_face = contour_areas[-min(2, len(contour_areas)):]\n",
    "    \n",
    "    appendFaceContour(frame, resizedSize, maybe_face, smallest_contours)\n",
    "    if len(smallest_contours) > 0:\n",
    "        cv2.drawContours(mask, smallest_contours, -1, 0, -1)\n",
    "    image = mask.copy()\n",
    "    for x in contours[-min(2,len(contours)):]:\n",
    "        cv2.drawContours(image, [x], -1, (0, 0, 255), 2)\n",
    "    cv2.imshow('contours', image)\n",
    "def cleanMask(skinMask, frame, resizedSize):\n",
    "    binaryMask = cv2.morphologyEx(skinMask, cv2.MORPH_CLOSE, np.ones((3, 3)), iterations=3)\n",
    "    binaryMask = cv2.threshold(binaryMask, 0.25, 1, cv2.THRESH_BINARY)[1]\n",
    "    binaryMask = cv2.morphologyEx(binaryMask, cv2.MORPH_CLOSE, np.ones((3, 3)), iterations=3)\n",
    "    # binaryMask = cv2.morphologyEx(binaryMask, cv2.MORPH_OPEN, np.ones((3, 3)), iterations=3)\n",
    "    removeContours(binaryMask, frame, resizedSize)\n",
    "    return binaryMask\n",
    "def show_images(images,titles=None):\n",
    "    #This function is used to show image(s) with titles by sending an array of images and an array of associated titles.\n",
    "    # images[0] will be drawn with the title titles[0] if exists\n",
    "    # You aren't required to understand this function, use it as-is.\n",
    "    n_ims = len(images)\n",
    "    if titles is None: titles = ['(%d)' % i for i in range(1,n_ims + 1)]\n",
    "    fig = plt.figure()\n",
    "    n = 1\n",
    "    for image,title in zip(images,titles):\n",
    "        a = fig.add_subplot(1,n_ims,n)\n",
    "        if image.ndim == 2:\n",
    "            plt.gray()\n",
    "        plt.imshow(image)\n",
    "        a.set_title(title)\n",
    "        plt.axis('off')\n",
    "        n += 1\n",
    "    fig.set_size_inches(np.array(fig.get_size_inches()) * n_ims)\n",
    "    plt.show()"
   ]
  },
  {
   "cell_type": "code",
   "execution_count": 297,
   "metadata": {},
   "outputs": [],
   "source": [
    "def removeFaceMask(image, face_cascade):\n",
    "    gray = cv2.cvtColor(image, cv2.COLOR_BGR2GRAY)\n",
    "    \n",
    "    faces = face_cascade.detectMultiScale(gray, scaleFactor=1.1, minNeighbors=5, minSize=(30, 30))\n",
    "    \n",
    "    mask = np.ones((image.shape[0], image.shape[1]), dtype=np.uint8)\n",
    "    \n",
    "    Y, X = np.ogrid[:image.shape[0], :image.shape[1]]  # Create grid of indices\n",
    "    for (x, y, w, h) in faces:\n",
    "        center_x, center_y = x + w // 2, y + h // 2  \n",
    "        radius = 1.1 * (max(w, h) // 2 ) \n",
    "        \n",
    "        dist_from_center = (X - center_x)**2 + (Y - center_y)**2\n",
    "        circular_mask = dist_from_center <= radius**2\n",
    "        \n",
    "        mask[circular_mask] = 0\n",
    "    \n",
    "    return mask"
   ]
  },
  {
   "cell_type": "code",
   "execution_count": 298,
   "metadata": {},
   "outputs": [],
   "source": [
    "drawing_color = (0, 0, 255)\n",
    "\n",
    "color_squares = {\n",
    "    (10, 10, 50, 50): (255, 0, 0), \n",
    "    (60, 10, 110, 50): (0, 255, 0), \n",
    "    (120, 10, 170, 50): (0, 0, 255), \n",
    "}\n",
    "\n",
    "def select_color_from_fingertip(x, y):\n",
    "    global drawing_color\n",
    "    for (x1, y1, x2, y2), color in color_squares.items():\n",
    "        if x1 <= x <= x2 and y1 <= y <= y2:\n",
    "            drawing_color = color\n",
    "            break\n"
   ]
  },
  {
   "cell_type": "code",
   "execution_count": 299,
   "metadata": {},
   "outputs": [
    {
     "name": "stderr",
     "output_type": "stream",
     "text": [
      "INFO:webcam_skin_detection:Webcam opened successfully\n",
      "WARNING:webcam_skin_detection:No contours found in the mask\n",
      "INFO:webcam_skin_detection:Fingers detected: 0\n",
      "INFO:webcam_skin_detection:Fingers detected: 2\n"
     ]
    },
    {
     "name": "stdout",
     "output_type": "stream",
     "text": [
      "middle point [222, 239]\n",
      "min,max [151, 290, 70, 390]\n",
      "face shall be removed\n",
      "middle point [222, 239]\n",
      "min,max [0, 117, 0, 511]\n",
      "middle point [222, 237]\n",
      "min,max [0, 116, 67, 511]\n",
      "middle point [222, 237]\n",
      "min,max [147, 290, 28, 448]\n",
      "face shall be removed\n"
     ]
    },
    {
     "name": "stderr",
     "output_type": "stream",
     "text": [
      "INFO:webcam_skin_detection:Fingers detected: 2\n",
      "INFO:webcam_skin_detection:Fingers detected: 2\n"
     ]
    },
    {
     "name": "stdout",
     "output_type": "stream",
     "text": [
      "middle point [221, 237]\n",
      "min,max [150, 290, 66, 448]\n",
      "face shall be removed\n",
      "middle point [221, 237]\n",
      "min,max [0, 116, 69, 511]\n"
     ]
    },
    {
     "name": "stderr",
     "output_type": "stream",
     "text": [
      "INFO:webcam_skin_detection:Fingers detected: 2\n"
     ]
    },
    {
     "name": "stdout",
     "output_type": "stream",
     "text": [
      "middle point [222, 238]\n",
      "min,max [0, 116, 70, 511]\n",
      "middle point [222, 238]\n",
      "min,max [151, 290, 67, 448]\n",
      "face shall be removed\n",
      "middle point [222, 237]\n",
      "min,max [152, 290, 67, 448]\n",
      "face shall be removed\n",
      "middle point [222, 237]\n",
      "min,max [0, 115, 70, 511]\n"
     ]
    },
    {
     "name": "stderr",
     "output_type": "stream",
     "text": [
      "INFO:webcam_skin_detection:Fingers detected: 3\n",
      "INFO:webcam_skin_detection:Fingers detected: 2\n",
      "INFO:webcam_skin_detection:Fingers detected: 2\n"
     ]
    },
    {
     "name": "stdout",
     "output_type": "stream",
     "text": [
      "middle point [221, 235]\n",
      "min,max [152, 289, 62, 448]\n",
      "face shall be removed\n",
      "middle point [221, 235]\n",
      "min,max [0, 114, 70, 511]\n",
      "middle point [221, 236]\n",
      "min,max [0, 115, 69, 511]\n",
      "middle point [221, 236]\n",
      "min,max [152, 290, 67, 448]\n",
      "face shall be removed\n"
     ]
    },
    {
     "name": "stderr",
     "output_type": "stream",
     "text": [
      "INFO:webcam_skin_detection:Fingers detected: 2\n"
     ]
    },
    {
     "name": "stdout",
     "output_type": "stream",
     "text": [
      "middle point [220, 235]\n",
      "min,max [0, 115, 72, 511]\n",
      "middle point [220, 235]\n",
      "min,max [151, 289, 68, 449]\n",
      "face shall be removed\n",
      "middle point [220, 235]\n",
      "min,max [0, 113, 71, 511]\n",
      "middle point [220, 235]\n",
      "min,max [150, 289, 68, 449]\n",
      "face shall be removed\n"
     ]
    },
    {
     "name": "stderr",
     "output_type": "stream",
     "text": [
      "INFO:webcam_skin_detection:Fingers detected: 2\n",
      "INFO:webcam_skin_detection:Fingers detected: 2\n"
     ]
    },
    {
     "name": "stdout",
     "output_type": "stream",
     "text": [
      "middle point [220, 235]\n",
      "min,max [0, 113, 70, 511]\n",
      "middle point [220, 235]\n",
      "min,max [152, 289, 67, 449]\n",
      "face shall be removed\n",
      "middle point [220, 236]\n",
      "min,max [0, 114, 70, 511]\n",
      "middle point [220, 236]\n",
      "min,max [152, 289, 64, 448]\n",
      "face shall be removed\n"
     ]
    },
    {
     "name": "stderr",
     "output_type": "stream",
     "text": [
      "INFO:webcam_skin_detection:Fingers detected: 2\n",
      "INFO:webcam_skin_detection:Fingers detected: 2\n"
     ]
    },
    {
     "name": "stdout",
     "output_type": "stream",
     "text": [
      "middle point [221, 234]\n",
      "min,max [0, 113, 71, 511]\n",
      "middle point [221, 234]\n",
      "min,max [150, 289, 68, 449]\n",
      "face shall be removed\n",
      "middle point [221, 236]\n",
      "min,max [151, 289, 67, 449]\n",
      "face shall be removed\n",
      "middle point [221, 236]\n",
      "min,max [0, 115, 72, 511]\n"
     ]
    },
    {
     "name": "stderr",
     "output_type": "stream",
     "text": [
      "INFO:webcam_skin_detection:Fingers detected: 2\n",
      "INFO:webcam_skin_detection:Fingers detected: 2\n",
      "INFO:webcam_skin_detection:Fingers detected: 3\n"
     ]
    },
    {
     "name": "stdout",
     "output_type": "stream",
     "text": [
      "middle point [220, 236]\n",
      "min,max [0, 114, 71, 511]\n",
      "middle point [220, 236]\n",
      "min,max [151, 289, 65, 449]\n",
      "face shall be removed\n",
      "middle point [219, 236]\n",
      "min,max [0, 113, 71, 511]\n",
      "middle point [219, 236]\n",
      "min,max [151, 289, 70, 448]\n",
      "face shall be removed\n"
     ]
    },
    {
     "name": "stderr",
     "output_type": "stream",
     "text": [
      "INFO:webcam_skin_detection:Fingers detected: 2\n"
     ]
    },
    {
     "name": "stdout",
     "output_type": "stream",
     "text": [
      "middle point [218, 236]\n",
      "min,max [0, 113, 72, 511]\n",
      "middle point [218, 236]\n",
      "min,max [149, 288, 70, 448]\n",
      "face shall be removed\n",
      "middle point [217, 237]\n",
      "min,max [0, 114, 71, 511]\n",
      "middle point [217, 237]\n",
      "min,max [151, 288, 69, 449]\n",
      "face shall be removed\n"
     ]
    },
    {
     "name": "stderr",
     "output_type": "stream",
     "text": [
      "INFO:webcam_skin_detection:Fingers detected: 2\n",
      "INFO:webcam_skin_detection:Fingers detected: 2\n",
      "INFO:webcam_skin_detection:Fingers detected: 2\n"
     ]
    },
    {
     "name": "stdout",
     "output_type": "stream",
     "text": [
      "middle point [217, 235]\n",
      "min,max [0, 112, 73, 511]\n",
      "middle point [217, 235]\n",
      "min,max [150, 288, 69, 449]\n",
      "face shall be removed\n",
      "middle point [220, 230]\n",
      "min,max [17, 135, 166, 511]\n",
      "middle point [220, 230]\n",
      "min,max [151, 289, 67, 447]\n",
      "face shall be removed\n"
     ]
    },
    {
     "name": "stderr",
     "output_type": "stream",
     "text": [
      "WARNING:webcam_skin_detection:No contours found in the mask\n",
      "INFO:webcam_skin_detection:Fingers detected: 0\n",
      "WARNING:webcam_skin_detection:No contours found in the mask\n",
      "INFO:webcam_skin_detection:Fingers detected: 0\n"
     ]
    },
    {
     "name": "stdout",
     "output_type": "stream",
     "text": [
      "middle point [223, 226]\n",
      "min,max [440, 491, 449, 511]\n",
      "middle point [223, 226]\n",
      "min,max [153, 290, 54, 440]\n",
      "face shall be removed\n",
      "middle point [227, 220]\n",
      "min,max [472, 500, 450, 511]\n",
      "middle point [227, 220]\n",
      "min,max [159, 294, 52, 431]\n",
      "face shall be removed\n"
     ]
    },
    {
     "name": "stderr",
     "output_type": "stream",
     "text": [
      "WARNING:webcam_skin_detection:No contours found in the mask\n",
      "INFO:webcam_skin_detection:Fingers detected: 0\n",
      "WARNING:webcam_skin_detection:No contours found in the mask\n",
      "INFO:webcam_skin_detection:Fingers detected: 0\n"
     ]
    },
    {
     "name": "stdout",
     "output_type": "stream",
     "text": [
      "middle point [232, 216]\n",
      "min,max [456, 500, 450, 511]\n",
      "middle point [232, 216]\n",
      "min,max [162, 299, 48, 433]\n",
      "face shall be removed\n",
      "middle point [232, 214]\n",
      "min,max [442, 505, 450, 511]\n",
      "middle point [232, 214]\n",
      "min,max [162, 300, 47, 436]\n",
      "face shall be removed\n"
     ]
    },
    {
     "name": "stderr",
     "output_type": "stream",
     "text": [
      "WARNING:webcam_skin_detection:No contours found in the mask\n",
      "INFO:webcam_skin_detection:Fingers detected: 0\n",
      "WARNING:webcam_skin_detection:No contours found in the mask\n",
      "INFO:webcam_skin_detection:Fingers detected: 0\n"
     ]
    },
    {
     "name": "stdout",
     "output_type": "stream",
     "text": [
      "middle point [230, 214]\n",
      "min,max [472, 509, 449, 511]\n",
      "middle point [230, 214]\n",
      "min,max [163, 299, 47, 437]\n",
      "face shall be removed\n",
      "middle point [229, 214]\n",
      "min,max [418, 511, 450, 511]\n",
      "middle point [229, 214]\n",
      "min,max [161, 301, 45, 440]\n",
      "face shall be removed\n"
     ]
    },
    {
     "name": "stderr",
     "output_type": "stream",
     "text": [
      "WARNING:webcam_skin_detection:No contours found in the mask\n",
      "INFO:webcam_skin_detection:Fingers detected: 0\n",
      "WARNING:webcam_skin_detection:No contours found in the mask\n",
      "INFO:webcam_skin_detection:Fingers detected: 0\n"
     ]
    },
    {
     "name": "stdout",
     "output_type": "stream",
     "text": [
      "middle point [225, 216]\n",
      "min,max [439, 483, 438, 511]\n",
      "middle point [225, 216]\n",
      "min,max [158, 294, 48, 441]\n",
      "face shall be removed\n",
      "middle point [222, 224]\n",
      "min,max [403, 418, 449, 509]\n",
      "middle point [222, 224]\n",
      "min,max [151, 292, 54, 448]\n",
      "face shall be removed\n"
     ]
    },
    {
     "name": "stderr",
     "output_type": "stream",
     "text": [
      "WARNING:webcam_skin_detection:No contours found in the mask\n",
      "INFO:webcam_skin_detection:Fingers detected: 0\n",
      "WARNING:webcam_skin_detection:No contours found in the mask\n",
      "INFO:webcam_skin_detection:Fingers detected: 0\n"
     ]
    },
    {
     "name": "stdout",
     "output_type": "stream",
     "text": [
      "middle point [218, 235]\n",
      "min,max [431, 511, 433, 511]\n",
      "middle point [218, 235]\n",
      "min,max [144, 291, 53, 466]\n",
      "face shall be removed\n",
      "middle point [215, 247]\n",
      "min,max [442, 501, 450, 511]\n",
      "middle point [215, 247]\n",
      "min,max [137, 293, 49, 482]\n",
      "face shall be removed\n"
     ]
    },
    {
     "name": "stderr",
     "output_type": "stream",
     "text": [
      "WARNING:webcam_skin_detection:No contours found in the mask\n",
      "INFO:webcam_skin_detection:Fingers detected: 0\n",
      "WARNING:webcam_skin_detection:No contours found in the mask\n",
      "INFO:webcam_skin_detection:Fingers detected: 0\n"
     ]
    },
    {
     "name": "stdout",
     "output_type": "stream",
     "text": [
      "middle point [214, 252]\n",
      "min,max [412, 451, 446, 511]\n",
      "middle point [214, 252]\n",
      "min,max [131, 294, 50, 496]\n",
      "face shall be removed\n",
      "middle point [214, 259]\n",
      "min,max [415, 446, 449, 509]\n",
      "middle point [214, 259]\n",
      "min,max [129, 296, 47, 508]\n",
      "face shall be removed\n"
     ]
    },
    {
     "name": "stderr",
     "output_type": "stream",
     "text": [
      "WARNING:webcam_skin_detection:No contours found in the mask\n",
      "INFO:webcam_skin_detection:Fingers detected: 0\n",
      "WARNING:webcam_skin_detection:No contours found in the mask\n",
      "INFO:webcam_skin_detection:Fingers detected: 0\n"
     ]
    },
    {
     "name": "stdout",
     "output_type": "stream",
     "text": [
      "middle point [211, 262]\n",
      "min,max [415, 430, 449, 511]\n",
      "middle point [211, 262]\n",
      "min,max [125, 295, 48, 511]\n",
      "face shall be removed\n",
      "middle point [211, 265]\n",
      "min,max [477, 511, 430, 511]\n",
      "middle point [211, 265]\n",
      "min,max [122, 296, 48, 511]\n",
      "face shall be removed\n"
     ]
    },
    {
     "name": "stderr",
     "output_type": "stream",
     "text": [
      "WARNING:webcam_skin_detection:No contours found in the mask\n",
      "INFO:webcam_skin_detection:Fingers detected: 0\n",
      "WARNING:webcam_skin_detection:No contours found in the mask\n",
      "INFO:webcam_skin_detection:Fingers detected: 0\n"
     ]
    },
    {
     "name": "stdout",
     "output_type": "stream",
     "text": [
      "middle point [209, 264]\n",
      "min,max [443, 456, 456, 511]\n",
      "middle point [209, 264]\n",
      "min,max [121, 295, 52, 511]\n",
      "face shall be removed\n",
      "middle point [209, 266]\n",
      "min,max [422, 486, 449, 511]\n",
      "middle point [209, 266]\n",
      "min,max [122, 295, 52, 511]\n",
      "face shall be removed\n"
     ]
    },
    {
     "name": "stderr",
     "output_type": "stream",
     "text": [
      "WARNING:webcam_skin_detection:No contours found in the mask\n",
      "INFO:webcam_skin_detection:Fingers detected: 0\n",
      "WARNING:webcam_skin_detection:No contours found in the mask\n",
      "INFO:webcam_skin_detection:Fingers detected: 0\n"
     ]
    },
    {
     "name": "stdout",
     "output_type": "stream",
     "text": [
      "middle point [209, 268]\n",
      "min,max [475, 503, 451, 511]\n",
      "middle point [209, 268]\n",
      "min,max [120, 295, 52, 511]\n",
      "face shall be removed\n",
      "middle point [208, 269]\n",
      "min,max [483, 511, 431, 508]\n",
      "middle point [208, 269]\n",
      "min,max [120, 294, 54, 511]\n",
      "face shall be removed\n"
     ]
    },
    {
     "name": "stderr",
     "output_type": "stream",
     "text": [
      "WARNING:webcam_skin_detection:No contours found in the mask\n",
      "INFO:webcam_skin_detection:Fingers detected: 0\n",
      "WARNING:webcam_skin_detection:No contours found in the mask\n",
      "INFO:webcam_skin_detection:Fingers detected: 0\n"
     ]
    },
    {
     "name": "stdout",
     "output_type": "stream",
     "text": [
      "middle point [203, 275]\n",
      "min,max [483, 499, 454, 511]\n",
      "middle point [203, 275]\n",
      "min,max [117, 294, 51, 511]\n",
      "face shall be removed\n",
      "middle point [200, 281]\n",
      "min,max [442, 469, 446, 511]\n",
      "middle point [200, 281]\n",
      "min,max [114, 293, 55, 511]\n",
      "face shall be removed\n"
     ]
    },
    {
     "name": "stderr",
     "output_type": "stream",
     "text": [
      "WARNING:webcam_skin_detection:No contours found in the mask\n",
      "INFO:webcam_skin_detection:Fingers detected: 0\n",
      "WARNING:webcam_skin_detection:No contours found in the mask\n",
      "INFO:webcam_skin_detection:Fingers detected: 0\n"
     ]
    },
    {
     "name": "stdout",
     "output_type": "stream",
     "text": [
      "middle point [197, 282]\n",
      "min,max [452, 480, 450, 511]\n",
      "middle point [197, 282]\n",
      "min,max [114, 292, 49, 511]\n",
      "face shall be removed\n",
      "middle point [194, 287]\n",
      "min,max [426, 461, 450, 511]\n",
      "middle point [194, 287]\n",
      "min,max [111, 290, 52, 511]\n",
      "face shall be removed\n"
     ]
    },
    {
     "name": "stderr",
     "output_type": "stream",
     "text": [
      "WARNING:webcam_skin_detection:No contours found in the mask\n",
      "INFO:webcam_skin_detection:Fingers detected: 0\n",
      "WARNING:webcam_skin_detection:No contours found in the mask\n",
      "INFO:webcam_skin_detection:Fingers detected: 0\n"
     ]
    },
    {
     "name": "stdout",
     "output_type": "stream",
     "text": [
      "middle point [190, 299]\n",
      "min,max [453, 508, 449, 511]\n",
      "middle point [190, 299]\n",
      "min,max [98, 290, 53, 511]\n",
      "face shall be removed\n",
      "middle point [191, 298]\n",
      "min,max [96, 109, 216, 275]\n",
      "middle point [191, 298]\n",
      "min,max [106, 289, 54, 511]\n",
      "face shall be removed\n"
     ]
    },
    {
     "name": "stderr",
     "output_type": "stream",
     "text": [
      "WARNING:webcam_skin_detection:No contours found in the mask\n",
      "INFO:webcam_skin_detection:Fingers detected: 0\n",
      "WARNING:webcam_skin_detection:No contours found in the mask\n",
      "INFO:webcam_skin_detection:Fingers detected: 0\n"
     ]
    },
    {
     "name": "stdout",
     "output_type": "stream",
     "text": [
      "middle point [192, 305]\n",
      "min,max [468, 510, 450, 509]\n",
      "middle point [192, 305]\n",
      "min,max [104, 289, 55, 511]\n",
      "face shall be removed\n",
      "middle point [192, 302]\n",
      "min,max [449, 481, 450, 511]\n",
      "middle point [192, 302]\n",
      "min,max [106, 290, 54, 511]\n",
      "face shall be removed\n"
     ]
    },
    {
     "name": "stderr",
     "output_type": "stream",
     "text": [
      "WARNING:webcam_skin_detection:No contours found in the mask\n",
      "INFO:webcam_skin_detection:Fingers detected: 0\n",
      "WARNING:webcam_skin_detection:No contours found in the mask\n",
      "INFO:webcam_skin_detection:Fingers detected: 0\n"
     ]
    },
    {
     "name": "stdout",
     "output_type": "stream",
     "text": [
      "middle point [195, 309]\n",
      "min,max [0, 6, 476, 511]\n",
      "middle point [195, 309]\n",
      "min,max [97, 292, 53, 511]\n",
      "face shall be removed\n",
      "middle point [197, 306]\n",
      "min,max [434, 448, 450, 508]\n",
      "middle point [197, 306]\n",
      "min,max [95, 282, 49, 511]\n",
      "face shall be removed\n"
     ]
    },
    {
     "name": "stderr",
     "output_type": "stream",
     "text": [
      "WARNING:webcam_skin_detection:No contours found in the mask\n",
      "INFO:webcam_skin_detection:Fingers detected: 0\n",
      "WARNING:webcam_skin_detection:No contours found in the mask\n",
      "INFO:webcam_skin_detection:Fingers detected: 0\n"
     ]
    },
    {
     "name": "stdout",
     "output_type": "stream",
     "text": [
      "middle point [198, 303]\n",
      "min,max [94, 109, 222, 290]\n",
      "middle point [198, 303]\n",
      "min,max [107, 285, 45, 511]\n",
      "face shall be removed\n",
      "middle point [205, 298]\n",
      "min,max [465, 487, 451, 511]\n",
      "middle point [205, 298]\n",
      "min,max [94, 292, 45, 511]\n",
      "face shall be removed\n"
     ]
    },
    {
     "name": "stderr",
     "output_type": "stream",
     "text": [
      "WARNING:webcam_skin_detection:No contours found in the mask\n",
      "INFO:webcam_skin_detection:Fingers detected: 0\n",
      "WARNING:webcam_skin_detection:No contours found in the mask\n",
      "INFO:webcam_skin_detection:Fingers detected: 0\n"
     ]
    },
    {
     "name": "stdout",
     "output_type": "stream",
     "text": [
      "middle point [201, 321]\n",
      "min,max [461, 511, 450, 511]\n",
      "middle point [201, 321]\n",
      "min,max [94, 296, 38, 511]\n",
      "face shall be removed\n",
      "middle point [201, 321]\n",
      "min,max [91, 109, 219, 304]\n",
      "middle point [201, 321]\n",
      "min,max [101, 298, 37, 511]\n",
      "face shall be removed\n"
     ]
    },
    {
     "name": "stderr",
     "output_type": "stream",
     "text": [
      "WARNING:webcam_skin_detection:No contours found in the mask\n",
      "INFO:webcam_skin_detection:Fingers detected: 0\n",
      "WARNING:webcam_skin_detection:No contours found in the mask\n",
      "INFO:webcam_skin_detection:Fingers detected: 0\n"
     ]
    },
    {
     "name": "stdout",
     "output_type": "stream",
     "text": [
      "middle point [201, 321]\n",
      "min,max [472, 496, 450, 511]\n",
      "middle point [201, 321]\n",
      "min,max [90, 301, 35, 511]\n",
      "face shall be removed\n",
      "middle point [201, 321]\n",
      "min,max [90, 103, 238, 297]\n",
      "middle point [201, 321]\n",
      "min,max [98, 300, 35, 511]\n",
      "face shall be removed\n"
     ]
    },
    {
     "name": "stderr",
     "output_type": "stream",
     "text": [
      "WARNING:webcam_skin_detection:No contours found in the mask\n",
      "INFO:webcam_skin_detection:Fingers detected: 0\n",
      "WARNING:webcam_skin_detection:No contours found in the mask\n",
      "INFO:webcam_skin_detection:Fingers detected: 0\n"
     ]
    },
    {
     "name": "stdout",
     "output_type": "stream",
     "text": [
      "middle point [201, 321]\n",
      "min,max [84, 98, 233, 300]\n",
      "middle point [201, 321]\n",
      "min,max [98, 302, 35, 511]\n",
      "face shall be removed\n",
      "middle point [201, 321]\n",
      "min,max [152, 170, 250, 301]\n",
      "middle point [201, 321]\n",
      "min,max [82, 301, 33, 511]\n",
      "face shall be removed\n"
     ]
    },
    {
     "name": "stderr",
     "output_type": "stream",
     "text": [
      "WARNING:webcam_skin_detection:No contours found in the mask\n",
      "INFO:webcam_skin_detection:Fingers detected: 0\n",
      "WARNING:webcam_skin_detection:No contours found in the mask\n",
      "INFO:webcam_skin_detection:Fingers detected: 0\n"
     ]
    },
    {
     "name": "stdout",
     "output_type": "stream",
     "text": [
      "middle point [201, 321]\n",
      "min,max [81, 97, 230, 303]\n",
      "middle point [201, 321]\n",
      "min,max [95, 302, 29, 511]\n",
      "face shall be removed\n",
      "middle point [201, 321]\n",
      "min,max [82, 100, 230, 300]\n",
      "middle point [201, 321]\n",
      "min,max [93, 302, 32, 511]\n",
      "face shall be removed\n"
     ]
    },
    {
     "name": "stderr",
     "output_type": "stream",
     "text": [
      "WARNING:webcam_skin_detection:No contours found in the mask\n",
      "INFO:webcam_skin_detection:Fingers detected: 0\n",
      "WARNING:webcam_skin_detection:No contours found in the mask\n",
      "INFO:webcam_skin_detection:Fingers detected: 0\n"
     ]
    },
    {
     "name": "stdout",
     "output_type": "stream",
     "text": [
      "middle point [201, 321]\n",
      "min,max [84, 99, 232, 301]\n",
      "middle point [201, 321]\n",
      "min,max [95, 304, 30, 511]\n",
      "face shall be removed\n",
      "middle point [201, 321]\n",
      "min,max [83, 95, 229, 287]\n",
      "middle point [201, 321]\n",
      "min,max [95, 304, 28, 511]\n",
      "face shall be removed\n"
     ]
    },
    {
     "name": "stderr",
     "output_type": "stream",
     "text": [
      "WARNING:webcam_skin_detection:No contours found in the mask\n",
      "INFO:webcam_skin_detection:Fingers detected: 0\n",
      "WARNING:webcam_skin_detection:No contours found in the mask\n",
      "INFO:webcam_skin_detection:Fingers detected: 0\n"
     ]
    },
    {
     "name": "stdout",
     "output_type": "stream",
     "text": [
      "middle point [201, 321]\n",
      "min,max [79, 92, 239, 300]\n",
      "middle point [201, 321]\n",
      "min,max [92, 303, 36, 511]\n",
      "face shall be removed\n",
      "middle point [201, 321]\n",
      "min,max [441, 459, 449, 508]\n",
      "middle point [201, 321]\n",
      "min,max [83, 306, 25, 511]\n",
      "face shall be removed\n"
     ]
    },
    {
     "name": "stderr",
     "output_type": "stream",
     "text": [
      "WARNING:webcam_skin_detection:No contours found in the mask\n",
      "INFO:webcam_skin_detection:Fingers detected: 0\n",
      "WARNING:webcam_skin_detection:No contours found in the mask\n",
      "INFO:webcam_skin_detection:Fingers detected: 0\n"
     ]
    },
    {
     "name": "stdout",
     "output_type": "stream",
     "text": [
      "middle point [201, 321]\n",
      "min,max [462, 487, 450, 509]\n",
      "middle point [201, 321]\n",
      "min,max [78, 312, 19, 511]\n",
      "face shall be removed\n",
      "middle point [201, 321]\n",
      "min,max [446, 462, 449, 511]\n",
      "middle point [201, 321]\n",
      "min,max [78, 320, 23, 511]\n",
      "face shall be removed\n"
     ]
    },
    {
     "name": "stderr",
     "output_type": "stream",
     "text": [
      "WARNING:webcam_skin_detection:No contours found in the mask\n",
      "INFO:webcam_skin_detection:Fingers detected: 0\n",
      "WARNING:webcam_skin_detection:No contours found in the mask\n",
      "INFO:webcam_skin_detection:Fingers detected: 0\n"
     ]
    },
    {
     "name": "stdout",
     "output_type": "stream",
     "text": [
      "middle point [201, 321]\n",
      "min,max [141, 156, 313, 331]\n",
      "middle point [201, 321]\n",
      "min,max [64, 321, 6, 511]\n",
      "face shall be removed\n",
      "middle point [201, 321]\n",
      "min,max [136, 152, 302, 331]\n",
      "middle point [201, 321]\n",
      "min,max [68, 320, 20, 511]\n",
      "face shall be removed\n"
     ]
    },
    {
     "name": "stderr",
     "output_type": "stream",
     "text": [
      "WARNING:webcam_skin_detection:No contours found in the mask\n",
      "INFO:webcam_skin_detection:Fingers detected: 0\n",
      "WARNING:webcam_skin_detection:No contours found in the mask\n",
      "INFO:webcam_skin_detection:Fingers detected: 0\n"
     ]
    },
    {
     "name": "stdout",
     "output_type": "stream",
     "text": [
      "middle point [201, 321]\n",
      "min,max [139, 154, 311, 330]\n",
      "middle point [201, 321]\n",
      "min,max [67, 317, 25, 511]\n",
      "face shall be removed\n",
      "middle point [201, 321]\n",
      "min,max [451, 469, 450, 509]\n",
      "middle point [201, 321]\n",
      "min,max [64, 319, 22, 511]\n",
      "face shall be removed\n"
     ]
    },
    {
     "name": "stderr",
     "output_type": "stream",
     "text": [
      "WARNING:webcam_skin_detection:No contours found in the mask\n",
      "INFO:webcam_skin_detection:Fingers detected: 0\n",
      "WARNING:webcam_skin_detection:No contours found in the mask\n",
      "INFO:webcam_skin_detection:Fingers detected: 0\n"
     ]
    },
    {
     "name": "stdout",
     "output_type": "stream",
     "text": [
      "middle point [201, 321]\n",
      "min,max [327, 341, 238, 308]\n",
      "middle point [201, 321]\n",
      "min,max [65, 321, 22, 511]\n",
      "face shall be removed\n",
      "middle point [201, 321]\n",
      "min,max [39, 53, 245, 305]\n",
      "middle point [201, 321]\n",
      "min,max [57, 326, 6, 511]\n",
      "face shall be removed\n"
     ]
    },
    {
     "name": "stderr",
     "output_type": "stream",
     "text": [
      "WARNING:webcam_skin_detection:No contours found in the mask\n",
      "INFO:webcam_skin_detection:Fingers detected: 0\n",
      "WARNING:webcam_skin_detection:No contours found in the mask\n",
      "INFO:webcam_skin_detection:Fingers detected: 0\n"
     ]
    },
    {
     "name": "stdout",
     "output_type": "stream",
     "text": [
      "middle point [201, 321]\n",
      "min,max [142, 153, 300, 317]\n",
      "middle point [201, 321]\n",
      "min,max [61, 335, 0, 511]\n",
      "face shall be removed\n",
      "middle point [201, 321]\n",
      "min,max [52, 64, 39, 97]\n",
      "middle point [201, 321]\n",
      "min,max [51, 341, 0, 511]\n",
      "face shall be removed\n"
     ]
    },
    {
     "name": "stderr",
     "output_type": "stream",
     "text": [
      "WARNING:webcam_skin_detection:No contours found in the mask\n",
      "INFO:webcam_skin_detection:Fingers detected: 0\n",
      "WARNING:webcam_skin_detection:No contours found in the mask\n",
      "INFO:webcam_skin_detection:Fingers detected: 0\n"
     ]
    },
    {
     "name": "stdout",
     "output_type": "stream",
     "text": [
      "middle point [201, 321]\n",
      "min,max [356, 368, 300, 357]\n",
      "middle point [201, 321]\n",
      "min,max [48, 344, 0, 511]\n",
      "face shall be removed\n",
      "middle point [201, 321]\n",
      "min,max [350, 363, 278, 342]\n",
      "middle point [201, 321]\n",
      "min,max [56, 342, 0, 511]\n",
      "face shall be removed\n"
     ]
    },
    {
     "name": "stderr",
     "output_type": "stream",
     "text": [
      "WARNING:webcam_skin_detection:No contours found in the mask\n",
      "INFO:webcam_skin_detection:Fingers detected: 0\n",
      "WARNING:webcam_skin_detection:No contours found in the mask\n",
      "INFO:webcam_skin_detection:Fingers detected: 0\n"
     ]
    },
    {
     "name": "stdout",
     "output_type": "stream",
     "text": [
      "middle point [201, 321]\n",
      "min,max [348, 362, 223, 333]\n",
      "middle point [201, 321]\n",
      "min,max [60, 339, 0, 511]\n",
      "face shall be removed\n",
      "middle point [201, 321]\n",
      "min,max [473, 507, 448, 511]\n",
      "middle point [201, 321]\n",
      "min,max [85, 342, 0, 511]\n",
      "face shall be removed\n"
     ]
    },
    {
     "name": "stderr",
     "output_type": "stream",
     "text": [
      "WARNING:webcam_skin_detection:No contours found in the mask\n",
      "INFO:webcam_skin_detection:Fingers detected: 0\n",
      "WARNING:webcam_skin_detection:No contours found in the mask\n",
      "INFO:webcam_skin_detection:Fingers detected: 0\n"
     ]
    },
    {
     "name": "stdout",
     "output_type": "stream",
     "text": [
      "middle point [201, 321]\n",
      "min,max [464, 477, 450, 508]\n",
      "middle point [201, 321]\n",
      "min,max [100, 358, 0, 511]\n",
      "face shall be removed\n",
      "middle point [201, 321]\n",
      "min,max [499, 511, 432, 489]\n",
      "middle point [201, 321]\n",
      "min,max [141, 390, 0, 511]\n",
      "face shall be removed\n"
     ]
    },
    {
     "name": "stderr",
     "output_type": "stream",
     "text": [
      "WARNING:webcam_skin_detection:No contours found in the mask\n",
      "INFO:webcam_skin_detection:Fingers detected: 0\n",
      "INFO:webcam_skin_detection:Fingers detected: 3\n"
     ]
    },
    {
     "name": "stdout",
     "output_type": "stream",
     "text": [
      "middle point [201, 321]\n",
      "min,max [281, 292, 173, 184]\n",
      "middle point [201, 321]\n",
      "min,max [183, 428, 0, 511]\n",
      "face shall be removed\n",
      "middle point [201, 321]\n",
      "min,max [505, 511, 429, 489]\n",
      "middle point [201, 321]\n",
      "min,max [214, 459, 0, 511]\n"
     ]
    },
    {
     "name": "stderr",
     "output_type": "stream",
     "text": [
      "INFO:webcam_skin_detection:Fingers detected: 2\n"
     ]
    },
    {
     "name": "stdout",
     "output_type": "stream",
     "text": [
      "middle point [201, 321]\n",
      "min,max [503, 511, 453, 511]\n",
      "middle point [201, 321]\n",
      "min,max [230, 473, 0, 511]\n",
      "middle point [201, 321]\n",
      "min,max [268, 270, 276, 280]\n",
      "middle point [201, 321]\n",
      "min,max [229, 471, 0, 511]\n"
     ]
    },
    {
     "name": "stderr",
     "output_type": "stream",
     "text": [
      "INFO:webcam_skin_detection:Fingers detected: 2\n",
      "INFO:webcam_skin_detection:Fingers detected: 2\n"
     ]
    },
    {
     "name": "stdout",
     "output_type": "stream",
     "text": [
      "middle point [201, 321]\n",
      "min,max [495, 507, 428, 485]\n",
      "middle point [201, 321]\n",
      "min,max [229, 468, 0, 511]\n",
      "middle point [201, 321]\n",
      "min,max [331, 335, 165, 171]\n",
      "middle point [201, 321]\n",
      "min,max [230, 470, 0, 511]\n"
     ]
    },
    {
     "name": "stderr",
     "output_type": "stream",
     "text": [
      "INFO:webcam_skin_detection:Fingers detected: 3\n",
      "INFO:webcam_skin_detection:Fingers detected: 2\n"
     ]
    },
    {
     "name": "stdout",
     "output_type": "stream",
     "text": [
      "middle point [201, 321]\n",
      "min,max [230, 471, 0, 511]\n",
      "middle point [201, 321]\n",
      "min,max [232, 474, 0, 511]\n"
     ]
    },
    {
     "name": "stderr",
     "output_type": "stream",
     "text": [
      "INFO:webcam_skin_detection:Fingers detected: 2\n",
      "INFO:webcam_skin_detection:Fingers detected: 1\n"
     ]
    },
    {
     "name": "stdout",
     "output_type": "stream",
     "text": [
      "middle point [201, 321]\n",
      "min,max [244, 487, 0, 511]\n",
      "[ 0  1  2  3  4  5  6  7  8  9 10 11 12 13 14]\n",
      "middle point [201, 321]\n",
      "min,max [257, 504, 0, 511]\n"
     ]
    },
    {
     "name": "stderr",
     "output_type": "stream",
     "text": [
      "INFO:webcam_skin_detection:Fingers detected: 3\n",
      "INFO:webcam_skin_detection:Fingers detected: 1\n"
     ]
    },
    {
     "name": "stdout",
     "output_type": "stream",
     "text": [
      "middle point [201, 321]\n",
      "min,max [304, 308, 257, 305]\n",
      "middle point [201, 321]\n",
      "min,max [263, 509, 0, 511]\n",
      "[ 0  1  2  3  4  5  6  7  8  9 10 11 12 13 14]\n",
      "middle point [201, 321]\n",
      "min,max [505, 511, 452, 509]\n",
      "middle point [201, 321]\n",
      "min,max [262, 507, 0, 511]\n"
     ]
    },
    {
     "name": "stderr",
     "output_type": "stream",
     "text": [
      "INFO:webcam_skin_detection:Fingers detected: 1\n",
      "INFO:webcam_skin_detection:Fingers detected: 1\n"
     ]
    },
    {
     "name": "stdout",
     "output_type": "stream",
     "text": [
      "[ 0  1  2  3  4  5  6  7  8  9 10 11 12 13 14]\n",
      "middle point [201, 321]\n",
      "min,max [261, 508, 0, 511]\n",
      "[ 0  1  2  3  4  5  6  7  8  9 10 11 12 13]\n"
     ]
    },
    {
     "name": "stderr",
     "output_type": "stream",
     "text": [
      "INFO:webcam_skin_detection:Fingers detected: 1\n"
     ]
    },
    {
     "name": "stdout",
     "output_type": "stream",
     "text": [
      "middle point [201, 321]\n",
      "min,max [321, 326, 391, 402]\n",
      "middle point [201, 321]\n",
      "min,max [261, 508, 0, 511]\n",
      "[ 0  1  2  3  4  5  6  7  8  9 10 11 12 13 14]\n",
      "middle point [201, 321]\n",
      "min,max [319, 324, 379, 397]\n",
      "middle point [201, 321]\n",
      "min,max [260, 506, 0, 511]\n"
     ]
    },
    {
     "name": "stderr",
     "output_type": "stream",
     "text": [
      "INFO:webcam_skin_detection:Fingers detected: 1\n",
      "INFO:webcam_skin_detection:Fingers detected: 1\n"
     ]
    },
    {
     "name": "stdout",
     "output_type": "stream",
     "text": [
      "[ 0  1  2  3  4  5  6  7  8  9 10 11 12 13 14]\n",
      "middle point [201, 321]\n",
      "min,max [318, 331, 378, 418]\n",
      "middle point [201, 321]\n",
      "min,max [259, 505, 0, 511]\n",
      "[ 0  1  2  3  4  5  6  7  8  9 10 11 12 13]\n"
     ]
    },
    {
     "name": "stderr",
     "output_type": "stream",
     "text": [
      "INFO:webcam_skin_detection:Fingers detected: 2\n",
      "INFO:webcam_skin_detection:Fingers detected: 2\n"
     ]
    },
    {
     "name": "stdout",
     "output_type": "stream",
     "text": [
      "middle point [201, 321]\n",
      "min,max [285, 294, 263, 300]\n",
      "middle point [201, 321]\n",
      "min,max [256, 494, 0, 511]\n",
      "middle point [201, 321]\n",
      "min,max [301, 321, 344, 398]\n",
      "middle point [201, 321]\n",
      "min,max [252, 484, 0, 511]\n"
     ]
    },
    {
     "name": "stderr",
     "output_type": "stream",
     "text": [
      "INFO:webcam_skin_detection:Fingers detected: 4\n",
      "INFO:webcam_skin_detection:Fingers detected: 4\n"
     ]
    },
    {
     "name": "stdout",
     "output_type": "stream",
     "text": [
      "middle point [201, 321]\n",
      "min,max [304, 325, 360, 395]\n",
      "middle point [201, 321]\n",
      "min,max [253, 479, 0, 511]\n",
      "middle point [201, 321]\n",
      "min,max [298, 308, 328, 357]\n",
      "middle point [201, 321]\n",
      "min,max [258, 493, 0, 511]\n"
     ]
    },
    {
     "name": "stderr",
     "output_type": "stream",
     "text": [
      "INFO:webcam_skin_detection:Fingers detected: 2\n"
     ]
    },
    {
     "name": "stdout",
     "output_type": "stream",
     "text": [
      "middle point [201, 321]\n",
      "min,max [290, 298, 249, 321]\n",
      "middle point [201, 321]\n",
      "min,max [259, 500, 0, 511]\n",
      "middle point [201, 321]\n",
      "min,max [352, 369, 160, 167]\n",
      "middle point [201, 321]\n",
      "min,max [259, 498, 0, 511]\n"
     ]
    },
    {
     "name": "stderr",
     "output_type": "stream",
     "text": [
      "INFO:webcam_skin_detection:Fingers detected: 3\n",
      "INFO:webcam_skin_detection:Fingers detected: 3\n"
     ]
    },
    {
     "name": "stdout",
     "output_type": "stream",
     "text": [
      "middle point [201, 321]\n",
      "min,max [349, 367, 157, 181]\n",
      "middle point [201, 321]\n",
      "min,max [257, 496, 0, 511]\n",
      "middle point [201, 321]\n",
      "min,max [415, 456, 465, 511]\n",
      "middle point [201, 321]\n",
      "min,max [255, 495, 0, 511]\n"
     ]
    },
    {
     "name": "stderr",
     "output_type": "stream",
     "text": [
      "INFO:webcam_skin_detection:Fingers detected: 4\n",
      "INFO:webcam_skin_detection:Fingers detected: 2\n"
     ]
    },
    {
     "name": "stdout",
     "output_type": "stream",
     "text": [
      "middle point [201, 321]\n",
      "min,max [417, 452, 473, 511]\n",
      "middle point [201, 321]\n",
      "min,max [254, 491, 0, 511]\n",
      "middle point [201, 321]\n",
      "min,max [307, 320, 402, 418]\n",
      "middle point [201, 321]\n",
      "min,max [253, 491, 0, 511]\n"
     ]
    },
    {
     "name": "stderr",
     "output_type": "stream",
     "text": [
      "INFO:webcam_skin_detection:Fingers detected: 3\n",
      "INFO:webcam_skin_detection:Fingers detected: 2\n"
     ]
    },
    {
     "name": "stdout",
     "output_type": "stream",
     "text": [
      "middle point [201, 321]\n",
      "min,max [281, 290, 268, 328]\n",
      "middle point [201, 321]\n",
      "min,max [253, 492, 0, 511]\n",
      "middle point [201, 321]\n",
      "min,max [284, 298, 305, 362]\n",
      "middle point [201, 321]\n",
      "min,max [254, 491, 0, 511]\n"
     ]
    },
    {
     "name": "stderr",
     "output_type": "stream",
     "text": [
      "INFO:webcam_skin_detection:Fingers detected: 2\n",
      "INFO:webcam_skin_detection:Fingers detected: 2\n",
      "INFO:webcam_skin_detection:Fingers detected: 2\n"
     ]
    },
    {
     "name": "stdout",
     "output_type": "stream",
     "text": [
      "middle point [201, 321]\n",
      "min,max [349, 358, 162, 169]\n",
      "middle point [201, 321]\n",
      "min,max [253, 492, 0, 511]\n",
      "middle point [201, 321]\n",
      "min,max [296, 302, 318, 347]\n",
      "middle point [201, 321]\n",
      "min,max [254, 495, 0, 511]\n"
     ]
    },
    {
     "name": "stderr",
     "output_type": "stream",
     "text": [
      "INFO:webcam_skin_detection:Fingers detected: 1\n"
     ]
    },
    {
     "name": "stdout",
     "output_type": "stream",
     "text": [
      "middle point [201, 321]\n",
      "min,max [291, 294, 269, 294]\n",
      "middle point [201, 321]\n",
      "min,max [256, 509, 0, 511]\n",
      "[ 0  1  2  3  4  5  6  7  8  9 10 11 12 13 14]\n",
      "middle point [201, 321]\n",
      "min,max [310, 312, 383, 387]\n",
      "middle point [201, 321]\n",
      "min,max [256, 510, 0, 511]\n"
     ]
    },
    {
     "name": "stderr",
     "output_type": "stream",
     "text": [
      "INFO:webcam_skin_detection:Fingers detected: 1\n",
      "INFO:webcam_skin_detection:Fingers detected: 1\n"
     ]
    },
    {
     "name": "stdout",
     "output_type": "stream",
     "text": [
      "[ 0  1  2  3  4  5  6  7  8  9 10 11 12 13]\n",
      "middle point [201, 321]\n",
      "min,max [308, 340, 105, 192]\n",
      "middle point [201, 321]\n",
      "min,max [258, 464, 0, 511]\n",
      "[ 0  1  2  3  4  5  6  7  8  9 10 11 12 13 14 15]\n"
     ]
    },
    {
     "name": "stderr",
     "output_type": "stream",
     "text": [
      "WARNING:webcam_skin_detection:No contours found in the mask\n",
      "INFO:webcam_skin_detection:Fingers detected: 0\n",
      "WARNING:webcam_skin_detection:No contours found in the mask\n",
      "INFO:webcam_skin_detection:Fingers detected: 0\n"
     ]
    },
    {
     "name": "stdout",
     "output_type": "stream",
     "text": [
      "middle point [333, 185]\n",
      "min,max [418, 460, 477, 511]\n",
      "middle point [333, 185]\n",
      "min,max [245, 425, 0, 472]\n",
      "face shall be removed\n",
      "middle point [336, 183]\n",
      "min,max [408, 439, 474, 511]\n",
      "middle point [336, 183]\n",
      "min,max [243, 403, 0, 437]\n",
      "face shall be removed\n"
     ]
    },
    {
     "name": "stderr",
     "output_type": "stream",
     "text": [
      "WARNING:webcam_skin_detection:No contours found in the mask\n",
      "INFO:webcam_skin_detection:Fingers detected: 0\n",
      "WARNING:webcam_skin_detection:No contours found in the mask\n",
      "INFO:webcam_skin_detection:Fingers detected: 0\n"
     ]
    },
    {
     "name": "stdout",
     "output_type": "stream",
     "text": [
      "middle point [333, 187]\n",
      "min,max [441, 511, 425, 511]\n",
      "middle point [333, 187]\n",
      "min,max [252, 399, 0, 403]\n",
      "face shall be removed\n",
      "middle point [346, 195]\n",
      "min,max [249, 399, 6, 391]\n",
      "face shall be removed\n"
     ]
    },
    {
     "name": "stderr",
     "output_type": "stream",
     "text": [
      "WARNING:webcam_skin_detection:No contours found in the mask\n",
      "INFO:webcam_skin_detection:Fingers detected: 0\n",
      "WARNING:webcam_skin_detection:No contours found in the mask\n",
      "INFO:webcam_skin_detection:Fingers detected: 0\n"
     ]
    },
    {
     "name": "stdout",
     "output_type": "stream",
     "text": [
      "middle point [329, 175]\n",
      "min,max [431, 511, 307, 511]\n",
      "middle point [329, 175]\n",
      "min,max [240, 377, 4, 377]\n",
      "face shall be removed\n",
      "middle point [312, 172]\n",
      "min,max [231, 354, 17, 368]\n",
      "face shall be removed\n"
     ]
    },
    {
     "name": "stderr",
     "output_type": "stream",
     "text": [
      "WARNING:webcam_skin_detection:No contours found in the mask\n",
      "INFO:webcam_skin_detection:Fingers detected: 0\n",
      "WARNING:webcam_skin_detection:No contours found in the mask\n",
      "INFO:webcam_skin_detection:Fingers detected: 0\n"
     ]
    },
    {
     "name": "stdout",
     "output_type": "stream",
     "text": [
      "middle point [296, 181]\n",
      "min,max [222, 265, 429, 511]\n",
      "middle point [296, 181]\n",
      "min,max [226, 338, 41, 370]\n",
      "face shall be removed\n",
      "middle point [283, 191]\n",
      "min,max [432, 489, 449, 511]\n",
      "middle point [283, 191]\n",
      "min,max [219, 322, 65, 370]\n",
      "face shall be removed\n"
     ]
    },
    {
     "name": "stderr",
     "output_type": "stream",
     "text": [
      "WARNING:webcam_skin_detection:No contours found in the mask\n",
      "INFO:webcam_skin_detection:Fingers detected: 0\n",
      "WARNING:webcam_skin_detection:No contours found in the mask\n",
      "INFO:webcam_skin_detection:Fingers detected: 0\n"
     ]
    },
    {
     "name": "stdout",
     "output_type": "stream",
     "text": [
      "middle point [274, 185]\n",
      "min,max [422, 511, 450, 511]\n",
      "middle point [274, 185]\n",
      "min,max [213, 313, 65, 365]\n",
      "face shall be removed\n",
      "middle point [268, 183]\n",
      "min,max [450, 511, 450, 511]\n",
      "middle point [268, 183]\n",
      "min,max [205, 305, 62, 366]\n",
      "face shall be removed\n"
     ]
    },
    {
     "name": "stderr",
     "output_type": "stream",
     "text": [
      "WARNING:webcam_skin_detection:No contours found in the mask\n",
      "INFO:webcam_skin_detection:Fingers detected: 0\n",
      "WARNING:webcam_skin_detection:No contours found in the mask\n",
      "INFO:webcam_skin_detection:Fingers detected: 0\n"
     ]
    },
    {
     "name": "stdout",
     "output_type": "stream",
     "text": [
      "middle point [261, 183]\n",
      "min,max [398, 511, 425, 511]\n",
      "middle point [261, 183]\n",
      "min,max [201, 304, 62, 368]\n",
      "face shall be removed\n",
      "middle point [260, 186]\n",
      "min,max [423, 488, 442, 511]\n",
      "middle point [260, 186]\n",
      "min,max [199, 303, 64, 370]\n",
      "face shall be removed\n"
     ]
    },
    {
     "name": "stderr",
     "output_type": "stream",
     "text": [
      "WARNING:webcam_skin_detection:No contours found in the mask\n",
      "INFO:webcam_skin_detection:Fingers detected: 0\n",
      "WARNING:webcam_skin_detection:No contours found in the mask\n",
      "INFO:webcam_skin_detection:Fingers detected: 0\n"
     ]
    },
    {
     "name": "stdout",
     "output_type": "stream",
     "text": [
      "middle point [256, 189]\n",
      "min,max [389, 509, 429, 511]\n",
      "middle point [256, 189]\n",
      "min,max [196, 301, 60, 374]\n",
      "face shall be removed\n",
      "middle point [248, 190]\n",
      "min,max [55, 75, 381, 479]\n",
      "middle point [248, 190]\n",
      "min,max [192, 301, 58, 375]\n",
      "face shall be removed\n"
     ]
    },
    {
     "name": "stderr",
     "output_type": "stream",
     "text": [
      "WARNING:webcam_skin_detection:No contours found in the mask\n",
      "INFO:webcam_skin_detection:Fingers detected: 0\n",
      "WARNING:webcam_skin_detection:No contours found in the mask\n",
      "INFO:webcam_skin_detection:Fingers detected: 0\n"
     ]
    },
    {
     "name": "stdout",
     "output_type": "stream",
     "text": [
      "middle point [237, 189]\n",
      "min,max [404, 511, 449, 511]\n",
      "middle point [237, 189]\n",
      "min,max [180, 295, 33, 383]\n",
      "face shall be removed\n",
      "middle point [226, 185]\n",
      "min,max [395, 494, 449, 511]\n",
      "middle point [226, 185]\n",
      "min,max [165, 290, 38, 390]\n",
      "face shall be removed\n"
     ]
    },
    {
     "name": "stderr",
     "output_type": "stream",
     "text": [
      "WARNING:webcam_skin_detection:No contours found in the mask\n",
      "INFO:webcam_skin_detection:Fingers detected: 0\n",
      "WARNING:webcam_skin_detection:No contours found in the mask\n",
      "INFO:webcam_skin_detection:Fingers detected: 0\n"
     ]
    },
    {
     "name": "stdout",
     "output_type": "stream",
     "text": [
      "middle point [215, 185]\n",
      "min,max [392, 511, 391, 511]\n",
      "middle point [215, 185]\n",
      "min,max [148, 284, 24, 400]\n",
      "face shall be removed\n",
      "middle point [195, 189]\n",
      "min,max [455, 502, 187, 280]\n",
      "middle point [195, 189]\n",
      "min,max [141, 276, 11, 416]\n",
      "face shall be removed\n"
     ]
    },
    {
     "name": "stderr",
     "output_type": "stream",
     "text": [
      "WARNING:webcam_skin_detection:No contours found in the mask\n",
      "INFO:webcam_skin_detection:Fingers detected: 0\n",
      "WARNING:webcam_skin_detection:No contours found in the mask\n",
      "INFO:webcam_skin_detection:Fingers detected: 0\n"
     ]
    },
    {
     "name": "stdout",
     "output_type": "stream",
     "text": [
      "middle point [191, 189]\n",
      "min,max [429, 511, 413, 511]\n",
      "middle point [191, 189]\n",
      "min,max [117, 266, 3, 429]\n",
      "face shall be removed\n",
      "middle point [175, 197]\n",
      "min,max [431, 503, 450, 511]\n",
      "middle point [175, 197]\n",
      "min,max [98, 258, 0, 447]\n",
      "face shall be removed\n"
     ]
    },
    {
     "name": "stderr",
     "output_type": "stream",
     "text": [
      "WARNING:webcam_skin_detection:No contours found in the mask\n",
      "INFO:webcam_skin_detection:Fingers detected: 0\n",
      "WARNING:webcam_skin_detection:No contours found in the mask\n",
      "INFO:webcam_skin_detection:Fingers detected: 0\n"
     ]
    },
    {
     "name": "stdout",
     "output_type": "stream",
     "text": [
      "middle point [152, 208]\n",
      "min,max [387, 511, 441, 511]\n",
      "middle point [152, 208]\n",
      "min,max [86, 251, 0, 465]\n",
      "face shall be removed\n",
      "middle point [145, 207]\n",
      "min,max [426, 511, 450, 511]\n",
      "middle point [145, 207]\n",
      "min,max [78, 247, 0, 475]\n",
      "face shall be removed\n"
     ]
    },
    {
     "name": "stderr",
     "output_type": "stream",
     "text": [
      "WARNING:webcam_skin_detection:No contours found in the mask\n",
      "INFO:webcam_skin_detection:Fingers detected: 0\n",
      "WARNING:webcam_skin_detection:No contours found in the mask\n",
      "INFO:webcam_skin_detection:Fingers detected: 0\n"
     ]
    },
    {
     "name": "stdout",
     "output_type": "stream",
     "text": [
      "middle point [139, 217]\n",
      "min,max [390, 511, 449, 511]\n",
      "middle point [139, 217]\n",
      "min,max [67, 248, 0, 494]\n",
      "face shall be removed\n",
      "middle point [137, 220]\n",
      "min,max [421, 511, 450, 511]\n",
      "middle point [137, 220]\n",
      "min,max [64, 250, 0, 508]\n",
      "face shall be removed\n"
     ]
    },
    {
     "name": "stderr",
     "output_type": "stream",
     "text": [
      "WARNING:webcam_skin_detection:No contours found in the mask\n",
      "INFO:webcam_skin_detection:Fingers detected: 0\n",
      "WARNING:webcam_skin_detection:No contours found in the mask\n",
      "INFO:webcam_skin_detection:Fingers detected: 0\n"
     ]
    },
    {
     "name": "stdout",
     "output_type": "stream",
     "text": [
      "middle point [139, 226]\n",
      "min,max [452, 489, 450, 510]\n",
      "middle point [139, 226]\n",
      "min,max [60, 252, 0, 511]\n",
      "face shall be removed\n",
      "middle point [138, 225]\n",
      "min,max [442, 477, 451, 511]\n",
      "middle point [138, 225]\n",
      "min,max [65, 254, 0, 511]\n",
      "face shall be removed\n"
     ]
    },
    {
     "name": "stderr",
     "output_type": "stream",
     "text": [
      "WARNING:webcam_skin_detection:No contours found in the mask\n",
      "INFO:webcam_skin_detection:Fingers detected: 0\n",
      "WARNING:webcam_skin_detection:No contours found in the mask\n",
      "INFO:webcam_skin_detection:Fingers detected: 0\n"
     ]
    },
    {
     "name": "stdout",
     "output_type": "stream",
     "text": [
      "middle point [136, 225]\n",
      "min,max [401, 498, 449, 511]\n",
      "middle point [136, 225]\n",
      "min,max [61, 254, 0, 511]\n",
      "face shall be removed\n",
      "middle point [146, 222]\n",
      "min,max [445, 479, 454, 511]\n",
      "middle point [146, 222]\n",
      "min,max [70, 257, 0, 511]\n",
      "face shall be removed\n"
     ]
    },
    {
     "name": "stderr",
     "output_type": "stream",
     "text": [
      "WARNING:webcam_skin_detection:No contours found in the mask\n",
      "INFO:webcam_skin_detection:Fingers detected: 0\n",
      "WARNING:webcam_skin_detection:No contours found in the mask\n",
      "INFO:webcam_skin_detection:Fingers detected: 0\n"
     ]
    },
    {
     "name": "stdout",
     "output_type": "stream",
     "text": [
      "middle point [163, 211]\n",
      "min,max [438, 466, 450, 511]\n",
      "middle point [163, 211]\n",
      "min,max [89, 266, 0, 508]\n",
      "face shall be removed\n",
      "middle point [209, 184]\n",
      "min,max [413, 427, 450, 509]\n",
      "middle point [209, 184]\n",
      "min,max [116, 297, 0, 479]\n",
      "face shall be removed\n"
     ]
    },
    {
     "name": "stderr",
     "output_type": "stream",
     "text": [
      "WARNING:webcam_skin_detection:No contours found in the mask\n",
      "INFO:webcam_skin_detection:Fingers detected: 0\n",
      "WARNING:webcam_skin_detection:No contours found in the mask\n",
      "INFO:webcam_skin_detection:Fingers detected: 0\n"
     ]
    },
    {
     "name": "stdout",
     "output_type": "stream",
     "text": [
      "middle point [209, 184]\n",
      "min,max [474, 500, 450, 508]\n",
      "middle point [209, 184]\n",
      "min,max [154, 321, 0, 464]\n",
      "face shall be removed\n",
      "middle point [293, 177]\n",
      "min,max [488, 511, 451, 509]\n",
      "middle point [293, 177]\n",
      "min,max [186, 359, 0, 467]\n",
      "face shall be removed\n"
     ]
    },
    {
     "name": "stderr",
     "output_type": "stream",
     "text": [
      "WARNING:webcam_skin_detection:No contours found in the mask\n",
      "INFO:webcam_skin_detection:Fingers detected: 0\n",
      "WARNING:webcam_skin_detection:No contours found in the mask\n",
      "INFO:webcam_skin_detection:Fingers detected: 0\n"
     ]
    },
    {
     "name": "stdout",
     "output_type": "stream",
     "text": [
      "middle point [324, 178]\n",
      "min,max [277, 288, 138, 148]\n",
      "middle point [324, 178]\n",
      "min,max [210, 388, 0, 470]\n",
      "face shall be removed\n",
      "middle point [360, 181]\n",
      "min,max [311, 313, 105, 112]\n",
      "middle point [360, 181]\n",
      "min,max [241, 430, 0, 476]\n",
      "face shall be removed\n"
     ]
    },
    {
     "name": "stderr",
     "output_type": "stream",
     "text": [
      "WARNING:webcam_skin_detection:No contours found in the mask\n",
      "INFO:webcam_skin_detection:Fingers detected: 0\n",
      "WARNING:webcam_skin_detection:No contours found in the mask\n",
      "INFO:webcam_skin_detection:Fingers detected: 0\n"
     ]
    },
    {
     "name": "stdout",
     "output_type": "stream",
     "text": [
      "middle point [391, 194]\n",
      "min,max [305, 307, 239, 250]\n",
      "middle point [391, 194]\n",
      "min,max [271, 470, 0, 485]\n",
      "face shall be removed\n",
      "middle point [391, 194]\n",
      "min,max [505, 511, 480, 511]\n",
      "middle point [391, 194]\n",
      "min,max [293, 498, 0, 492]\n",
      "face shall be removed\n"
     ]
    },
    {
     "name": "stderr",
     "output_type": "stream",
     "text": [
      "WARNING:webcam_skin_detection:No contours found in the mask\n",
      "INFO:webcam_skin_detection:Fingers detected: 0\n",
      "WARNING:webcam_skin_detection:No contours found in the mask\n",
      "INFO:webcam_skin_detection:Fingers detected: 0\n"
     ]
    },
    {
     "name": "stdout",
     "output_type": "stream",
     "text": [
      "middle point [391, 194]\n",
      "min,max [339, 347, 230, 284]\n",
      "middle point [391, 194]\n",
      "min,max [300, 511, 0, 494]\n",
      "face shall be removed\n",
      "middle point [391, 194]\n",
      "min,max [338, 342, 244, 291]\n",
      "middle point [391, 194]\n",
      "min,max [298, 511, 1, 497]\n",
      "face shall be removed\n"
     ]
    },
    {
     "name": "stderr",
     "output_type": "stream",
     "text": [
      "WARNING:webcam_skin_detection:No contours found in the mask\n",
      "INFO:webcam_skin_detection:Fingers detected: 0\n",
      "WARNING:webcam_skin_detection:No contours found in the mask\n",
      "INFO:webcam_skin_detection:Fingers detected: 0\n"
     ]
    },
    {
     "name": "stdout",
     "output_type": "stream",
     "text": [
      "middle point [391, 194]\n",
      "min,max [505, 511, 449, 506]\n",
      "middle point [391, 194]\n",
      "min,max [290, 501, 42, 500]\n",
      "face shall be removed\n",
      "middle point [391, 194]\n",
      "min,max [320, 323, 331, 343]\n",
      "middle point [391, 194]\n",
      "min,max [283, 488, 86, 494]\n",
      "face shall be removed\n"
     ]
    },
    {
     "name": "stderr",
     "output_type": "stream",
     "text": [
      "WARNING:webcam_skin_detection:No contours found in the mask\n",
      "INFO:webcam_skin_detection:Fingers detected: 0\n",
      "WARNING:webcam_skin_detection:No contours found in the mask\n",
      "INFO:webcam_skin_detection:Fingers detected: 0\n"
     ]
    },
    {
     "name": "stdout",
     "output_type": "stream",
     "text": [
      "middle point [401, 325]\n",
      "min,max [477, 511, 450, 508]\n",
      "middle point [401, 325]\n",
      "min,max [279, 475, 99, 497]\n",
      "face shall be removed\n",
      "middle point [393, 320]\n",
      "min,max [490, 511, 449, 508]\n",
      "middle point [393, 320]\n",
      "min,max [275, 464, 97, 489]\n",
      "face shall be removed\n"
     ]
    },
    {
     "name": "stderr",
     "output_type": "stream",
     "text": [
      "WARNING:webcam_skin_detection:No contours found in the mask\n",
      "INFO:webcam_skin_detection:Fingers detected: 0\n",
      "WARNING:webcam_skin_detection:No contours found in the mask\n",
      "INFO:webcam_skin_detection:Fingers detected: 0\n"
     ]
    },
    {
     "name": "stdout",
     "output_type": "stream",
     "text": [
      "middle point [389, 307]\n",
      "min,max [0, 6, 474, 511]\n",
      "middle point [389, 307]\n",
      "min,max [267, 451, 84, 487]\n",
      "face shall be removed\n",
      "middle point [373, 303]\n",
      "min,max [0, 6, 474, 511]\n",
      "middle point [373, 303]\n",
      "min,max [259, 441, 80, 486]\n",
      "face shall be removed\n"
     ]
    },
    {
     "name": "stderr",
     "output_type": "stream",
     "text": [
      "WARNING:webcam_skin_detection:No contours found in the mask\n",
      "INFO:webcam_skin_detection:Fingers detected: 0\n",
      "WARNING:webcam_skin_detection:No contours found in the mask\n",
      "INFO:webcam_skin_detection:Fingers detected: 0\n"
     ]
    },
    {
     "name": "stdout",
     "output_type": "stream",
     "text": [
      "middle point [353, 278]\n",
      "min,max [242, 417, 58, 482]\n",
      "face shall be removed\n",
      "middle point [324, 264]\n",
      "min,max [504, 511, 458, 511]\n",
      "middle point [324, 264]\n",
      "min,max [226, 392, 44, 476]\n",
      "face shall be removed\n"
     ]
    },
    {
     "name": "stderr",
     "output_type": "stream",
     "text": [
      "WARNING:webcam_skin_detection:No contours found in the mask\n",
      "INFO:webcam_skin_detection:Fingers detected: 0\n",
      "WARNING:webcam_skin_detection:No contours found in the mask\n",
      "INFO:webcam_skin_detection:Fingers detected: 0\n"
     ]
    },
    {
     "name": "stdout",
     "output_type": "stream",
     "text": [
      "middle point [283, 261]\n",
      "min,max [200, 356, 40, 476]\n",
      "face shall be removed\n",
      "middle point [256, 263]\n",
      "min,max [191, 345, 45, 477]\n",
      "face shall be removed\n"
     ]
    },
    {
     "name": "stderr",
     "output_type": "stream",
     "text": [
      "WARNING:webcam_skin_detection:No contours found in the mask\n",
      "INFO:webcam_skin_detection:Fingers detected: 0\n",
      "WARNING:webcam_skin_detection:No contours found in the mask\n",
      "INFO:webcam_skin_detection:Fingers detected: 0\n"
     ]
    },
    {
     "name": "stdout",
     "output_type": "stream",
     "text": [
      "middle point [225, 262]\n",
      "min,max [148, 160, 210, 267]\n",
      "middle point [225, 262]\n",
      "min,max [162, 320, 42, 478]\n",
      "face shall be removed\n",
      "middle point [195, 251]\n",
      "min,max [440, 493, 450, 511]\n",
      "middle point [195, 251]\n",
      "min,max [134, 298, 31, 483]\n",
      "face shall be removed\n"
     ]
    },
    {
     "name": "stderr",
     "output_type": "stream",
     "text": [
      "WARNING:webcam_skin_detection:No contours found in the mask\n",
      "INFO:webcam_skin_detection:Fingers detected: 0\n",
      "WARNING:webcam_skin_detection:No contours found in the mask\n",
      "INFO:webcam_skin_detection:Fingers detected: 0\n"
     ]
    },
    {
     "name": "stdout",
     "output_type": "stream",
     "text": [
      "middle point [176, 249]\n",
      "min,max [449, 495, 456, 511]\n",
      "middle point [176, 249]\n",
      "min,max [113, 285, 21, 497]\n",
      "face shall be removed\n",
      "middle point [170, 243]\n",
      "min,max [483, 501, 450, 508]\n",
      "middle point [170, 243]\n",
      "min,max [93, 274, 7, 511]\n",
      "face shall be removed\n"
     ]
    },
    {
     "name": "stderr",
     "output_type": "stream",
     "text": [
      "WARNING:webcam_skin_detection:No contours found in the mask\n",
      "INFO:webcam_skin_detection:Fingers detected: 0\n",
      "WARNING:webcam_skin_detection:No contours found in the mask\n",
      "INFO:webcam_skin_detection:Fingers detected: 0\n"
     ]
    },
    {
     "name": "stdout",
     "output_type": "stream",
     "text": [
      "middle point [220, 229]\n",
      "min,max [409, 421, 451, 508]\n",
      "middle point [220, 229]\n",
      "min,max [89, 284, 0, 511]\n",
      "face shall be removed\n",
      "middle point [220, 229]\n",
      "min,max [448, 487, 450, 511]\n",
      "middle point [220, 229]\n",
      "min,max [109, 315, 0, 511]\n",
      "face shall be removed\n"
     ]
    },
    {
     "name": "stderr",
     "output_type": "stream",
     "text": [
      "WARNING:webcam_skin_detection:No contours found in the mask\n",
      "INFO:webcam_skin_detection:Fingers detected: 0\n",
      "WARNING:webcam_skin_detection:No contours found in the mask\n",
      "INFO:webcam_skin_detection:Fingers detected: 0\n"
     ]
    },
    {
     "name": "stdout",
     "output_type": "stream",
     "text": [
      "middle point [220, 229]\n",
      "min,max [475, 511, 450, 511]\n",
      "middle point [220, 229]\n",
      "min,max [136, 347, 0, 511]\n",
      "face shall be removed\n",
      "middle point [220, 229]\n",
      "min,max [462, 474, 472, 511]\n",
      "middle point [220, 229]\n",
      "min,max [170, 380, 0, 511]\n",
      "face shall be removed\n"
     ]
    },
    {
     "name": "stderr",
     "output_type": "stream",
     "text": [
      "WARNING:webcam_skin_detection:No contours found in the mask\n",
      "INFO:webcam_skin_detection:Fingers detected: 0\n",
      "WARNING:webcam_skin_detection:No contours found in the mask\n",
      "INFO:webcam_skin_detection:Fingers detected: 0\n"
     ]
    },
    {
     "name": "stdout",
     "output_type": "stream",
     "text": [
      "middle point [220, 229]\n",
      "min,max [441, 488, 450, 511]\n",
      "middle point [220, 229]\n",
      "min,max [196, 409, 0, 509]\n",
      "face shall be removed\n",
      "middle point [220, 229]\n",
      "min,max [434, 472, 450, 511]\n",
      "middle point [220, 229]\n",
      "min,max [210, 424, 15, 502]\n",
      "face shall be removed\n"
     ]
    },
    {
     "name": "stderr",
     "output_type": "stream",
     "text": [
      "WARNING:webcam_skin_detection:No contours found in the mask\n",
      "INFO:webcam_skin_detection:Fingers detected: 0\n",
      "WARNING:webcam_skin_detection:No contours found in the mask\n",
      "INFO:webcam_skin_detection:Fingers detected: 0\n"
     ]
    },
    {
     "name": "stdout",
     "output_type": "stream",
     "text": [
      "middle point [220, 229]\n",
      "min,max [464, 478, 471, 511]\n",
      "middle point [220, 229]\n",
      "min,max [216, 428, 16, 497]\n",
      "face shall be removed\n",
      "middle point [367, 215]\n",
      "min,max [436, 452, 450, 511]\n",
      "middle point [367, 215]\n",
      "min,max [214, 410, 0, 489]\n",
      "face shall be removed\n"
     ]
    },
    {
     "name": "stderr",
     "output_type": "stream",
     "text": [
      "WARNING:webcam_skin_detection:No contours found in the mask\n",
      "INFO:webcam_skin_detection:Fingers detected: 0\n",
      "WARNING:webcam_skin_detection:No contours found in the mask\n",
      "INFO:webcam_skin_detection:Fingers detected: 0\n"
     ]
    },
    {
     "name": "stdout",
     "output_type": "stream",
     "text": [
      "middle point [308, 190]\n",
      "min,max [189, 368, 0, 478]\n",
      "face shall be removed\n",
      "middle point [242, 183]\n",
      "min,max [273, 298, 127, 164]\n",
      "middle point [242, 183]\n",
      "min,max [179, 346, 0, 464]\n",
      "face shall be removed\n"
     ]
    },
    {
     "name": "stderr",
     "output_type": "stream",
     "text": [
      "WARNING:webcam_skin_detection:No contours found in the mask\n",
      "INFO:webcam_skin_detection:Fingers detected: 0\n",
      "WARNING:webcam_skin_detection:No contours found in the mask\n",
      "INFO:webcam_skin_detection:Fingers detected: 0\n"
     ]
    },
    {
     "name": "stdout",
     "output_type": "stream",
     "text": [
      "middle point [194, 188]\n",
      "min,max [281, 284, 252, 271]\n",
      "middle point [194, 188]\n",
      "min,max [147, 325, 0, 452]\n",
      "face shall be removed\n",
      "middle point [149, 196]\n",
      "min,max [461, 480, 450, 509]\n",
      "middle point [149, 196]\n",
      "min,max [118, 310, 0, 443]\n",
      "face shall be removed\n"
     ]
    },
    {
     "name": "stderr",
     "output_type": "stream",
     "text": [
      "WARNING:webcam_skin_detection:No contours found in the mask\n",
      "INFO:webcam_skin_detection:Fingers detected: 0\n",
      "WARNING:webcam_skin_detection:No contours found in the mask\n",
      "INFO:webcam_skin_detection:Fingers detected: 0\n"
     ]
    },
    {
     "name": "stdout",
     "output_type": "stream",
     "text": [
      "middle point [149, 196]\n",
      "min,max [448, 470, 463, 511]\n",
      "middle point [149, 196]\n",
      "min,max [102, 305, 0, 440]\n",
      "face shall be removed\n",
      "middle point [149, 196]\n",
      "min,max [458, 479, 450, 511]\n",
      "middle point [149, 196]\n",
      "min,max [93, 302, 2, 437]\n",
      "face shall be removed\n"
     ]
    },
    {
     "name": "stderr",
     "output_type": "stream",
     "text": [
      "WARNING:webcam_skin_detection:No contours found in the mask\n",
      "INFO:webcam_skin_detection:Fingers detected: 0\n",
      "WARNING:webcam_skin_detection:No contours found in the mask\n",
      "INFO:webcam_skin_detection:Fingers detected: 0\n"
     ]
    },
    {
     "name": "stdout",
     "output_type": "stream",
     "text": [
      "middle point [149, 196]\n",
      "min,max [441, 511, 449, 511]\n",
      "middle point [149, 196]\n",
      "min,max [103, 299, 0, 433]\n",
      "face shall be removed\n",
      "middle point [205, 178]\n",
      "min,max [442, 477, 450, 510]\n",
      "middle point [205, 178]\n",
      "min,max [153, 310, 0, 426]\n",
      "face shall be removed\n"
     ]
    },
    {
     "name": "stderr",
     "output_type": "stream",
     "text": [
      "WARNING:webcam_skin_detection:No contours found in the mask\n",
      "INFO:webcam_skin_detection:Fingers detected: 0\n",
      "WARNING:webcam_skin_detection:No contours found in the mask\n",
      "INFO:webcam_skin_detection:Fingers detected: 0\n"
     ]
    },
    {
     "name": "stdout",
     "output_type": "stream",
     "text": [
      "middle point [277, 180]\n",
      "min,max [435, 496, 450, 511]\n",
      "middle point [277, 180]\n",
      "min,max [179, 334, 0, 426]\n",
      "face shall be removed\n",
      "middle point [319, 201]\n",
      "min,max [469, 504, 447, 508]\n",
      "middle point [319, 201]\n",
      "min,max [206, 374, 0, 431]\n",
      "face shall be removed\n"
     ]
    },
    {
     "name": "stderr",
     "output_type": "stream",
     "text": [
      "WARNING:webcam_skin_detection:No contours found in the mask\n",
      "INFO:webcam_skin_detection:Fingers detected: 0\n",
      "WARNING:webcam_skin_detection:No contours found in the mask\n",
      "INFO:webcam_skin_detection:Fingers detected: 0\n"
     ]
    },
    {
     "name": "stdout",
     "output_type": "stream",
     "text": [
      "middle point [340, 215]\n",
      "min,max [463, 496, 450, 511]\n",
      "middle point [340, 215]\n",
      "min,max [218, 397, 9, 440]\n",
      "face shall be removed\n",
      "middle point [360, 229]\n",
      "min,max [447, 480, 450, 511]\n",
      "middle point [360, 229]\n",
      "min,max [220, 410, 12, 447]\n",
      "face shall be removed\n"
     ]
    },
    {
     "name": "stderr",
     "output_type": "stream",
     "text": [
      "WARNING:webcam_skin_detection:No contours found in the mask\n",
      "INFO:webcam_skin_detection:Fingers detected: 0\n",
      "WARNING:webcam_skin_detection:No contours found in the mask\n",
      "INFO:webcam_skin_detection:Fingers detected: 0\n"
     ]
    },
    {
     "name": "stdout",
     "output_type": "stream",
     "text": [
      "middle point [360, 229]\n",
      "min,max [440, 455, 450, 511]\n",
      "middle point [360, 229]\n",
      "min,max [221, 416, 31, 454]\n",
      "face shall be removed\n",
      "middle point [360, 229]\n",
      "min,max [437, 495, 450, 511]\n",
      "middle point [360, 229]\n",
      "min,max [215, 401, 60, 456]\n",
      "face shall be removed\n"
     ]
    },
    {
     "name": "stderr",
     "output_type": "stream",
     "text": [
      "WARNING:webcam_skin_detection:No contours found in the mask\n",
      "INFO:webcam_skin_detection:Fingers detected: 0\n",
      "WARNING:webcam_skin_detection:No contours found in the mask\n",
      "INFO:webcam_skin_detection:Fingers detected: 0\n"
     ]
    },
    {
     "name": "stdout",
     "output_type": "stream",
     "text": [
      "middle point [280, 304]\n",
      "min,max [445, 500, 450, 511]\n",
      "middle point [280, 304]\n",
      "min,max [197, 360, 83, 448]\n",
      "face shall be removed\n",
      "middle point [253, 300]\n",
      "min,max [492, 511, 450, 509]\n",
      "middle point [253, 300]\n",
      "min,max [190, 352, 70, 444]\n",
      "face shall be removed\n"
     ]
    },
    {
     "name": "stderr",
     "output_type": "stream",
     "text": [
      "WARNING:webcam_skin_detection:No contours found in the mask\n",
      "INFO:webcam_skin_detection:Fingers detected: 0\n",
      "WARNING:webcam_skin_detection:No contours found in the mask\n",
      "INFO:webcam_skin_detection:Fingers detected: 0\n"
     ]
    },
    {
     "name": "stdout",
     "output_type": "stream",
     "text": [
      "middle point [253, 300]\n",
      "min,max [475, 488, 450, 509]\n",
      "middle point [253, 300]\n",
      "min,max [173, 334, 58, 443]\n",
      "face shall be removed\n",
      "middle point [253, 300]\n",
      "min,max [0, 8, 467, 511]\n",
      "middle point [253, 300]\n",
      "min,max [153, 319, 50, 431]\n",
      "face shall be removed\n"
     ]
    },
    {
     "name": "stderr",
     "output_type": "stream",
     "text": [
      "WARNING:webcam_skin_detection:No contours found in the mask\n",
      "INFO:webcam_skin_detection:Fingers detected: 0\n",
      "WARNING:webcam_skin_detection:No contours found in the mask\n",
      "INFO:webcam_skin_detection:Fingers detected: 0\n"
     ]
    },
    {
     "name": "stdout",
     "output_type": "stream",
     "text": [
      "middle point [253, 300]\n",
      "min,max [467, 494, 455, 511]\n",
      "middle point [253, 300]\n",
      "min,max [138, 313, 56, 421]\n",
      "face shall be removed\n",
      "middle point [253, 300]\n",
      "min,max [462, 486, 450, 508]\n",
      "middle point [253, 300]\n",
      "min,max [129, 307, 66, 412]\n",
      "face shall be removed\n"
     ]
    },
    {
     "name": "stderr",
     "output_type": "stream",
     "text": [
      "WARNING:webcam_skin_detection:No contours found in the mask\n",
      "INFO:webcam_skin_detection:Fingers detected: 0\n",
      "WARNING:webcam_skin_detection:No contours found in the mask\n",
      "INFO:webcam_skin_detection:Fingers detected: 0\n"
     ]
    },
    {
     "name": "stdout",
     "output_type": "stream",
     "text": [
      "middle point [253, 300]\n",
      "min,max [422, 440, 450, 508]\n",
      "middle point [253, 300]\n",
      "min,max [137, 304, 61, 404]\n",
      "face shall be removed\n",
      "middle point [253, 300]\n",
      "min,max [434, 480, 438, 511]\n",
      "middle point [253, 300]\n",
      "min,max [141, 306, 64, 401]\n",
      "face shall be removed\n"
     ]
    },
    {
     "name": "stderr",
     "output_type": "stream",
     "text": [
      "WARNING:webcam_skin_detection:No contours found in the mask\n",
      "INFO:webcam_skin_detection:Fingers detected: 0\n",
      "WARNING:webcam_skin_detection:No contours found in the mask\n",
      "INFO:webcam_skin_detection:Fingers detected: 0\n"
     ]
    },
    {
     "name": "stdout",
     "output_type": "stream",
     "text": [
      "middle point [253, 300]\n",
      "min,max [449, 511, 450, 511]\n",
      "middle point [253, 300]\n",
      "min,max [145, 307, 68, 399]\n",
      "face shall be removed\n",
      "middle point [253, 300]\n",
      "min,max [452, 496, 454, 511]\n",
      "middle point [253, 300]\n",
      "min,max [145, 308, 67, 399]\n",
      "face shall be removed\n"
     ]
    },
    {
     "name": "stderr",
     "output_type": "stream",
     "text": [
      "WARNING:webcam_skin_detection:No contours found in the mask\n",
      "INFO:webcam_skin_detection:Fingers detected: 0\n",
      "WARNING:webcam_skin_detection:No contours found in the mask\n",
      "INFO:webcam_skin_detection:Fingers detected: 0\n"
     ]
    },
    {
     "name": "stdout",
     "output_type": "stream",
     "text": [
      "middle point [253, 300]\n",
      "min,max [441, 486, 450, 511]\n",
      "middle point [253, 300]\n",
      "min,max [144, 307, 62, 400]\n",
      "face shall be removed\n",
      "middle point [253, 300]\n",
      "min,max [440, 488, 450, 511]\n",
      "middle point [253, 300]\n",
      "min,max [143, 307, 58, 402]\n",
      "face shall be removed\n"
     ]
    },
    {
     "name": "stderr",
     "output_type": "stream",
     "text": [
      "WARNING:webcam_skin_detection:No contours found in the mask\n",
      "INFO:webcam_skin_detection:Fingers detected: 0\n",
      "WARNING:webcam_skin_detection:No contours found in the mask\n",
      "INFO:webcam_skin_detection:Fingers detected: 0\n"
     ]
    },
    {
     "name": "stdout",
     "output_type": "stream",
     "text": [
      "middle point [253, 300]\n",
      "min,max [452, 472, 450, 511]\n",
      "middle point [253, 300]\n",
      "min,max [142, 307, 60, 403]\n",
      "face shall be removed\n",
      "middle point [253, 300]\n",
      "min,max [460, 496, 450, 511]\n",
      "middle point [253, 300]\n",
      "min,max [141, 307, 60, 404]\n",
      "face shall be removed\n"
     ]
    },
    {
     "name": "stderr",
     "output_type": "stream",
     "text": [
      "WARNING:webcam_skin_detection:No contours found in the mask\n",
      "INFO:webcam_skin_detection:Fingers detected: 0\n",
      "WARNING:webcam_skin_detection:No contours found in the mask\n",
      "INFO:webcam_skin_detection:Fingers detected: 0\n"
     ]
    },
    {
     "name": "stdout",
     "output_type": "stream",
     "text": [
      "middle point [253, 300]\n",
      "min,max [424, 485, 449, 511]\n",
      "middle point [253, 300]\n",
      "min,max [140, 306, 62, 405]\n",
      "face shall be removed\n",
      "middle point [253, 300]\n",
      "min,max [433, 473, 451, 511]\n",
      "middle point [253, 300]\n",
      "min,max [138, 305, 65, 406]\n",
      "face shall be removed\n"
     ]
    },
    {
     "name": "stderr",
     "output_type": "stream",
     "text": [
      "WARNING:webcam_skin_detection:No contours found in the mask\n",
      "INFO:webcam_skin_detection:Fingers detected: 0\n",
      "WARNING:webcam_skin_detection:No contours found in the mask\n",
      "INFO:webcam_skin_detection:Fingers detected: 0\n"
     ]
    },
    {
     "name": "stdout",
     "output_type": "stream",
     "text": [
      "middle point [253, 300]\n",
      "min,max [422, 471, 450, 511]\n",
      "middle point [253, 300]\n",
      "min,max [138, 305, 62, 407]\n",
      "face shall be removed\n",
      "middle point [253, 300]\n",
      "min,max [434, 511, 450, 511]\n",
      "middle point [253, 300]\n",
      "min,max [138, 303, 58, 409]\n",
      "face shall be removed\n"
     ]
    },
    {
     "name": "stderr",
     "output_type": "stream",
     "text": [
      "WARNING:webcam_skin_detection:No contours found in the mask\n",
      "INFO:webcam_skin_detection:Fingers detected: 0\n",
      "WARNING:webcam_skin_detection:No contours found in the mask\n",
      "INFO:webcam_skin_detection:Fingers detected: 0\n"
     ]
    },
    {
     "name": "stdout",
     "output_type": "stream",
     "text": [
      "middle point [253, 300]\n",
      "min,max [441, 511, 450, 511]\n",
      "middle point [253, 300]\n",
      "min,max [139, 302, 57, 412]\n",
      "face shall be removed\n",
      "middle point [253, 300]\n",
      "min,max [418, 463, 450, 511]\n",
      "middle point [253, 300]\n",
      "min,max [151, 300, 52, 413]\n",
      "face shall be removed\n"
     ]
    },
    {
     "name": "stderr",
     "output_type": "stream",
     "text": [
      "WARNING:webcam_skin_detection:No contours found in the mask\n",
      "INFO:webcam_skin_detection:Fingers detected: 0\n",
      "WARNING:webcam_skin_detection:No contours found in the mask\n",
      "INFO:webcam_skin_detection:Fingers detected: 0\n"
     ]
    },
    {
     "name": "stdout",
     "output_type": "stream",
     "text": [
      "middle point [253, 300]\n",
      "min,max [419, 482, 450, 511]\n",
      "middle point [253, 300]\n",
      "min,max [170, 310, 45, 412]\n",
      "face shall be removed\n",
      "middle point [253, 300]\n",
      "min,max [40, 57, 408, 511]\n",
      "middle point [253, 300]\n",
      "min,max [179, 316, 43, 411]\n",
      "face shall be removed\n"
     ]
    },
    {
     "name": "stderr",
     "output_type": "stream",
     "text": [
      "WARNING:webcam_skin_detection:No contours found in the mask\n",
      "INFO:webcam_skin_detection:Fingers detected: 0\n",
      "WARNING:webcam_skin_detection:No contours found in the mask\n",
      "INFO:webcam_skin_detection:Fingers detected: 0\n"
     ]
    },
    {
     "name": "stdout",
     "output_type": "stream",
     "text": [
      "middle point [253, 300]\n",
      "min,max [434, 511, 450, 511]\n",
      "middle point [253, 300]\n",
      "min,max [181, 318, 44, 411]\n",
      "face shall be removed\n",
      "middle point [253, 300]\n",
      "min,max [454, 495, 450, 511]\n",
      "middle point [253, 300]\n",
      "min,max [176, 317, 43, 413]\n",
      "face shall be removed\n"
     ]
    },
    {
     "name": "stderr",
     "output_type": "stream",
     "text": [
      "WARNING:webcam_skin_detection:No contours found in the mask\n",
      "INFO:webcam_skin_detection:Fingers detected: 0\n",
      "WARNING:webcam_skin_detection:No contours found in the mask\n",
      "INFO:webcam_skin_detection:Fingers detected: 0\n"
     ]
    },
    {
     "name": "stdout",
     "output_type": "stream",
     "text": [
      "middle point [253, 300]\n",
      "min,max [97, 239, 350, 511]\n",
      "middle point [253, 300]\n",
      "min,max [157, 307, 43, 410]\n",
      "face shall be removed\n",
      "middle point [253, 300]\n",
      "min,max [18, 47, 427, 511]\n",
      "middle point [253, 300]\n",
      "min,max [147, 298, 43, 469]\n",
      "face shall be removed\n"
     ]
    },
    {
     "name": "stderr",
     "output_type": "stream",
     "text": [
      "WARNING:webcam_skin_detection:No contours found in the mask\n",
      "INFO:webcam_skin_detection:Fingers detected: 0\n",
      "WARNING:webcam_skin_detection:No contours found in the mask\n",
      "INFO:webcam_skin_detection:Fingers detected: 0\n"
     ]
    },
    {
     "name": "stdout",
     "output_type": "stream",
     "text": [
      "middle point [253, 300]\n",
      "min,max [454, 470, 450, 509]\n",
      "middle point [253, 300]\n",
      "min,max [148, 306, 48, 456]\n",
      "face shall be removed\n",
      "middle point [253, 300]\n",
      "min,max [452, 487, 450, 511]\n",
      "middle point [253, 300]\n",
      "min,max [152, 307, 51, 457]\n",
      "face shall be removed\n"
     ]
    },
    {
     "name": "stderr",
     "output_type": "stream",
     "text": [
      "WARNING:webcam_skin_detection:No contours found in the mask\n",
      "INFO:webcam_skin_detection:Fingers detected: 0\n",
      "WARNING:webcam_skin_detection:No contours found in the mask\n",
      "INFO:webcam_skin_detection:Fingers detected: 0\n"
     ]
    },
    {
     "name": "stdout",
     "output_type": "stream",
     "text": [
      "middle point [253, 300]\n",
      "min,max [446, 486, 449, 509]\n",
      "middle point [253, 300]\n",
      "min,max [162, 323, 53, 473]\n",
      "face shall be removed\n",
      "middle point [253, 300]\n",
      "min,max [461, 500, 450, 511]\n",
      "middle point [253, 300]\n",
      "min,max [171, 334, 54, 474]\n",
      "face shall be removed\n"
     ]
    },
    {
     "name": "stderr",
     "output_type": "stream",
     "text": [
      "WARNING:webcam_skin_detection:No contours found in the mask\n",
      "INFO:webcam_skin_detection:Fingers detected: 0\n",
      "WARNING:webcam_skin_detection:No contours found in the mask\n",
      "INFO:webcam_skin_detection:Fingers detected: 0\n"
     ]
    },
    {
     "name": "stdout",
     "output_type": "stream",
     "text": [
      "middle point [253, 300]\n",
      "min,max [447, 464, 451, 511]\n",
      "middle point [253, 300]\n",
      "min,max [178, 340, 52, 474]\n",
      "face shall be removed\n",
      "middle point [253, 300]\n",
      "min,max [429, 441, 424, 481]\n",
      "middle point [253, 300]\n",
      "min,max [181, 343, 56, 469]\n",
      "face shall be removed\n"
     ]
    },
    {
     "name": "stderr",
     "output_type": "stream",
     "text": [
      "WARNING:webcam_skin_detection:No contours found in the mask\n",
      "INFO:webcam_skin_detection:Fingers detected: 0\n",
      "WARNING:webcam_skin_detection:No contours found in the mask\n",
      "INFO:webcam_skin_detection:Fingers detected: 0\n"
     ]
    },
    {
     "name": "stdout",
     "output_type": "stream",
     "text": [
      "middle point [253, 300]\n",
      "min,max [469, 493, 450, 511]\n",
      "middle point [253, 300]\n",
      "min,max [184, 344, 58, 471]\n",
      "face shall be removed\n",
      "middle point [253, 300]\n",
      "min,max [483, 495, 451, 509]\n",
      "middle point [253, 300]\n",
      "min,max [184, 345, 58, 467]\n",
      "face shall be removed\n"
     ]
    },
    {
     "name": "stderr",
     "output_type": "stream",
     "text": [
      "WARNING:webcam_skin_detection:No contours found in the mask\n",
      "INFO:webcam_skin_detection:Fingers detected: 0\n",
      "WARNING:webcam_skin_detection:No contours found in the mask\n",
      "INFO:webcam_skin_detection:Fingers detected: 0\n"
     ]
    },
    {
     "name": "stdout",
     "output_type": "stream",
     "text": [
      "middle point [253, 300]\n",
      "min,max [97, 109, 127, 184]\n",
      "middle point [253, 300]\n",
      "min,max [185, 346, 61, 467]\n",
      "face shall be removed\n",
      "middle point [253, 300]\n",
      "min,max [0, 9, 463, 511]\n",
      "middle point [253, 300]\n",
      "min,max [187, 345, 61, 469]\n",
      "face shall be removed\n"
     ]
    },
    {
     "name": "stderr",
     "output_type": "stream",
     "text": [
      "WARNING:webcam_skin_detection:No contours found in the mask\n",
      "INFO:webcam_skin_detection:Fingers detected: 0\n",
      "WARNING:webcam_skin_detection:No contours found in the mask\n",
      "INFO:webcam_skin_detection:Fingers detected: 0\n"
     ]
    },
    {
     "name": "stdout",
     "output_type": "stream",
     "text": [
      "middle point [253, 300]\n",
      "min,max [32, 48, 383, 444]\n",
      "middle point [253, 300]\n",
      "min,max [188, 346, 58, 469]\n",
      "face shall be removed\n",
      "middle point [253, 300]\n",
      "min,max [473, 500, 450, 508]\n",
      "middle point [253, 300]\n",
      "min,max [188, 347, 55, 465]\n",
      "face shall be removed\n"
     ]
    },
    {
     "name": "stderr",
     "output_type": "stream",
     "text": [
      "WARNING:webcam_skin_detection:No contours found in the mask\n",
      "INFO:webcam_skin_detection:Fingers detected: 0\n",
      "WARNING:webcam_skin_detection:No contours found in the mask\n",
      "INFO:webcam_skin_detection:Fingers detected: 0\n"
     ]
    },
    {
     "name": "stdout",
     "output_type": "stream",
     "text": [
      "middle point [253, 300]\n",
      "min,max [0, 16, 419, 499]\n",
      "middle point [253, 300]\n",
      "min,max [190, 349, 63, 465]\n",
      "face shall be removed\n",
      "middle point [253, 300]\n",
      "min,max [35, 51, 314, 378]\n",
      "middle point [253, 300]\n",
      "min,max [193, 351, 60, 465]\n",
      "face shall be removed\n"
     ]
    },
    {
     "name": "stderr",
     "output_type": "stream",
     "text": [
      "WARNING:webcam_skin_detection:No contours found in the mask\n",
      "INFO:webcam_skin_detection:Fingers detected: 0\n",
      "WARNING:webcam_skin_detection:No contours found in the mask\n",
      "INFO:webcam_skin_detection:Fingers detected: 0\n"
     ]
    },
    {
     "name": "stdout",
     "output_type": "stream",
     "text": [
      "middle point [253, 300]\n",
      "min,max [441, 487, 450, 511]\n",
      "middle point [253, 300]\n",
      "min,max [194, 353, 57, 466]\n",
      "face shall be removed\n",
      "middle point [253, 300]\n",
      "min,max [479, 498, 456, 511]\n",
      "middle point [253, 300]\n",
      "min,max [193, 353, 58, 464]\n",
      "face shall be removed\n"
     ]
    },
    {
     "name": "stderr",
     "output_type": "stream",
     "text": [
      "WARNING:webcam_skin_detection:No contours found in the mask\n",
      "INFO:webcam_skin_detection:Fingers detected: 0\n",
      "WARNING:webcam_skin_detection:No contours found in the mask\n",
      "INFO:webcam_skin_detection:Fingers detected: 0\n"
     ]
    },
    {
     "name": "stdout",
     "output_type": "stream",
     "text": [
      "middle point [253, 300]\n",
      "min,max [30, 43, 301, 360]\n",
      "middle point [253, 300]\n",
      "min,max [193, 352, 61, 461]\n",
      "face shall be removed\n",
      "middle point [253, 300]\n",
      "min,max [54, 75, 381, 441]\n",
      "middle point [253, 300]\n",
      "min,max [193, 352, 58, 464]\n",
      "face shall be removed\n"
     ]
    },
    {
     "name": "stderr",
     "output_type": "stream",
     "text": [
      "WARNING:webcam_skin_detection:No contours found in the mask\n",
      "INFO:webcam_skin_detection:Fingers detected: 0\n",
      "WARNING:webcam_skin_detection:No contours found in the mask\n",
      "INFO:webcam_skin_detection:Fingers detected: 0\n"
     ]
    },
    {
     "name": "stdout",
     "output_type": "stream",
     "text": [
      "middle point [253, 300]\n",
      "min,max [28, 41, 376, 434]\n",
      "middle point [253, 300]\n",
      "min,max [195, 354, 56, 461]\n",
      "face shall be removed\n",
      "middle point [253, 300]\n",
      "min,max [431, 453, 428, 508]\n",
      "middle point [253, 300]\n",
      "min,max [192, 345, 44, 459]\n",
      "face shall be removed\n"
     ]
    },
    {
     "name": "stderr",
     "output_type": "stream",
     "text": [
      "WARNING:webcam_skin_detection:No contours found in the mask\n",
      "INFO:webcam_skin_detection:Fingers detected: 0\n",
      "WARNING:webcam_skin_detection:No contours found in the mask\n",
      "INFO:webcam_skin_detection:Fingers detected: 0\n"
     ]
    },
    {
     "name": "stdout",
     "output_type": "stream",
     "text": [
      "middle point [253, 300]\n",
      "min,max [445, 482, 449, 511]\n",
      "middle point [253, 300]\n",
      "min,max [177, 323, 28, 472]\n",
      "face shall be removed\n",
      "middle point [253, 300]\n",
      "min,max [436, 481, 450, 511]\n",
      "middle point [253, 300]\n",
      "min,max [160, 304, 22, 502]\n",
      "face shall be removed\n"
     ]
    },
    {
     "name": "stderr",
     "output_type": "stream",
     "text": [
      "WARNING:webcam_skin_detection:No contours found in the mask\n",
      "INFO:webcam_skin_detection:Fingers detected: 0\n",
      "INFO:webcam_skin_detection:Fingers detected: 4\n"
     ]
    },
    {
     "name": "stdout",
     "output_type": "stream",
     "text": [
      "middle point [253, 300]\n",
      "min,max [461, 495, 451, 511]\n",
      "middle point [253, 300]\n",
      "min,max [118, 278, 26, 511]\n",
      "face shall be removed\n",
      "middle point [253, 300]\n",
      "min,max [0, 242, 22, 511]\n"
     ]
    },
    {
     "name": "stderr",
     "output_type": "stream",
     "text": [
      "INFO:webcam_skin_detection:Fingers detected: 1\n",
      "INFO:webcam_skin_detection:Fingers detected: 1\n"
     ]
    },
    {
     "name": "stdout",
     "output_type": "stream",
     "text": [
      "middle point [253, 300]\n",
      "min,max [127, 171, 311, 417]\n",
      "middle point [253, 300]\n",
      "min,max [365, 432, 448, 511]\n",
      "[ 0  1  2  3  4  5  6  7  8  9 10 11 12]\n",
      "middle point [253, 300]\n",
      "min,max [90, 102, 372, 429]\n",
      "middle point [253, 300]\n",
      "min,max [351, 503, 447, 511]\n",
      "[ 0  1  2  3  4  5  6  7  8  9 10 11 12 13]\n"
     ]
    },
    {
     "name": "stderr",
     "output_type": "stream",
     "text": [
      "INFO:webcam_skin_detection:Fingers detected: 1\n",
      "INFO:webcam_skin_detection:Fingers detected: 1\n"
     ]
    },
    {
     "name": "stdout",
     "output_type": "stream",
     "text": [
      "middle point [253, 300]\n",
      "min,max [39, 78, 118, 203]\n",
      "middle point [253, 300]\n",
      "min,max [356, 506, 432, 511]\n",
      "[ 0  1  2  3  4  5  6  7  8  9 10 11 12 13]\n",
      "middle point [253, 300]\n",
      "min,max [11, 47, 144, 226]\n",
      "middle point [253, 300]\n",
      "min,max [344, 498, 447, 511]\n",
      "[ 0  1  2  3  4  5  6  7  8  9 10 11 12 13]\n"
     ]
    },
    {
     "name": "stderr",
     "output_type": "stream",
     "text": [
      "INFO:webcam_skin_detection:Fingers detected: 1\n",
      "INFO:webcam_skin_detection:Fingers detected: 1\n"
     ]
    },
    {
     "name": "stdout",
     "output_type": "stream",
     "text": [
      "middle point [253, 300]\n",
      "min,max [12, 35, 154, 218]\n",
      "middle point [253, 300]\n",
      "min,max [346, 511, 386, 511]\n",
      "[ 0  1  2  3  4  5  6  7  8  9 10 11 12 13]\n",
      "middle point [253, 300]\n",
      "min,max [482, 511, 448, 511]\n",
      "middle point [253, 300]\n",
      "min,max [350, 474, 448, 511]\n",
      "[ 0  1  2  3  4  5  6  7  8  9 10 11 12 13]\n"
     ]
    },
    {
     "name": "stderr",
     "output_type": "stream",
     "text": [
      "INFO:webcam_skin_detection:Fingers detected: 1\n",
      "INFO:webcam_skin_detection:Fingers detected: 1\n"
     ]
    },
    {
     "name": "stdout",
     "output_type": "stream",
     "text": [
      "middle point [253, 300]\n",
      "min,max [4, 46, 391, 508]\n",
      "middle point [253, 300]\n",
      "min,max [385, 511, 405, 511]\n",
      "[ 0  1  2  3  4  5  6  7  8  9 10 11 12 13]\n",
      "middle point [253, 300]\n",
      "min,max [399, 491, 440, 511]\n",
      "middle point [253, 300]\n",
      "min,max [0, 82, 129, 466]\n",
      "[ 0  1  2  3  4  5  6  7  8  9 10 11 12 13]\n"
     ]
    },
    {
     "name": "stderr",
     "output_type": "stream",
     "text": [
      "INFO:webcam_skin_detection:Fingers detected: 2\n",
      "WARNING:webcam_skin_detection:No contours found in the mask\n",
      "INFO:webcam_skin_detection:Fingers detected: 0\n"
     ]
    },
    {
     "name": "stdout",
     "output_type": "stream",
     "text": [
      "middle point [253, 300]\n",
      "min,max [348, 419, 447, 511]\n",
      "middle point [253, 300]\n",
      "min,max [0, 116, 52, 433]\n",
      "middle point [253, 300]\n",
      "min,max [489, 511, 450, 511]\n",
      "middle point [253, 300]\n",
      "min,max [47, 262, 44, 511]\n",
      "face shall be removed\n"
     ]
    },
    {
     "name": "stderr",
     "output_type": "stream",
     "text": [
      "INFO:webcam_skin_detection:Fingers detected: 2\n",
      "WARNING:webcam_skin_detection:No contours found in the mask\n",
      "INFO:webcam_skin_detection:Fingers detected: 0\n"
     ]
    },
    {
     "name": "stdout",
     "output_type": "stream",
     "text": [
      "middle point [253, 300]\n",
      "min,max [127, 176, 458, 511]\n",
      "middle point [253, 300]\n",
      "min,max [94, 212, 37, 394]\n",
      "middle point [253, 300]\n",
      "min,max [405, 502, 413, 511]\n",
      "middle point [253, 300]\n",
      "min,max [141, 265, 0, 391]\n",
      "face shall be removed\n"
     ]
    },
    {
     "name": "stderr",
     "output_type": "stream",
     "text": [
      "WARNING:webcam_skin_detection:No contours found in the mask\n",
      "INFO:webcam_skin_detection:Fingers detected: 0\n",
      "WARNING:webcam_skin_detection:No contours found in the mask\n",
      "INFO:webcam_skin_detection:Fingers detected: 0\n"
     ]
    },
    {
     "name": "stdout",
     "output_type": "stream",
     "text": [
      "middle point [253, 300]\n",
      "min,max [386, 511, 382, 511]\n",
      "middle point [253, 300]\n",
      "min,max [171, 292, 0, 392]\n",
      "face shall be removed\n",
      "middle point [253, 300]\n",
      "min,max [360, 511, 292, 511]\n",
      "middle point [253, 300]\n",
      "min,max [170, 329, 5, 399]\n",
      "face shall be removed\n"
     ]
    },
    {
     "name": "stderr",
     "output_type": "stream",
     "text": [
      "WARNING:webcam_skin_detection:No contours found in the mask\n",
      "INFO:webcam_skin_detection:Fingers detected: 0\n",
      "WARNING:webcam_skin_detection:No contours found in the mask\n",
      "INFO:webcam_skin_detection:Fingers detected: 0\n"
     ]
    },
    {
     "name": "stdout",
     "output_type": "stream",
     "text": [
      "middle point [253, 300]\n",
      "min,max [323, 506, 268, 511]\n",
      "middle point [253, 300]\n",
      "min,max [193, 332, 0, 405]\n",
      "face shall be removed\n",
      "middle point [253, 300]\n",
      "min,max [0, 40, 20, 307]\n",
      "middle point [253, 300]\n",
      "min,max [144, 511, 0, 511]\n",
      "face shall be removed\n"
     ]
    },
    {
     "name": "stderr",
     "output_type": "stream",
     "text": [
      "WARNING:webcam_skin_detection:No contours found in the mask\n",
      "INFO:webcam_skin_detection:Fingers detected: 0\n",
      "WARNING:webcam_skin_detection:No contours found in the mask\n",
      "INFO:webcam_skin_detection:Fingers detected: 0\n"
     ]
    },
    {
     "name": "stdout",
     "output_type": "stream",
     "text": [
      "middle point [253, 300]\n",
      "min,max [399, 511, 248, 511]\n",
      "middle point [253, 300]\n",
      "min,max [141, 331, 0, 417]\n",
      "face shall be removed\n",
      "middle point [253, 300]\n",
      "min,max [394, 511, 306, 511]\n",
      "middle point [253, 300]\n",
      "min,max [144, 369, 0, 462]\n",
      "face shall be removed\n"
     ]
    },
    {
     "name": "stderr",
     "output_type": "stream",
     "text": [
      "WARNING:webcam_skin_detection:No contours found in the mask\n",
      "INFO:webcam_skin_detection:Fingers detected: 0\n",
      "WARNING:webcam_skin_detection:No contours found in the mask\n",
      "INFO:webcam_skin_detection:Fingers detected: 0\n"
     ]
    },
    {
     "name": "stdout",
     "output_type": "stream",
     "text": [
      "middle point [253, 300]\n",
      "min,max [388, 511, 128, 511]\n",
      "middle point [253, 300]\n",
      "min,max [190, 333, 0, 444]\n",
      "face shall be removed\n",
      "middle point [253, 300]\n",
      "min,max [442, 511, 386, 511]\n",
      "middle point [253, 300]\n",
      "min,max [114, 327, 0, 419]\n",
      "face shall be removed\n"
     ]
    },
    {
     "name": "stderr",
     "output_type": "stream",
     "text": [
      "WARNING:webcam_skin_detection:No contours found in the mask\n",
      "INFO:webcam_skin_detection:Fingers detected: 0\n",
      "WARNING:webcam_skin_detection:No contours found in the mask\n",
      "INFO:webcam_skin_detection:Fingers detected: 0\n"
     ]
    },
    {
     "name": "stdout",
     "output_type": "stream",
     "text": [
      "middle point [253, 300]\n",
      "min,max [405, 511, 367, 511]\n",
      "middle point [253, 300]\n",
      "min,max [188, 322, 43, 420]\n",
      "face shall be removed\n",
      "middle point [253, 300]\n",
      "min,max [410, 511, 424, 511]\n",
      "middle point [253, 300]\n",
      "min,max [187, 320, 42, 421]\n",
      "face shall be removed\n"
     ]
    },
    {
     "name": "stderr",
     "output_type": "stream",
     "text": [
      "WARNING:webcam_skin_detection:No contours found in the mask\n",
      "INFO:webcam_skin_detection:Fingers detected: 0\n",
      "WARNING:webcam_skin_detection:No contours found in the mask\n",
      "INFO:webcam_skin_detection:Fingers detected: 0\n"
     ]
    },
    {
     "name": "stdout",
     "output_type": "stream",
     "text": [
      "middle point [253, 300]\n",
      "min,max [431, 488, 449, 511]\n",
      "middle point [253, 300]\n",
      "min,max [187, 318, 52, 424]\n",
      "face shall be removed\n",
      "middle point [253, 300]\n",
      "min,max [436, 499, 448, 511]\n",
      "middle point [253, 300]\n",
      "min,max [184, 315, 43, 419]\n",
      "face shall be removed\n"
     ]
    },
    {
     "name": "stderr",
     "output_type": "stream",
     "text": [
      "WARNING:webcam_skin_detection:No contours found in the mask\n",
      "INFO:webcam_skin_detection:Fingers detected: 0\n",
      "WARNING:webcam_skin_detection:No contours found in the mask\n",
      "INFO:webcam_skin_detection:Fingers detected: 0\n"
     ]
    },
    {
     "name": "stdout",
     "output_type": "stream",
     "text": [
      "middle point [253, 300]\n",
      "min,max [427, 506, 450, 511]\n",
      "middle point [253, 300]\n",
      "min,max [185, 332, 96, 443]\n",
      "face shall be removed\n",
      "middle point [253, 300]\n",
      "min,max [461, 511, 450, 511]\n",
      "middle point [253, 300]\n",
      "min,max [186, 322, 77, 445]\n",
      "face shall be removed\n"
     ]
    },
    {
     "name": "stderr",
     "output_type": "stream",
     "text": [
      "WARNING:webcam_skin_detection:No contours found in the mask\n",
      "INFO:webcam_skin_detection:Fingers detected: 0\n",
      "WARNING:webcam_skin_detection:No contours found in the mask\n",
      "INFO:webcam_skin_detection:Fingers detected: 0\n"
     ]
    },
    {
     "name": "stdout",
     "output_type": "stream",
     "text": [
      "middle point [253, 300]\n",
      "min,max [435, 511, 450, 511]\n",
      "middle point [253, 300]\n",
      "min,max [190, 326, 49, 434]\n",
      "face shall be removed\n",
      "middle point [285, 180]\n",
      "min,max [421, 451, 430, 511]\n",
      "middle point [285, 180]\n",
      "min,max [200, 333, 18, 419]\n",
      "face shall be removed\n"
     ]
    },
    {
     "name": "stderr",
     "output_type": "stream",
     "text": [
      "WARNING:webcam_skin_detection:No contours found in the mask\n",
      "INFO:webcam_skin_detection:Fingers detected: 0\n",
      "WARNING:webcam_skin_detection:No contours found in the mask\n",
      "INFO:webcam_skin_detection:Fingers detected: 0\n"
     ]
    },
    {
     "name": "stdout",
     "output_type": "stream",
     "text": [
      "middle point [305, 169]\n",
      "min,max [453, 497, 448, 511]\n",
      "middle point [305, 169]\n",
      "min,max [220, 361, 7, 410]\n",
      "face shall be removed\n",
      "middle point [331, 167]\n",
      "min,max [449, 468, 450, 511]\n",
      "middle point [331, 167]\n",
      "min,max [244, 382, 6, 410]\n",
      "face shall be removed\n"
     ]
    },
    {
     "name": "stderr",
     "output_type": "stream",
     "text": [
      "WARNING:webcam_skin_detection:No contours found in the mask\n",
      "INFO:webcam_skin_detection:Fingers detected: 0\n",
      "WARNING:webcam_skin_detection:No contours found in the mask\n",
      "INFO:webcam_skin_detection:Fingers detected: 0\n"
     ]
    },
    {
     "name": "stdout",
     "output_type": "stream",
     "text": [
      "middle point [352, 172]\n",
      "min,max [453, 466, 388, 503]\n",
      "middle point [352, 172]\n",
      "min,max [262, 402, 9, 412]\n",
      "face shall be removed\n",
      "middle point [376, 179]\n",
      "min,max [50, 83, 409, 508]\n",
      "middle point [376, 179]\n",
      "min,max [283, 429, 9, 418]\n",
      "face shall be removed\n"
     ]
    },
    {
     "name": "stderr",
     "output_type": "stream",
     "text": [
      "WARNING:webcam_skin_detection:No contours found in the mask\n",
      "INFO:webcam_skin_detection:Fingers detected: 0\n",
      "WARNING:webcam_skin_detection:No contours found in the mask\n",
      "INFO:webcam_skin_detection:Fingers detected: 0\n"
     ]
    },
    {
     "name": "stdout",
     "output_type": "stream",
     "text": [
      "middle point [381, 191]\n",
      "min,max [482, 496, 450, 508]\n",
      "middle point [381, 191]\n",
      "min,max [292, 439, 22, 426]\n",
      "face shall be removed\n",
      "middle point [370, 207]\n",
      "min,max [474, 496, 451, 511]\n",
      "middle point [370, 207]\n",
      "min,max [279, 421, 39, 429]\n",
      "face shall be removed\n"
     ]
    },
    {
     "name": "stderr",
     "output_type": "stream",
     "text": [
      "WARNING:webcam_skin_detection:No contours found in the mask\n",
      "INFO:webcam_skin_detection:Fingers detected: 0\n",
      "WARNING:webcam_skin_detection:No contours found in the mask\n",
      "INFO:webcam_skin_detection:Fingers detected: 0\n"
     ]
    },
    {
     "name": "stdout",
     "output_type": "stream",
     "text": [
      "middle point [339, 200]\n",
      "min,max [443, 490, 404, 511]\n",
      "middle point [339, 200]\n",
      "min,max [255, 390, 34, 415]\n",
      "face shall be removed\n",
      "middle point [306, 187]\n",
      "min,max [421, 490, 414, 511]\n",
      "middle point [306, 187]\n",
      "min,max [229, 356, 34, 397]\n",
      "face shall be removed\n"
     ]
    },
    {
     "name": "stderr",
     "output_type": "stream",
     "text": [
      "WARNING:webcam_skin_detection:No contours found in the mask\n",
      "INFO:webcam_skin_detection:Fingers detected: 0\n",
      "WARNING:webcam_skin_detection:No contours found in the mask\n",
      "INFO:webcam_skin_detection:Fingers detected: 0\n"
     ]
    },
    {
     "name": "stdout",
     "output_type": "stream",
     "text": [
      "middle point [281, 189]\n",
      "min,max [438, 475, 452, 511]\n",
      "middle point [281, 189]\n",
      "min,max [210, 329, 46, 375]\n",
      "face shall be removed\n",
      "middle point [270, 195]\n",
      "min,max [393, 511, 445, 511]\n",
      "middle point [270, 195]\n",
      "min,max [200, 311, 56, 356]\n",
      "face shall be removed\n"
     ]
    },
    {
     "name": "stderr",
     "output_type": "stream",
     "text": [
      "WARNING:webcam_skin_detection:No contours found in the mask\n",
      "INFO:webcam_skin_detection:Fingers detected: 0\n",
      "WARNING:webcam_skin_detection:No contours found in the mask\n",
      "INFO:webcam_skin_detection:Fingers detected: 0\n"
     ]
    },
    {
     "name": "stdout",
     "output_type": "stream",
     "text": [
      "middle point [259, 191]\n",
      "min,max [442, 511, 447, 511]\n",
      "middle point [259, 191]\n",
      "min,max [200, 305, 62, 366]\n",
      "face shall be removed\n",
      "middle point [255, 191]\n",
      "min,max [382, 511, 392, 511]\n",
      "middle point [255, 191]\n",
      "min,max [200, 301, 72, 362]\n",
      "face shall be removed\n"
     ]
    },
    {
     "name": "stderr",
     "output_type": "stream",
     "text": [
      "WARNING:webcam_skin_detection:No contours found in the mask\n",
      "INFO:webcam_skin_detection:Fingers detected: 0\n",
      "WARNING:webcam_skin_detection:No contours found in the mask\n",
      "INFO:webcam_skin_detection:Fingers detected: 0\n"
     ]
    },
    {
     "name": "stdout",
     "output_type": "stream",
     "text": [
      "middle point [257, 179]\n",
      "min,max [418, 511, 449, 511]\n",
      "middle point [257, 179]\n",
      "min,max [200, 301, 58, 359]\n",
      "face shall be removed\n",
      "middle point [257, 181]\n",
      "min,max [183, 234, 418, 511]\n",
      "middle point [257, 181]\n",
      "min,max [197, 303, 58, 369]\n",
      "face shall be removed\n"
     ]
    },
    {
     "name": "stderr",
     "output_type": "stream",
     "text": [
      "WARNING:webcam_skin_detection:No contours found in the mask\n",
      "INFO:webcam_skin_detection:Fingers detected: 0\n",
      "WARNING:webcam_skin_detection:No contours found in the mask\n",
      "INFO:webcam_skin_detection:Fingers detected: 0\n"
     ]
    },
    {
     "name": "stdout",
     "output_type": "stream",
     "text": [
      "middle point [264, 190]\n",
      "min,max [13, 80, 314, 511]\n",
      "middle point [264, 190]\n",
      "min,max [197, 303, 36, 371]\n",
      "face shall be removed\n",
      "middle point [270, 203]\n",
      "min,max [39, 82, 382, 511]\n",
      "middle point [270, 203]\n",
      "min,max [200, 309, 67, 375]\n",
      "face shall be removed\n"
     ]
    },
    {
     "name": "stderr",
     "output_type": "stream",
     "text": [
      "WARNING:webcam_skin_detection:No contours found in the mask\n",
      "INFO:webcam_skin_detection:Fingers detected: 0\n",
      "WARNING:webcam_skin_detection:No contours found in the mask\n",
      "INFO:webcam_skin_detection:Fingers detected: 0\n"
     ]
    },
    {
     "name": "stdout",
     "output_type": "stream",
     "text": [
      "middle point [277, 204]\n",
      "min,max [37, 94, 380, 491]\n",
      "middle point [277, 204]\n",
      "min,max [204, 317, 68, 377]\n",
      "face shall be removed\n",
      "middle point [270, 205]\n",
      "min,max [4, 67, 374, 511]\n",
      "middle point [270, 205]\n",
      "min,max [201, 315, 67, 377]\n",
      "face shall be removed\n"
     ]
    },
    {
     "name": "stderr",
     "output_type": "stream",
     "text": [
      "WARNING:webcam_skin_detection:No contours found in the mask\n",
      "INFO:webcam_skin_detection:Fingers detected: 0\n",
      "WARNING:webcam_skin_detection:No contours found in the mask\n",
      "INFO:webcam_skin_detection:Fingers detected: 0\n"
     ]
    },
    {
     "name": "stdout",
     "output_type": "stream",
     "text": [
      "middle point [257, 209]\n",
      "min,max [0, 73, 402, 511]\n",
      "middle point [257, 209]\n",
      "min,max [191, 306, 40, 383]\n",
      "face shall be removed\n",
      "middle point [230, 206]\n",
      "min,max [45, 97, 443, 511]\n",
      "middle point [230, 206]\n",
      "min,max [163, 290, 59, 393]\n",
      "face shall be removed\n"
     ]
    },
    {
     "name": "stderr",
     "output_type": "stream",
     "text": [
      "WARNING:webcam_skin_detection:No contours found in the mask\n",
      "INFO:webcam_skin_detection:Fingers detected: 0\n",
      "WARNING:webcam_skin_detection:No contours found in the mask\n",
      "INFO:webcam_skin_detection:Fingers detected: 0\n"
     ]
    },
    {
     "name": "stdout",
     "output_type": "stream",
     "text": [
      "middle point [210, 202]\n",
      "min,max [54, 109, 381, 511]\n",
      "middle point [210, 202]\n",
      "min,max [140, 276, 60, 400]\n",
      "face shall be removed\n",
      "middle point [194, 209]\n",
      "min,max [33, 102, 380, 511]\n",
      "middle point [194, 209]\n",
      "min,max [140, 265, 34, 415]\n",
      "face shall be removed\n"
     ]
    },
    {
     "name": "stderr",
     "output_type": "stream",
     "text": [
      "WARNING:webcam_skin_detection:No contours found in the mask\n",
      "INFO:webcam_skin_detection:Fingers detected: 0\n",
      "WARNING:webcam_skin_detection:No contours found in the mask\n",
      "INFO:webcam_skin_detection:Fingers detected: 0\n"
     ]
    },
    {
     "name": "stdout",
     "output_type": "stream",
     "text": [
      "middle point [186, 211]\n",
      "min,max [466, 496, 140, 288]\n",
      "middle point [186, 211]\n",
      "min,max [132, 259, 60, 423]\n",
      "face shall be removed\n",
      "middle point [182, 210]\n",
      "min,max [456, 511, 151, 311]\n",
      "middle point [182, 210]\n",
      "min,max [126, 256, 56, 426]\n",
      "face shall be removed\n"
     ]
    },
    {
     "name": "stderr",
     "output_type": "stream",
     "text": [
      "WARNING:webcam_skin_detection:No contours found in the mask\n",
      "INFO:webcam_skin_detection:Fingers detected: 0\n",
      "WARNING:webcam_skin_detection:No contours found in the mask\n",
      "INFO:webcam_skin_detection:Fingers detected: 0\n"
     ]
    },
    {
     "name": "stdout",
     "output_type": "stream",
     "text": [
      "middle point [193, 208]\n",
      "min,max [0, 75, 357, 511]\n",
      "middle point [193, 208]\n",
      "min,max [130, 262, 27, 426]\n",
      "face shall be removed\n",
      "middle point [202, 210]\n",
      "min,max [446, 511, 87, 287]\n",
      "middle point [202, 210]\n",
      "min,max [136, 268, 52, 424]\n",
      "face shall be removed\n"
     ]
    },
    {
     "name": "stderr",
     "output_type": "stream",
     "text": [
      "WARNING:webcam_skin_detection:No contours found in the mask\n",
      "INFO:webcam_skin_detection:Fingers detected: 0\n",
      "WARNING:webcam_skin_detection:No contours found in the mask\n",
      "INFO:webcam_skin_detection:Fingers detected: 0\n"
     ]
    },
    {
     "name": "stdout",
     "output_type": "stream",
     "text": [
      "middle point [191, 204]\n",
      "min,max [480, 511, 30, 293]\n",
      "middle point [191, 204]\n",
      "min,max [121, 257, 44, 418]\n",
      "face shall be removed\n",
      "middle point [201, 193]\n",
      "min,max [457, 511, 18, 358]\n",
      "middle point [201, 193]\n",
      "min,max [138, 265, 38, 407]\n",
      "face shall be removed\n"
     ]
    },
    {
     "name": "stderr",
     "output_type": "stream",
     "text": [
      "INFO:webcam_skin_detection:Fingers detected: 1\n"
     ]
    },
    {
     "name": "stdout",
     "output_type": "stream",
     "text": [
      "middle point [209, 186]\n",
      "min,max [427, 511, 50, 388]\n",
      "middle point [209, 186]\n",
      "min,max [147, 271, 38, 399]\n",
      "face shall be removed\n",
      "[ 0  1  2  3  4  5  6  7  8  9 10 11 12 13]\n",
      "middle point [223, 180]\n",
      "min,max [414, 511, 56, 411]\n",
      "middle point [223, 180]\n",
      "min,max [158, 282, 32, 393]\n",
      "face shall be removed\n"
     ]
    },
    {
     "name": "stderr",
     "output_type": "stream",
     "text": [
      "INFO:webcam_skin_detection:Fingers detected: 1\n",
      "INFO:webcam_skin_detection:Fingers detected: 1\n"
     ]
    },
    {
     "name": "stdout",
     "output_type": "stream",
     "text": [
      "[ 0  1  2  3  4  5  6  7  8  9 10 11 12 13]\n",
      "middle point [221, 194]\n",
      "min,max [401, 511, 69, 427]\n",
      "middle point [221, 194]\n",
      "min,max [114, 348, 41, 511]\n",
      "face shall be removed\n",
      "[ 0  1  2  3  4  5  6  7  8  9 10 11 12 13]\n"
     ]
    },
    {
     "name": "stderr",
     "output_type": "stream",
     "text": [
      "INFO:webcam_skin_detection:Fingers detected: 1\n"
     ]
    },
    {
     "name": "stdout",
     "output_type": "stream",
     "text": [
      "middle point [207, 183]\n",
      "min,max [401, 511, 78, 511]\n",
      "middle point [207, 183]\n",
      "min,max [137, 267, 29, 403]\n",
      "face shall be removed\n",
      "[ 0  1  2  3  4  5  6  7  8  9 10 11 12 13]\n",
      "middle point [201, 175]\n",
      "min,max [394, 511, 81, 440]\n",
      "middle point [201, 175]\n",
      "min,max [132, 263, 28, 406]\n",
      "face shall be removed\n"
     ]
    },
    {
     "name": "stderr",
     "output_type": "stream",
     "text": [
      "INFO:webcam_skin_detection:Fingers detected: 1\n",
      "INFO:webcam_skin_detection:Fingers detected: 1\n"
     ]
    },
    {
     "name": "stdout",
     "output_type": "stream",
     "text": [
      "[ 0  1  2  3  4  5  6  7  8  9 10 11 12 13]\n",
      "middle point [210, 174]\n",
      "min,max [143, 267, 31, 393]\n",
      "face shall be removed\n",
      "middle point [210, 174]\n",
      "min,max [380, 511, 98, 467]\n",
      "[ 0  1  2  3  4  5  6  7  8  9 10 11 12 13]\n"
     ]
    },
    {
     "name": "stderr",
     "output_type": "stream",
     "text": [
      "INFO:webcam_skin_detection:Fingers detected: 1\n"
     ]
    },
    {
     "name": "stdout",
     "output_type": "stream",
     "text": [
      "middle point [225, 182]\n",
      "min,max [155, 271, 46, 390]\n",
      "face shall be removed\n",
      "middle point [225, 182]\n",
      "min,max [370, 511, 103, 476]\n",
      "[ 0  1  2  3  4  5  6  7  8  9 10 11 12 13]\n",
      "middle point [227, 189]\n",
      "min,max [156, 272, 13, 390]\n",
      "face shall be removed\n",
      "middle point [227, 189]\n",
      "min,max [370, 511, 108, 486]\n"
     ]
    },
    {
     "name": "stderr",
     "output_type": "stream",
     "text": [
      "INFO:webcam_skin_detection:Fingers detected: 1\n",
      "INFO:webcam_skin_detection:Fingers detected: 1\n"
     ]
    },
    {
     "name": "stdout",
     "output_type": "stream",
     "text": [
      "[ 0  1  2  3  4  5  6  7  8  9 10 11 12 13]\n",
      "middle point [222, 190]\n",
      "min,max [152, 273, 50, 392]\n",
      "face shall be removed\n",
      "middle point [222, 190]\n",
      "min,max [369, 511, 109, 493]\n",
      "[ 0  1  2  3  4  5  6  7  8  9 10 11 12 13]\n"
     ]
    },
    {
     "name": "stderr",
     "output_type": "stream",
     "text": [
      "INFO:webcam_skin_detection:Fingers detected: 1\n"
     ]
    },
    {
     "name": "stdout",
     "output_type": "stream",
     "text": [
      "middle point [216, 192]\n",
      "min,max [146, 259, 52, 396]\n",
      "face shall be removed\n",
      "middle point [216, 192]\n",
      "min,max [379, 511, 97, 485]\n",
      "[ 0  1  2  3  4  5  6  7  8  9 10 11 12 13]\n",
      "middle point [214, 193]\n",
      "min,max [144, 260, 55, 395]\n",
      "face shall be removed\n",
      "middle point [214, 193]\n",
      "min,max [400, 511, 77, 473]\n"
     ]
    },
    {
     "name": "stderr",
     "output_type": "stream",
     "text": [
      "INFO:webcam_skin_detection:Fingers detected: 1\n",
      "INFO:webcam_skin_detection:Fingers detected: 1\n"
     ]
    },
    {
     "name": "stdout",
     "output_type": "stream",
     "text": [
      "[ 0  1  2  3  4  5  6  7  8  9 10 11 12 13 14]\n",
      "middle point [223, 185]\n",
      "min,max [144, 263, 46, 391]\n",
      "face shall be removed\n",
      "middle point [223, 185]\n",
      "min,max [348, 511, 57, 511]\n",
      "[ 0  1  2  3  4  5  6  7  8  9 10 11 12 13 14]\n"
     ]
    },
    {
     "name": "stderr",
     "output_type": "stream",
     "text": [
      "INFO:webcam_skin_detection:Fingers detected: 2\n",
      "WARNING:webcam_skin_detection:No contours found in the mask\n",
      "INFO:webcam_skin_detection:Fingers detected: 0\n"
     ]
    },
    {
     "name": "stdout",
     "output_type": "stream",
     "text": [
      "middle point [230, 189]\n",
      "min,max [152, 270, 50, 388]\n",
      "face shall be removed\n",
      "middle point [230, 189]\n",
      "min,max [308, 511, 52, 511]\n",
      "middle point [238, 191]\n",
      "min,max [429, 511, 53, 433]\n",
      "middle point [238, 191]\n",
      "min,max [162, 318, 58, 511]\n",
      "face shall be removed\n"
     ]
    },
    {
     "name": "stderr",
     "output_type": "stream",
     "text": [
      "INFO:webcam_skin_detection:Fingers detected: 1\n",
      "INFO:webcam_skin_detection:Fingers detected: 2\n"
     ]
    },
    {
     "name": "stdout",
     "output_type": "stream",
     "text": [
      "middle point [240, 191]\n",
      "min,max [428, 511, 50, 447]\n",
      "middle point [240, 191]\n",
      "min,max [165, 277, 60, 382]\n",
      "face shall be removed\n",
      "[ 0  1  2  3  4  5  6  7  8  9 10 11 12 13]\n",
      "middle point [239, 193]\n",
      "min,max [427, 511, 55, 448]\n",
      "middle point [239, 193]\n",
      "min,max [166, 277, 60, 384]\n",
      "face shall be removed\n"
     ]
    },
    {
     "name": "stderr",
     "output_type": "stream",
     "text": [
      "INFO:webcam_skin_detection:Fingers detected: 2\n",
      "INFO:webcam_skin_detection:Fingers detected: 1\n"
     ]
    },
    {
     "name": "stdout",
     "output_type": "stream",
     "text": [
      "middle point [236, 193]\n",
      "min,max [426, 511, 56, 444]\n",
      "middle point [236, 193]\n",
      "min,max [161, 273, 65, 387]\n",
      "face shall be removed\n",
      "middle point [229, 183]\n",
      "min,max [422, 511, 63, 453]\n",
      "middle point [229, 183]\n",
      "min,max [155, 268, 54, 386]\n",
      "face shall be removed\n"
     ]
    },
    {
     "name": "stderr",
     "output_type": "stream",
     "text": [
      "INFO:webcam_skin_detection:Fingers detected: 1\n"
     ]
    },
    {
     "name": "stdout",
     "output_type": "stream",
     "text": [
      "[ 0  1  2  3  4  5  6  7  8  9 10 11 12 13]\n",
      "middle point [225, 174]\n",
      "min,max [411, 511, 80, 450]\n",
      "middle point [225, 174]\n",
      "min,max [152, 327, 47, 511]\n",
      "face shall be removed\n",
      "[ 0  1  2  3  4  5  6  7  8  9 10 11 12 13]\n"
     ]
    },
    {
     "name": "stderr",
     "output_type": "stream",
     "text": [
      "INFO:webcam_skin_detection:Fingers detected: 1\n",
      "INFO:webcam_skin_detection:Fingers detected: 1\n"
     ]
    },
    {
     "name": "stdout",
     "output_type": "stream",
     "text": [
      "middle point [226, 171]\n",
      "min,max [395, 511, 96, 454]\n",
      "middle point [226, 171]\n",
      "min,max [152, 333, 52, 511]\n",
      "face shall be removed\n",
      "[ 0  1  2  3  4  5  6  7  8  9 10 11 12 13]\n",
      "middle point [230, 192]\n",
      "min,max [381, 511, 115, 448]\n",
      "middle point [230, 192]\n",
      "min,max [151, 320, 57, 511]\n",
      "face shall be removed\n"
     ]
    },
    {
     "name": "stderr",
     "output_type": "stream",
     "text": [
      "INFO:webcam_skin_detection:Fingers detected: 1\n"
     ]
    },
    {
     "name": "stdout",
     "output_type": "stream",
     "text": [
      "[ 0  1  2  3  4  5  6  7  8  9 10 11 12 13 14]\n",
      "middle point [228, 194]\n",
      "min,max [373, 500, 127, 454]\n",
      "middle point [228, 194]\n",
      "min,max [149, 280, 58, 511]\n",
      "face shall be removed\n",
      "[ 0  1  2  3  4  5  6  7  8  9 10 11 12 13 14 15]\n"
     ]
    },
    {
     "name": "stderr",
     "output_type": "stream",
     "text": [
      "INFO:webcam_skin_detection:Fingers detected: 2\n",
      "INFO:webcam_skin_detection:Fingers detected: 3\n"
     ]
    },
    {
     "name": "stdout",
     "output_type": "stream",
     "text": [
      "middle point [228, 185]\n",
      "min,max [367, 493, 138, 453]\n",
      "middle point [228, 185]\n",
      "min,max [144, 294, 50, 511]\n",
      "face shall be removed\n",
      "middle point [222, 194]\n",
      "min,max [365, 488, 144, 453]\n",
      "middle point [222, 194]\n",
      "min,max [139, 300, 58, 499]\n",
      "face shall be removed\n"
     ]
    },
    {
     "name": "stderr",
     "output_type": "stream",
     "text": [
      "INFO:webcam_skin_detection:Fingers detected: 1\n",
      "INFO:webcam_skin_detection:Fingers detected: 2\n"
     ]
    },
    {
     "name": "stdout",
     "output_type": "stream",
     "text": [
      "middle point [218, 209]\n",
      "min,max [365, 487, 147, 450]\n",
      "middle point [218, 209]\n",
      "min,max [135, 303, 73, 509]\n",
      "face shall be removed\n",
      "[ 0  1  2  3  4  5  6  7  8  9 10 11 12 13]\n",
      "middle point [212, 210]\n",
      "min,max [363, 486, 148, 449]\n",
      "middle point [212, 210]\n",
      "min,max [132, 306, 74, 511]\n",
      "face shall be removed\n"
     ]
    },
    {
     "name": "stderr",
     "output_type": "stream",
     "text": [
      "INFO:webcam_skin_detection:Fingers detected: 3\n",
      "INFO:webcam_skin_detection:Fingers detected: 1\n"
     ]
    },
    {
     "name": "stdout",
     "output_type": "stream",
     "text": [
      "middle point [211, 215]\n",
      "min,max [364, 488, 145, 450]\n",
      "middle point [211, 215]\n",
      "min,max [131, 308, 76, 511]\n",
      "face shall be removed\n",
      "middle point [212, 215]\n",
      "min,max [368, 488, 147, 447]\n",
      "middle point [212, 215]\n",
      "min,max [133, 306, 77, 511]\n",
      "face shall be removed\n",
      "[ 0  1  2  3  4  5  6  7  8  9 10 11 12 13]\n"
     ]
    },
    {
     "name": "stderr",
     "output_type": "stream",
     "text": [
      "INFO:webcam_skin_detection:Fingers detected: 1\n",
      "INFO:webcam_skin_detection:Fingers detected: 2\n"
     ]
    },
    {
     "name": "stdout",
     "output_type": "stream",
     "text": [
      "middle point [212, 207]\n",
      "min,max [368, 492, 142, 449]\n",
      "middle point [212, 207]\n",
      "min,max [133, 297, 74, 511]\n",
      "face shall be removed\n",
      "[ 0  1  2  3  4  5  6  7  8  9 10 11 12 13]\n",
      "middle point [207, 204]\n",
      "min,max [377, 501, 133, 446]\n",
      "middle point [207, 204]\n",
      "min,max [132, 281, 69, 511]\n",
      "face shall be removed\n"
     ]
    },
    {
     "name": "stderr",
     "output_type": "stream",
     "text": [
      "INFO:webcam_skin_detection:Fingers detected: 1\n",
      "WARNING:webcam_skin_detection:No contours found in the mask\n",
      "INFO:webcam_skin_detection:Fingers detected: 0\n"
     ]
    },
    {
     "name": "stdout",
     "output_type": "stream",
     "text": [
      "middle point [450, 228]\n",
      "min,max [403, 511, 106, 432]\n",
      "face shall be removed\n",
      "middle point [450, 228]\n",
      "min,max [132, 277, 73, 511]\n",
      "[ 0  1  2  3  4  5  6  7  8  9 10 11 12 13]\n",
      "middle point [203, 201]\n",
      "min,max [438, 511, 75, 413]\n",
      "middle point [203, 201]\n",
      "min,max [132, 277, 74, 511]\n",
      "face shall be removed\n"
     ]
    },
    {
     "name": "stderr",
     "output_type": "stream",
     "text": [
      "WARNING:webcam_skin_detection:No contours found in the mask\n",
      "INFO:webcam_skin_detection:Fingers detected: 0\n",
      "WARNING:webcam_skin_detection:No contours found in the mask\n",
      "INFO:webcam_skin_detection:Fingers detected: 0\n"
     ]
    },
    {
     "name": "stdout",
     "output_type": "stream",
     "text": [
      "middle point [202, 203]\n",
      "min,max [483, 511, 72, 299]\n",
      "middle point [202, 203]\n",
      "min,max [132, 278, 74, 511]\n",
      "face shall be removed\n",
      "middle point [201, 204]\n",
      "min,max [336, 407, 442, 511]\n",
      "middle point [201, 204]\n",
      "min,max [131, 282, 73, 511]\n",
      "face shall be removed\n"
     ]
    },
    {
     "name": "stderr",
     "output_type": "stream",
     "text": [
      "WARNING:webcam_skin_detection:No contours found in the mask\n",
      "INFO:webcam_skin_detection:Fingers detected: 0\n",
      "WARNING:webcam_skin_detection:No contours found in the mask\n",
      "INFO:webcam_skin_detection:Fingers detected: 0\n"
     ]
    },
    {
     "name": "stdout",
     "output_type": "stream",
     "text": [
      "middle point [197, 204]\n",
      "min,max [337, 455, 441, 511]\n",
      "middle point [197, 204]\n",
      "min,max [129, 298, 72, 511]\n",
      "face shall be removed\n",
      "middle point [191, 201]\n",
      "min,max [387, 454, 441, 511]\n",
      "middle point [191, 201]\n",
      "min,max [127, 238, 70, 380]\n",
      "face shall be removed\n"
     ]
    },
    {
     "name": "stderr",
     "output_type": "stream",
     "text": [
      "WARNING:webcam_skin_detection:No contours found in the mask\n",
      "INFO:webcam_skin_detection:Fingers detected: 0\n",
      "WARNING:webcam_skin_detection:No contours found in the mask\n",
      "INFO:webcam_skin_detection:Fingers detected: 0\n"
     ]
    },
    {
     "name": "stdout",
     "output_type": "stream",
     "text": [
      "middle point [192, 199]\n",
      "min,max [336, 455, 416, 511]\n",
      "middle point [192, 199]\n",
      "min,max [125, 235, 68, 380]\n",
      "face shall be removed\n",
      "middle point [186, 202]\n",
      "min,max [332, 455, 414, 511]\n",
      "middle point [186, 202]\n",
      "min,max [123, 234, 70, 381]\n",
      "face shall be removed\n"
     ]
    },
    {
     "name": "stderr",
     "output_type": "stream",
     "text": [
      "WARNING:webcam_skin_detection:No contours found in the mask\n",
      "INFO:webcam_skin_detection:Fingers detected: 0\n",
      "WARNING:webcam_skin_detection:No contours found in the mask\n",
      "INFO:webcam_skin_detection:Fingers detected: 0\n"
     ]
    },
    {
     "name": "stdout",
     "output_type": "stream",
     "text": [
      "middle point [192, 200]\n",
      "min,max [361, 474, 442, 511]\n",
      "middle point [192, 200]\n",
      "min,max [131, 240, 68, 381]\n",
      "face shall be removed\n",
      "middle point [219, 199]\n",
      "min,max [378, 478, 385, 511]\n",
      "middle point [219, 199]\n",
      "min,max [148, 269, 72, 382]\n",
      "face shall be removed\n"
     ]
    },
    {
     "name": "stderr",
     "output_type": "stream",
     "text": [
      "WARNING:webcam_skin_detection:No contours found in the mask\n",
      "INFO:webcam_skin_detection:Fingers detected: 0\n",
      "WARNING:webcam_skin_detection:No contours found in the mask\n",
      "INFO:webcam_skin_detection:Fingers detected: 0\n"
     ]
    },
    {
     "name": "stdout",
     "output_type": "stream",
     "text": [
      "middle point [244, 200]\n",
      "min,max [403, 511, 440, 511]\n",
      "middle point [244, 200]\n",
      "min,max [190, 299, 70, 385]\n",
      "face shall be removed\n",
      "middle point [245, 199]\n",
      "min,max [26, 119, 363, 511]\n",
      "middle point [245, 199]\n",
      "min,max [192, 301, 69, 388]\n",
      "face shall be removed\n"
     ]
    },
    {
     "name": "stderr",
     "output_type": "stream",
     "text": [
      "WARNING:webcam_skin_detection:No contours found in the mask\n",
      "INFO:webcam_skin_detection:Fingers detected: 0\n",
      "WARNING:webcam_skin_detection:No contours found in the mask\n",
      "INFO:webcam_skin_detection:Fingers detected: 0\n"
     ]
    },
    {
     "name": "stdout",
     "output_type": "stream",
     "text": [
      "middle point [246, 199]\n",
      "min,max [411, 511, 419, 511]\n",
      "middle point [246, 199]\n",
      "min,max [195, 307, 62, 392]\n",
      "face shall be removed\n",
      "middle point [232, 206]\n",
      "min,max [392, 511, 388, 511]\n",
      "middle point [232, 206]\n",
      "min,max [185, 294, 69, 396]\n",
      "face shall be removed\n"
     ]
    },
    {
     "name": "stderr",
     "output_type": "stream",
     "text": [
      "INFO:webcam_skin_detection:Fingers detected: 1\n",
      "INFO:webcam_skin_detection:Fingers detected: 1\n"
     ]
    },
    {
     "name": "stdout",
     "output_type": "stream",
     "text": [
      "middle point [227, 201]\n",
      "min,max [0, 127, 255, 511]\n",
      "middle point [227, 201]\n",
      "min,max [176, 291, 62, 398]\n",
      "face shall be removed\n",
      "[ 0  1  2  3  4  5  6  7  8  9 10 11 12 13]\n",
      "middle point [231, 203]\n",
      "min,max [19, 142, 167, 511]\n",
      "middle point [231, 203]\n",
      "min,max [175, 295, 42, 410]\n",
      "face shall be removed\n"
     ]
    },
    {
     "name": "stderr",
     "output_type": "stream",
     "text": [
      "INFO:webcam_skin_detection:Fingers detected: 1\n"
     ]
    },
    {
     "name": "stdout",
     "output_type": "stream",
     "text": [
      "[ 0  1  2  3  4  5  6  7  8  9 10 11 12 13]\n",
      "middle point [226, 208]\n",
      "min,max [170, 292, 57, 416]\n",
      "face shall be removed\n",
      "middle point [226, 208]\n",
      "min,max [0, 145, 200, 511]\n",
      "[ 0  1  2  3  4  5  6  7  8  9 10 11 12 13 14]\n"
     ]
    },
    {
     "name": "stderr",
     "output_type": "stream",
     "text": [
      "WARNING:webcam_skin_detection:No contours found in the mask\n",
      "INFO:webcam_skin_detection:Fingers detected: 0\n",
      "WARNING:webcam_skin_detection:No contours found in the mask\n",
      "INFO:webcam_skin_detection:Fingers detected: 0\n"
     ]
    },
    {
     "name": "stdout",
     "output_type": "stream",
     "text": [
      "middle point [223, 207]\n",
      "min,max [394, 511, 400, 511]\n",
      "middle point [223, 207]\n",
      "min,max [165, 289, 58, 419]\n",
      "face shall be removed\n",
      "middle point [218, 209]\n",
      "min,max [401, 511, 409, 511]\n",
      "middle point [218, 209]\n",
      "min,max [162, 286, 15, 423]\n",
      "face shall be removed\n"
     ]
    },
    {
     "name": "stderr",
     "output_type": "stream",
     "text": [
      "WARNING:webcam_skin_detection:No contours found in the mask\n",
      "INFO:webcam_skin_detection:Fingers detected: 0\n",
      "WARNING:webcam_skin_detection:No contours found in the mask\n",
      "INFO:webcam_skin_detection:Fingers detected: 0\n"
     ]
    },
    {
     "name": "stdout",
     "output_type": "stream",
     "text": [
      "middle point [216, 205]\n",
      "min,max [396, 467, 441, 511]\n",
      "middle point [216, 205]\n",
      "min,max [160, 284, 52, 415]\n",
      "face shall be removed\n",
      "middle point [214, 206]\n",
      "min,max [422, 511, 441, 511]\n",
      "middle point [214, 206]\n",
      "min,max [157, 283, 51, 416]\n",
      "face shall be removed\n"
     ]
    },
    {
     "name": "stderr",
     "output_type": "stream",
     "text": [
      "WARNING:webcam_skin_detection:No contours found in the mask\n",
      "INFO:webcam_skin_detection:Fingers detected: 0\n",
      "WARNING:webcam_skin_detection:No contours found in the mask\n",
      "INFO:webcam_skin_detection:Fingers detected: 0\n"
     ]
    },
    {
     "name": "stdout",
     "output_type": "stream",
     "text": [
      "middle point [213, 207]\n",
      "min,max [438, 498, 446, 511]\n",
      "middle point [213, 207]\n",
      "min,max [157, 281, 59, 421]\n",
      "face shall be removed\n",
      "middle point [213, 207]\n",
      "min,max [419, 511, 446, 511]\n",
      "middle point [213, 207]\n",
      "min,max [156, 280, 58, 423]\n",
      "face shall be removed\n"
     ]
    },
    {
     "name": "stderr",
     "output_type": "stream",
     "text": [
      "WARNING:webcam_skin_detection:No contours found in the mask\n",
      "INFO:webcam_skin_detection:Fingers detected: 0\n",
      "WARNING:webcam_skin_detection:No contours found in the mask\n",
      "INFO:webcam_skin_detection:Fingers detected: 0\n"
     ]
    },
    {
     "name": "stdout",
     "output_type": "stream",
     "text": [
      "middle point [213, 202]\n",
      "min,max [408, 502, 446, 511]\n",
      "middle point [213, 202]\n",
      "min,max [155, 279, 55, 422]\n",
      "face shall be removed\n",
      "middle point [210, 202]\n",
      "min,max [409, 496, 411, 511]\n",
      "middle point [210, 202]\n",
      "min,max [157, 280, 49, 420]\n",
      "face shall be removed\n"
     ]
    },
    {
     "name": "stderr",
     "output_type": "stream",
     "text": [
      "WARNING:webcam_skin_detection:No contours found in the mask\n",
      "INFO:webcam_skin_detection:Fingers detected: 0\n",
      "WARNING:webcam_skin_detection:No contours found in the mask\n",
      "INFO:webcam_skin_detection:Fingers detected: 0\n"
     ]
    },
    {
     "name": "stdout",
     "output_type": "stream",
     "text": [
      "middle point [214, 199]\n",
      "min,max [422, 511, 437, 511]\n",
      "middle point [214, 199]\n",
      "min,max [156, 280, 51, 422]\n",
      "face shall be removed\n",
      "middle point [217, 197]\n",
      "min,max [420, 476, 411, 511]\n",
      "middle point [217, 197]\n",
      "min,max [155, 281, 49, 419]\n",
      "face shall be removed\n"
     ]
    },
    {
     "name": "stderr",
     "output_type": "stream",
     "text": [
      "WARNING:webcam_skin_detection:No contours found in the mask\n",
      "INFO:webcam_skin_detection:Fingers detected: 0\n",
      "WARNING:webcam_skin_detection:No contours found in the mask\n",
      "INFO:webcam_skin_detection:Fingers detected: 0\n"
     ]
    },
    {
     "name": "stdout",
     "output_type": "stream",
     "text": [
      "middle point [218, 203]\n",
      "min,max [384, 511, 409, 511]\n",
      "middle point [218, 203]\n",
      "min,max [156, 283, 52, 421]\n",
      "face shall be removed\n",
      "middle point [220, 201]\n",
      "min,max [389, 505, 408, 511]\n",
      "middle point [220, 201]\n",
      "min,max [157, 283, 53, 421]\n",
      "face shall be removed\n"
     ]
    },
    {
     "name": "stderr",
     "output_type": "stream",
     "text": [
      "WARNING:webcam_skin_detection:No contours found in the mask\n",
      "INFO:webcam_skin_detection:Fingers detected: 0\n",
      "WARNING:webcam_skin_detection:No contours found in the mask\n",
      "INFO:webcam_skin_detection:Fingers detected: 0\n"
     ]
    },
    {
     "name": "stdout",
     "output_type": "stream",
     "text": [
      "middle point [221, 204]\n",
      "min,max [396, 488, 437, 511]\n",
      "middle point [221, 204]\n",
      "min,max [157, 283, 53, 421]\n",
      "face shall be removed\n",
      "middle point [222, 205]\n",
      "min,max [411, 497, 441, 511]\n",
      "middle point [222, 205]\n",
      "min,max [159, 284, 51, 419]\n",
      "face shall be removed\n"
     ]
    },
    {
     "name": "stderr",
     "output_type": "stream",
     "text": [
      "WARNING:webcam_skin_detection:No contours found in the mask\n",
      "INFO:webcam_skin_detection:Fingers detected: 0\n",
      "WARNING:webcam_skin_detection:No contours found in the mask\n",
      "INFO:webcam_skin_detection:Fingers detected: 0\n"
     ]
    },
    {
     "name": "stdout",
     "output_type": "stream",
     "text": [
      "middle point [220, 204]\n",
      "min,max [399, 511, 443, 511]\n",
      "middle point [220, 204]\n",
      "min,max [155, 283, 49, 421]\n",
      "face shall be removed\n",
      "middle point [217, 207]\n",
      "min,max [413, 511, 409, 511]\n",
      "middle point [217, 207]\n",
      "min,max [156, 281, 55, 422]\n",
      "face shall be removed\n"
     ]
    },
    {
     "name": "stderr",
     "output_type": "stream",
     "text": [
      "WARNING:webcam_skin_detection:No contours found in the mask\n",
      "INFO:webcam_skin_detection:Fingers detected: 0\n",
      "WARNING:webcam_skin_detection:No contours found in the mask\n",
      "INFO:webcam_skin_detection:Fingers detected: 0\n"
     ]
    },
    {
     "name": "stdout",
     "output_type": "stream",
     "text": [
      "middle point [214, 208]\n",
      "min,max [405, 511, 444, 511]\n",
      "middle point [214, 208]\n",
      "min,max [153, 280, 57, 422]\n",
      "face shall be removed\n",
      "middle point [213, 205]\n",
      "min,max [411, 474, 445, 511]\n",
      "middle point [213, 205]\n",
      "min,max [153, 279, 56, 420]\n",
      "face shall be removed\n"
     ]
    },
    {
     "name": "stderr",
     "output_type": "stream",
     "text": [
      "WARNING:webcam_skin_detection:No contours found in the mask\n",
      "INFO:webcam_skin_detection:Fingers detected: 0\n",
      "WARNING:webcam_skin_detection:No contours found in the mask\n",
      "INFO:webcam_skin_detection:Fingers detected: 0\n"
     ]
    },
    {
     "name": "stdout",
     "output_type": "stream",
     "text": [
      "middle point [215, 205]\n",
      "min,max [0, 45, 126, 415]\n",
      "middle point [215, 205]\n",
      "min,max [161, 283, 57, 423]\n",
      "face shall be removed\n",
      "middle point [218, 207]\n",
      "min,max [0, 97, 300, 482]\n",
      "middle point [218, 207]\n",
      "min,max [164, 288, 56, 423]\n",
      "face shall be removed\n"
     ]
    },
    {
     "name": "stderr",
     "output_type": "stream",
     "text": [
      "INFO:webcam_skin_detection:Fingers detected: 2\n",
      "INFO:webcam_skin_detection:Fingers detected: 2\n"
     ]
    },
    {
     "name": "stdout",
     "output_type": "stream",
     "text": [
      "middle point [224, 207]\n",
      "min,max [0, 115, 41, 445]\n",
      "middle point [224, 207]\n",
      "min,max [167, 290, 57, 423]\n",
      "face shall be removed\n",
      "middle point [227, 205]\n",
      "min,max [0, 129, 43, 511]\n",
      "middle point [227, 205]\n",
      "min,max [170, 291, 55, 421]\n",
      "face shall be removed\n"
     ]
    },
    {
     "name": "stderr",
     "output_type": "stream",
     "text": [
      "INFO:webcam_skin_detection:Fingers detected: 3\n"
     ]
    },
    {
     "name": "stdout",
     "output_type": "stream",
     "text": [
      "middle point [227, 206]\n",
      "min,max [168, 290, 58, 421]\n",
      "face shall be removed\n",
      "middle point [227, 206]\n",
      "min,max [0, 140, 46, 511]\n",
      "middle point [229, 207]\n",
      "min,max [168, 290, 59, 421]\n",
      "face shall be removed\n",
      "middle point [229, 207]\n",
      "min,max [0, 152, 50, 511]\n"
     ]
    },
    {
     "name": "stderr",
     "output_type": "stream",
     "text": [
      "INFO:webcam_skin_detection:Fingers detected: 4\n",
      "INFO:webcam_skin_detection:Fingers detected: 4\n"
     ]
    },
    {
     "name": "stdout",
     "output_type": "stream",
     "text": [
      "middle point [227, 208]\n",
      "min,max [166, 289, 63, 422]\n",
      "face shall be removed\n",
      "middle point [227, 208]\n",
      "min,max [0, 152, 48, 511]\n",
      "middle point [228, 210]\n",
      "min,max [166, 288, 58, 420]\n",
      "face shall be removed\n",
      "middle point [228, 210]\n",
      "min,max [0, 155, 47, 511]\n"
     ]
    },
    {
     "name": "stderr",
     "output_type": "stream",
     "text": [
      "INFO:webcam_skin_detection:Fingers detected: 4\n",
      "INFO:webcam_skin_detection:Fingers detected: 3\n",
      "WARNING:webcam_skin_detection:No contours found in the mask\n"
     ]
    },
    {
     "name": "stdout",
     "output_type": "stream",
     "text": [
      "middle point [227, 215]\n",
      "min,max [164, 287, 61, 419]\n",
      "face shall be removed\n",
      "middle point [227, 215]\n",
      "min,max [0, 184, 68, 511]\n",
      "middle point [226, 214]\n",
      "min,max [440, 498, 439, 511]\n",
      "middle point [226, 214]\n",
      "min,max [4, 287, 64, 511]\n",
      "face shall be removed\n"
     ]
    },
    {
     "name": "stderr",
     "output_type": "stream",
     "text": [
      "INFO:webcam_skin_detection:Fingers detected: 0\n",
      "WARNING:webcam_skin_detection:No contours found in the mask\n",
      "INFO:webcam_skin_detection:Fingers detected: 0\n",
      "INFO:webcam_skin_detection:Fingers detected: 5\n"
     ]
    },
    {
     "name": "stdout",
     "output_type": "stream",
     "text": [
      "middle point [228, 214]\n",
      "min,max [418, 498, 447, 511]\n",
      "middle point [228, 214]\n",
      "min,max [0, 287, 63, 511]\n",
      "face shall be removed\n",
      "middle point [230, 210]\n",
      "min,max [165, 289, 61, 419]\n",
      "face shall be removed\n",
      "middle point [230, 210]\n",
      "min,max [0, 174, 60, 511]\n"
     ]
    },
    {
     "name": "stderr",
     "output_type": "stream",
     "text": [
      "INFO:webcam_skin_detection:Fingers detected: 5\n"
     ]
    },
    {
     "name": "stdout",
     "output_type": "stream",
     "text": [
      "middle point [232, 191]\n",
      "min,max [166, 289, 47, 415]\n",
      "face shall be removed\n",
      "middle point [232, 191]\n",
      "min,max [0, 157, 50, 511]\n"
     ]
    },
    {
     "name": "stderr",
     "output_type": "stream",
     "text": [
      "INFO:webcam_skin_detection:Fingers detected: 4\n"
     ]
    },
    {
     "name": "stdout",
     "output_type": "stream",
     "text": [
      "middle point [244, 184]\n",
      "min,max [172, 292, 41, 400]\n",
      "face shall be removed\n",
      "middle point [244, 184]\n",
      "min,max [0, 154, 54, 511]\n",
      "middle point [257, 182]\n",
      "min,max [187, 304, 40, 396]\n",
      "face shall be removed\n",
      "middle point [257, 182]\n",
      "min,max [0, 165, 62, 511]\n"
     ]
    },
    {
     "name": "stderr",
     "output_type": "stream",
     "text": [
      "INFO:webcam_skin_detection:Fingers detected: 5\n",
      "INFO:webcam_skin_detection:Fingers detected: 5\n",
      "INFO:webcam_skin_detection:Fingers detected: 5\n"
     ]
    },
    {
     "name": "stdout",
     "output_type": "stream",
     "text": [
      "middle point [263, 176]\n",
      "min,max [200, 317, 39, 393]\n",
      "face shall be removed\n",
      "middle point [263, 176]\n",
      "min,max [0, 175, 74, 511]\n",
      "middle point [280, 173]\n",
      "min,max [215, 332, 37, 384]\n",
      "face shall be removed\n",
      "middle point [280, 173]\n",
      "min,max [5, 180, 71, 511]\n"
     ]
    },
    {
     "name": "stderr",
     "output_type": "stream",
     "text": [
      "INFO:webcam_skin_detection:Fingers detected: 4\n",
      "INFO:webcam_skin_detection:Fingers detected: 4\n"
     ]
    },
    {
     "name": "stdout",
     "output_type": "stream",
     "text": [
      "middle point [303, 165]\n",
      "min,max [236, 351, 26, 376]\n",
      "face shall be removed\n",
      "middle point [303, 165]\n",
      "min,max [22, 190, 58, 511]\n",
      "middle point [318, 171]\n",
      "min,max [249, 364, 33, 376]\n",
      "face shall be removed\n",
      "middle point [318, 171]\n",
      "min,max [35, 196, 59, 511]\n"
     ]
    },
    {
     "name": "stderr",
     "output_type": "stream",
     "text": [
      "INFO:webcam_skin_detection:Fingers detected: 4\n",
      "INFO:webcam_skin_detection:Fingers detected: 4\n"
     ]
    },
    {
     "name": "stdout",
     "output_type": "stream",
     "text": [
      "middle point [322, 186]\n",
      "min,max [254, 366, 50, 378]\n",
      "face shall be removed\n",
      "middle point [322, 186]\n",
      "min,max [41, 199, 87, 511]\n",
      "middle point [315, 189]\n",
      "min,max [249, 357, 56, 378]\n",
      "face shall be removed\n",
      "middle point [315, 189]\n",
      "min,max [38, 193, 106, 511]\n"
     ]
    },
    {
     "name": "stderr",
     "output_type": "stream",
     "text": [
      "INFO:webcam_skin_detection:Fingers detected: 4\n",
      "INFO:webcam_skin_detection:Fingers detected: 4\n"
     ]
    },
    {
     "name": "stdout",
     "output_type": "stream",
     "text": [
      "middle point [312, 186]\n",
      "min,max [247, 354, 55, 377]\n",
      "face shall be removed\n",
      "middle point [312, 186]\n",
      "min,max [35, 185, 107, 511]\n",
      "middle point [314, 185]\n",
      "min,max [250, 357, 28, 375]\n",
      "face shall be removed\n",
      "middle point [314, 185]\n",
      "min,max [39, 187, 104, 511]\n"
     ]
    },
    {
     "name": "stderr",
     "output_type": "stream",
     "text": [
      "INFO:webcam_skin_detection:Fingers detected: 4\n",
      "INFO:webcam_skin_detection:Fingers detected: 4\n"
     ]
    },
    {
     "name": "stdout",
     "output_type": "stream",
     "text": [
      "middle point [318, 187]\n",
      "min,max [255, 361, 59, 377]\n",
      "face shall be removed\n",
      "middle point [318, 187]\n",
      "min,max [44, 196, 100, 511]\n",
      "middle point [319, 188]\n",
      "min,max [257, 363, 58, 377]\n",
      "face shall be removed\n",
      "middle point [319, 188]\n",
      "min,max [45, 192, 98, 511]\n"
     ]
    },
    {
     "name": "stderr",
     "output_type": "stream",
     "text": [
      "INFO:webcam_skin_detection:Fingers detected: 1\n",
      "INFO:webcam_skin_detection:Fingers detected: 1\n"
     ]
    },
    {
     "name": "stdout",
     "output_type": "stream",
     "text": [
      "middle point [318, 190]\n",
      "min,max [32, 173, 117, 511]\n",
      "middle point [318, 190]\n",
      "min,max [259, 364, 27, 377]\n",
      "face shall be removed\n",
      "[ 0  1  2  3  4  5  6  7  8  9 10 11 12 13 14]\n",
      "middle point [319, 192]\n",
      "min,max [71, 181, 132, 511]\n",
      "middle point [319, 192]\n",
      "min,max [259, 365, 27, 376]\n",
      "face shall be removed\n",
      "[ 0  1  2  3  4  5  6  7  8  9 11 12 13]\n"
     ]
    },
    {
     "name": "stderr",
     "output_type": "stream",
     "text": [
      "INFO:webcam_skin_detection:Fingers detected: 1\n",
      "INFO:webcam_skin_detection:Fingers detected: 1\n"
     ]
    },
    {
     "name": "stdout",
     "output_type": "stream",
     "text": [
      "middle point [319, 193]\n",
      "min,max [259, 367, 47, 377]\n",
      "face shall be removed\n",
      "middle point [319, 193]\n",
      "min,max [0, 181, 162, 511]\n",
      "[ 0  1  2  3  4  5  6  7  8  9 10 11 12 13]\n",
      "middle point [319, 192]\n",
      "min,max [40, 177, 197, 511]\n",
      "middle point [319, 192]\n",
      "min,max [259, 367, 66, 377]\n",
      "face shall be removed\n",
      "[ 0  1  2  3  4  5  6  7  8  9 10 11 12 13]\n"
     ]
    },
    {
     "name": "stderr",
     "output_type": "stream",
     "text": [
      "INFO:webcam_skin_detection:Fingers detected: 1\n",
      "INFO:webcam_skin_detection:Fingers detected: 1\n"
     ]
    },
    {
     "name": "stdout",
     "output_type": "stream",
     "text": [
      "middle point [316, 192]\n",
      "min,max [60, 161, 227, 511]\n",
      "middle point [316, 192]\n",
      "min,max [257, 369, 59, 377]\n",
      "face shall be removed\n",
      "[ 0  1  2  3  4  5  6  7  8  9 10 11 12 13]\n",
      "middle point [315, 191]\n",
      "min,max [0, 144, 256, 511]\n",
      "middle point [315, 191]\n",
      "min,max [256, 364, 65, 378]\n",
      "face shall be removed\n",
      "[ 0  1  2  3  4  5  6  7  8  9 10 11 12 13]\n"
     ]
    },
    {
     "name": "stderr",
     "output_type": "stream",
     "text": [
      "INFO:webcam_skin_detection:Fingers detected: 1\n",
      "INFO:webcam_skin_detection:Fingers detected: 1\n"
     ]
    },
    {
     "name": "stdout",
     "output_type": "stream",
     "text": [
      "middle point [315, 193]\n",
      "min,max [30, 128, 247, 511]\n",
      "middle point [315, 193]\n",
      "min,max [256, 368, 59, 378]\n",
      "face shall be removed\n",
      "[ 0  1  2  3  4  5  6  7  8  9 10 11 12 13]\n",
      "middle point [314, 193]\n",
      "min,max [11, 115, 211, 511]\n",
      "middle point [314, 193]\n",
      "min,max [255, 367, 30, 378]\n",
      "face shall be removed\n",
      "[ 0  1  2  3  4  5  6  7  8  9 10 11 12 13]\n"
     ]
    },
    {
     "name": "stderr",
     "output_type": "stream",
     "text": [
      "INFO:webcam_skin_detection:Fingers detected: 1\n",
      "INFO:webcam_skin_detection:Fingers detected: 2\n"
     ]
    },
    {
     "name": "stdout",
     "output_type": "stream",
     "text": [
      "middle point [314, 192]\n",
      "min,max [0, 111, 179, 511]\n",
      "middle point [314, 192]\n",
      "min,max [256, 368, 62, 378]\n",
      "face shall be removed\n",
      "[ 0  1  2  3  4  5  6  7  8  9 10 11 12 13]\n",
      "middle point [315, 191]\n",
      "min,max [0, 118, 132, 511]\n",
      "middle point [315, 191]\n",
      "min,max [256, 365, 64, 379]\n",
      "face shall be removed\n"
     ]
    },
    {
     "name": "stderr",
     "output_type": "stream",
     "text": [
      "INFO:webcam_skin_detection:Fingers detected: 1\n",
      "INFO:webcam_skin_detection:Fingers detected: 1\n"
     ]
    },
    {
     "name": "stdout",
     "output_type": "stream",
     "text": [
      "middle point [315, 191]\n",
      "min,max [257, 365, 62, 378]\n",
      "face shall be removed\n",
      "middle point [315, 191]\n",
      "min,max [19, 130, 120, 511]\n",
      "[ 0  1  2  3  4  5  6  7  8  9 10 11 12 13]\n",
      "middle point [316, 192]\n",
      "min,max [258, 365, 60, 378]\n",
      "face shall be removed\n",
      "middle point [316, 192]\n",
      "min,max [14, 139, 109, 511]\n",
      "[ 0  1  2  3  4  5  6  7  8  9 10 11 12 13]\n"
     ]
    },
    {
     "name": "stderr",
     "output_type": "stream",
     "text": [
      "INFO:webcam_skin_detection:Fingers detected: 1\n",
      "INFO:webcam_skin_detection:Fingers detected: 2\n"
     ]
    },
    {
     "name": "stdout",
     "output_type": "stream",
     "text": [
      "middle point [316, 191]\n",
      "min,max [258, 371, 58, 378]\n",
      "face shall be removed\n",
      "middle point [316, 191]\n",
      "min,max [12, 150, 101, 511]\n",
      "[ 0  1  2  3  4  5  6  7  8  9 10 11 12 13]\n",
      "middle point [317, 191]\n",
      "min,max [258, 366, 58, 378]\n",
      "face shall be removed\n",
      "middle point [317, 191]\n",
      "min,max [55, 185, 99, 511]\n"
     ]
    },
    {
     "name": "stderr",
     "output_type": "stream",
     "text": [
      "INFO:webcam_skin_detection:Fingers detected: 2\n",
      "INFO:webcam_skin_detection:Fingers detected: 2\n"
     ]
    },
    {
     "name": "stdout",
     "output_type": "stream",
     "text": [
      "middle point [317, 190]\n",
      "min,max [258, 373, 26, 378]\n",
      "face shall be removed\n",
      "middle point [317, 190]\n",
      "min,max [37, 211, 109, 511]\n",
      "middle point [316, 190]\n",
      "min,max [258, 366, 63, 377]\n",
      "face shall be removed\n",
      "middle point [316, 190]\n",
      "min,max [55, 208, 109, 511]\n"
     ]
    },
    {
     "name": "stderr",
     "output_type": "stream",
     "text": [
      "INFO:webcam_skin_detection:Fingers detected: 2\n",
      "INFO:webcam_skin_detection:Fingers detected: 2\n"
     ]
    },
    {
     "name": "stdout",
     "output_type": "stream",
     "text": [
      "middle point [316, 191]\n",
      "min,max [258, 366, 28, 377]\n",
      "face shall be removed\n",
      "middle point [316, 191]\n",
      "min,max [68, 205, 107, 511]\n",
      "middle point [316, 189]\n",
      "min,max [258, 366, 66, 377]\n",
      "face shall be removed\n",
      "middle point [316, 189]\n",
      "min,max [21, 202, 108, 511]\n"
     ]
    },
    {
     "name": "stderr",
     "output_type": "stream",
     "text": [
      "INFO:webcam_skin_detection:Fingers detected: 2\n",
      "INFO:webcam_skin_detection:Fingers detected: 2\n"
     ]
    },
    {
     "name": "stdout",
     "output_type": "stream",
     "text": [
      "middle point [315, 188]\n",
      "min,max [257, 366, 60, 377]\n",
      "face shall be removed\n",
      "middle point [315, 188]\n",
      "min,max [49, 200, 105, 511]\n",
      "middle point [316, 188]\n",
      "min,max [258, 365, 59, 377]\n",
      "face shall be removed\n",
      "middle point [316, 188]\n",
      "min,max [62, 199, 100, 511]\n"
     ]
    },
    {
     "name": "stderr",
     "output_type": "stream",
     "text": [
      "INFO:webcam_skin_detection:Fingers detected: 2\n",
      "INFO:webcam_skin_detection:Fingers detected: 2\n"
     ]
    },
    {
     "name": "stdout",
     "output_type": "stream",
     "text": [
      "middle point [317, 188]\n",
      "min,max [258, 366, 61, 377]\n",
      "face shall be removed\n",
      "middle point [317, 188]\n",
      "min,max [0, 197, 93, 511]\n",
      "middle point [316, 189]\n",
      "min,max [258, 366, 60, 377]\n",
      "face shall be removed\n",
      "middle point [316, 189]\n",
      "min,max [28, 191, 84, 511]\n"
     ]
    },
    {
     "name": "stderr",
     "output_type": "stream",
     "text": [
      "INFO:webcam_skin_detection:Fingers detected: 1\n"
     ]
    },
    {
     "name": "stdout",
     "output_type": "stream",
     "text": [
      "middle point [315, 189]\n",
      "min,max [258, 366, 60, 377]\n",
      "face shall be removed\n",
      "middle point [315, 189]\n",
      "min,max [0, 162, 95, 511]\n",
      "[ 0  1  2  3  4  5  6  7  8  9 10 11 12 13]\n",
      "middle point [315, 188]\n",
      "min,max [258, 365, 58, 377]\n",
      "face shall be removed\n",
      "middle point [315, 188]\n",
      "min,max [0, 135, 42, 511]\n"
     ]
    },
    {
     "name": "stderr",
     "output_type": "stream",
     "text": [
      "INFO:webcam_skin_detection:Fingers detected: 1\n",
      "INFO:webcam_skin_detection:Fingers detected: 2\n"
     ]
    },
    {
     "name": "stdout",
     "output_type": "stream",
     "text": [
      "[ 0  1  2  3  4  5  6  7  8  9 10 11 12 13]\n",
      "middle point [314, 188]\n",
      "min,max [258, 365, 59, 375]\n",
      "face shall be removed\n",
      "middle point [314, 188]\n",
      "min,max [18, 134, 3, 511]\n"
     ]
    },
    {
     "name": "stderr",
     "output_type": "stream",
     "text": [
      "INFO:webcam_skin_detection:Fingers detected: 1\n",
      "INFO:webcam_skin_detection:Fingers detected: 1\n"
     ]
    },
    {
     "name": "stdout",
     "output_type": "stream",
     "text": [
      "middle point [316, 188]\n",
      "min,max [258, 365, 61, 374]\n",
      "face shall be removed\n",
      "middle point [316, 188]\n",
      "min,max [22, 127, 0, 511]\n",
      "[ 0  1  2  3  4  5  6  7  8  9 10 11 12 13]\n",
      "middle point [315, 188]\n",
      "min,max [24, 134, 0, 416]\n",
      "middle point [315, 188]\n",
      "min,max [258, 365, 56, 374]\n",
      "face shall be removed\n",
      "[ 0  1  2  3  4  5  6  7  8  9 10 11 12 13]\n"
     ]
    },
    {
     "name": "stderr",
     "output_type": "stream",
     "text": [
      "INFO:webcam_skin_detection:Fingers detected: 1\n",
      "INFO:webcam_skin_detection:Fingers detected: 1\n"
     ]
    },
    {
     "name": "stdout",
     "output_type": "stream",
     "text": [
      "middle point [314, 190]\n",
      "min,max [258, 370, 57, 374]\n",
      "face shall be removed\n",
      "middle point [314, 190]\n",
      "min,max [15, 134, 0, 451]\n",
      "[ 0  1  2  3  4  5  6  7  8  9 10 11 12 13]\n",
      "middle point [315, 188]\n",
      "min,max [258, 367, 60, 375]\n",
      "face shall be removed\n",
      "middle point [315, 188]\n",
      "min,max [25, 136, 0, 430]\n",
      "[ 0  1  2  3  4  5  6  7  8  9 10 11 12 13 14]\n"
     ]
    },
    {
     "name": "stderr",
     "output_type": "stream",
     "text": [
      "INFO:webcam_skin_detection:Fingers detected: 1\n",
      "INFO:webcam_skin_detection:Fingers detected: 1\n"
     ]
    },
    {
     "name": "stdout",
     "output_type": "stream",
     "text": [
      "middle point [315, 187]\n",
      "min,max [259, 371, 58, 376]\n",
      "face shall be removed\n",
      "middle point [315, 187]\n",
      "min,max [11, 111, 0, 444]\n",
      "[ 0  1  2  3  4  5  6  7  8  9 11 12 13]\n",
      "middle point [314, 188]\n",
      "min,max [258, 370, 59, 375]\n",
      "face shall be removed\n",
      "middle point [314, 188]\n",
      "min,max [8, 114, 0, 444]\n",
      "[ 0  1  2  3  4  5  6  7  8  9 10 11 12 13]\n"
     ]
    },
    {
     "name": "stderr",
     "output_type": "stream",
     "text": [
      "INFO:webcam_skin_detection:Fingers detected: 1\n",
      "INFO:webcam_skin_detection:Fingers detected: 1\n"
     ]
    },
    {
     "name": "stdout",
     "output_type": "stream",
     "text": [
      "middle point [313, 188]\n",
      "min,max [258, 365, 62, 375]\n",
      "face shall be removed\n",
      "middle point [313, 188]\n",
      "min,max [10, 111, 8, 453]\n",
      "[ 0  1  2  3  4  5  6  7  8  9 10 11 12 13]\n",
      "middle point [314, 188]\n",
      "min,max [258, 366, 58, 377]\n",
      "face shall be removed\n",
      "middle point [314, 188]\n",
      "min,max [0, 116, 46, 511]\n",
      "[ 0  1  2  3  4  5  6  7  8  9 10 11 12 13]\n"
     ]
    },
    {
     "name": "stderr",
     "output_type": "stream",
     "text": [
      "INFO:webcam_skin_detection:Fingers detected: 1\n",
      "INFO:webcam_skin_detection:Fingers detected: 1\n"
     ]
    },
    {
     "name": "stdout",
     "output_type": "stream",
     "text": [
      "middle point [315, 187]\n",
      "min,max [258, 366, 62, 376]\n",
      "face shall be removed\n",
      "middle point [315, 187]\n",
      "min,max [0, 122, 101, 511]\n",
      "[ 0  1  2  3  4  5  6  7  8  9 10 11 12 13]\n",
      "middle point [314, 190]\n",
      "min,max [258, 365, 54, 375]\n",
      "face shall be removed\n",
      "middle point [314, 190]\n",
      "min,max [0, 121, 109, 511]\n",
      "[ 0  1  2  3  4  5  6  7  8  9 10 11 12 13]\n"
     ]
    },
    {
     "name": "stderr",
     "output_type": "stream",
     "text": [
      "INFO:webcam_skin_detection:Fingers detected: 1\n",
      "INFO:webcam_skin_detection:Fingers detected: 1\n"
     ]
    },
    {
     "name": "stdout",
     "output_type": "stream",
     "text": [
      "middle point [315, 189]\n",
      "min,max [257, 366, 58, 376]\n",
      "face shall be removed\n",
      "middle point [315, 189]\n",
      "min,max [7, 129, 101, 511]\n",
      "[ 0  1  2  3  4  5  6  7  8  9 10 11 12 13]\n",
      "middle point [315, 188]\n",
      "min,max [258, 367, 32, 377]\n",
      "face shall be removed\n",
      "middle point [315, 188]\n",
      "min,max [28, 160, 108, 511]\n",
      "[ 0  1  2  3  4  5  6  7  8  9 10 11 12 13]\n"
     ]
    },
    {
     "name": "stderr",
     "output_type": "stream",
     "text": [
      "INFO:webcam_skin_detection:Fingers detected: 1\n",
      "INFO:webcam_skin_detection:Fingers detected: 1\n"
     ]
    },
    {
     "name": "stdout",
     "output_type": "stream",
     "text": [
      "middle point [315, 188]\n",
      "min,max [259, 367, 60, 377]\n",
      "face shall be removed\n",
      "middle point [315, 188]\n",
      "min,max [28, 154, 118, 511]\n",
      "[ 0  1  2  3  4  5  6  7  8  9 10 11 12 13]\n",
      "middle point [318, 188]\n",
      "min,max [259, 368, 57, 377]\n",
      "face shall be removed\n",
      "middle point [318, 188]\n",
      "min,max [0, 164, 136, 511]\n",
      "[ 0  1  2  3  4  5  6  7  8  9 10 11 12 13 14]\n"
     ]
    },
    {
     "name": "stderr",
     "output_type": "stream",
     "text": [
      "INFO:webcam_skin_detection:Fingers detected: 1\n",
      "INFO:webcam_skin_detection:Fingers detected: 1\n"
     ]
    },
    {
     "name": "stdout",
     "output_type": "stream",
     "text": [
      "middle point [316, 191]\n",
      "min,max [13, 154, 159, 511]\n",
      "middle point [316, 191]\n",
      "min,max [259, 374, 58, 377]\n",
      "face shall be removed\n",
      "[ 0  1  2  3  4  5  6  7  8  9 10 11 12 13]\n",
      "middle point [315, 191]\n",
      "min,max [35, 136, 174, 511]\n",
      "middle point [315, 191]\n",
      "min,max [258, 367, 61, 378]\n",
      "face shall be removed\n",
      "[ 0  1  2  3  4  5  6  7  8  9 10 11 12 13]\n"
     ]
    },
    {
     "name": "stderr",
     "output_type": "stream",
     "text": [
      "INFO:webcam_skin_detection:Fingers detected: 1\n",
      "INFO:webcam_skin_detection:Fingers detected: 1\n"
     ]
    },
    {
     "name": "stdout",
     "output_type": "stream",
     "text": [
      "middle point [312, 188]\n",
      "min,max [8, 122, 185, 511]\n",
      "middle point [312, 188]\n",
      "min,max [256, 365, 57, 378]\n",
      "face shall be removed\n",
      "[ 0  1  2  3  4  5  6  7  8  9 10 11 12 13]\n",
      "middle point [311, 190]\n",
      "min,max [0, 127, 208, 511]\n",
      "middle point [311, 190]\n",
      "min,max [255, 368, 24, 378]\n",
      "face shall be removed\n",
      "[ 0  1  2  3  4  5  6  7  8  9 10 11 12 13 14]\n"
     ]
    },
    {
     "name": "stderr",
     "output_type": "stream",
     "text": [
      "INFO:webcam_skin_detection:Fingers detected: 1\n",
      "INFO:webcam_skin_detection:Fingers detected: 1\n"
     ]
    },
    {
     "name": "stdout",
     "output_type": "stream",
     "text": [
      "middle point [312, 186]\n",
      "min,max [27, 136, 205, 511]\n",
      "middle point [312, 186]\n",
      "min,max [255, 369, 55, 379]\n",
      "face shall be removed\n",
      "[ 0  1  2  3  4  5  6  7  8  9 10 11 12 13]\n",
      "middle point [315, 188]\n",
      "min,max [34, 162, 178, 511]\n",
      "middle point [315, 188]\n",
      "min,max [257, 367, 60, 379]\n",
      "face shall be removed\n",
      "[ 0  1  2  3  4  5  6  7  8  9 10 11 12 13]\n"
     ]
    },
    {
     "name": "stderr",
     "output_type": "stream",
     "text": [
      "INFO:webcam_skin_detection:Fingers detected: 1\n",
      "INFO:webcam_skin_detection:Fingers detected: 1\n"
     ]
    },
    {
     "name": "stdout",
     "output_type": "stream",
     "text": [
      "middle point [318, 189]\n",
      "min,max [50, 163, 191, 511]\n",
      "middle point [318, 189]\n",
      "min,max [260, 369, 59, 380]\n",
      "face shall be removed\n",
      "[ 0  1  2  3  4  5  6  7  8  9 11 12 13]\n",
      "middle point [318, 190]\n",
      "min,max [44, 160, 213, 511]\n",
      "middle point [318, 190]\n",
      "min,max [260, 370, 56, 380]\n",
      "face shall be removed\n",
      "[ 0  1  2  3  4  5  6  7  8  9 10 11 12 13]\n"
     ]
    },
    {
     "name": "stderr",
     "output_type": "stream",
     "text": [
      "INFO:webcam_skin_detection:Fingers detected: 1\n",
      "INFO:webcam_skin_detection:Fingers detected: 2\n"
     ]
    },
    {
     "name": "stdout",
     "output_type": "stream",
     "text": [
      "middle point [316, 189]\n",
      "min,max [34, 147, 231, 511]\n",
      "middle point [316, 189]\n",
      "min,max [260, 369, 57, 380]\n",
      "face shall be removed\n",
      "[ 0  1  2  3  4  5  6  7  8  9 11 12 13]\n",
      "middle point [316, 191]\n",
      "min,max [257, 367, 56, 380]\n",
      "face shall be removed\n",
      "middle point [316, 191]\n",
      "min,max [24, 169, 160, 511]\n"
     ]
    },
    {
     "name": "stderr",
     "output_type": "stream",
     "text": [
      "INFO:webcam_skin_detection:Fingers detected: 2\n",
      "INFO:webcam_skin_detection:Fingers detected: 2\n"
     ]
    },
    {
     "name": "stdout",
     "output_type": "stream",
     "text": [
      "middle point [313, 189]\n",
      "min,max [255, 365, 58, 380]\n",
      "face shall be removed\n",
      "middle point [313, 189]\n",
      "min,max [8, 171, 104, 511]\n",
      "middle point [311, 189]\n",
      "min,max [254, 364, 38, 379]\n",
      "face shall be removed\n",
      "middle point [311, 189]\n",
      "min,max [16, 168, 108, 511]\n"
     ]
    },
    {
     "name": "stderr",
     "output_type": "stream",
     "text": [
      "INFO:webcam_skin_detection:Fingers detected: 2\n",
      "INFO:webcam_skin_detection:Fingers detected: 2\n"
     ]
    },
    {
     "name": "stdout",
     "output_type": "stream",
     "text": [
      "middle point [311, 189]\n",
      "min,max [253, 364, 24, 380]\n",
      "face shall be removed\n",
      "middle point [311, 189]\n",
      "min,max [19, 167, 117, 511]\n",
      "middle point [310, 190]\n",
      "min,max [253, 363, 24, 380]\n",
      "face shall be removed\n",
      "middle point [310, 190]\n",
      "min,max [20, 168, 123, 511]\n"
     ]
    },
    {
     "name": "stderr",
     "output_type": "stream",
     "text": [
      "INFO:webcam_skin_detection:Fingers detected: 2\n",
      "INFO:webcam_skin_detection:Fingers detected: 2\n"
     ]
    },
    {
     "name": "stdout",
     "output_type": "stream",
     "text": [
      "middle point [311, 192]\n",
      "min,max [253, 363, 58, 380]\n",
      "face shall be removed\n",
      "middle point [311, 192]\n",
      "min,max [24, 169, 127, 511]\n",
      "middle point [311, 189]\n",
      "min,max [254, 364, 40, 381]\n",
      "face shall be removed\n",
      "middle point [311, 189]\n",
      "min,max [19, 173, 131, 511]\n"
     ]
    },
    {
     "name": "stderr",
     "output_type": "stream",
     "text": [
      "INFO:webcam_skin_detection:Fingers detected: 2\n",
      "INFO:webcam_skin_detection:Fingers detected: 2\n"
     ]
    },
    {
     "name": "stdout",
     "output_type": "stream",
     "text": [
      "middle point [312, 189]\n",
      "min,max [255, 364, 58, 381]\n",
      "face shall be removed\n",
      "middle point [312, 189]\n",
      "min,max [5, 174, 130, 511]\n",
      "middle point [312, 190]\n",
      "min,max [255, 367, 58, 381]\n",
      "face shall be removed\n",
      "middle point [312, 190]\n",
      "min,max [17, 176, 60, 511]\n"
     ]
    },
    {
     "name": "stderr",
     "output_type": "stream",
     "text": [
      "INFO:webcam_skin_detection:Fingers detected: 2\n"
     ]
    },
    {
     "name": "stdout",
     "output_type": "stream",
     "text": [
      "middle point [312, 189]\n",
      "min,max [255, 368, 26, 381]\n",
      "face shall be removed\n",
      "middle point [312, 189]\n",
      "min,max [29, 176, 131, 511]\n",
      "middle point [312, 190]\n",
      "min,max [255, 368, 59, 380]\n",
      "face shall be removed\n",
      "middle point [312, 190]\n",
      "min,max [0, 174, 123, 511]\n"
     ]
    },
    {
     "name": "stderr",
     "output_type": "stream",
     "text": [
      "INFO:webcam_skin_detection:Fingers detected: 2\n",
      "INFO:webcam_skin_detection:Fingers detected: 2\n",
      "INFO:webcam_skin_detection:Fingers detected: 1\n"
     ]
    },
    {
     "name": "stdout",
     "output_type": "stream",
     "text": [
      "middle point [313, 189]\n",
      "min,max [255, 365, 60, 380]\n",
      "face shall be removed\n",
      "middle point [313, 189]\n",
      "min,max [0, 163, 107, 511]\n",
      "middle point [313, 190]\n",
      "min,max [256, 365, 23, 378]\n",
      "face shall be removed\n",
      "middle point [313, 190]\n",
      "min,max [9, 127, 61, 511]\n",
      "[ 0  1  2  3  4  5  6  7  8  9 10 11 12 13]\n"
     ]
    },
    {
     "name": "stderr",
     "output_type": "stream",
     "text": [
      "INFO:webcam_skin_detection:Fingers detected: 1\n",
      "INFO:webcam_skin_detection:Fingers detected: 1\n"
     ]
    },
    {
     "name": "stdout",
     "output_type": "stream",
     "text": [
      "middle point [312, 188]\n",
      "min,max [256, 370, 56, 375]\n",
      "face shall be removed\n",
      "middle point [312, 188]\n",
      "min,max [0, 105, 23, 486]\n",
      "[ 0  1  2  3  4  5  6  7  8  9 10 11 12 13]\n",
      "middle point [312, 187]\n",
      "min,max [256, 366, 22, 376]\n",
      "face shall be removed\n",
      "middle point [312, 187]\n",
      "min,max [0, 103, 19, 486]\n",
      "[ 0  1  2  3  4  5  6  7  8  9 10 11 12 13 14]\n"
     ]
    },
    {
     "name": "stderr",
     "output_type": "stream",
     "text": [
      "INFO:webcam_skin_detection:Fingers detected: 1\n",
      "INFO:webcam_skin_detection:Fingers detected: 1\n"
     ]
    },
    {
     "name": "stdout",
     "output_type": "stream",
     "text": [
      "middle point [312, 187]\n",
      "min,max [257, 370, 60, 358]\n",
      "face shall be removed\n",
      "middle point [312, 187]\n",
      "min,max [0, 101, 26, 511]\n",
      "[ 0  1  2  3  4  5  6  7  8  9 10 11 12 13]\n",
      "middle point [312, 187]\n",
      "min,max [290, 365, 59, 234]\n",
      "face shall be removed\n",
      "middle point [312, 187]\n",
      "min,max [0, 84, 21, 511]\n",
      "[ 0  1  2  3  4  5  6  7  8  9 10 11 12 13 14]\n"
     ]
    },
    {
     "name": "stderr",
     "output_type": "stream",
     "text": [
      "INFO:webcam_skin_detection:Fingers detected: 1\n"
     ]
    },
    {
     "name": "stdout",
     "output_type": "stream",
     "text": [
      "middle point [312, 187]\n",
      "min,max [483, 501, 424, 505]\n",
      "middle point [312, 187]\n",
      "min,max [0, 90, 4, 511]\n",
      "[ 0  1  2  3  4  5  6  7  8  9 10 11 12 13]\n",
      "middle point [312, 187]\n",
      "min,max [277, 366, 150, 377]\n",
      "face shall be removed\n",
      "middle point [312, 187]\n",
      "min,max [0, 88, 0, 477]\n"
     ]
    },
    {
     "name": "stderr",
     "output_type": "stream",
     "text": [
      "INFO:webcam_skin_detection:Fingers detected: 1\n",
      "INFO:webcam_skin_detection:Fingers detected: 1\n"
     ]
    },
    {
     "name": "stdout",
     "output_type": "stream",
     "text": [
      "[ 0  1  2  3  4  5  6  7  8  9 10 11 12 13]\n",
      "middle point [312, 187]\n",
      "min,max [257, 368, 60, 378]\n",
      "face shall be removed\n",
      "middle point [312, 187]\n",
      "min,max [0, 83, 0, 511]\n",
      "[ 0  1  2  3  4  5  6  7  8  9 10 11 12 13]\n"
     ]
    },
    {
     "name": "stderr",
     "output_type": "stream",
     "text": [
      "INFO:webcam_skin_detection:Fingers detected: 1\n",
      "INFO:webcam_skin_detection:Fingers detected: 1\n"
     ]
    },
    {
     "name": "stdout",
     "output_type": "stream",
     "text": [
      "middle point [313, 187]\n",
      "min,max [0, 87, 0, 511]\n",
      "middle point [313, 187]\n",
      "min,max [257, 369, 28, 378]\n",
      "face shall be removed\n",
      "[ 0  1  2  3  4  5  6  7  8  9 10 11 12 13 14]\n",
      "middle point [312, 185]\n",
      "min,max [257, 368, 56, 378]\n",
      "face shall be removed\n",
      "middle point [312, 185]\n",
      "min,max [0, 88, 0, 467]\n"
     ]
    },
    {
     "name": "stderr",
     "output_type": "stream",
     "text": [
      "INFO:webcam_skin_detection:Fingers detected: 1\n"
     ]
    },
    {
     "name": "stdout",
     "output_type": "stream",
     "text": [
      "[ 0  1  2  3  4  5  6  7  8  9 10 11 12 13]\n",
      "middle point [313, 179]\n",
      "min,max [251, 366, 52, 378]\n",
      "face shall be removed\n",
      "middle point [313, 179]\n",
      "min,max [0, 85, 0, 472]\n",
      "[ 0  1  2  3  4  5  6  7  8  9 10 11 12 13]\n"
     ]
    },
    {
     "name": "stderr",
     "output_type": "stream",
     "text": [
      "INFO:webcam_skin_detection:Fingers detected: 2\n",
      "WARNING:webcam_skin_detection:No contours found in the mask\n",
      "INFO:webcam_skin_detection:Fingers detected: 0\n"
     ]
    },
    {
     "name": "stdout",
     "output_type": "stream",
     "text": [
      "middle point [313, 183]\n",
      "min,max [220, 385, 55, 378]\n",
      "face shall be removed\n",
      "middle point [313, 183]\n",
      "min,max [0, 173, 15, 511]\n",
      "middle point [315, 183]\n",
      "min,max [462, 511, 151, 266]\n",
      "middle point [315, 183]\n",
      "min,max [0, 380, 0, 511]\n",
      "face shall be removed\n"
     ]
    },
    {
     "name": "stderr",
     "output_type": "stream",
     "text": [
      "INFO:webcam_skin_detection:Fingers detected: 1\n",
      "WARNING:webcam_skin_detection:No contours found in the mask\n",
      "INFO:webcam_skin_detection:Fingers detected: 0\n"
     ]
    },
    {
     "name": "stdout",
     "output_type": "stream",
     "text": [
      "middle point [319, 185]\n",
      "min,max [3, 116, 139, 511]\n",
      "middle point [319, 185]\n",
      "min,max [50, 377, 0, 383]\n",
      "face shall be removed\n",
      "[ 0  1  2  3  4  5  6  7  8  9 10 11 12 13]\n",
      "middle point [316, 188]\n",
      "min,max [0, 126, 187, 511]\n",
      "middle point [316, 188]\n",
      "min,max [129, 377, 0, 380]\n",
      "face shall be removed\n"
     ]
    },
    {
     "name": "stderr",
     "output_type": "stream",
     "text": [
      "WARNING:webcam_skin_detection:No contours found in the mask\n",
      "INFO:webcam_skin_detection:Fingers detected: 0\n",
      "WARNING:webcam_skin_detection:No contours found in the mask\n",
      "INFO:webcam_skin_detection:Fingers detected: 0\n"
     ]
    },
    {
     "name": "stdout",
     "output_type": "stream",
     "text": [
      "middle point [317, 190]\n",
      "min,max [19, 131, 221, 511]\n",
      "middle point [317, 190]\n",
      "min,max [128, 373, 0, 380]\n",
      "face shall be removed\n",
      "middle point [316, 190]\n",
      "min,max [0, 129, 230, 511]\n",
      "middle point [316, 190]\n",
      "min,max [225, 400, 0, 381]\n",
      "face shall be removed\n"
     ]
    },
    {
     "name": "stderr",
     "output_type": "stream",
     "text": [
      "WARNING:webcam_skin_detection:No contours found in the mask\n",
      "INFO:webcam_skin_detection:Fingers detected: 0\n",
      "WARNING:webcam_skin_detection:No contours found in the mask\n",
      "INFO:webcam_skin_detection:Fingers detected: 0\n"
     ]
    },
    {
     "name": "stdout",
     "output_type": "stream",
     "text": [
      "middle point [316, 192]\n",
      "min,max [17, 129, 213, 511]\n",
      "middle point [316, 192]\n",
      "min,max [222, 401, 11, 380]\n",
      "face shall be removed\n",
      "middle point [316, 192]\n",
      "min,max [20, 132, 199, 511]\n",
      "middle point [316, 192]\n",
      "min,max [221, 403, 0, 380]\n",
      "face shall be removed\n"
     ]
    },
    {
     "name": "stderr",
     "output_type": "stream",
     "text": [
      "INFO:webcam_skin_detection:Fingers detected: 1\n",
      "INFO:webcam_skin_detection:Fingers detected: 1\n"
     ]
    },
    {
     "name": "stdout",
     "output_type": "stream",
     "text": [
      "middle point [315, 192]\n",
      "min,max [16, 138, 174, 511]\n",
      "middle point [315, 192]\n",
      "min,max [222, 406, 0, 380]\n",
      "face shall be removed\n",
      "[ 0  1  2  3  4  5  6  7  8  9 10 11 12 13]\n",
      "middle point [319, 191]\n",
      "min,max [27, 139, 141, 511]\n",
      "middle point [319, 191]\n",
      "min,max [262, 405, 0, 380]\n",
      "face shall be removed\n",
      "[ 0  1  2  3  4  5  6  7  8  9 10 11 12 13 14]\n"
     ]
    },
    {
     "name": "stderr",
     "output_type": "stream",
     "text": [
      "INFO:webcam_skin_detection:Fingers detected: 1\n",
      "INFO:webcam_skin_detection:Fingers detected: 1\n"
     ]
    },
    {
     "name": "stdout",
     "output_type": "stream",
     "text": [
      "middle point [318, 189]\n",
      "min,max [263, 380, 59, 379]\n",
      "face shall be removed\n",
      "middle point [318, 189]\n",
      "min,max [10, 143, 118, 511]\n",
      "[ 0  1  2  3  4  5  6  7  8  9 10 11 12 13 14]\n",
      "middle point [318, 191]\n",
      "min,max [263, 372, 57, 378]\n",
      "face shall be removed\n",
      "middle point [318, 191]\n",
      "min,max [32, 141, 103, 511]\n"
     ]
    },
    {
     "name": "stderr",
     "output_type": "stream",
     "text": [
      "INFO:webcam_skin_detection:Fingers detected: 1\n"
     ]
    },
    {
     "name": "stdout",
     "output_type": "stream",
     "text": [
      "[ 0  1  2  3  4  5  6  7  8  9 10 11 12 13 14]\n",
      "middle point [319, 192]\n",
      "min,max [263, 372, 44, 379]\n",
      "face shall be removed\n",
      "middle point [319, 192]\n",
      "min,max [13, 126, 96, 511]\n",
      "[ 0  1  2  3  4  5  6  7  8  9 10 11 12 13]\n"
     ]
    },
    {
     "name": "stderr",
     "output_type": "stream",
     "text": [
      "INFO:webcam_skin_detection:Fingers detected: 1\n",
      "INFO:webcam_skin_detection:Fingers detected: 1\n"
     ]
    },
    {
     "name": "stdout",
     "output_type": "stream",
     "text": [
      "middle point [319, 193]\n",
      "min,max [262, 371, 62, 379]\n",
      "face shall be removed\n",
      "middle point [319, 193]\n",
      "min,max [0, 111, 107, 511]\n",
      "[ 0  1  2  3  4  5  6  7  8  9 10 11 12 13]\n",
      "middle point [317, 192]\n",
      "min,max [0, 105, 139, 511]\n",
      "middle point [317, 192]\n",
      "min,max [261, 376, 59, 378]\n",
      "face shall be removed\n"
     ]
    },
    {
     "name": "stderr",
     "output_type": "stream",
     "text": [
      "INFO:webcam_skin_detection:Fingers detected: 1\n"
     ]
    },
    {
     "name": "stdout",
     "output_type": "stream",
     "text": [
      "[ 0  1  2  3  4  5  6  7  8  9 10 11 12 13]\n",
      "middle point [316, 190]\n",
      "min,max [0, 104, 170, 511]\n",
      "middle point [316, 190]\n",
      "min,max [260, 370, 59, 379]\n",
      "face shall be removed\n",
      "[ 0  1  2  3  4  5  6  7  8  9 10 11 12 13 14]\n"
     ]
    },
    {
     "name": "stderr",
     "output_type": "stream",
     "text": [
      "INFO:webcam_skin_detection:Fingers detected: 1\n",
      "INFO:webcam_skin_detection:Fingers detected: 1\n"
     ]
    },
    {
     "name": "stdout",
     "output_type": "stream",
     "text": [
      "middle point [315, 191]\n",
      "min,max [0, 113, 200, 511]\n",
      "middle point [315, 191]\n",
      "min,max [260, 369, 62, 380]\n",
      "face shall be removed\n",
      "[ 0  1  2  3  4  5  6  7  8  9 10 11 12 13]\n",
      "middle point [314, 191]\n",
      "min,max [0, 125, 220, 511]\n",
      "middle point [314, 191]\n",
      "min,max [259, 369, 61, 379]\n",
      "face shall be removed\n",
      "[ 0  1  2  3  4  5  6  7  8  9 10 11 12 13 15]\n"
     ]
    },
    {
     "name": "stderr",
     "output_type": "stream",
     "text": [
      "INFO:webcam_skin_detection:Fingers detected: 1\n",
      "INFO:webcam_skin_detection:Fingers detected: 1\n"
     ]
    },
    {
     "name": "stdout",
     "output_type": "stream",
     "text": [
      "middle point [315, 190]\n",
      "min,max [0, 127, 203, 511]\n",
      "middle point [315, 190]\n",
      "min,max [259, 369, 27, 380]\n",
      "face shall be removed\n",
      "[ 0  1  2  3  4  5  6  7  8  9 10 11 12 13]\n",
      "middle point [316, 191]\n",
      "min,max [23, 134, 169, 511]\n",
      "middle point [316, 191]\n",
      "min,max [260, 369, 24, 380]\n",
      "face shall be removed\n"
     ]
    },
    {
     "name": "stderr",
     "output_type": "stream",
     "text": [
      "INFO:webcam_skin_detection:Fingers detected: 1\n"
     ]
    },
    {
     "name": "stdout",
     "output_type": "stream",
     "text": [
      "[ 0  1  2  3  4  5  6  7  8  9 11 12 13]\n",
      "middle point [316, 191]\n",
      "min,max [260, 370, 59, 380]\n",
      "face shall be removed\n",
      "middle point [316, 191]\n",
      "min,max [21, 148, 138, 511]\n",
      "[ 0  1  2  3  4  5  6  7  8  9 10 11 12 13]\n"
     ]
    },
    {
     "name": "stderr",
     "output_type": "stream",
     "text": [
      "INFO:webcam_skin_detection:Fingers detected: 1\n",
      "INFO:webcam_skin_detection:Fingers detected: 1\n"
     ]
    },
    {
     "name": "stdout",
     "output_type": "stream",
     "text": [
      "middle point [316, 192]\n",
      "min,max [261, 378, 60, 380]\n",
      "face shall be removed\n",
      "middle point [316, 192]\n",
      "min,max [3, 164, 113, 511]\n",
      "[ 0  1  2  3  4  5  6  7  8  9 10 11 12 13 14]\n",
      "middle point [319, 192]\n",
      "min,max [262, 378, 27, 381]\n",
      "face shall be removed\n",
      "middle point [319, 192]\n",
      "min,max [56, 182, 106, 511]\n",
      "[ 0  1  2  3  4  5  6  7  8  9 10 11 12 13]\n"
     ]
    },
    {
     "name": "stderr",
     "output_type": "stream",
     "text": [
      "INFO:webcam_skin_detection:Fingers detected: 1\n",
      "INFO:webcam_skin_detection:Fingers detected: 1\n"
     ]
    },
    {
     "name": "stdout",
     "output_type": "stream",
     "text": [
      "middle point [319, 190]\n",
      "min,max [263, 373, 55, 380]\n",
      "face shall be removed\n",
      "middle point [319, 190]\n",
      "min,max [74, 188, 119, 511]\n",
      "[ 0  1  2  3  4  5  6  7  8  9 10 11 12 13]\n",
      "middle point [320, 192]\n",
      "min,max [56, 178, 173, 511]\n",
      "middle point [320, 192]\n",
      "min,max [264, 374, 60, 381]\n",
      "face shall be removed\n"
     ]
    },
    {
     "name": "stderr",
     "output_type": "stream",
     "text": [
      "INFO:webcam_skin_detection:Fingers detected: 2\n"
     ]
    },
    {
     "name": "stdout",
     "output_type": "stream",
     "text": [
      "[ 0  1  2  3  4  5  6  7  8  9 11 12 13]\n",
      "middle point [321, 192]\n",
      "min,max [41, 155, 196, 511]\n",
      "middle point [321, 192]\n",
      "min,max [263, 374, 61, 380]\n",
      "face shall be removed\n"
     ]
    },
    {
     "name": "stderr",
     "output_type": "stream",
     "text": [
      "INFO:webcam_skin_detection:Fingers detected: 2\n",
      "INFO:webcam_skin_detection:Fingers detected: 1\n"
     ]
    },
    {
     "name": "stdout",
     "output_type": "stream",
     "text": [
      "middle point [322, 193]\n",
      "min,max [0, 132, 181, 511]\n",
      "middle point [322, 193]\n",
      "min,max [262, 376, 66, 377]\n",
      "face shall be removed\n",
      "middle point [325, 195]\n",
      "min,max [262, 370, 59, 376]\n",
      "face shall be removed\n",
      "middle point [325, 195]\n",
      "min,max [0, 113, 126, 511]\n",
      "[ 0  1  2  3  4  5  6  7  8  9 10 11 12 13 14]\n"
     ]
    },
    {
     "name": "stderr",
     "output_type": "stream",
     "text": [
      "INFO:webcam_skin_detection:Fingers detected: 1\n",
      "INFO:webcam_skin_detection:Fingers detected: 1\n"
     ]
    },
    {
     "name": "stdout",
     "output_type": "stream",
     "text": [
      "middle point [327, 196]\n",
      "min,max [262, 371, 62, 378]\n",
      "face shall be removed\n",
      "middle point [327, 196]\n",
      "min,max [0, 116, 92, 511]\n",
      "[ 0  1  2  3  4  5  6  7  8  9 10 11 12 13 14]\n",
      "middle point [328, 196]\n",
      "min,max [263, 381, 63, 379]\n",
      "face shall be removed\n",
      "middle point [328, 196]\n",
      "min,max [0, 125, 120, 511]\n",
      "[ 0  1  2  3  4  5  6  7  8  9 10 11 12 13]\n"
     ]
    },
    {
     "name": "stderr",
     "output_type": "stream",
     "text": [
      "INFO:webcam_skin_detection:Fingers detected: 1\n",
      "INFO:webcam_skin_detection:Fingers detected: 1\n"
     ]
    },
    {
     "name": "stdout",
     "output_type": "stream",
     "text": [
      "middle point [332, 193]\n",
      "min,max [1, 148, 182, 511]\n",
      "middle point [332, 193]\n",
      "min,max [261, 373, 57, 380]\n",
      "face shall be removed\n",
      "[ 0  1  2  3  4  5  6  7  8  9 10 11 12 13]\n",
      "middle point [333, 195]\n",
      "min,max [38, 152, 245, 511]\n",
      "middle point [333, 195]\n",
      "min,max [259, 383, 33, 381]\n",
      "face shall be removed\n",
      "[ 0  1  2  3  4  5  6  7  8  9 10 11 12 13]\n"
     ]
    },
    {
     "name": "stderr",
     "output_type": "stream",
     "text": [
      "WARNING:webcam_skin_detection:No contours found in the mask\n",
      "INFO:webcam_skin_detection:Fingers detected: 0\n",
      "INFO:webcam_skin_detection:Fingers detected: 1\n"
     ]
    },
    {
     "name": "stdout",
     "output_type": "stream",
     "text": [
      "middle point [332, 198]\n",
      "min,max [41, 140, 290, 511]\n",
      "middle point [332, 198]\n",
      "min,max [258, 384, 63, 382]\n",
      "face shall be removed\n",
      "middle point [328, 199]\n",
      "min,max [21, 127, 307, 511]\n",
      "middle point [328, 199]\n",
      "min,max [258, 375, 35, 382]\n",
      "face shall be removed\n",
      "[ 0  1  2  3  4  5  6  7  8  9 10 11 12 13]\n"
     ]
    },
    {
     "name": "stderr",
     "output_type": "stream",
     "text": [
      "INFO:webcam_skin_detection:Fingers detected: 2\n",
      "INFO:webcam_skin_detection:Fingers detected: 2\n"
     ]
    },
    {
     "name": "stdout",
     "output_type": "stream",
     "text": [
      "middle point [328, 198]\n",
      "min,max [257, 367, 65, 382]\n",
      "face shall be removed\n",
      "middle point [328, 198]\n",
      "min,max [0, 158, 251, 511]\n",
      "middle point [323, 198]\n",
      "min,max [255, 371, 22, 381]\n",
      "face shall be removed\n",
      "middle point [323, 198]\n",
      "min,max [14, 208, 140, 511]\n"
     ]
    },
    {
     "name": "stderr",
     "output_type": "stream",
     "text": [
      "INFO:webcam_skin_detection:Fingers detected: 4\n",
      "INFO:webcam_skin_detection:Fingers detected: 2\n"
     ]
    },
    {
     "name": "stdout",
     "output_type": "stream",
     "text": [
      "middle point [319, 192]\n",
      "min,max [254, 363, 59, 380]\n",
      "face shall be removed\n",
      "middle point [319, 192]\n",
      "min,max [0, 209, 53, 511]\n",
      "middle point [319, 191]\n",
      "min,max [255, 363, 22, 380]\n",
      "face shall be removed\n",
      "middle point [319, 191]\n",
      "min,max [20, 217, 108, 511]\n"
     ]
    },
    {
     "name": "stderr",
     "output_type": "stream",
     "text": [
      "INFO:webcam_skin_detection:Fingers detected: 4\n",
      "INFO:webcam_skin_detection:Fingers detected: 4\n"
     ]
    },
    {
     "name": "stdout",
     "output_type": "stream",
     "text": [
      "middle point [317, 191]\n",
      "min,max [255, 365, 56, 380]\n",
      "face shall be removed\n",
      "middle point [317, 191]\n",
      "min,max [2, 217, 118, 511]\n",
      "middle point [317, 190]\n",
      "min,max [255, 364, 57, 380]\n",
      "face shall be removed\n",
      "middle point [317, 190]\n",
      "min,max [28, 214, 108, 511]\n"
     ]
    },
    {
     "name": "stderr",
     "output_type": "stream",
     "text": [
      "INFO:webcam_skin_detection:Fingers detected: 2\n",
      "INFO:webcam_skin_detection:Fingers detected: 1\n"
     ]
    },
    {
     "name": "stdout",
     "output_type": "stream",
     "text": [
      "middle point [315, 191]\n",
      "min,max [255, 365, 58, 380]\n",
      "face shall be removed\n",
      "middle point [315, 191]\n",
      "min,max [31, 174, 140, 511]\n",
      "middle point [316, 192]\n",
      "min,max [33, 138, 168, 511]\n",
      "middle point [316, 192]\n",
      "min,max [255, 364, 57, 381]\n",
      "face shall be removed\n",
      "[ 0  1  2  3  4  5  6  7  8  9 11 12 13]\n"
     ]
    },
    {
     "name": "stderr",
     "output_type": "stream",
     "text": [
      "INFO:webcam_skin_detection:Fingers detected: 1\n",
      "INFO:webcam_skin_detection:Fingers detected: 1\n"
     ]
    },
    {
     "name": "stdout",
     "output_type": "stream",
     "text": [
      "middle point [315, 190]\n",
      "min,max [21, 126, 185, 511]\n",
      "middle point [315, 190]\n",
      "min,max [255, 363, 61, 383]\n",
      "face shall be removed\n",
      "[ 0  1  2  3  4  5  6  7  8  9 10 11 12 13]\n",
      "middle point [314, 191]\n",
      "min,max [30, 144, 163, 511]\n",
      "middle point [314, 191]\n",
      "min,max [255, 365, 59, 381]\n",
      "face shall be removed\n",
      "[ 0  1  2  3  4  5  6  7  8  9 10 11 12 13]\n"
     ]
    },
    {
     "name": "stderr",
     "output_type": "stream",
     "text": [
      "INFO:webcam_skin_detection:Fingers detected: 1\n",
      "INFO:webcam_skin_detection:Fingers detected: 1\n"
     ]
    },
    {
     "name": "stdout",
     "output_type": "stream",
     "text": [
      "middle point [314, 191]\n",
      "min,max [72, 178, 156, 511]\n",
      "middle point [314, 191]\n",
      "min,max [255, 364, 59, 381]\n",
      "face shall be removed\n",
      "[ 0  1  2  3  4  5  6  7  8  9 10 11 12 13]\n",
      "middle point [315, 192]\n",
      "min,max [104, 205, 171, 511]\n",
      "middle point [315, 192]\n",
      "min,max [256, 366, 59, 382]\n",
      "face shall be removed\n",
      "[ 0  1  2  3  4  5  6  7  8  9 11 12 13]\n"
     ]
    },
    {
     "name": "stderr",
     "output_type": "stream",
     "text": [
      "INFO:webcam_skin_detection:Fingers detected: 2\n",
      "INFO:webcam_skin_detection:Fingers detected: 1\n"
     ]
    },
    {
     "name": "stdout",
     "output_type": "stream",
     "text": [
      "middle point [316, 192]\n",
      "min,max [257, 367, 59, 383]\n",
      "face shall be removed\n",
      "middle point [316, 192]\n",
      "min,max [12, 215, 178, 511]\n",
      "middle point [317, 192]\n",
      "min,max [92, 200, 187, 511]\n",
      "middle point [317, 192]\n",
      "min,max [257, 368, 60, 384]\n",
      "face shall be removed\n",
      "[ 0  1  2  3  4  5  6  7  8  9 10 11 12 13]\n"
     ]
    },
    {
     "name": "stderr",
     "output_type": "stream",
     "text": [
      "INFO:webcam_skin_detection:Fingers detected: 2\n",
      "INFO:webcam_skin_detection:Fingers detected: 1\n"
     ]
    },
    {
     "name": "stdout",
     "output_type": "stream",
     "text": [
      "middle point [317, 192]\n",
      "min,max [41, 157, 205, 511]\n",
      "middle point [317, 192]\n",
      "min,max [258, 368, 59, 384]\n",
      "face shall be removed\n",
      "middle point [317, 192]\n",
      "min,max [24, 134, 202, 511]\n",
      "middle point [317, 192]\n",
      "min,max [257, 367, 60, 384]\n",
      "face shall be removed\n",
      "[ 0  1  2  3  4  5  6  7  8  9 10 11 12 13 14]\n"
     ]
    },
    {
     "name": "stderr",
     "output_type": "stream",
     "text": [
      "INFO:webcam_skin_detection:Fingers detected: 1\n",
      "INFO:webcam_skin_detection:Fingers detected: 1\n"
     ]
    },
    {
     "name": "stdout",
     "output_type": "stream",
     "text": [
      "middle point [316, 193]\n",
      "min,max [12, 144, 188, 511]\n",
      "middle point [316, 193]\n",
      "min,max [256, 367, 45, 383]\n",
      "face shall be removed\n",
      "[ 0  1  2  3  4  5  6  7  8  9 10 11 12 13]\n",
      "middle point [314, 193]\n",
      "min,max [30, 157, 210, 511]\n",
      "middle point [314, 193]\n",
      "min,max [256, 367, 36, 382]\n",
      "face shall be removed\n",
      "[ 0  1  2  3  4  5  6  7  8  9 10 11 12 13 14]\n"
     ]
    },
    {
     "name": "stderr",
     "output_type": "stream",
     "text": [
      "INFO:webcam_skin_detection:Fingers detected: 1\n",
      "INFO:webcam_skin_detection:Fingers detected: 2\n"
     ]
    },
    {
     "name": "stdout",
     "output_type": "stream",
     "text": [
      "middle point [314, 194]\n",
      "min,max [42, 190, 262, 511]\n",
      "middle point [314, 194]\n",
      "min,max [256, 366, 62, 383]\n",
      "face shall be removed\n",
      "[ 0  1  2  3  4  5  6  7  8  9 10 11 12 13]\n",
      "middle point [316, 195]\n",
      "min,max [0, 225, 275, 511]\n",
      "middle point [316, 195]\n",
      "min,max [256, 368, 61, 384]\n",
      "face shall be removed\n"
     ]
    },
    {
     "name": "stderr",
     "output_type": "stream",
     "text": [
      "INFO:webcam_skin_detection:Fingers detected: 2\n",
      "INFO:webcam_skin_detection:Fingers detected: 4\n"
     ]
    },
    {
     "name": "stdout",
     "output_type": "stream",
     "text": [
      "middle point [317, 196]\n",
      "min,max [257, 368, 61, 384]\n",
      "face shall be removed\n",
      "middle point [317, 196]\n",
      "min,max [0, 227, 269, 511]\n",
      "middle point [316, 196]\n",
      "min,max [257, 369, 61, 384]\n",
      "face shall be removed\n",
      "middle point [316, 196]\n",
      "min,max [13, 211, 279, 511]\n"
     ]
    },
    {
     "name": "stderr",
     "output_type": "stream",
     "text": [
      "INFO:webcam_skin_detection:Fingers detected: 4\n",
      "INFO:webcam_skin_detection:Fingers detected: 3\n"
     ]
    },
    {
     "name": "stdout",
     "output_type": "stream",
     "text": [
      "middle point [315, 198]\n",
      "min,max [256, 367, 65, 385]\n",
      "face shall be removed\n",
      "middle point [315, 198]\n",
      "min,max [0, 188, 297, 511]\n",
      "middle point [313, 197]\n",
      "min,max [19, 186, 303, 511]\n",
      "middle point [313, 197]\n",
      "min,max [254, 366, 64, 385]\n",
      "face shall be removed\n"
     ]
    },
    {
     "name": "stderr",
     "output_type": "stream",
     "text": [
      "WARNING:webcam_skin_detection:No contours found in the mask\n",
      "INFO:webcam_skin_detection:Fingers detected: 0\n",
      "WARNING:webcam_skin_detection:No contours found in the mask\n",
      "INFO:webcam_skin_detection:Fingers detected: 0\n"
     ]
    },
    {
     "name": "stdout",
     "output_type": "stream",
     "text": [
      "middle point [308, 193]\n",
      "min,max [34, 102, 373, 511]\n",
      "middle point [308, 193]\n",
      "min,max [252, 364, 61, 385]\n",
      "face shall be removed\n",
      "middle point [296, 190]\n",
      "min,max [0, 66, 433, 511]\n",
      "middle point [296, 190]\n",
      "min,max [246, 358, 60, 383]\n",
      "face shall be removed\n"
     ]
    },
    {
     "name": "stderr",
     "output_type": "stream",
     "text": [
      "WARNING:webcam_skin_detection:No contours found in the mask\n",
      "INFO:webcam_skin_detection:Fingers detected: 0\n",
      "WARNING:webcam_skin_detection:No contours found in the mask\n",
      "INFO:webcam_skin_detection:Fingers detected: 0\n"
     ]
    },
    {
     "name": "stdout",
     "output_type": "stream",
     "text": [
      "middle point [279, 190]\n",
      "min,max [0, 69, 346, 511]\n",
      "middle point [279, 190]\n",
      "min,max [233, 343, 55, 375]\n",
      "face shall be removed\n",
      "middle point [259, 200]\n",
      "min,max [0, 119, 351, 511]\n",
      "middle point [259, 200]\n",
      "min,max [219, 324, 64, 366]\n",
      "face shall be removed\n"
     ]
    },
    {
     "name": "stderr",
     "output_type": "stream",
     "text": [
      "INFO:webcam_skin_detection:Fingers detected: 1\n",
      "WARNING:webcam_skin_detection:No contours found in the mask\n",
      "INFO:webcam_skin_detection:Fingers detected: 0\n"
     ]
    },
    {
     "name": "stdout",
     "output_type": "stream",
     "text": [
      "middle point [246, 197]\n",
      "min,max [0, 122, 378, 511]\n",
      "middle point [246, 197]\n",
      "min,max [204, 311, 40, 362]\n",
      "face shall be removed\n",
      "[ 0  1  2  3  4  5  6  7  8  9 10 11 12 13 14]\n",
      "middle point [231, 193]\n",
      "min,max [17, 112, 365, 511]\n",
      "middle point [231, 193]\n",
      "min,max [184, 303, 55, 357]\n",
      "face shall be removed\n"
     ]
    },
    {
     "name": "stderr",
     "output_type": "stream",
     "text": [
      "WARNING:webcam_skin_detection:No contours found in the mask\n",
      "INFO:webcam_skin_detection:Fingers detected: 0\n",
      "WARNING:webcam_skin_detection:No contours found in the mask\n",
      "INFO:webcam_skin_detection:Fingers detected: 0\n"
     ]
    },
    {
     "name": "stdout",
     "output_type": "stream",
     "text": [
      "middle point [224, 179]\n",
      "min,max [393, 508, 361, 511]\n",
      "middle point [224, 179]\n",
      "min,max [176, 302, 1, 357]\n",
      "face shall be removed\n",
      "middle point [225, 170]\n",
      "min,max [25, 108, 344, 511]\n",
      "middle point [225, 170]\n",
      "min,max [162, 301, 20, 361]\n",
      "face shall be removed\n"
     ]
    },
    {
     "name": "stderr",
     "output_type": "stream",
     "text": [
      "WARNING:webcam_skin_detection:No contours found in the mask\n",
      "INFO:webcam_skin_detection:Fingers detected: 0\n",
      "WARNING:webcam_skin_detection:No contours found in the mask\n",
      "INFO:webcam_skin_detection:Fingers detected: 0\n"
     ]
    },
    {
     "name": "stdout",
     "output_type": "stream",
     "text": [
      "middle point [215, 168]\n",
      "min,max [412, 511, 389, 511]\n",
      "middle point [215, 168]\n",
      "min,max [170, 299, 0, 368]\n",
      "face shall be removed\n",
      "middle point [198, 166]\n",
      "min,max [0, 84, 374, 511]\n",
      "middle point [198, 166]\n",
      "min,max [156, 297, 0, 366]\n",
      "face shall be removed\n"
     ]
    },
    {
     "name": "stderr",
     "output_type": "stream",
     "text": [
      "WARNING:webcam_skin_detection:No contours found in the mask\n",
      "INFO:webcam_skin_detection:Fingers detected: 0\n",
      "WARNING:webcam_skin_detection:No contours found in the mask\n",
      "INFO:webcam_skin_detection:Fingers detected: 0\n"
     ]
    },
    {
     "name": "stdout",
     "output_type": "stream",
     "text": [
      "middle point [198, 166]\n",
      "min,max [0, 73, 412, 511]\n",
      "middle point [198, 166]\n",
      "min,max [128, 290, 0, 374]\n",
      "face shall be removed\n",
      "middle point [198, 166]\n",
      "min,max [180, 279, 454, 511]\n",
      "middle point [198, 166]\n",
      "min,max [87, 275, 0, 392]\n",
      "face shall be removed\n"
     ]
    },
    {
     "name": "stderr",
     "output_type": "stream",
     "text": [
      "WARNING:webcam_skin_detection:No contours found in the mask\n",
      "INFO:webcam_skin_detection:Fingers detected: 0\n",
      "WARNING:webcam_skin_detection:No contours found in the mask\n",
      "INFO:webcam_skin_detection:Fingers detected: 0\n"
     ]
    },
    {
     "name": "stdout",
     "output_type": "stream",
     "text": [
      "middle point [198, 166]\n",
      "min,max [241, 288, 452, 511]\n",
      "middle point [198, 166]\n",
      "min,max [2, 251, 0, 370]\n",
      "face shall be removed\n",
      "middle point [198, 166]\n",
      "min,max [94, 145, 396, 511]\n",
      "middle point [198, 166]\n",
      "min,max [0, 241, 0, 272]\n",
      "face shall be removed\n"
     ]
    },
    {
     "name": "stderr",
     "output_type": "stream",
     "text": [
      "INFO:webcam_skin_detection:Fingers detected: 1\n",
      "INFO:webcam_skin_detection:Fingers detected: 1\n"
     ]
    },
    {
     "name": "stdout",
     "output_type": "stream",
     "text": [
      "middle point [198, 166]\n",
      "min,max [38, 76, 0, 47]\n",
      "middle point [198, 166]\n",
      "min,max [106, 215, 0, 103]\n",
      "[ 0  1  2  3  4  5  6  7  8  9 10 11 12 13]\n",
      "middle point [198, 166]\n",
      "min,max [45, 59, 46, 105]\n",
      "middle point [198, 166]\n",
      "min,max [103, 126, 86, 157]\n",
      "[ 0  1  2  3  4  5  6  7  8 10 11 12]\n"
     ]
    },
    {
     "name": "stderr",
     "output_type": "stream",
     "text": [
      "INFO:webcam_skin_detection:Fingers detected: 1\n",
      "INFO:webcam_skin_detection:Fingers detected: 1\n"
     ]
    },
    {
     "name": "stdout",
     "output_type": "stream",
     "text": [
      "middle point [198, 166]\n",
      "min,max [368, 389, 445, 504]\n",
      "middle point [198, 166]\n",
      "min,max [90, 115, 13, 82]\n",
      "[0 1 2 3 6 7]\n",
      "middle point [198, 166]\n",
      "min,max [0, 10, 428, 511]\n",
      "middle point [198, 166]\n",
      "min,max [71, 107, 3, 74]\n",
      "[0 1 2 5 6]\n"
     ]
    },
    {
     "name": "stderr",
     "output_type": "stream",
     "text": [
      "INFO:webcam_skin_detection:Fingers detected: 1\n",
      "INFO:webcam_skin_detection:Fingers detected: 1\n"
     ]
    },
    {
     "name": "stdout",
     "output_type": "stream",
     "text": [
      "middle point [198, 166]\n",
      "min,max [388, 400, 0, 31]\n",
      "middle point [198, 166]\n",
      "min,max [78, 102, 0, 55]\n",
      "[0 1 5]\n",
      "middle point [198, 166]\n",
      "min,max [73, 95, 0, 66]\n",
      "middle point [198, 166]\n",
      "min,max [372, 437, 467, 511]\n",
      "[ 0  1  2  3  5  6  7 10]\n"
     ]
    },
    {
     "name": "stderr",
     "output_type": "stream",
     "text": [
      "INFO:webcam_skin_detection:Fingers detected: 1\n",
      "INFO:webcam_skin_detection:Fingers detected: 1\n"
     ]
    },
    {
     "name": "stdout",
     "output_type": "stream",
     "text": [
      "middle point [198, 166]\n",
      "min,max [470, 497, 444, 507]\n",
      "middle point [198, 166]\n",
      "min,max [0, 48, 430, 511]\n",
      "[ 0  1  2  3  4  5  6  7  8  9 10 11 12 13 14]\n",
      "middle point [198, 166]\n",
      "min,max [76, 95, 237, 300]\n",
      "middle point [198, 166]\n",
      "min,max [104, 184, 0, 75]\n",
      "[ 0  1  2  3  4  5  6  7  8  9 11 12 13]\n"
     ]
    },
    {
     "name": "stderr",
     "output_type": "stream",
     "text": [
      "WARNING:webcam_skin_detection:No contours found in the mask\n",
      "INFO:webcam_skin_detection:Fingers detected: 0\n",
      "WARNING:webcam_skin_detection:No contours found in the mask\n",
      "INFO:webcam_skin_detection:Fingers detected: 0\n"
     ]
    },
    {
     "name": "stdout",
     "output_type": "stream",
     "text": [
      "middle point [198, 166]\n",
      "min,max [114, 132, 422, 486]\n",
      "middle point [198, 166]\n",
      "min,max [44, 231, 0, 234]\n",
      "face shall be removed\n",
      "middle point [198, 166]\n",
      "min,max [433, 486, 407, 504]\n",
      "middle point [198, 166]\n",
      "min,max [70, 249, 0, 321]\n",
      "face shall be removed\n"
     ]
    },
    {
     "name": "stderr",
     "output_type": "stream",
     "text": [
      "WARNING:webcam_skin_detection:No contours found in the mask\n",
      "INFO:webcam_skin_detection:Fingers detected: 0\n",
      "WARNING:webcam_skin_detection:No contours found in the mask\n",
      "INFO:webcam_skin_detection:Fingers detected: 0\n"
     ]
    },
    {
     "name": "stdout",
     "output_type": "stream",
     "text": [
      "middle point [214, 135]\n",
      "min,max [422, 464, 388, 504]\n",
      "middle point [214, 135]\n",
      "min,max [126, 274, 0, 359]\n",
      "face shall be removed\n",
      "middle point [238, 142]\n",
      "min,max [438, 487, 393, 509]\n",
      "middle point [238, 142]\n",
      "min,max [162, 284, 0, 346]\n",
      "face shall be removed\n"
     ]
    },
    {
     "name": "stderr",
     "output_type": "stream",
     "text": [
      "WARNING:webcam_skin_detection:No contours found in the mask\n",
      "INFO:webcam_skin_detection:Fingers detected: 0\n",
      "INFO:webcam_skin_detection:Fingers detected: 2\n"
     ]
    },
    {
     "name": "stdout",
     "output_type": "stream",
     "text": [
      "middle point [238, 142]\n",
      "min,max [391, 497, 373, 511]\n",
      "middle point [238, 142]\n",
      "min,max [184, 290, 22, 335]\n",
      "face shall be removed\n",
      "middle point [238, 142]\n",
      "min,max [338, 495, 313, 511]\n",
      "middle point [238, 142]\n",
      "min,max [196, 302, 15, 330]\n",
      "face shall be removed\n"
     ]
    },
    {
     "name": "stderr",
     "output_type": "stream",
     "text": [
      "INFO:webcam_skin_detection:Fingers detected: 1\n",
      "WARNING:webcam_skin_detection:No contours found in the mask\n",
      "INFO:webcam_skin_detection:Fingers detected: 0\n"
     ]
    },
    {
     "name": "stdout",
     "output_type": "stream",
     "text": [
      "middle point [238, 142]\n",
      "min,max [244, 377, 345, 511]\n",
      "middle point [238, 142]\n",
      "min,max [197, 293, 45, 345]\n",
      "face shall be removed\n",
      "[ 0  1  2  3  4  5  6  7  8  9 10 11 12 13]\n",
      "middle point [238, 142]\n",
      "min,max [428, 511, 380, 511]\n",
      "middle point [238, 142]\n",
      "min,max [171, 284, 48, 480]\n",
      "face shall be removed\n"
     ]
    },
    {
     "name": "stderr",
     "output_type": "stream",
     "text": [
      "WARNING:webcam_skin_detection:No contours found in the mask\n",
      "INFO:webcam_skin_detection:Fingers detected: 0\n",
      "WARNING:webcam_skin_detection:No contours found in the mask\n",
      "INFO:webcam_skin_detection:Fingers detected: 0\n"
     ]
    },
    {
     "name": "stdout",
     "output_type": "stream",
     "text": [
      "middle point [238, 142]\n",
      "min,max [392, 511, 382, 511]\n",
      "middle point [238, 142]\n",
      "min,max [173, 285, 42, 371]\n",
      "face shall be removed\n",
      "middle point [238, 142]\n",
      "min,max [379, 511, 410, 511]\n",
      "middle point [238, 142]\n",
      "min,max [158, 268, 72, 361]\n",
      "face shall be removed\n"
     ]
    },
    {
     "name": "stderr",
     "output_type": "stream",
     "text": [
      "WARNING:webcam_skin_detection:No contours found in the mask\n",
      "INFO:webcam_skin_detection:Fingers detected: 0\n",
      "WARNING:webcam_skin_detection:No contours found in the mask\n",
      "INFO:webcam_skin_detection:Fingers detected: 0\n"
     ]
    },
    {
     "name": "stdout",
     "output_type": "stream",
     "text": [
      "middle point [238, 142]\n",
      "min,max [377, 511, 387, 511]\n",
      "middle point [238, 142]\n",
      "min,max [164, 267, 86, 375]\n",
      "face shall be removed\n",
      "middle point [238, 142]\n",
      "min,max [381, 498, 416, 511]\n",
      "middle point [238, 142]\n",
      "min,max [163, 265, 85, 392]\n",
      "face shall be removed\n"
     ]
    },
    {
     "name": "stderr",
     "output_type": "stream",
     "text": [
      "WARNING:webcam_skin_detection:No contours found in the mask\n",
      "INFO:webcam_skin_detection:Fingers detected: 0\n",
      "WARNING:webcam_skin_detection:No contours found in the mask\n",
      "INFO:webcam_skin_detection:Fingers detected: 0\n"
     ]
    },
    {
     "name": "stdout",
     "output_type": "stream",
     "text": [
      "middle point [238, 142]\n",
      "min,max [394, 511, 385, 511]\n",
      "middle point [238, 142]\n",
      "min,max [146, 265, 76, 391]\n",
      "face shall be removed\n",
      "middle point [238, 142]\n",
      "min,max [0, 77, 363, 511]\n",
      "middle point [238, 142]\n",
      "min,max [163, 265, 55, 403]\n",
      "face shall be removed\n"
     ]
    },
    {
     "name": "stderr",
     "output_type": "stream",
     "text": [
      "WARNING:webcam_skin_detection:No contours found in the mask\n",
      "INFO:webcam_skin_detection:Fingers detected: 0\n",
      "WARNING:webcam_skin_detection:No contours found in the mask\n",
      "INFO:webcam_skin_detection:Fingers detected: 0\n"
     ]
    },
    {
     "name": "stdout",
     "output_type": "stream",
     "text": [
      "middle point [238, 142]\n",
      "min,max [372, 511, 408, 511]\n",
      "middle point [238, 142]\n",
      "min,max [167, 270, 78, 429]\n",
      "face shall be removed\n",
      "middle point [238, 142]\n",
      "min,max [364, 511, 389, 511]\n",
      "middle point [238, 142]\n",
      "min,max [167, 310, 45, 511]\n",
      "face shall be removed\n"
     ]
    },
    {
     "name": "stderr",
     "output_type": "stream",
     "text": [
      "WARNING:webcam_skin_detection:No contours found in the mask\n",
      "INFO:webcam_skin_detection:Fingers detected: 0\n",
      "WARNING:webcam_skin_detection:No contours found in the mask\n",
      "INFO:webcam_skin_detection:Fingers detected: 0\n"
     ]
    },
    {
     "name": "stdout",
     "output_type": "stream",
     "text": [
      "middle point [238, 142]\n",
      "min,max [0, 73, 373, 511]\n",
      "middle point [238, 142]\n",
      "min,max [182, 279, 90, 347]\n",
      "face shall be removed\n",
      "middle point [238, 142]\n",
      "min,max [390, 495, 409, 511]\n",
      "middle point [238, 142]\n",
      "min,max [182, 281, 39, 347]\n",
      "face shall be removed\n"
     ]
    },
    {
     "name": "stderr",
     "output_type": "stream",
     "text": [
      "INFO:webcam_skin_detection:Fingers detected: 1\n",
      "WARNING:webcam_skin_detection:No contours found in the mask\n",
      "INFO:webcam_skin_detection:Fingers detected: 0\n"
     ]
    },
    {
     "name": "stdout",
     "output_type": "stream",
     "text": [
      "middle point [238, 142]\n",
      "min,max [411, 511, 274, 511]\n",
      "middle point [238, 142]\n",
      "min,max [181, 281, 75, 355]\n",
      "face shall be removed\n",
      "[ 0  1  2  3  4  5  6  7  8  9 10 11 12 13]\n",
      "middle point [238, 142]\n",
      "min,max [59, 91, 380, 511]\n",
      "middle point [238, 142]\n",
      "min,max [149, 511, 73, 511]\n",
      "face shall be removed\n"
     ]
    },
    {
     "name": "stderr",
     "output_type": "stream",
     "text": [
      "WARNING:webcam_skin_detection:No contours found in the mask\n",
      "INFO:webcam_skin_detection:Fingers detected: 0\n",
      "WARNING:webcam_skin_detection:No contours found in the mask\n",
      "INFO:webcam_skin_detection:Fingers detected: 0\n"
     ]
    },
    {
     "name": "stdout",
     "output_type": "stream",
     "text": [
      "middle point [238, 142]\n",
      "min,max [8, 87, 378, 511]\n",
      "middle point [238, 142]\n",
      "min,max [165, 268, 42, 365]\n",
      "face shall be removed\n",
      "middle point [238, 142]\n",
      "min,max [0, 79, 377, 511]\n",
      "middle point [238, 142]\n",
      "min,max [153, 258, 75, 364]\n",
      "face shall be removed\n"
     ]
    },
    {
     "name": "stderr",
     "output_type": "stream",
     "text": [
      "WARNING:webcam_skin_detection:No contours found in the mask\n",
      "INFO:webcam_skin_detection:Fingers detected: 0\n",
      "WARNING:webcam_skin_detection:No contours found in the mask\n",
      "INFO:webcam_skin_detection:Fingers detected: 0\n"
     ]
    },
    {
     "name": "stdout",
     "output_type": "stream",
     "text": [
      "middle point [175, 186]\n",
      "min,max [0, 88, 379, 511]\n",
      "middle point [175, 186]\n",
      "min,max [115, 239, 30, 361]\n",
      "face shall be removed\n",
      "middle point [175, 186]\n",
      "min,max [399, 491, 410, 511]\n",
      "middle point [175, 186]\n",
      "min,max [87, 211, 31, 379]\n",
      "face shall be removed\n"
     ]
    },
    {
     "name": "stderr",
     "output_type": "stream",
     "text": [
      "INFO:webcam_skin_detection:Fingers detected: 1\n"
     ]
    },
    {
     "name": "stdout",
     "output_type": "stream",
     "text": [
      "middle point [175, 186]\n",
      "min,max [336, 409, 370, 511]\n",
      "middle point [175, 186]\n",
      "min,max [0, 137, 35, 408]\n",
      "[ 0  1  2  3  4  5  6  7  8  9 10 11 12 13]\n",
      "middle point [175, 186]\n",
      "min,max [0, 28, 310, 472]\n",
      "middle point [175, 186]\n",
      "min,max [314, 511, 0, 337]\n"
     ]
    },
    {
     "name": "stderr",
     "output_type": "stream",
     "text": [
      "INFO:webcam_skin_detection:Fingers detected: 1\n",
      "INFO:webcam_skin_detection:Fingers detected: 1\n"
     ]
    },
    {
     "name": "stdout",
     "output_type": "stream",
     "text": [
      "[ 0  1  2  3  4  5  6  7  8  9 10 11 12 13 14]\n",
      "middle point [175, 186]\n",
      "min,max [171, 199, 0, 64]\n",
      "middle point [175, 186]\n",
      "min,max [197, 404, 0, 450]\n",
      "[ 0  1  2  3  4  5  6  7  8  9 10 11 12 13 14]\n"
     ]
    },
    {
     "name": "stderr",
     "output_type": "stream",
     "text": [
      "WARNING:webcam_skin_detection:No contours found in the mask\n",
      "INFO:webcam_skin_detection:Fingers detected: 0\n",
      "WARNING:webcam_skin_detection:No contours found in the mask\n",
      "INFO:webcam_skin_detection:Fingers detected: 0\n"
     ]
    },
    {
     "name": "stdout",
     "output_type": "stream",
     "text": [
      "middle point [175, 186]\n",
      "min,max [149, 166, 74, 156]\n",
      "middle point [175, 186]\n",
      "min,max [169, 338, 0, 351]\n",
      "face shall be removed\n",
      "middle point [175, 186]\n",
      "min,max [165, 315, 0, 365]\n",
      "face shall be removed\n"
     ]
    },
    {
     "name": "stderr",
     "output_type": "stream",
     "text": [
      "INFO:webcam_skin_detection:Fingers detected: 1\n",
      "WARNING:webcam_skin_detection:No contours found in the mask\n",
      "INFO:webcam_skin_detection:Fingers detected: 0\n"
     ]
    },
    {
     "name": "stdout",
     "output_type": "stream",
     "text": [
      "middle point [175, 186]\n",
      "min,max [320, 345, 0, 101]\n",
      "middle point [175, 186]\n",
      "min,max [176, 300, 37, 383]\n",
      "[ 0  1  2  3  4  5  6  7  8  9 10 11 12 13]\n",
      "middle point [251, 228]\n",
      "min,max [130, 184, 0, 52]\n",
      "middle point [251, 228]\n",
      "min,max [193, 306, 122, 418]\n",
      "face shall be removed\n"
     ]
    },
    {
     "name": "stderr",
     "output_type": "stream",
     "text": [
      "WARNING:webcam_skin_detection:No contours found in the mask\n",
      "INFO:webcam_skin_detection:Fingers detected: 0\n",
      "WARNING:webcam_skin_detection:No contours found in the mask\n",
      "INFO:webcam_skin_detection:Fingers detected: 0\n"
     ]
    },
    {
     "name": "stdout",
     "output_type": "stream",
     "text": [
      "middle point [236, 227]\n",
      "min,max [155, 203, 46, 165]\n",
      "middle point [236, 227]\n",
      "min,max [178, 289, 123, 413]\n",
      "face shall be removed\n",
      "middle point [227, 223]\n",
      "min,max [84, 132, 61, 218]\n",
      "middle point [227, 223]\n",
      "min,max [172, 285, 114, 409]\n",
      "face shall be removed\n"
     ]
    },
    {
     "name": "stderr",
     "output_type": "stream",
     "text": [
      "WARNING:webcam_skin_detection:No contours found in the mask\n",
      "INFO:webcam_skin_detection:Fingers detected: 0\n",
      "WARNING:webcam_skin_detection:No contours found in the mask\n",
      "INFO:webcam_skin_detection:Fingers detected: 0\n"
     ]
    },
    {
     "name": "stdout",
     "output_type": "stream",
     "text": [
      "middle point [241, 160]\n",
      "min,max [324, 353, 147, 223]\n",
      "middle point [241, 160]\n",
      "min,max [183, 299, 44, 346]\n",
      "face shall be removed\n",
      "middle point [241, 160]\n",
      "min,max [333, 362, 78, 144]\n",
      "middle point [241, 160]\n",
      "min,max [170, 296, 0, 266]\n",
      "face shall be removed\n"
     ]
    },
    {
     "name": "stderr",
     "output_type": "stream",
     "text": [
      "WARNING:webcam_skin_detection:No contours found in the mask\n",
      "INFO:webcam_skin_detection:Fingers detected: 0\n",
      "WARNING:webcam_skin_detection:No contours found in the mask\n",
      "INFO:webcam_skin_detection:Fingers detected: 0\n"
     ]
    },
    {
     "name": "stdout",
     "output_type": "stream",
     "text": [
      "middle point [241, 160]\n",
      "min,max [332, 375, 114, 192]\n",
      "middle point [241, 160]\n",
      "min,max [159, 286, 0, 287]\n",
      "face shall be removed\n",
      "middle point [241, 160]\n",
      "min,max [294, 322, 70, 144]\n",
      "middle point [241, 160]\n",
      "min,max [154, 283, 0, 274]\n",
      "face shall be removed\n"
     ]
    },
    {
     "name": "stderr",
     "output_type": "stream",
     "text": [
      "WARNING:webcam_skin_detection:No contours found in the mask\n",
      "INFO:webcam_skin_detection:Fingers detected: 0\n",
      "WARNING:webcam_skin_detection:No contours found in the mask\n",
      "INFO:webcam_skin_detection:Fingers detected: 0\n"
     ]
    },
    {
     "name": "stdout",
     "output_type": "stream",
     "text": [
      "middle point [241, 160]\n",
      "min,max [337, 356, 79, 180]\n",
      "middle point [241, 160]\n",
      "min,max [159, 295, 0, 275]\n",
      "face shall be removed\n",
      "middle point [230, 117]\n",
      "min,max [327, 375, 134, 231]\n",
      "middle point [230, 117]\n",
      "min,max [171, 294, 0, 322]\n",
      "face shall be removed\n"
     ]
    },
    {
     "name": "stderr",
     "output_type": "stream",
     "text": [
      "WARNING:webcam_skin_detection:No contours found in the mask\n",
      "INFO:webcam_skin_detection:Fingers detected: 0\n",
      "WARNING:webcam_skin_detection:No contours found in the mask\n",
      "INFO:webcam_skin_detection:Fingers detected: 0\n"
     ]
    },
    {
     "name": "stdout",
     "output_type": "stream",
     "text": [
      "middle point [236, 176]\n",
      "min,max [112, 149, 35, 142]\n",
      "middle point [236, 176]\n",
      "min,max [176, 297, 39, 372]\n",
      "face shall be removed\n",
      "middle point [238, 269]\n",
      "min,max [404, 472, 315, 435]\n",
      "middle point [238, 269]\n",
      "min,max [182, 297, 141, 455]\n",
      "face shall be removed\n"
     ]
    },
    {
     "name": "stderr",
     "output_type": "stream",
     "text": [
      "WARNING:webcam_skin_detection:No contours found in the mask\n",
      "INFO:webcam_skin_detection:Fingers detected: 0\n",
      "WARNING:webcam_skin_detection:No contours found in the mask\n",
      "INFO:webcam_skin_detection:Fingers detected: 0\n"
     ]
    },
    {
     "name": "stdout",
     "output_type": "stream",
     "text": [
      "middle point [238, 258]\n",
      "min,max [0, 141, 63, 203]\n",
      "middle point [238, 258]\n",
      "min,max [185, 301, 127, 440]\n",
      "face shall be removed\n",
      "middle point [235, 268]\n",
      "min,max [397, 439, 315, 439]\n",
      "middle point [235, 268]\n",
      "min,max [185, 302, 137, 445]\n",
      "face shall be removed\n"
     ]
    },
    {
     "name": "stderr",
     "output_type": "stream",
     "text": [
      "WARNING:webcam_skin_detection:No contours found in the mask\n",
      "INFO:webcam_skin_detection:Fingers detected: 0\n",
      "WARNING:webcam_skin_detection:No contours found in the mask\n",
      "INFO:webcam_skin_detection:Fingers detected: 0\n"
     ]
    },
    {
     "name": "stdout",
     "output_type": "stream",
     "text": [
      "middle point [236, 254]\n",
      "min,max [83, 174, 72, 270]\n",
      "middle point [236, 254]\n",
      "min,max [186, 303, 124, 434]\n",
      "face shall be removed\n",
      "middle point [237, 254]\n",
      "min,max [43, 140, 58, 212]\n",
      "middle point [237, 254]\n",
      "min,max [186, 304, 120, 433]\n",
      "face shall be removed\n"
     ]
    },
    {
     "name": "stderr",
     "output_type": "stream",
     "text": [
      "WARNING:webcam_skin_detection:No contours found in the mask\n",
      "INFO:webcam_skin_detection:Fingers detected: 0\n",
      "WARNING:webcam_skin_detection:No contours found in the mask\n",
      "INFO:webcam_skin_detection:Fingers detected: 0\n"
     ]
    },
    {
     "name": "stdout",
     "output_type": "stream",
     "text": [
      "middle point [237, 254]\n",
      "min,max [0, 73, 56, 178]\n",
      "middle point [237, 254]\n",
      "min,max [185, 303, 117, 431]\n",
      "face shall be removed\n",
      "middle point [240, 248]\n",
      "min,max [96, 166, 110, 213]\n",
      "middle point [240, 248]\n",
      "min,max [187, 304, 115, 430]\n",
      "face shall be removed\n"
     ]
    },
    {
     "name": "stderr",
     "output_type": "stream",
     "text": [
      "WARNING:webcam_skin_detection:No contours found in the mask\n",
      "INFO:webcam_skin_detection:Fingers detected: 0\n",
      "WARNING:webcam_skin_detection:No contours found in the mask\n",
      "INFO:webcam_skin_detection:Fingers detected: 0\n"
     ]
    },
    {
     "name": "stdout",
     "output_type": "stream",
     "text": [
      "middle point [241, 244]\n",
      "min,max [0, 59, 32, 172]\n",
      "middle point [241, 244]\n",
      "min,max [187, 303, 112, 428]\n",
      "face shall be removed\n",
      "middle point [245, 237]\n",
      "min,max [119, 174, 77, 211]\n",
      "middle point [245, 237]\n",
      "min,max [189, 304, 113, 429]\n",
      "face shall be removed\n"
     ]
    },
    {
     "name": "stderr",
     "output_type": "stream",
     "text": [
      "WARNING:webcam_skin_detection:No contours found in the mask\n",
      "INFO:webcam_skin_detection:Fingers detected: 0\n",
      "WARNING:webcam_skin_detection:No contours found in the mask\n",
      "INFO:webcam_skin_detection:Fingers detected: 0\n"
     ]
    },
    {
     "name": "stdout",
     "output_type": "stream",
     "text": [
      "middle point [247, 234]\n",
      "min,max [0, 66, 2, 143]\n",
      "middle point [247, 234]\n",
      "min,max [190, 305, 107, 422]\n",
      "face shall be removed\n",
      "middle point [246, 226]\n",
      "min,max [126, 179, 84, 170]\n",
      "middle point [246, 226]\n",
      "min,max [187, 302, 104, 418]\n",
      "face shall be removed\n"
     ]
    },
    {
     "name": "stderr",
     "output_type": "stream",
     "text": [
      "WARNING:webcam_skin_detection:No contours found in the mask\n",
      "INFO:webcam_skin_detection:Fingers detected: 0\n",
      "WARNING:webcam_skin_detection:No contours found in the mask\n",
      "INFO:webcam_skin_detection:Fingers detected: 0\n"
     ]
    },
    {
     "name": "stdout",
     "output_type": "stream",
     "text": [
      "middle point [246, 218]\n",
      "min,max [323, 351, 217, 354]\n",
      "middle point [246, 218]\n",
      "min,max [188, 302, 95, 410]\n",
      "face shall be removed\n",
      "middle point [246, 200]\n",
      "min,max [127, 174, 32, 161]\n",
      "middle point [246, 200]\n",
      "min,max [189, 303, 88, 402]\n",
      "face shall be removed\n"
     ]
    },
    {
     "name": "stderr",
     "output_type": "stream",
     "text": [
      "WARNING:webcam_skin_detection:No contours found in the mask\n",
      "INFO:webcam_skin_detection:Fingers detected: 0\n",
      "WARNING:webcam_skin_detection:No contours found in the mask\n",
      "INFO:webcam_skin_detection:Fingers detected: 0\n"
     ]
    },
    {
     "name": "stdout",
     "output_type": "stream",
     "text": [
      "middle point [251, 201]\n",
      "min,max [107, 172, 28, 149]\n",
      "middle point [251, 201]\n",
      "min,max [191, 306, 80, 397]\n",
      "face shall be removed\n",
      "middle point [255, 180]\n",
      "min,max [134, 154, 8, 122]\n",
      "middle point [255, 180]\n",
      "min,max [193, 309, 63, 385]\n",
      "face shall be removed\n"
     ]
    },
    {
     "name": "stderr",
     "output_type": "stream",
     "text": [
      "WARNING:webcam_skin_detection:No contours found in the mask\n",
      "INFO:webcam_skin_detection:Fingers detected: 0\n",
      "WARNING:webcam_skin_detection:No contours found in the mask\n",
      "INFO:webcam_skin_detection:Fingers detected: 0\n"
     ]
    },
    {
     "name": "stdout",
     "output_type": "stream",
     "text": [
      "middle point [258, 156]\n",
      "min,max [71, 115, 0, 51]\n",
      "middle point [258, 156]\n",
      "min,max [194, 313, 40, 370]\n",
      "face shall be removed\n",
      "middle point [258, 144]\n",
      "min,max [150, 185, 0, 116]\n",
      "middle point [258, 144]\n",
      "min,max [194, 314, 35, 361]\n",
      "face shall be removed\n"
     ]
    },
    {
     "name": "stderr",
     "output_type": "stream",
     "text": [
      "WARNING:webcam_skin_detection:No contours found in the mask\n",
      "INFO:webcam_skin_detection:Fingers detected: 0\n",
      "WARNING:webcam_skin_detection:No contours found in the mask\n",
      "INFO:webcam_skin_detection:Fingers detected: 0\n"
     ]
    },
    {
     "name": "stdout",
     "output_type": "stream",
     "text": [
      "middle point [263, 128]\n",
      "min,max [346, 398, 109, 261]\n",
      "middle point [263, 128]\n",
      "min,max [197, 319, 9, 349]\n",
      "face shall be removed\n",
      "middle point [260, 118]\n",
      "min,max [162, 176, 70, 140]\n",
      "middle point [260, 118]\n",
      "min,max [194, 316, 3, 343]\n",
      "face shall be removed\n"
     ]
    },
    {
     "name": "stderr",
     "output_type": "stream",
     "text": [
      "WARNING:webcam_skin_detection:No contours found in the mask\n",
      "INFO:webcam_skin_detection:Fingers detected: 0\n",
      "WARNING:webcam_skin_detection:No contours found in the mask\n",
      "INFO:webcam_skin_detection:Fingers detected: 0\n"
     ]
    },
    {
     "name": "stdout",
     "output_type": "stream",
     "text": [
      "middle point [256, 125]\n",
      "min,max [410, 430, 194, 286]\n",
      "middle point [256, 125]\n",
      "min,max [191, 312, 7, 347]\n",
      "face shall be removed\n",
      "middle point [253, 135]\n",
      "min,max [336, 360, 140, 245]\n",
      "middle point [253, 135]\n",
      "min,max [191, 310, 15, 354]\n",
      "face shall be removed\n"
     ]
    },
    {
     "name": "stderr",
     "output_type": "stream",
     "text": [
      "WARNING:webcam_skin_detection:No contours found in the mask\n",
      "INFO:webcam_skin_detection:Fingers detected: 0\n",
      "WARNING:webcam_skin_detection:No contours found in the mask\n",
      "INFO:webcam_skin_detection:Fingers detected: 0\n"
     ]
    },
    {
     "name": "stdout",
     "output_type": "stream",
     "text": [
      "middle point [252, 144]\n",
      "min,max [354, 392, 152, 226]\n",
      "middle point [252, 144]\n",
      "min,max [190, 309, 24, 360]\n",
      "face shall be removed\n",
      "middle point [254, 160]\n",
      "min,max [394, 441, 203, 320]\n",
      "middle point [254, 160]\n",
      "min,max [190, 308, 41, 363]\n",
      "face shall be removed\n"
     ]
    },
    {
     "name": "stderr",
     "output_type": "stream",
     "text": [
      "WARNING:webcam_skin_detection:No contours found in the mask\n",
      "INFO:webcam_skin_detection:Fingers detected: 0\n",
      "WARNING:webcam_skin_detection:No contours found in the mask\n",
      "INFO:webcam_skin_detection:Fingers detected: 0\n"
     ]
    },
    {
     "name": "stdout",
     "output_type": "stream",
     "text": [
      "middle point [257, 177]\n",
      "min,max [332, 358, 138, 223]\n",
      "middle point [257, 177]\n",
      "min,max [191, 305, 60, 372]\n",
      "face shall be removed\n",
      "middle point [259, 200]\n",
      "min,max [273, 336, 0, 87]\n",
      "middle point [259, 200]\n",
      "min,max [197, 308, 84, 382]\n",
      "face shall be removed\n"
     ]
    },
    {
     "name": "stderr",
     "output_type": "stream",
     "text": [
      "WARNING:webcam_skin_detection:No contours found in the mask\n",
      "INFO:webcam_skin_detection:Fingers detected: 0\n",
      "WARNING:webcam_skin_detection:No contours found in the mask\n",
      "INFO:webcam_skin_detection:Fingers detected: 0\n"
     ]
    },
    {
     "name": "stdout",
     "output_type": "stream",
     "text": [
      "middle point [256, 210]\n",
      "min,max [123, 167, 0, 48]\n",
      "middle point [256, 210]\n",
      "min,max [201, 318, 40, 390]\n",
      "face shall be removed\n",
      "middle point [256, 221]\n",
      "min,max [115, 167, 0, 86]\n",
      "middle point [256, 221]\n",
      "min,max [200, 308, 62, 398]\n",
      "face shall be removed\n"
     ]
    },
    {
     "name": "stderr",
     "output_type": "stream",
     "text": [
      "WARNING:webcam_skin_detection:No contours found in the mask\n",
      "INFO:webcam_skin_detection:Fingers detected: 0\n",
      "WARNING:webcam_skin_detection:No contours found in the mask\n",
      "INFO:webcam_skin_detection:Fingers detected: 0\n"
     ]
    },
    {
     "name": "stdout",
     "output_type": "stream",
     "text": [
      "middle point [256, 221]\n",
      "min,max [357, 372, 240, 300]\n",
      "middle point [256, 221]\n",
      "min,max [199, 306, 74, 406]\n",
      "face shall be removed\n",
      "middle point [244, 245]\n",
      "min,max [154, 178, 18, 140]\n",
      "middle point [244, 245]\n",
      "min,max [198, 304, 78, 410]\n",
      "face shall be removed\n"
     ]
    },
    {
     "name": "stderr",
     "output_type": "stream",
     "text": [
      "WARNING:webcam_skin_detection:No contours found in the mask\n",
      "INFO:webcam_skin_detection:Fingers detected: 0\n",
      "WARNING:webcam_skin_detection:No contours found in the mask\n",
      "INFO:webcam_skin_detection:Fingers detected: 0\n"
     ]
    },
    {
     "name": "stdout",
     "output_type": "stream",
     "text": [
      "middle point [244, 245]\n",
      "min,max [143, 183, 0, 55]\n",
      "middle point [244, 245]\n",
      "min,max [197, 305, 85, 413]\n",
      "face shall be removed\n",
      "middle point [238, 251]\n",
      "min,max [191, 205, 22, 95]\n",
      "middle point [238, 251]\n",
      "min,max [196, 304, 84, 410]\n",
      "face shall be removed\n"
     ]
    },
    {
     "name": "stderr",
     "output_type": "stream",
     "text": [
      "WARNING:webcam_skin_detection:No contours found in the mask\n",
      "INFO:webcam_skin_detection:Fingers detected: 0\n",
      "WARNING:webcam_skin_detection:No contours found in the mask\n",
      "INFO:webcam_skin_detection:Fingers detected: 0\n"
     ]
    },
    {
     "name": "stdout",
     "output_type": "stream",
     "text": [
      "middle point [234, 232]\n",
      "min,max [164, 181, 28, 94]\n",
      "middle point [234, 232]\n",
      "min,max [193, 303, 58, 399]\n",
      "face shall be removed\n",
      "middle point [241, 221]\n",
      "min,max [156, 190, 0, 122]\n",
      "middle point [241, 221]\n",
      "min,max [192, 303, 47, 392]\n",
      "face shall be removed\n"
     ]
    },
    {
     "name": "stderr",
     "output_type": "stream",
     "text": [
      "WARNING:webcam_skin_detection:No contours found in the mask\n",
      "INFO:webcam_skin_detection:Fingers detected: 0\n",
      "WARNING:webcam_skin_detection:No contours found in the mask\n",
      "INFO:webcam_skin_detection:Fingers detected: 0\n"
     ]
    },
    {
     "name": "stdout",
     "output_type": "stream",
     "text": [
      "middle point [241, 221]\n",
      "min,max [163, 183, 0, 120]\n",
      "middle point [241, 221]\n",
      "min,max [191, 303, 37, 390]\n",
      "face shall be removed\n",
      "middle point [239, 206]\n",
      "min,max [122, 158, 0, 36]\n",
      "middle point [239, 206]\n",
      "min,max [189, 301, 21, 382]\n",
      "face shall be removed\n"
     ]
    },
    {
     "name": "stderr",
     "output_type": "stream",
     "text": [
      "WARNING:webcam_skin_detection:No contours found in the mask\n",
      "INFO:webcam_skin_detection:Fingers detected: 0\n",
      "WARNING:webcam_skin_detection:No contours found in the mask\n",
      "INFO:webcam_skin_detection:Fingers detected: 0\n"
     ]
    },
    {
     "name": "stdout",
     "output_type": "stream",
     "text": [
      "middle point [239, 197]\n",
      "min,max [134, 184, 0, 77]\n",
      "middle point [239, 197]\n",
      "min,max [182, 332, 0, 378]\n",
      "face shall be removed\n",
      "middle point [230, 188]\n",
      "min,max [420, 441, 218, 285]\n",
      "middle point [230, 188]\n",
      "min,max [173, 403, 68, 504]\n",
      "face shall be removed\n"
     ]
    },
    {
     "name": "stderr",
     "output_type": "stream",
     "text": [
      "WARNING:webcam_skin_detection:No contours found in the mask\n",
      "INFO:webcam_skin_detection:Fingers detected: 0\n",
      "WARNING:webcam_skin_detection:No contours found in the mask\n",
      "INFO:webcam_skin_detection:Fingers detected: 0\n"
     ]
    },
    {
     "name": "stdout",
     "output_type": "stream",
     "text": [
      "middle point [228, 187]\n",
      "min,max [324, 351, 125, 241]\n",
      "middle point [228, 187]\n",
      "min,max [171, 288, 64, 377]\n",
      "face shall be removed\n",
      "middle point [231, 183]\n",
      "min,max [116, 128, 0, 43]\n",
      "middle point [231, 183]\n",
      "min,max [172, 288, 61, 376]\n",
      "face shall be removed\n"
     ]
    },
    {
     "name": "stderr",
     "output_type": "stream",
     "text": [
      "WARNING:webcam_skin_detection:No contours found in the mask\n",
      "INFO:webcam_skin_detection:Fingers detected: 0\n",
      "WARNING:webcam_skin_detection:No contours found in the mask\n",
      "INFO:webcam_skin_detection:Fingers detected: 0\n"
     ]
    },
    {
     "name": "stdout",
     "output_type": "stream",
     "text": [
      "middle point [231, 181]\n",
      "min,max [107, 120, 40, 97]\n",
      "middle point [231, 181]\n",
      "min,max [174, 291, 54, 366]\n",
      "face shall be removed\n",
      "middle point [232, 172]\n",
      "min,max [336, 348, 162, 222]\n",
      "middle point [232, 172]\n",
      "min,max [178, 292, 52, 363]\n",
      "face shall be removed\n"
     ]
    },
    {
     "name": "stderr",
     "output_type": "stream",
     "text": [
      "WARNING:webcam_skin_detection:No contours found in the mask\n",
      "INFO:webcam_skin_detection:Fingers detected: 0\n",
      "WARNING:webcam_skin_detection:No contours found in the mask\n",
      "INFO:webcam_skin_detection:Fingers detected: 0\n"
     ]
    },
    {
     "name": "stdout",
     "output_type": "stream",
     "text": [
      "middle point [239, 176]\n",
      "min,max [355, 378, 105, 195]\n",
      "middle point [239, 176]\n",
      "min,max [183, 296, 55, 361]\n",
      "face shall be removed\n",
      "middle point [240, 177]\n",
      "min,max [162, 176, 0, 32]\n",
      "middle point [240, 177]\n",
      "min,max [185, 297, 53, 363]\n",
      "face shall be removed\n"
     ]
    },
    {
     "name": "stderr",
     "output_type": "stream",
     "text": [
      "WARNING:webcam_skin_detection:No contours found in the mask\n",
      "INFO:webcam_skin_detection:Fingers detected: 0\n",
      "WARNING:webcam_skin_detection:No contours found in the mask\n",
      "INFO:webcam_skin_detection:Fingers detected: 0\n"
     ]
    },
    {
     "name": "stdout",
     "output_type": "stream",
     "text": [
      "middle point [243, 175]\n",
      "min,max [178, 190, 4, 61]\n",
      "middle point [243, 175]\n",
      "min,max [185, 297, 56, 364]\n",
      "face shall be removed\n",
      "middle point [244, 175]\n",
      "min,max [335, 360, 94, 211]\n",
      "middle point [244, 175]\n",
      "min,max [185, 298, 55, 364]\n",
      "face shall be removed\n"
     ]
    },
    {
     "name": "stderr",
     "output_type": "stream",
     "text": [
      "WARNING:webcam_skin_detection:No contours found in the mask\n",
      "INFO:webcam_skin_detection:Fingers detected: 0\n",
      "WARNING:webcam_skin_detection:No contours found in the mask\n",
      "INFO:webcam_skin_detection:Fingers detected: 0\n"
     ]
    },
    {
     "name": "stdout",
     "output_type": "stream",
     "text": [
      "middle point [244, 172]\n",
      "min,max [147, 191, 0, 89]\n",
      "middle point [244, 172]\n",
      "min,max [185, 298, 53, 361]\n",
      "face shall be removed\n",
      "middle point [244, 172]\n",
      "min,max [345, 371, 103, 173]\n",
      "middle point [244, 172]\n",
      "min,max [187, 298, 49, 362]\n",
      "face shall be removed\n"
     ]
    },
    {
     "name": "stderr",
     "output_type": "stream",
     "text": [
      "WARNING:webcam_skin_detection:No contours found in the mask\n",
      "INFO:webcam_skin_detection:Fingers detected: 0\n",
      "WARNING:webcam_skin_detection:No contours found in the mask\n",
      "INFO:webcam_skin_detection:Fingers detected: 0\n"
     ]
    },
    {
     "name": "stdout",
     "output_type": "stream",
     "text": [
      "middle point [244, 171]\n",
      "min,max [154, 192, 0, 89]\n",
      "middle point [244, 171]\n",
      "min,max [185, 298, 49, 360]\n",
      "face shall be removed\n",
      "middle point [245, 166]\n",
      "min,max [121, 169, 0, 64]\n",
      "middle point [245, 166]\n",
      "min,max [185, 299, 45, 358]\n",
      "face shall be removed\n"
     ]
    },
    {
     "name": "stderr",
     "output_type": "stream",
     "text": [
      "WARNING:webcam_skin_detection:No contours found in the mask\n",
      "INFO:webcam_skin_detection:Fingers detected: 0\n",
      "WARNING:webcam_skin_detection:No contours found in the mask\n",
      "INFO:webcam_skin_detection:Fingers detected: 0\n"
     ]
    },
    {
     "name": "stdout",
     "output_type": "stream",
     "text": [
      "middle point [244, 164]\n",
      "min,max [158, 182, 11, 131]\n",
      "middle point [244, 164]\n",
      "min,max [184, 299, 46, 359]\n",
      "face shall be removed\n",
      "middle point [243, 160]\n",
      "min,max [344, 365, 77, 190]\n",
      "middle point [243, 160]\n",
      "min,max [185, 298, 41, 358]\n",
      "face shall be removed\n"
     ]
    },
    {
     "name": "stderr",
     "output_type": "stream",
     "text": [
      "WARNING:webcam_skin_detection:No contours found in the mask\n",
      "INFO:webcam_skin_detection:Fingers detected: 0\n",
      "WARNING:webcam_skin_detection:No contours found in the mask\n",
      "INFO:webcam_skin_detection:Fingers detected: 0\n"
     ]
    },
    {
     "name": "stdout",
     "output_type": "stream",
     "text": [
      "middle point [245, 165]\n",
      "min,max [144, 159, 7, 70]\n",
      "middle point [245, 165]\n",
      "min,max [185, 298, 48, 364]\n",
      "face shall be removed\n",
      "middle point [247, 166]\n",
      "min,max [355, 379, 119, 203]\n",
      "middle point [247, 166]\n",
      "min,max [187, 299, 53, 369]\n",
      "face shall be removed\n"
     ]
    },
    {
     "name": "stderr",
     "output_type": "stream",
     "text": [
      "INFO:webcam_skin_detection:Fingers detected: 1\n",
      "WARNING:webcam_skin_detection:No contours found in the mask\n",
      "INFO:webcam_skin_detection:Fingers detected: 0\n"
     ]
    },
    {
     "name": "stdout",
     "output_type": "stream",
     "text": [
      "middle point [250, 177]\n",
      "min,max [266, 415, 379, 511]\n",
      "middle point [250, 177]\n",
      "min,max [191, 301, 63, 374]\n",
      "face shall be removed\n",
      "[ 0  1  2  3  4  5  6  7  8  9 10 11 12 13]\n",
      "middle point [206, 170]\n",
      "min,max [201, 225, 0, 55]\n",
      "middle point [206, 170]\n",
      "min,max [147, 509, 3, 511]\n",
      "face shall be removed\n"
     ]
    },
    {
     "name": "stderr",
     "output_type": "stream",
     "text": [
      "WARNING:webcam_skin_detection:No contours found in the mask\n",
      "INFO:webcam_skin_detection:Fingers detected: 0\n",
      "WARNING:webcam_skin_detection:No contours found in the mask\n",
      "INFO:webcam_skin_detection:Fingers detected: 0\n"
     ]
    },
    {
     "name": "stdout",
     "output_type": "stream",
     "text": [
      "middle point [206, 170]\n",
      "min,max [315, 335, 91, 171]\n",
      "middle point [206, 170]\n",
      "min,max [166, 511, 105, 511]\n",
      "face shall be removed\n",
      "middle point [206, 170]\n",
      "min,max [344, 421, 422, 511]\n",
      "middle point [206, 170]\n",
      "min,max [164, 289, 97, 372]\n",
      "face shall be removed\n"
     ]
    },
    {
     "name": "stderr",
     "output_type": "stream",
     "text": [
      "WARNING:webcam_skin_detection:No contours found in the mask\n",
      "INFO:webcam_skin_detection:Fingers detected: 0\n",
      "WARNING:webcam_skin_detection:No contours found in the mask\n",
      "INFO:webcam_skin_detection:Fingers detected: 0\n"
     ]
    },
    {
     "name": "stdout",
     "output_type": "stream",
     "text": [
      "middle point [206, 170]\n",
      "min,max [337, 394, 479, 511]\n",
      "middle point [206, 170]\n",
      "min,max [155, 289, 94, 371]\n",
      "face shall be removed\n",
      "middle point [206, 170]\n",
      "min,max [270, 291, 33, 104]\n",
      "middle point [206, 170]\n",
      "min,max [156, 288, 94, 369]\n",
      "face shall be removed\n"
     ]
    },
    {
     "name": "stderr",
     "output_type": "stream",
     "text": [
      "WARNING:webcam_skin_detection:No contours found in the mask\n",
      "INFO:webcam_skin_detection:Fingers detected: 0\n",
      "WARNING:webcam_skin_detection:No contours found in the mask\n",
      "INFO:webcam_skin_detection:Fingers detected: 0\n"
     ]
    },
    {
     "name": "stdout",
     "output_type": "stream",
     "text": [
      "middle point [206, 170]\n",
      "min,max [337, 352, 96, 196]\n",
      "middle point [206, 170]\n",
      "min,max [152, 288, 44, 365]\n",
      "face shall be removed\n",
      "middle point [206, 170]\n",
      "min,max [347, 370, 114, 190]\n",
      "middle point [206, 170]\n",
      "min,max [153, 286, 89, 360]\n",
      "face shall be removed\n"
     ]
    },
    {
     "name": "stderr",
     "output_type": "stream",
     "text": [
      "WARNING:webcam_skin_detection:No contours found in the mask\n",
      "INFO:webcam_skin_detection:Fingers detected: 0\n",
      "WARNING:webcam_skin_detection:No contours found in the mask\n",
      "INFO:webcam_skin_detection:Fingers detected: 0\n"
     ]
    },
    {
     "name": "stdout",
     "output_type": "stream",
     "text": [
      "middle point [206, 170]\n",
      "min,max [336, 348, 137, 197]\n",
      "middle point [206, 170]\n",
      "min,max [140, 284, 83, 349]\n",
      "face shall be removed\n",
      "middle point [206, 170]\n",
      "min,max [139, 180, 0, 75]\n",
      "middle point [206, 170]\n",
      "min,max [148, 286, 72, 349]\n",
      "face shall be removed\n"
     ]
    },
    {
     "name": "stderr",
     "output_type": "stream",
     "text": [
      "WARNING:webcam_skin_detection:No contours found in the mask\n",
      "INFO:webcam_skin_detection:Fingers detected: 0\n",
      "WARNING:webcam_skin_detection:No contours found in the mask\n",
      "INFO:webcam_skin_detection:Fingers detected: 0\n"
     ]
    },
    {
     "name": "stdout",
     "output_type": "stream",
     "text": [
      "middle point [206, 170]\n",
      "min,max [335, 362, 109, 221]\n",
      "middle point [206, 170]\n",
      "min,max [146, 287, 60, 343]\n",
      "face shall be removed\n",
      "middle point [206, 170]\n",
      "min,max [353, 391, 115, 185]\n",
      "middle point [206, 170]\n",
      "min,max [147, 287, 57, 343]\n",
      "face shall be removed\n"
     ]
    },
    {
     "name": "stderr",
     "output_type": "stream",
     "text": [
      "WARNING:webcam_skin_detection:No contours found in the mask\n",
      "INFO:webcam_skin_detection:Fingers detected: 0\n",
      "WARNING:webcam_skin_detection:No contours found in the mask\n",
      "INFO:webcam_skin_detection:Fingers detected: 0\n"
     ]
    },
    {
     "name": "stdout",
     "output_type": "stream",
     "text": [
      "middle point [206, 170]\n",
      "min,max [362, 376, 188, 253]\n",
      "middle point [206, 170]\n",
      "min,max [148, 286, 56, 340]\n",
      "face shall be removed\n",
      "middle point [206, 170]\n",
      "min,max [181, 226, 448, 511]\n",
      "middle point [206, 170]\n",
      "min,max [147, 287, 58, 342]\n",
      "face shall be removed\n"
     ]
    },
    {
     "name": "stderr",
     "output_type": "stream",
     "text": [
      "WARNING:webcam_skin_detection:No contours found in the mask\n",
      "INFO:webcam_skin_detection:Fingers detected: 0\n",
      "INFO:webcam_skin_detection:Fingers detected: 2\n"
     ]
    },
    {
     "name": "stdout",
     "output_type": "stream",
     "text": [
      "middle point [206, 170]\n",
      "min,max [195, 207, 0, 30]\n",
      "middle point [206, 170]\n",
      "min,max [155, 475, 64, 511]\n",
      "face shall be removed\n",
      "middle point [206, 170]\n",
      "min,max [154, 287, 69, 344]\n",
      "face shall be removed\n",
      "middle point [206, 170]\n",
      "min,max [167, 497, 346, 511]\n"
     ]
    },
    {
     "name": "stderr",
     "output_type": "stream",
     "text": [
      "WARNING:webcam_skin_detection:No contours found in the mask\n",
      "INFO:webcam_skin_detection:Fingers detected: 0\n",
      "WARNING:webcam_skin_detection:No contours found in the mask\n",
      "INFO:webcam_skin_detection:Fingers detected: 0\n"
     ]
    },
    {
     "name": "stdout",
     "output_type": "stream",
     "text": [
      "middle point [206, 170]\n",
      "min,max [150, 451, 69, 511]\n",
      "face shall be removed\n",
      "middle point [206, 170]\n",
      "min,max [414, 437, 188, 269]\n",
      "middle point [206, 170]\n",
      "min,max [142, 338, 89, 511]\n",
      "face shall be removed\n"
     ]
    },
    {
     "name": "stderr",
     "output_type": "stream",
     "text": [
      "WARNING:webcam_skin_detection:No contours found in the mask\n",
      "INFO:webcam_skin_detection:Fingers detected: 0\n",
      "WARNING:webcam_skin_detection:No contours found in the mask\n",
      "INFO:webcam_skin_detection:Fingers detected: 0\n"
     ]
    },
    {
     "name": "stdout",
     "output_type": "stream",
     "text": [
      "middle point [206, 170]\n",
      "min,max [337, 350, 138, 200]\n",
      "middle point [206, 170]\n",
      "min,max [142, 362, 39, 361]\n",
      "face shall be removed\n",
      "middle point [206, 170]\n",
      "min,max [376, 382, 248, 255]\n",
      "middle point [206, 170]\n",
      "min,max [139, 414, 0, 449]\n",
      "face shall be removed\n"
     ]
    },
    {
     "name": "stderr",
     "output_type": "stream",
     "text": [
      "INFO:webcam_skin_detection:Fingers detected: 2\n",
      "WARNING:webcam_skin_detection:No contours found in the mask\n",
      "INFO:webcam_skin_detection:Fingers detected: 0\n"
     ]
    },
    {
     "name": "stdout",
     "output_type": "stream",
     "text": [
      "middle point [206, 170]\n",
      "min,max [169, 374, 374, 511]\n",
      "middle point [206, 170]\n",
      "min,max [156, 279, 69, 353]\n",
      "face shall be removed\n",
      "middle point [214, 179]\n",
      "min,max [305, 341, 100, 175]\n",
      "middle point [214, 179]\n",
      "min,max [174, 287, 55, 364]\n",
      "face shall be removed\n"
     ]
    },
    {
     "name": "stderr",
     "output_type": "stream",
     "text": [
      "WARNING:webcam_skin_detection:No contours found in the mask\n",
      "INFO:webcam_skin_detection:Fingers detected: 0\n",
      "WARNING:webcam_skin_detection:No contours found in the mask\n",
      "INFO:webcam_skin_detection:Fingers detected: 0\n"
     ]
    },
    {
     "name": "stdout",
     "output_type": "stream",
     "text": [
      "middle point [231, 187]\n",
      "min,max [156, 170, 154, 218]\n",
      "middle point [231, 187]\n",
      "min,max [179, 290, 64, 368]\n",
      "face shall be removed\n",
      "middle point [236, 193]\n",
      "min,max [345, 360, 105, 165]\n",
      "middle point [236, 193]\n",
      "min,max [183, 294, 70, 374]\n",
      "face shall be removed\n"
     ]
    },
    {
     "name": "stderr",
     "output_type": "stream",
     "text": [
      "WARNING:webcam_skin_detection:No contours found in the mask\n",
      "INFO:webcam_skin_detection:Fingers detected: 0\n",
      "WARNING:webcam_skin_detection:No contours found in the mask\n",
      "INFO:webcam_skin_detection:Fingers detected: 0\n"
     ]
    },
    {
     "name": "stdout",
     "output_type": "stream",
     "text": [
      "middle point [239, 195]\n",
      "min,max [425, 441, 221, 282]\n",
      "middle point [239, 195]\n",
      "min,max [186, 295, 74, 375]\n",
      "face shall be removed\n",
      "middle point [245, 199]\n",
      "min,max [338, 363, 94, 182]\n",
      "middle point [245, 199]\n",
      "min,max [189, 297, 78, 378]\n",
      "face shall be removed\n"
     ]
    },
    {
     "name": "stderr",
     "output_type": "stream",
     "text": [
      "WARNING:webcam_skin_detection:No contours found in the mask\n",
      "INFO:webcam_skin_detection:Fingers detected: 0\n",
      "WARNING:webcam_skin_detection:No contours found in the mask\n",
      "INFO:webcam_skin_detection:Fingers detected: 0\n"
     ]
    },
    {
     "name": "stdout",
     "output_type": "stream",
     "text": [
      "middle point [245, 207]\n",
      "min,max [337, 374, 90, 231]\n",
      "middle point [245, 207]\n",
      "min,max [187, 298, 80, 379]\n",
      "face shall be removed\n",
      "middle point [249, 215]\n",
      "min,max [161, 184, 0, 55]\n",
      "middle point [249, 215]\n",
      "min,max [185, 299, 81, 377]\n",
      "face shall be removed\n"
     ]
    },
    {
     "name": "stderr",
     "output_type": "stream",
     "text": [
      "WARNING:webcam_skin_detection:No contours found in the mask\n",
      "INFO:webcam_skin_detection:Fingers detected: 0\n",
      "WARNING:webcam_skin_detection:No contours found in the mask\n",
      "INFO:webcam_skin_detection:Fingers detected: 0\n"
     ]
    },
    {
     "name": "stdout",
     "output_type": "stream",
     "text": [
      "middle point [254, 221]\n",
      "min,max [335, 369, 84, 202]\n",
      "middle point [254, 221]\n",
      "min,max [188, 302, 90, 382]\n",
      "face shall be removed\n",
      "middle point [258, 226]\n",
      "min,max [161, 188, 0, 90]\n",
      "middle point [258, 226]\n",
      "min,max [191, 305, 91, 384]\n",
      "face shall be removed\n"
     ]
    },
    {
     "name": "stderr",
     "output_type": "stream",
     "text": [
      "WARNING:webcam_skin_detection:No contours found in the mask\n",
      "INFO:webcam_skin_detection:Fingers detected: 0\n",
      "WARNING:webcam_skin_detection:No contours found in the mask\n",
      "INFO:webcam_skin_detection:Fingers detected: 0\n"
     ]
    },
    {
     "name": "stdout",
     "output_type": "stream",
     "text": [
      "middle point [259, 222]\n",
      "min,max [165, 185, 0, 64]\n",
      "middle point [259, 222]\n",
      "min,max [193, 306, 91, 383]\n",
      "face shall be removed\n",
      "middle point [260, 208]\n",
      "min,max [104, 139, 0, 64]\n",
      "middle point [260, 208]\n",
      "min,max [194, 308, 80, 382]\n",
      "face shall be removed\n"
     ]
    },
    {
     "name": "stderr",
     "output_type": "stream",
     "text": [
      "WARNING:webcam_skin_detection:No contours found in the mask\n",
      "INFO:webcam_skin_detection:Fingers detected: 0\n",
      "WARNING:webcam_skin_detection:No contours found in the mask\n",
      "INFO:webcam_skin_detection:Fingers detected: 0\n"
     ]
    },
    {
     "name": "stdout",
     "output_type": "stream",
     "text": [
      "middle point [255, 194]\n",
      "min,max [114, 143, 0, 46]\n",
      "middle point [255, 194]\n",
      "min,max [195, 309, 64, 377]\n",
      "face shall be removed\n",
      "middle point [256, 207]\n",
      "min,max [349, 364, 115, 176]\n",
      "middle point [256, 207]\n",
      "min,max [194, 309, 71, 378]\n",
      "face shall be removed\n"
     ]
    },
    {
     "name": "stderr",
     "output_type": "stream",
     "text": [
      "WARNING:webcam_skin_detection:No contours found in the mask\n",
      "INFO:webcam_skin_detection:Fingers detected: 0\n",
      "WARNING:webcam_skin_detection:No contours found in the mask\n",
      "INFO:webcam_skin_detection:Fingers detected: 0\n"
     ]
    },
    {
     "name": "stdout",
     "output_type": "stream",
     "text": [
      "middle point [250, 218]\n",
      "min,max [158, 171, 90, 150]\n",
      "middle point [250, 218]\n",
      "min,max [194, 310, 80, 377]\n",
      "face shall be removed\n",
      "middle point [245, 205]\n",
      "min,max [151, 187, 0, 83]\n",
      "middle point [245, 205]\n",
      "min,max [193, 310, 65, 376]\n",
      "face shall be removed\n"
     ]
    },
    {
     "name": "stderr",
     "output_type": "stream",
     "text": [
      "WARNING:webcam_skin_detection:No contours found in the mask\n",
      "INFO:webcam_skin_detection:Fingers detected: 0\n",
      "WARNING:webcam_skin_detection:No contours found in the mask\n",
      "INFO:webcam_skin_detection:Fingers detected: 0\n"
     ]
    },
    {
     "name": "stdout",
     "output_type": "stream",
     "text": [
      "middle point [244, 211]\n",
      "min,max [158, 181, 0, 89]\n",
      "middle point [244, 211]\n",
      "min,max [193, 311, 69, 377]\n",
      "face shall be removed\n",
      "middle point [237, 209]\n",
      "min,max [335, 372, 100, 190]\n",
      "middle point [237, 209]\n",
      "min,max [191, 310, 66, 378]\n",
      "face shall be removed\n"
     ]
    },
    {
     "name": "stderr",
     "output_type": "stream",
     "text": [
      "WARNING:webcam_skin_detection:No contours found in the mask\n",
      "INFO:webcam_skin_detection:Fingers detected: 0\n",
      "WARNING:webcam_skin_detection:No contours found in the mask\n",
      "INFO:webcam_skin_detection:Fingers detected: 0\n"
     ]
    },
    {
     "name": "stdout",
     "output_type": "stream",
     "text": [
      "middle point [234, 208]\n",
      "min,max [353, 383, 116, 192]\n",
      "middle point [234, 208]\n",
      "min,max [187, 310, 65, 377]\n",
      "face shall be removed\n",
      "middle point [234, 208]\n",
      "min,max [139, 182, 0, 73]\n",
      "middle point [234, 208]\n",
      "min,max [188, 307, 63, 377]\n",
      "face shall be removed\n"
     ]
    },
    {
     "name": "stderr",
     "output_type": "stream",
     "text": [
      "WARNING:webcam_skin_detection:No contours found in the mask\n",
      "INFO:webcam_skin_detection:Fingers detected: 0\n",
      "WARNING:webcam_skin_detection:No contours found in the mask\n",
      "INFO:webcam_skin_detection:Fingers detected: 0\n"
     ]
    },
    {
     "name": "stdout",
     "output_type": "stream",
     "text": [
      "middle point [245, 206]\n",
      "min,max [158, 188, 0, 47]\n",
      "middle point [245, 206]\n",
      "min,max [188, 307, 62, 375]\n",
      "face shall be removed\n",
      "middle point [246, 200]\n",
      "min,max [346, 362, 126, 189]\n",
      "middle point [246, 200]\n",
      "min,max [189, 306, 62, 373]\n",
      "face shall be removed\n"
     ]
    },
    {
     "name": "stderr",
     "output_type": "stream",
     "text": [
      "WARNING:webcam_skin_detection:No contours found in the mask\n",
      "INFO:webcam_skin_detection:Fingers detected: 0\n",
      "WARNING:webcam_skin_detection:No contours found in the mask\n",
      "INFO:webcam_skin_detection:Fingers detected: 0\n"
     ]
    },
    {
     "name": "stdout",
     "output_type": "stream",
     "text": [
      "middle point [246, 191]\n",
      "min,max [353, 366, 112, 170]\n",
      "middle point [246, 191]\n",
      "min,max [188, 306, 58, 371]\n",
      "face shall be removed\n",
      "middle point [247, 186]\n",
      "min,max [147, 177, 0, 83]\n",
      "middle point [247, 186]\n",
      "min,max [188, 305, 55, 369]\n",
      "face shall be removed\n"
     ]
    },
    {
     "name": "stderr",
     "output_type": "stream",
     "text": [
      "WARNING:webcam_skin_detection:No contours found in the mask\n",
      "INFO:webcam_skin_detection:Fingers detected: 0\n",
      "WARNING:webcam_skin_detection:No contours found in the mask\n",
      "INFO:webcam_skin_detection:Fingers detected: 0\n"
     ]
    },
    {
     "name": "stdout",
     "output_type": "stream",
     "text": [
      "middle point [247, 186]\n",
      "min,max [345, 372, 105, 176]\n",
      "middle point [247, 186]\n",
      "min,max [187, 305, 56, 370]\n",
      "face shall be removed\n",
      "middle point [245, 196]\n",
      "min,max [156, 179, 0, 86]\n",
      "middle point [245, 196]\n",
      "min,max [186, 304, 58, 372]\n",
      "face shall be removed\n"
     ]
    },
    {
     "name": "stderr",
     "output_type": "stream",
     "text": [
      "WARNING:webcam_skin_detection:No contours found in the mask\n",
      "INFO:webcam_skin_detection:Fingers detected: 0\n",
      "WARNING:webcam_skin_detection:No contours found in the mask\n",
      "INFO:webcam_skin_detection:Fingers detected: 0\n"
     ]
    },
    {
     "name": "stdout",
     "output_type": "stream",
     "text": [
      "middle point [243, 188]\n",
      "min,max [156, 169, 117, 176]\n",
      "middle point [243, 188]\n",
      "min,max [187, 304, 55, 369]\n",
      "face shall be removed\n",
      "middle point [243, 188]\n",
      "min,max [335, 354, 118, 204]\n",
      "middle point [243, 188]\n",
      "min,max [187, 303, 54, 371]\n",
      "face shall be removed\n"
     ]
    },
    {
     "name": "stderr",
     "output_type": "stream",
     "text": [
      "WARNING:webcam_skin_detection:No contours found in the mask\n",
      "INFO:webcam_skin_detection:Fingers detected: 0\n",
      "WARNING:webcam_skin_detection:No contours found in the mask\n",
      "INFO:webcam_skin_detection:Fingers detected: 0\n"
     ]
    },
    {
     "name": "stdout",
     "output_type": "stream",
     "text": [
      "middle point [245, 187]\n",
      "min,max [334, 359, 111, 172]\n",
      "middle point [245, 187]\n",
      "min,max [187, 302, 60, 373]\n",
      "face shall be removed\n",
      "middle point [243, 190]\n",
      "min,max [200, 217, 0, 35]\n",
      "middle point [243, 190]\n",
      "min,max [192, 301, 65, 373]\n",
      "face shall be removed\n"
     ]
    },
    {
     "name": "stderr",
     "output_type": "stream",
     "text": [
      "WARNING:webcam_skin_detection:No contours found in the mask\n",
      "INFO:webcam_skin_detection:Fingers detected: 0\n",
      "WARNING:webcam_skin_detection:No contours found in the mask\n",
      "INFO:webcam_skin_detection:Fingers detected: 0\n"
     ]
    },
    {
     "name": "stdout",
     "output_type": "stream",
     "text": [
      "middle point [239, 187]\n",
      "min,max [336, 360, 91, 172]\n",
      "middle point [239, 187]\n",
      "min,max [186, 300, 66, 372]\n",
      "face shall be removed\n",
      "middle point [239, 184]\n",
      "min,max [112, 144, 0, 44]\n",
      "middle point [239, 184]\n",
      "min,max [190, 299, 62, 371]\n",
      "face shall be removed\n"
     ]
    },
    {
     "name": "stderr",
     "output_type": "stream",
     "text": [
      "WARNING:webcam_skin_detection:No contours found in the mask\n",
      "INFO:webcam_skin_detection:Fingers detected: 0\n",
      "WARNING:webcam_skin_detection:No contours found in the mask\n",
      "INFO:webcam_skin_detection:Fingers detected: 0\n"
     ]
    },
    {
     "name": "stdout",
     "output_type": "stream",
     "text": [
      "middle point [237, 189]\n",
      "min,max [130, 146, 0, 36]\n",
      "middle point [237, 189]\n",
      "min,max [184, 297, 70, 372]\n",
      "face shall be removed\n",
      "middle point [238, 190]\n",
      "min,max [334, 360, 112, 176]\n",
      "middle point [238, 190]\n",
      "min,max [183, 297, 67, 372]\n",
      "face shall be removed\n"
     ]
    },
    {
     "name": "stderr",
     "output_type": "stream",
     "text": [
      "WARNING:webcam_skin_detection:No contours found in the mask\n",
      "INFO:webcam_skin_detection:Fingers detected: 0\n",
      "WARNING:webcam_skin_detection:No contours found in the mask\n",
      "INFO:webcam_skin_detection:Fingers detected: 0\n"
     ]
    },
    {
     "name": "stdout",
     "output_type": "stream",
     "text": [
      "middle point [236, 185]\n",
      "min,max [341, 373, 80, 178]\n",
      "middle point [236, 185]\n",
      "min,max [184, 299, 61, 373]\n",
      "face shall be removed\n",
      "middle point [235, 183]\n",
      "min,max [333, 349, 94, 180]\n",
      "middle point [235, 183]\n",
      "min,max [182, 298, 56, 372]\n",
      "face shall be removed\n"
     ]
    },
    {
     "name": "stderr",
     "output_type": "stream",
     "text": [
      "WARNING:webcam_skin_detection:No contours found in the mask\n",
      "INFO:webcam_skin_detection:Fingers detected: 0\n",
      "WARNING:webcam_skin_detection:No contours found in the mask\n",
      "INFO:webcam_skin_detection:Fingers detected: 0\n"
     ]
    },
    {
     "name": "stdout",
     "output_type": "stream",
     "text": [
      "middle point [232, 176]\n",
      "min,max [340, 352, 143, 200]\n",
      "middle point [232, 176]\n",
      "min,max [180, 297, 48, 371]\n",
      "face shall be removed\n",
      "middle point [231, 174]\n",
      "min,max [332, 370, 97, 194]\n",
      "middle point [231, 174]\n",
      "min,max [182, 297, 56, 369]\n",
      "face shall be removed\n"
     ]
    },
    {
     "name": "stderr",
     "output_type": "stream",
     "text": [
      "WARNING:webcam_skin_detection:No contours found in the mask\n",
      "INFO:webcam_skin_detection:Fingers detected: 0\n",
      "WARNING:webcam_skin_detection:No contours found in the mask\n",
      "INFO:webcam_skin_detection:Fingers detected: 0\n"
     ]
    },
    {
     "name": "stdout",
     "output_type": "stream",
     "text": [
      "middle point [232, 171]\n",
      "min,max [350, 368, 112, 189]\n",
      "middle point [232, 171]\n",
      "min,max [181, 297, 51, 368]\n",
      "face shall be removed\n",
      "middle point [233, 173]\n",
      "min,max [330, 378, 89, 191]\n",
      "middle point [233, 173]\n",
      "min,max [183, 297, 53, 367]\n",
      "face shall be removed\n"
     ]
    },
    {
     "name": "stderr",
     "output_type": "stream",
     "text": [
      "WARNING:webcam_skin_detection:No contours found in the mask\n",
      "INFO:webcam_skin_detection:Fingers detected: 0\n"
     ]
    },
    {
     "name": "stdout",
     "output_type": "stream",
     "text": [
      "middle point [232, 171]\n",
      "min,max [432, 453, 199, 272]\n",
      "middle point [232, 171]\n",
      "min,max [180, 297, 56, 366]\n",
      "face shall be removed\n"
     ]
    },
    {
     "name": "stderr",
     "output_type": "stream",
     "text": [
      "INFO:webcam_skin_detection:Webcam released and windows closed\n"
     ]
    },
    {
     "ename": "KeyboardInterrupt",
     "evalue": "",
     "output_type": "error",
     "traceback": [
      "\u001b[0;31m---------------------------------------------------------------------------\u001b[0m",
      "\u001b[0;31mKeyboardInterrupt\u001b[0m                         Traceback (most recent call last)",
      "Cell \u001b[0;32mIn[299], line 118\u001b[0m\n\u001b[1;32m    115\u001b[0m         logger\u001b[38;5;241m.\u001b[39minfo(\u001b[38;5;124m\"\u001b[39m\u001b[38;5;124mWebcam released and windows closed\u001b[39m\u001b[38;5;124m\"\u001b[39m)\n\u001b[1;32m    117\u001b[0m \u001b[38;5;28;01mif\u001b[39;00m \u001b[38;5;18m__name__\u001b[39m \u001b[38;5;241m==\u001b[39m \u001b[38;5;124m\"\u001b[39m\u001b[38;5;124m__main__\u001b[39m\u001b[38;5;124m\"\u001b[39m:\n\u001b[0;32m--> 118\u001b[0m     \u001b[43mmain\u001b[49m\u001b[43m(\u001b[49m\u001b[43m)\u001b[49m\n",
      "Cell \u001b[0;32mIn[299], line 51\u001b[0m, in \u001b[0;36mmain\u001b[0;34m()\u001b[0m\n\u001b[1;32m     47\u001b[0m                 skinMask \u001b[38;5;241m=\u001b[39m prob_skin_c(C, skinMean, skinCov, nonSkinMean, nonSkinCov)\n\u001b[1;32m     48\u001b[0m                 cv2\u001b[38;5;241m.\u001b[39mimshow(\u001b[38;5;124m'\u001b[39m\u001b[38;5;124mSkin Mask before cleaning wiz threshold\u001b[39m\u001b[38;5;124m'\u001b[39m,  cv2\u001b[38;5;241m.\u001b[39mthreshold(skinMask, \u001b[38;5;241m0.75\u001b[39m, \u001b[38;5;241m1\u001b[39m, cv2\u001b[38;5;241m.\u001b[39mTHRESH_BINARY)[\u001b[38;5;241m1\u001b[39m]\n\u001b[1;32m     49\u001b[0m )\n\u001b[0;32m---> 51\u001b[0m                 hand_mask \u001b[38;5;241m=\u001b[39m \u001b[43mcleanMask\u001b[49m\u001b[43m(\u001b[49m\u001b[43mskinMask\u001b[49m\u001b[43m,\u001b[49m\u001b[43m \u001b[49m\u001b[43moriginal\u001b[49m\u001b[43m,\u001b[49m\u001b[43m \u001b[49m\u001b[43mresizingSize\u001b[49m\u001b[43m)\u001b[49m\n\u001b[1;32m     52\u001b[0m                 \u001b[38;5;28;01mif\u001b[39;00m hand_mask\u001b[38;5;241m.\u001b[39mdtype \u001b[38;5;241m!=\u001b[39m np\u001b[38;5;241m.\u001b[39muint8:\n\u001b[1;32m     53\u001b[0m                     hand_mask \u001b[38;5;241m=\u001b[39m (hand_mask \u001b[38;5;241m*\u001b[39m \u001b[38;5;241m255\u001b[39m)\u001b[38;5;241m.\u001b[39mastype(np\u001b[38;5;241m.\u001b[39muint8)\n",
      "Cell \u001b[0;32mIn[296], line 83\u001b[0m, in \u001b[0;36mcleanMask\u001b[0;34m(skinMask, frame, resizedSize)\u001b[0m\n\u001b[1;32m     81\u001b[0m binaryMask \u001b[38;5;241m=\u001b[39m cv2\u001b[38;5;241m.\u001b[39mmorphologyEx(binaryMask, cv2\u001b[38;5;241m.\u001b[39mMORPH_CLOSE, np\u001b[38;5;241m.\u001b[39mones((\u001b[38;5;241m3\u001b[39m, \u001b[38;5;241m3\u001b[39m)), iterations\u001b[38;5;241m=\u001b[39m\u001b[38;5;241m3\u001b[39m)\n\u001b[1;32m     82\u001b[0m \u001b[38;5;66;03m# binaryMask = cv2.morphologyEx(binaryMask, cv2.MORPH_OPEN, np.ones((3, 3)), iterations=3)\u001b[39;00m\n\u001b[0;32m---> 83\u001b[0m \u001b[43mremoveContours\u001b[49m\u001b[43m(\u001b[49m\u001b[43mbinaryMask\u001b[49m\u001b[43m,\u001b[49m\u001b[43m \u001b[49m\u001b[43mframe\u001b[49m\u001b[43m,\u001b[49m\u001b[43m \u001b[49m\u001b[43mresizedSize\u001b[49m\u001b[43m)\u001b[49m\n\u001b[1;32m     84\u001b[0m \u001b[38;5;28;01mreturn\u001b[39;00m binaryMask\n",
      "Cell \u001b[0;32mIn[296], line 71\u001b[0m, in \u001b[0;36mremoveContours\u001b[0;34m(mask, frame, resizedSize)\u001b[0m\n\u001b[1;32m     68\u001b[0m \u001b[38;5;66;03m### can be removed\u001b[39;00m\n\u001b[1;32m     69\u001b[0m maybe_face \u001b[38;5;241m=\u001b[39m contour_areas[\u001b[38;5;241m-\u001b[39m\u001b[38;5;28mmin\u001b[39m(\u001b[38;5;241m2\u001b[39m, \u001b[38;5;28mlen\u001b[39m(contour_areas)):]\n\u001b[0;32m---> 71\u001b[0m \u001b[43mappendFaceContour\u001b[49m\u001b[43m(\u001b[49m\u001b[43mframe\u001b[49m\u001b[43m,\u001b[49m\u001b[43m \u001b[49m\u001b[43mresizedSize\u001b[49m\u001b[43m,\u001b[49m\u001b[43m \u001b[49m\u001b[43mmaybe_face\u001b[49m\u001b[43m,\u001b[49m\u001b[43m \u001b[49m\u001b[43msmallest_contours\u001b[49m\u001b[43m)\u001b[49m\n\u001b[1;32m     72\u001b[0m \u001b[38;5;28;01mif\u001b[39;00m \u001b[38;5;28mlen\u001b[39m(smallest_contours) \u001b[38;5;241m>\u001b[39m \u001b[38;5;241m0\u001b[39m:\n\u001b[1;32m     73\u001b[0m     cv2\u001b[38;5;241m.\u001b[39mdrawContours(mask, smallest_contours, \u001b[38;5;241m-\u001b[39m\u001b[38;5;241m1\u001b[39m, \u001b[38;5;241m0\u001b[39m, \u001b[38;5;241m-\u001b[39m\u001b[38;5;241m1\u001b[39m)\n",
      "Cell \u001b[0;32mIn[296], line 7\u001b[0m, in \u001b[0;36mappendFaceContour\u001b[0;34m(frame, resizedSize, contour_areas, smallest_contours)\u001b[0m\n\u001b[1;32m      5\u001b[0m scale_x \u001b[38;5;241m=\u001b[39m resizedSize[\u001b[38;5;241m0\u001b[39m] \u001b[38;5;241m/\u001b[39m original_width\n\u001b[1;32m      6\u001b[0m scale_y \u001b[38;5;241m=\u001b[39m resizedSize[\u001b[38;5;241m1\u001b[39m] \u001b[38;5;241m/\u001b[39m original_height\n\u001b[0;32m----> 7\u001b[0m faces \u001b[38;5;241m=\u001b[39m \u001b[43mface_cascade\u001b[49m\u001b[38;5;241;43m.\u001b[39;49m\u001b[43mdetectMultiScale\u001b[49m\u001b[43m(\u001b[49m\u001b[43mframe\u001b[49m\u001b[43m,\u001b[49m\u001b[43m \u001b[49m\u001b[38;5;241;43m1.3\u001b[39;49m\u001b[43m,\u001b[49m\u001b[43m \u001b[49m\u001b[38;5;241;43m5\u001b[39;49m\u001b[43m)\u001b[49m\n\u001b[1;32m      8\u001b[0m \u001b[38;5;28;01mglobal\u001b[39;00m max_face\n\u001b[1;32m      9\u001b[0m \u001b[38;5;28;01mglobal\u001b[39;00m max_area_face\n",
      "\u001b[0;31mKeyboardInterrupt\u001b[0m: "
     ]
    }
   ],
   "source": [
    "def main():\n",
    "    # Open the webcam\n",
    "    cap = cv2.VideoCapture(0)\n",
    "    if not cap.isOpened():\n",
    "        logger.error(\"Could not open webcam\")\n",
    "        return\n",
    "\n",
    "    logger.info(\"Webcam opened successfully\")\n",
    "    global drawing_color\n",
    "    # Create a blank canvas for drawing\n",
    "    drawing_canvas = None\n",
    "    currTime = -1\n",
    "    counter_pause = 0\n",
    "    try:\n",
    "        x_canvas, y_canvas = -1, -1\n",
    "        while True:\n",
    "            # Read a frame from the webcam\n",
    "            ret, frame = cap.read()\n",
    "            resizingSizeX = 512\n",
    "            resizingSizeY = 512\n",
    "            resizingSize = (resizingSizeX, resizingSizeY)\n",
    "            if not ret:\n",
    "                logger.error(\"Failed to read frame from webcam\")\n",
    "                break\n",
    "            frame = cv2.flip(frame, 1)\n",
    "            # Initialize the drawing canvas if not already done\n",
    "            if drawing_canvas is None:\n",
    "                drawing_canvas = np.zeros((resizingSizeX,resizingSizeY, 3), dtype=np.float64)\n",
    "\n",
    "            # Process the frame\n",
    "            try:\n",
    "                # Process skin mask\n",
    "                faceMask = np.ones((frame.shape[0], frame.shape[1]))\n",
    "                # faceMask = removeFaceMask(frame, face_cascade)\n",
    "                original = frame.copy()\n",
    "                frame = np.multiply(frame, faceMask[:, :, np.newaxis])\n",
    "                frame = frame.astype(np.uint8)\n",
    "                frame = cv2.resize(frame, resizingSize)\n",
    "                cv2.imshow('Original Frame', frame)\n",
    "\n",
    "                frame = cv2.cvtColor(frame, cv2.COLOR_BGR2RGB)\n",
    "                \n",
    "                YCC = cv2.cvtColor(frame, cv2.COLOR_RGB2YCrCb)\n",
    "                frame = frame.astype(np.float64) / 255\n",
    "                C = YCC[:, :, 1:]\n",
    "\n",
    "                skinMask = prob_skin_c(C, skinMean, skinCov, nonSkinMean, nonSkinCov)\n",
    "                cv2.imshow('Skin Mask before cleaning wiz threshold',  cv2.threshold(skinMask, 0.75, 1, cv2.THRESH_BINARY)[1]\n",
    ")\n",
    "\n",
    "                hand_mask = cleanMask(skinMask, original, resizingSize)\n",
    "                if hand_mask.dtype != np.uint8:\n",
    "                    hand_mask = (hand_mask * 255).astype(np.uint8)\n",
    "                skeleton = skeletonize(hand_mask)\n",
    "                try:\n",
    "                    finger_count = count_fingers(hand_mask)\n",
    "                except:\n",
    "                    finger_count = 0\n",
    "                    print(\"Error in count_fingers\")\n",
    "                \n",
    "\n",
    "                logger.info(f\"Fingers detected: {finger_count}\")\n",
    "\n",
    "                # Draw or clear canvas based on finger count\n",
    "                if (time.time() - currTime > 2):\n",
    "                    currTime = -1\n",
    "                if finger_count != 2:\n",
    "                    counter_pause = 0\n",
    "                if finger_count == 1 :  # Draw on the canvas\n",
    "                    tips = detect_fingertips_gray(hand_mask, skeleton)\n",
    "                    if tips:\n",
    "                        x, y = tips\n",
    "                        select_color_from_fingertip(x, y)\n",
    "                        if (currTime == -1):\n",
    "                            cv2.circle(drawing_canvas, (x, y), 7, drawing_color, -1)\n",
    "                            if x_canvas != -1 and y_canvas != -1 :\n",
    "                                if (x_canvas - x) ** 2 + (y_canvas - y) ** 2 < 10000:\n",
    "                                    cv2.line(drawing_canvas, (x, y), (x_canvas, y_canvas), drawing_color, 7)\n",
    "                            x_canvas, y_canvas = x, y\n",
    "                elif finger_count == 2:\n",
    "                    if (counter_pause >= 5):\n",
    "                        x_canvas, y_canvas = -1, -1\n",
    "                        currTime = time.time()\n",
    "                    else: \n",
    "                        counter_pause += 1\n",
    "                elif finger_count >= 4:  # Clear the canvas\n",
    "                    drawing_canvas = np.zeros_like(frame)\n",
    "                elif finger_count != 2:  \n",
    "                    x_canvas, y_canvas = -1, -1\n",
    "                # Combine the drawing canvas with the original frame\n",
    " \n",
    "                combined_frame = cv2.addWeighted(frame, 0.7, drawing_canvas, 0.3, 0)\n",
    "                combined_frame = (combined_frame * 255).astype(np.uint8)\n",
    "                for (x1, y1, x2, y2), color in color_squares.items():\n",
    "                    cv2.rectangle(combined_frame, (x1, y1), (x2, y2), color, -1)\n",
    "                    cv2.rectangle(combined_frame, (x1, y1), (x2, y2), (0, 0, 0), 2)\n",
    "                combined_frame = cv2.cvtColor(combined_frame, cv2.COLOR_RGB2BGR)\n",
    "                # Display the results\n",
    "                cv2.imshow('Original + Drawing', combined_frame)\n",
    "                cv2.imshow('Hand Skeleton', skeleton)\n",
    "                cv2.imshow('Hand Mask', hand_mask)\n",
    "\n",
    "            except Exception as e:\n",
    "                logger.error(f\"Error during processing: {e}\")\n",
    "                break\n",
    "\n",
    "            # Press 'q' to exit\n",
    "            if cv2.waitKey(1) & 0xFF == ord('q'):\n",
    "                break\n",
    "\n",
    "    finally:\n",
    "        # Release the webcam and close windows\n",
    "        cap.release()\n",
    "        cv2.destroyAllWindows()\n",
    "        logger.info(\"Webcam released and windows closed\")\n",
    "\n",
    "if __name__ == \"__main__\":\n",
    "    main()\n"
   ]
  }
 ],
 "metadata": {
  "kernelspec": {
   "display_name": "Python 3",
   "language": "python",
   "name": "python3"
  },
  "language_info": {
   "codemirror_mode": {
    "name": "ipython",
    "version": 3
   },
   "file_extension": ".py",
   "mimetype": "text/x-python",
   "name": "python",
   "nbconvert_exporter": "python",
   "pygments_lexer": "ipython3",
   "version": "3.11.2"
  }
 },
 "nbformat": 4,
 "nbformat_minor": 2
}
