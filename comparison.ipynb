{
 "cells": [
  {
   "cell_type": "markdown",
   "metadata": {},
   "source": [
    "# Comparison Script for Our Algorithm and A pre_trained Deep neural network "
   ]
  },
  {
   "cell_type": "markdown",
   "metadata": {},
   "source": [
    "### Imports"
   ]
  },
  {
   "cell_type": "code",
   "execution_count": 1,
   "metadata": {},
   "outputs": [
    {
     "name": "stderr",
     "output_type": "stream",
     "text": [
      "2024-12-22 11:42:16.233436: I tensorflow/core/util/port.cc:153] oneDNN custom operations are on. You may see slightly different numerical results due to floating-point round-off errors from different computation orders. To turn them off, set the environment variable `TF_ENABLE_ONEDNN_OPTS=0`.\n",
      "2024-12-22 11:42:16.401197: E external/local_xla/xla/stream_executor/cuda/cuda_fft.cc:485] Unable to register cuFFT factory: Attempting to register factory for plugin cuFFT when one has already been registered\n",
      "2024-12-22 11:42:16.425762: E external/local_xla/xla/stream_executor/cuda/cuda_dnn.cc:8454] Unable to register cuDNN factory: Attempting to register factory for plugin cuDNN when one has already been registered\n",
      "2024-12-22 11:42:16.435761: E external/local_xla/xla/stream_executor/cuda/cuda_blas.cc:1452] Unable to register cuBLAS factory: Attempting to register factory for plugin cuBLAS when one has already been registered\n",
      "2024-12-22 11:42:16.569640: I tensorflow/core/platform/cpu_feature_guard.cc:210] This TensorFlow binary is optimized to use available CPU instructions in performance-critical operations.\n",
      "To enable the following instructions: SSE4.1 SSE4.2 AVX AVX2 AVX512F AVX512_VNNI FMA, in other operations, rebuild TensorFlow with the appropriate compiler flags.\n",
      "DEBUG:tensorflow:Falling back to TensorFlow client; we recommended you install the Cloud TPU client directly with pip install cloud-tpu-client.\n",
      "DEBUG:h5py._conv:Creating converter from 7 to 5\n",
      "DEBUG:h5py._conv:Creating converter from 5 to 7\n",
      "DEBUG:h5py._conv:Creating converter from 7 to 5\n",
      "DEBUG:h5py._conv:Creating converter from 5 to 7\n",
      "DEBUG:2024-12-22 11:42:19,119:jax._src.path:45: etils.epath was not found. Using pathlib for file I/O.\n",
      "DEBUG:jax._src.path:etils.epath was not found. Using pathlib for file I/O.\n"
     ]
    }
   ],
   "source": [
    "import os\n",
    "from skimage import io, transform \n",
    "import numpy as np\n",
    "import cv2\n",
    "import matplotlib.pyplot as plt\n",
    "from skimage.morphology import skeletonize, thin\n",
    "from skimage.io import imshow\n",
    "import time\n",
    "from utils import *\n",
    "import tensorflow as tf \n",
    "from tensorflow import keras \n",
    "from cvzone.HandTrackingModule import HandDetector"
   ]
  },
  {
   "cell_type": "markdown",
   "metadata": {},
   "source": [
    "## Utility Functions"
   ]
  },
  {
   "cell_type": "code",
   "execution_count": 2,
   "metadata": {},
   "outputs": [],
   "source": [
    "def RGBtoYCbCr (R, G, B):\n",
    "    R = int(R)\n",
    "    G = int(G)\n",
    "    B = int(B)\n",
    "    R /= 255.0\n",
    "    G /= 255.0\n",
    "    B /= 255.0\n",
    "    Y = 16 + (65.481 * R + 128.553 * G + 24.966 * B)\n",
    "    Cb = 128 + (-37.797 * R - 74.203 * G + 112.0 * B)\n",
    "    Cr = 128 + (112.0 * R - 93.786 * G - 18.214 * B)\n",
    "    return Y, Cb, Cr"
   ]
  },
  {
   "cell_type": "code",
   "execution_count": 3,
   "metadata": {},
   "outputs": [],
   "source": [
    "def our_model_train(path = './Skin_NonSkin.txt'):\n",
    "    content = \"\"\n",
    "    with open(path, 'r') as file:\n",
    "        content = file.read()\n",
    "    entries = content.split('\\n')\n",
    "    dataset = dict()\n",
    "    for line in entries:\n",
    "        if line:\n",
    "            R, G, B, label = line.split()\n",
    "            label = int(label)\n",
    "            if(label not in dataset):\n",
    "                dataset[label] = []\n",
    "            Y, Cb, Cr = RGBtoYCbCr(R, G, B)\n",
    "            dataset[label].append([Cb, Cr])\n",
    "            \n",
    "    return dataset"
   ]
  },
  {
   "cell_type": "code",
   "execution_count": 4,
   "metadata": {},
   "outputs": [],
   "source": [
    "def get_mean_cov(dataset):\n",
    "    mean = dict()\n",
    "    cov = dict()\n",
    "    for label in dataset:\n",
    "        data = np.array(dataset[label])\n",
    "        mean[label] = np.mean(data, axis=0)\n",
    "        cov[label] = np.cov(data, rowvar=False)\n",
    "    return mean, cov"
   ]
  },
  {
   "cell_type": "code",
   "execution_count": 5,
   "metadata": {},
   "outputs": [],
   "source": [
    "def prob_c_label(C, mean, cov):\n",
    "    C = np.array(C)\n",
    "    mean = np.array(mean)\n",
    "    cov = np.array(cov)\n",
    "    \n",
    "    C_diff = C - mean\n",
    "    inv_cov = np.linalg.inv(cov)\n",
    "    \n",
    "    log_det = np.log(np.linalg.det(cov))\n",
    "    \n",
    "    log_norm_factor = 0.5 * (log_det + C.shape[1] * np.log(2 * np.pi))\n",
    "    \n",
    "    x = np.einsum('ijk,kl,ijl->ij', C_diff, inv_cov, C_diff)\n",
    "    \n",
    "    log_prob = -0.5 * x - log_norm_factor\n",
    "    \n",
    "    prob = np.exp(log_prob)\n",
    "    \n",
    "    return prob"
   ]
  },
  {
   "cell_type": "code",
   "execution_count": 6,
   "metadata": {},
   "outputs": [],
   "source": [
    "def prob_skin_c(C, skin_mean, skin_cov, non_skin_mean, non_skin_cov):\n",
    "    prob_c_skin = prob_c_label(C, skin_mean, skin_cov)\n",
    "    prob_c_non_skin = prob_c_label(C, non_skin_mean, non_skin_cov)\n",
    "\n",
    "    return prob_c_skin / (prob_c_skin + prob_c_non_skin)"
   ]
  },
  {
   "cell_type": "code",
   "execution_count": 7,
   "metadata": {},
   "outputs": [],
   "source": [
    "def appendFaceContour(frame, resized_size, contour_areas, smallest_contours):\n",
    "    original_height, original_width = frame.shape[:2]\n",
    "    scale_x = resized_size[0] / original_width\n",
    "    scale_y = resized_size[1] / original_height\n",
    "    faces = face_cascade.detectMultiScale(frame, 1.3, 5)\n",
    "    global max_face\n",
    "    global max_area_face\n",
    "    if len(faces) > 0:\n",
    "        max_area = 0\n",
    "        for (x, y, w, h) in faces:\n",
    "            area = w * h\n",
    "            if area > max_area and (max_area_face == 0 or abs(area - max_area_face) < 0.3 * max_area_face):\n",
    "                max_area = area\n",
    "                max_face = (x, y, w, h)\n",
    "                max_area_face = max_area\n",
    "    if max_face:\n",
    "        (x, y, w, h) = max_face\n",
    "        face = frame.copy()\n",
    "        cv2.rectangle(face, (x, y), (x + w, y + h), (0, 255, 0), 2)\n",
    "        radius = min(w, h) // 2 \n",
    "        center_x = x + w // 2\n",
    "        center_y = y + h // 2\n",
    "        cv2.circle(face, (center_x, center_y), radius, (0, 255, 0), 2)\n",
    "        cv2.imshow('face', face)\n",
    "        x_resized = int(x * scale_x)\n",
    "        y_resized = int(y * scale_y)\n",
    "        w_resized = int(w * scale_x)\n",
    "        h_resized = int(h * scale_y)\n",
    "        middle_x = x_resized + w_resized // 2\n",
    "        middle_y = y_resized + h_resized // 2\n",
    "        for _, contour in contour_areas[-min(2,len(contour_areas)):]: \n",
    "            temp = contour.reshape(-1, 2)\n",
    "            min_x = min(temp[:, 0])\n",
    "            max_x = max(temp[:, 0])\n",
    "            min_y = min(temp[:, 1])\n",
    "            max_y = max(temp[:, 1])\n",
    "            if (middle_x >= min_x and middle_x <= max_x) and (middle_y >= min_y and middle_y <= max_y):\n",
    "                smallest_contours.append(contour)\n",
    "    elif len(contour_areas) > 1:\n",
    "        smallest_contours.append(contour_areas[-2][1])"
   ]
  },
  {
   "cell_type": "code",
   "execution_count": 8,
   "metadata": {},
   "outputs": [],
   "source": [
    "def removeContours(mask, frame, resized_size):\n",
    "    closed_mask = cv2.morphologyEx(mask, cv2.MORPH_DILATE, np.ones((20, 5)), iterations=3)\n",
    "    contours = cv2.findContours(closed_mask.astype(np.uint8), cv2.RETR_TREE, cv2.CHAIN_APPROX_SIMPLE)[0]\n",
    "    contour_areas = [(cv2.contourArea(c), c) for c in contours]\n",
    "    contour_areas.sort(key=lambda x: x[0]) \n",
    "    smallest_contours = [c[1] for c in contour_areas[:-min(2, len(contour_areas))]]\n",
    "    ### can be removed\n",
    "    if len(contour_areas) > 1 and contour_areas[-2][0] < contour_areas[-1][0] / 2:\n",
    "        smallest_contours.append(contour_areas[-2][1])\n",
    "    ### can be removed\n",
    "    maybe_face = contour_areas[-min(2, len(contour_areas)):]\n",
    "    \n",
    "    appendFaceContour(frame, resized_size, maybe_face, smallest_contours)\n",
    "    if len(smallest_contours) > 0:\n",
    "        cv2.drawContours(mask, smallest_contours, -1, 0, -1)\n",
    "    image = mask.copy()\n",
    "    for x in contours[-min(2,len(contours)):]:\n",
    "        cv2.drawContours(image, [x], -1, (0, 0, 255), 2)\n",
    "    cv2.imshow('contours', image)\n"
   ]
  },
  {
   "cell_type": "code",
   "execution_count": 9,
   "metadata": {},
   "outputs": [],
   "source": [
    "def cleanMask(skin_mask, frame, resized_size):\n",
    "    binary_mask = cv2.morphologyEx(skin_mask, cv2.MORPH_CLOSE, np.ones((3, 3)), iterations=3)\n",
    "    binary_mask = cv2.threshold(binary_mask, 0.005, 1, cv2.THRESH_BINARY)[1]\n",
    "    binary_mask = cv2.morphologyEx(binary_mask, cv2.MORPH_CLOSE, np.ones((3, 3)), iterations=3)\n",
    "    # binary_mask = cv2.morphologyEx(binary_mask, cv2.MORPH_OPEN, np.ones((3, 3)), iterations=3)\n",
    "    removeContours(binary_mask, frame, resized_size)\n",
    "    return binary_mask"
   ]
  },
  {
   "cell_type": "code",
   "execution_count": 10,
   "metadata": {},
   "outputs": [],
   "source": [
    "def removeFaceMask(image, face_cascade):\n",
    "    gray = cv2.cvtColor(image, cv2.COLOR_BGR2GRAY)\n",
    "    \n",
    "    faces = face_cascade.detectMultiScale(gray, scaleFactor=1.1, minNeighbors=5, minSize=(30, 30))\n",
    "    \n",
    "    mask = np.ones((image.shape[0], image.shape[1]), dtype=np.uint8)\n",
    "    \n",
    "    Y, X = np.ogrid[:image.shape[0], :image.shape[1]]  # Create grid of indices\n",
    "    for (x, y, w, h) in faces:\n",
    "        center_x, center_y = x + w // 2, y + h // 2  \n",
    "        radius = 1.1 * (max(w, h) // 2 ) \n",
    "        \n",
    "        dist_from_center = (X - center_x)**2 + (Y - center_y)**2\n",
    "        circular_mask = dist_from_center <= radius**2\n",
    "        \n",
    "        mask[circular_mask] = 0\n",
    "    \n",
    "    return mask"
   ]
  },
  {
   "cell_type": "code",
   "execution_count": 11,
   "metadata": {},
   "outputs": [],
   "source": [
    "def select_color_from_fingertip(x, y):\n",
    "    global drawing_color\n",
    "    for (x1, y1, x2, y2), color in color_squares.items():\n",
    "        if x1 <= x <= x2 and y1 <= y <= y2:\n",
    "            drawing_color = color\n",
    "            break"
   ]
  },
  {
   "cell_type": "code",
   "execution_count": 12,
   "metadata": {},
   "outputs": [],
   "source": [
    "dataset = our_model_train()\n",
    "mean, cov = get_mean_cov(dataset)\n",
    "skin_mean = mean[1]\n",
    "skin_cov = cov[1]\n",
    "non_skin_mean = mean[2]\n",
    "non_skin_cov = cov[2]\n",
    "max_face = None\n",
    "max_area_face = 0\n",
    "\n",
    "drawing_color = (0, 0, 255)\n",
    "\n",
    "color_squares = {\n",
    "    (10, 10, 50, 50): (255, 0, 0), \n",
    "    (60, 10, 110, 50): (0, 255, 0), \n",
    "    (120, 10, 170, 50): (0, 0, 255), \n",
    "}"
   ]
  },
  {
   "cell_type": "code",
   "execution_count": 13,
   "metadata": {},
   "outputs": [],
   "source": [
    "def import_data():\n",
    "    train_img = [] \n",
    "    train_label = [] \n",
    "    test_img = [] \n",
    "    test_label = [] \n",
    "    i = 0\n",
    "    # Debug single image from test directory\n",
    "    test_dir = 'archive/fingers/test'\n",
    "    for f in os.listdir(test_dir):\n",
    "        if f.endswith('.png'):  # Ensure only process image files\n",
    "            i += 1\n",
    "            if i > 200:\n",
    "                break\n",
    "            img = io.imread(os.path.join(test_dir, f))  # Use full path\n",
    "            img = transform.resize(img, (480, 640), anti_aliasing=True)\n",
    "            if len(img.shape) == 2:  # Grayscale image\n",
    "                img = np.stack([img] * 3, axis=-1)\n",
    "            test_img.append(img)\n",
    "            test_label.append(f[-6])  # Extract label\n",
    "            \n",
    "\n",
    "    # Debug single image from train directory\n",
    "    #train_dir = 'archive/fingers/train'\n",
    "    #for f in os.listdir(train_dir):\n",
    "    #    if f.endswith('.png'):  # Ensure only process image files\n",
    "    #        img = io.imread(os.path.join(train_dir, f))  # Use full path\n",
    "    #        img = transform.resize(img, (128, 128), anti_aliasing=True)\n",
    "    #        train_img.append(img)\n",
    "    #        \n",
    "    #        train_label.append(f[-6])  # Extract label\n",
    "            \n",
    "            \n",
    "    return np.array(test_img), np.array(test_label)\n"
   ]
  },
  {
   "cell_type": "code",
   "execution_count": 14,
   "metadata": {},
   "outputs": [
    {
     "name": "stderr",
     "output_type": "stream",
     "text": [
      "DEBUG:PIL.PngImagePlugin:STREAM b'IHDR' 16 13\n",
      "DEBUG:PIL.PngImagePlugin:STREAM b'IDAT' 41 8192\n",
      "DEBUG:PIL.PngImagePlugin:STREAM b'IHDR' 16 13\n",
      "DEBUG:PIL.PngImagePlugin:STREAM b'IDAT' 41 8192\n",
      "DEBUG:PIL.Image:Error closing: Operation on closed image\n",
      "DEBUG:PIL.PngImagePlugin:STREAM b'IHDR' 16 13\n",
      "DEBUG:PIL.PngImagePlugin:STREAM b'IDAT' 41 8192\n",
      "DEBUG:PIL.PngImagePlugin:STREAM b'IHDR' 16 13\n",
      "DEBUG:PIL.PngImagePlugin:STREAM b'IDAT' 41 8192\n",
      "DEBUG:PIL.Image:Error closing: Operation on closed image\n",
      "DEBUG:PIL.PngImagePlugin:STREAM b'IHDR' 16 13\n",
      "DEBUG:PIL.PngImagePlugin:STREAM b'IDAT' 41 8192\n",
      "DEBUG:PIL.PngImagePlugin:STREAM b'IHDR' 16 13\n",
      "DEBUG:PIL.PngImagePlugin:STREAM b'IDAT' 41 8192\n",
      "DEBUG:PIL.Image:Error closing: Operation on closed image\n",
      "DEBUG:PIL.PngImagePlugin:STREAM b'IHDR' 16 13\n",
      "DEBUG:PIL.PngImagePlugin:STREAM b'IDAT' 41 8192\n",
      "DEBUG:PIL.PngImagePlugin:STREAM b'IHDR' 16 13\n",
      "DEBUG:PIL.PngImagePlugin:STREAM b'IDAT' 41 8192\n",
      "DEBUG:PIL.Image:Error closing: Operation on closed image\n",
      "DEBUG:PIL.PngImagePlugin:STREAM b'IHDR' 16 13\n",
      "DEBUG:PIL.PngImagePlugin:STREAM b'IDAT' 41 8078\n",
      "DEBUG:PIL.PngImagePlugin:STREAM b'IHDR' 16 13\n",
      "DEBUG:PIL.PngImagePlugin:STREAM b'IDAT' 41 8078\n",
      "DEBUG:PIL.Image:Error closing: Operation on closed image\n",
      "DEBUG:PIL.PngImagePlugin:STREAM b'IHDR' 16 13\n",
      "DEBUG:PIL.PngImagePlugin:STREAM b'IDAT' 41 8192\n",
      "DEBUG:PIL.PngImagePlugin:STREAM b'IHDR' 16 13\n",
      "DEBUG:PIL.PngImagePlugin:STREAM b'IDAT' 41 8192\n",
      "DEBUG:PIL.Image:Error closing: Operation on closed image\n",
      "DEBUG:PIL.PngImagePlugin:STREAM b'IHDR' 16 13\n",
      "DEBUG:PIL.PngImagePlugin:STREAM b'IDAT' 41 8192\n",
      "DEBUG:PIL.PngImagePlugin:STREAM b'IHDR' 16 13\n",
      "DEBUG:PIL.PngImagePlugin:STREAM b'IDAT' 41 8192\n",
      "DEBUG:PIL.Image:Error closing: Operation on closed image\n",
      "DEBUG:PIL.PngImagePlugin:STREAM b'IHDR' 16 13\n",
      "DEBUG:PIL.PngImagePlugin:STREAM b'IDAT' 41 8192\n",
      "DEBUG:PIL.PngImagePlugin:STREAM b'IHDR' 16 13\n",
      "DEBUG:PIL.PngImagePlugin:STREAM b'IDAT' 41 8192\n",
      "DEBUG:PIL.Image:Error closing: Operation on closed image\n",
      "DEBUG:PIL.PngImagePlugin:STREAM b'IHDR' 16 13\n",
      "DEBUG:PIL.PngImagePlugin:STREAM b'IDAT' 41 8029\n",
      "DEBUG:PIL.PngImagePlugin:STREAM b'IHDR' 16 13\n",
      "DEBUG:PIL.PngImagePlugin:STREAM b'IDAT' 41 8029\n",
      "DEBUG:PIL.Image:Error closing: Operation on closed image\n",
      "DEBUG:PIL.PngImagePlugin:STREAM b'IHDR' 16 13\n",
      "DEBUG:PIL.PngImagePlugin:STREAM b'IDAT' 41 8192\n",
      "DEBUG:PIL.PngImagePlugin:STREAM b'IHDR' 16 13\n",
      "DEBUG:PIL.PngImagePlugin:STREAM b'IDAT' 41 8192\n",
      "DEBUG:PIL.Image:Error closing: Operation on closed image\n",
      "DEBUG:PIL.PngImagePlugin:STREAM b'IHDR' 16 13\n",
      "DEBUG:PIL.PngImagePlugin:STREAM b'IDAT' 41 8192\n",
      "DEBUG:PIL.PngImagePlugin:STREAM b'IHDR' 16 13\n",
      "DEBUG:PIL.PngImagePlugin:STREAM b'IDAT' 41 8192\n",
      "DEBUG:PIL.Image:Error closing: Operation on closed image\n",
      "DEBUG:PIL.PngImagePlugin:STREAM b'IHDR' 16 13\n",
      "DEBUG:PIL.PngImagePlugin:STREAM b'IDAT' 41 8192\n",
      "DEBUG:PIL.PngImagePlugin:STREAM b'IHDR' 16 13\n",
      "DEBUG:PIL.PngImagePlugin:STREAM b'IDAT' 41 8192\n",
      "DEBUG:PIL.Image:Error closing: Operation on closed image\n",
      "DEBUG:PIL.PngImagePlugin:STREAM b'IHDR' 16 13\n",
      "DEBUG:PIL.PngImagePlugin:STREAM b'IDAT' 41 8192\n",
      "DEBUG:PIL.PngImagePlugin:STREAM b'IHDR' 16 13\n",
      "DEBUG:PIL.PngImagePlugin:STREAM b'IDAT' 41 8192\n",
      "DEBUG:PIL.Image:Error closing: Operation on closed image\n",
      "DEBUG:PIL.PngImagePlugin:STREAM b'IHDR' 16 13\n",
      "DEBUG:PIL.PngImagePlugin:STREAM b'IDAT' 41 8192\n",
      "DEBUG:PIL.PngImagePlugin:STREAM b'IHDR' 16 13\n",
      "DEBUG:PIL.PngImagePlugin:STREAM b'IDAT' 41 8192\n",
      "DEBUG:PIL.Image:Error closing: Operation on closed image\n",
      "DEBUG:PIL.PngImagePlugin:STREAM b'IHDR' 16 13\n",
      "DEBUG:PIL.PngImagePlugin:STREAM b'IDAT' 41 8192\n",
      "DEBUG:PIL.PngImagePlugin:STREAM b'IHDR' 16 13\n",
      "DEBUG:PIL.PngImagePlugin:STREAM b'IDAT' 41 8192\n",
      "DEBUG:PIL.Image:Error closing: Operation on closed image\n",
      "DEBUG:PIL.PngImagePlugin:STREAM b'IHDR' 16 13\n",
      "DEBUG:PIL.PngImagePlugin:STREAM b'IDAT' 41 8192\n",
      "DEBUG:PIL.PngImagePlugin:STREAM b'IHDR' 16 13\n",
      "DEBUG:PIL.PngImagePlugin:STREAM b'IDAT' 41 8192\n",
      "DEBUG:PIL.Image:Error closing: Operation on closed image\n",
      "DEBUG:PIL.PngImagePlugin:STREAM b'IHDR' 16 13\n",
      "DEBUG:PIL.PngImagePlugin:STREAM b'IDAT' 41 8192\n",
      "DEBUG:PIL.PngImagePlugin:STREAM b'IHDR' 16 13\n",
      "DEBUG:PIL.PngImagePlugin:STREAM b'IDAT' 41 8192\n",
      "DEBUG:PIL.Image:Error closing: Operation on closed image\n",
      "DEBUG:PIL.PngImagePlugin:STREAM b'IHDR' 16 13\n",
      "DEBUG:PIL.PngImagePlugin:STREAM b'IDAT' 41 8192\n",
      "DEBUG:PIL.PngImagePlugin:STREAM b'IHDR' 16 13\n",
      "DEBUG:PIL.PngImagePlugin:STREAM b'IDAT' 41 8192\n",
      "DEBUG:PIL.Image:Error closing: Operation on closed image\n",
      "DEBUG:PIL.PngImagePlugin:STREAM b'IHDR' 16 13\n",
      "DEBUG:PIL.PngImagePlugin:STREAM b'IDAT' 41 8192\n",
      "DEBUG:PIL.PngImagePlugin:STREAM b'IHDR' 16 13\n",
      "DEBUG:PIL.PngImagePlugin:STREAM b'IDAT' 41 8192\n",
      "DEBUG:PIL.Image:Error closing: Operation on closed image\n",
      "DEBUG:PIL.PngImagePlugin:STREAM b'IHDR' 16 13\n",
      "DEBUG:PIL.PngImagePlugin:STREAM b'IDAT' 41 8063\n",
      "DEBUG:PIL.PngImagePlugin:STREAM b'IHDR' 16 13\n",
      "DEBUG:PIL.PngImagePlugin:STREAM b'IDAT' 41 8063\n",
      "DEBUG:PIL.Image:Error closing: Operation on closed image\n",
      "DEBUG:PIL.PngImagePlugin:STREAM b'IHDR' 16 13\n",
      "DEBUG:PIL.PngImagePlugin:STREAM b'IDAT' 41 8192\n",
      "DEBUG:PIL.PngImagePlugin:STREAM b'IHDR' 16 13\n",
      "DEBUG:PIL.PngImagePlugin:STREAM b'IDAT' 41 8192\n",
      "DEBUG:PIL.Image:Error closing: Operation on closed image\n",
      "DEBUG:PIL.PngImagePlugin:STREAM b'IHDR' 16 13\n",
      "DEBUG:PIL.PngImagePlugin:STREAM b'IDAT' 41 8096\n",
      "DEBUG:PIL.PngImagePlugin:STREAM b'IHDR' 16 13\n",
      "DEBUG:PIL.PngImagePlugin:STREAM b'IDAT' 41 8096\n",
      "DEBUG:PIL.Image:Error closing: Operation on closed image\n",
      "DEBUG:PIL.PngImagePlugin:STREAM b'IHDR' 16 13\n",
      "DEBUG:PIL.PngImagePlugin:STREAM b'IDAT' 41 8192\n",
      "DEBUG:PIL.PngImagePlugin:STREAM b'IHDR' 16 13\n",
      "DEBUG:PIL.PngImagePlugin:STREAM b'IDAT' 41 8192\n",
      "DEBUG:PIL.Image:Error closing: Operation on closed image\n",
      "DEBUG:PIL.PngImagePlugin:STREAM b'IHDR' 16 13\n",
      "DEBUG:PIL.PngImagePlugin:STREAM b'IDAT' 41 8192\n",
      "DEBUG:PIL.PngImagePlugin:STREAM b'IHDR' 16 13\n",
      "DEBUG:PIL.PngImagePlugin:STREAM b'IDAT' 41 8192\n",
      "DEBUG:PIL.Image:Error closing: Operation on closed image\n",
      "DEBUG:PIL.PngImagePlugin:STREAM b'IHDR' 16 13\n",
      "DEBUG:PIL.PngImagePlugin:STREAM b'IDAT' 41 8192\n",
      "DEBUG:PIL.PngImagePlugin:STREAM b'IHDR' 16 13\n",
      "DEBUG:PIL.PngImagePlugin:STREAM b'IDAT' 41 8192\n",
      "DEBUG:PIL.Image:Error closing: Operation on closed image\n",
      "DEBUG:PIL.PngImagePlugin:STREAM b'IHDR' 16 13\n",
      "DEBUG:PIL.PngImagePlugin:STREAM b'IDAT' 41 8192\n",
      "DEBUG:PIL.PngImagePlugin:STREAM b'IHDR' 16 13\n",
      "DEBUG:PIL.PngImagePlugin:STREAM b'IDAT' 41 8192\n",
      "DEBUG:PIL.Image:Error closing: Operation on closed image\n",
      "DEBUG:PIL.PngImagePlugin:STREAM b'IHDR' 16 13\n",
      "DEBUG:PIL.PngImagePlugin:STREAM b'IDAT' 41 8067\n",
      "DEBUG:PIL.PngImagePlugin:STREAM b'IHDR' 16 13\n",
      "DEBUG:PIL.PngImagePlugin:STREAM b'IDAT' 41 8067\n",
      "DEBUG:PIL.Image:Error closing: Operation on closed image\n",
      "DEBUG:PIL.PngImagePlugin:STREAM b'IHDR' 16 13\n",
      "DEBUG:PIL.PngImagePlugin:STREAM b'IDAT' 41 8192\n",
      "DEBUG:PIL.PngImagePlugin:STREAM b'IHDR' 16 13\n",
      "DEBUG:PIL.PngImagePlugin:STREAM b'IDAT' 41 8192\n",
      "DEBUG:PIL.Image:Error closing: Operation on closed image\n",
      "DEBUG:PIL.PngImagePlugin:STREAM b'IHDR' 16 13\n",
      "DEBUG:PIL.PngImagePlugin:STREAM b'IDAT' 41 8192\n",
      "DEBUG:PIL.PngImagePlugin:STREAM b'IHDR' 16 13\n",
      "DEBUG:PIL.PngImagePlugin:STREAM b'IDAT' 41 8192\n",
      "DEBUG:PIL.Image:Error closing: Operation on closed image\n",
      "DEBUG:PIL.PngImagePlugin:STREAM b'IHDR' 16 13\n",
      "DEBUG:PIL.PngImagePlugin:STREAM b'IDAT' 41 8192\n",
      "DEBUG:PIL.PngImagePlugin:STREAM b'IHDR' 16 13\n",
      "DEBUG:PIL.PngImagePlugin:STREAM b'IDAT' 41 8192\n",
      "DEBUG:PIL.Image:Error closing: Operation on closed image\n",
      "DEBUG:PIL.PngImagePlugin:STREAM b'IHDR' 16 13\n",
      "DEBUG:PIL.PngImagePlugin:STREAM b'IDAT' 41 8019\n",
      "DEBUG:PIL.PngImagePlugin:STREAM b'IHDR' 16 13\n",
      "DEBUG:PIL.PngImagePlugin:STREAM b'IDAT' 41 8019\n",
      "DEBUG:PIL.Image:Error closing: Operation on closed image\n",
      "DEBUG:PIL.PngImagePlugin:STREAM b'IHDR' 16 13\n",
      "DEBUG:PIL.PngImagePlugin:STREAM b'IDAT' 41 8192\n",
      "DEBUG:PIL.PngImagePlugin:STREAM b'IHDR' 16 13\n",
      "DEBUG:PIL.PngImagePlugin:STREAM b'IDAT' 41 8192\n",
      "DEBUG:PIL.Image:Error closing: Operation on closed image\n",
      "DEBUG:PIL.PngImagePlugin:STREAM b'IHDR' 16 13\n",
      "DEBUG:PIL.PngImagePlugin:STREAM b'IDAT' 41 8095\n",
      "DEBUG:PIL.PngImagePlugin:STREAM b'IHDR' 16 13\n",
      "DEBUG:PIL.PngImagePlugin:STREAM b'IDAT' 41 8095\n",
      "DEBUG:PIL.Image:Error closing: Operation on closed image\n",
      "DEBUG:PIL.PngImagePlugin:STREAM b'IHDR' 16 13\n",
      "DEBUG:PIL.PngImagePlugin:STREAM b'IDAT' 41 8192\n",
      "DEBUG:PIL.PngImagePlugin:STREAM b'IHDR' 16 13\n",
      "DEBUG:PIL.PngImagePlugin:STREAM b'IDAT' 41 8192\n",
      "DEBUG:PIL.Image:Error closing: Operation on closed image\n",
      "DEBUG:PIL.PngImagePlugin:STREAM b'IHDR' 16 13\n",
      "DEBUG:PIL.PngImagePlugin:STREAM b'IDAT' 41 8192\n",
      "DEBUG:PIL.PngImagePlugin:STREAM b'IHDR' 16 13\n",
      "DEBUG:PIL.PngImagePlugin:STREAM b'IDAT' 41 8192\n",
      "DEBUG:PIL.Image:Error closing: Operation on closed image\n",
      "DEBUG:PIL.PngImagePlugin:STREAM b'IHDR' 16 13\n",
      "DEBUG:PIL.PngImagePlugin:STREAM b'IDAT' 41 8192\n",
      "DEBUG:PIL.PngImagePlugin:STREAM b'IHDR' 16 13\n",
      "DEBUG:PIL.PngImagePlugin:STREAM b'IDAT' 41 8192\n",
      "DEBUG:PIL.Image:Error closing: Operation on closed image\n",
      "DEBUG:PIL.PngImagePlugin:STREAM b'IHDR' 16 13\n",
      "DEBUG:PIL.PngImagePlugin:STREAM b'IDAT' 41 8192\n",
      "DEBUG:PIL.PngImagePlugin:STREAM b'IHDR' 16 13\n",
      "DEBUG:PIL.PngImagePlugin:STREAM b'IDAT' 41 8192\n",
      "DEBUG:PIL.Image:Error closing: Operation on closed image\n",
      "DEBUG:PIL.PngImagePlugin:STREAM b'IHDR' 16 13\n",
      "DEBUG:PIL.PngImagePlugin:STREAM b'IDAT' 41 8192\n",
      "DEBUG:PIL.PngImagePlugin:STREAM b'IHDR' 16 13\n",
      "DEBUG:PIL.PngImagePlugin:STREAM b'IDAT' 41 8192\n",
      "DEBUG:PIL.Image:Error closing: Operation on closed image\n",
      "DEBUG:PIL.PngImagePlugin:STREAM b'IHDR' 16 13\n",
      "DEBUG:PIL.PngImagePlugin:STREAM b'IDAT' 41 8192\n",
      "DEBUG:PIL.PngImagePlugin:STREAM b'IHDR' 16 13\n",
      "DEBUG:PIL.PngImagePlugin:STREAM b'IDAT' 41 8192\n",
      "DEBUG:PIL.Image:Error closing: Operation on closed image\n",
      "DEBUG:PIL.PngImagePlugin:STREAM b'IHDR' 16 13\n",
      "DEBUG:PIL.PngImagePlugin:STREAM b'IDAT' 41 8192\n",
      "DEBUG:PIL.PngImagePlugin:STREAM b'IHDR' 16 13\n",
      "DEBUG:PIL.PngImagePlugin:STREAM b'IDAT' 41 8192\n",
      "DEBUG:PIL.Image:Error closing: Operation on closed image\n",
      "DEBUG:PIL.PngImagePlugin:STREAM b'IHDR' 16 13\n",
      "DEBUG:PIL.PngImagePlugin:STREAM b'IDAT' 41 8192\n",
      "DEBUG:PIL.PngImagePlugin:STREAM b'IHDR' 16 13\n",
      "DEBUG:PIL.PngImagePlugin:STREAM b'IDAT' 41 8192\n",
      "DEBUG:PIL.Image:Error closing: Operation on closed image\n",
      "DEBUG:PIL.PngImagePlugin:STREAM b'IHDR' 16 13\n",
      "DEBUG:PIL.PngImagePlugin:STREAM b'IDAT' 41 8192\n",
      "DEBUG:PIL.PngImagePlugin:STREAM b'IHDR' 16 13\n",
      "DEBUG:PIL.PngImagePlugin:STREAM b'IDAT' 41 8192\n",
      "DEBUG:PIL.Image:Error closing: Operation on closed image\n",
      "DEBUG:PIL.PngImagePlugin:STREAM b'IHDR' 16 13\n",
      "DEBUG:PIL.PngImagePlugin:STREAM b'IDAT' 41 8192\n",
      "DEBUG:PIL.PngImagePlugin:STREAM b'IHDR' 16 13\n",
      "DEBUG:PIL.PngImagePlugin:STREAM b'IDAT' 41 8192\n",
      "DEBUG:PIL.Image:Error closing: Operation on closed image\n",
      "DEBUG:PIL.PngImagePlugin:STREAM b'IHDR' 16 13\n",
      "DEBUG:PIL.PngImagePlugin:STREAM b'IDAT' 41 8192\n",
      "DEBUG:PIL.PngImagePlugin:STREAM b'IHDR' 16 13\n",
      "DEBUG:PIL.PngImagePlugin:STREAM b'IDAT' 41 8192\n",
      "DEBUG:PIL.Image:Error closing: Operation on closed image\n",
      "DEBUG:PIL.PngImagePlugin:STREAM b'IHDR' 16 13\n",
      "DEBUG:PIL.PngImagePlugin:STREAM b'IDAT' 41 8192\n",
      "DEBUG:PIL.PngImagePlugin:STREAM b'IHDR' 16 13\n",
      "DEBUG:PIL.PngImagePlugin:STREAM b'IDAT' 41 8192\n",
      "DEBUG:PIL.Image:Error closing: Operation on closed image\n",
      "DEBUG:PIL.PngImagePlugin:STREAM b'IHDR' 16 13\n",
      "DEBUG:PIL.PngImagePlugin:STREAM b'IDAT' 41 8192\n",
      "DEBUG:PIL.PngImagePlugin:STREAM b'IHDR' 16 13\n",
      "DEBUG:PIL.PngImagePlugin:STREAM b'IDAT' 41 8192\n",
      "DEBUG:PIL.Image:Error closing: Operation on closed image\n",
      "DEBUG:PIL.PngImagePlugin:STREAM b'IHDR' 16 13\n",
      "DEBUG:PIL.PngImagePlugin:STREAM b'IDAT' 41 8192\n",
      "DEBUG:PIL.PngImagePlugin:STREAM b'IHDR' 16 13\n",
      "DEBUG:PIL.PngImagePlugin:STREAM b'IDAT' 41 8192\n",
      "DEBUG:PIL.Image:Error closing: Operation on closed image\n",
      "DEBUG:PIL.PngImagePlugin:STREAM b'IHDR' 16 13\n",
      "DEBUG:PIL.PngImagePlugin:STREAM b'IDAT' 41 8192\n",
      "DEBUG:PIL.PngImagePlugin:STREAM b'IHDR' 16 13\n",
      "DEBUG:PIL.PngImagePlugin:STREAM b'IDAT' 41 8192\n",
      "DEBUG:PIL.Image:Error closing: Operation on closed image\n",
      "DEBUG:PIL.PngImagePlugin:STREAM b'IHDR' 16 13\n",
      "DEBUG:PIL.PngImagePlugin:STREAM b'IDAT' 41 8192\n",
      "DEBUG:PIL.PngImagePlugin:STREAM b'IHDR' 16 13\n",
      "DEBUG:PIL.PngImagePlugin:STREAM b'IDAT' 41 8192\n",
      "DEBUG:PIL.Image:Error closing: Operation on closed image\n",
      "DEBUG:PIL.PngImagePlugin:STREAM b'IHDR' 16 13\n",
      "DEBUG:PIL.PngImagePlugin:STREAM b'IDAT' 41 7799\n",
      "DEBUG:PIL.PngImagePlugin:STREAM b'IHDR' 16 13\n",
      "DEBUG:PIL.PngImagePlugin:STREAM b'IDAT' 41 7799\n",
      "DEBUG:PIL.Image:Error closing: Operation on closed image\n",
      "DEBUG:PIL.PngImagePlugin:STREAM b'IHDR' 16 13\n",
      "DEBUG:PIL.PngImagePlugin:STREAM b'IDAT' 41 8192\n",
      "DEBUG:PIL.PngImagePlugin:STREAM b'IHDR' 16 13\n",
      "DEBUG:PIL.PngImagePlugin:STREAM b'IDAT' 41 8192\n",
      "DEBUG:PIL.Image:Error closing: Operation on closed image\n",
      "DEBUG:PIL.PngImagePlugin:STREAM b'IHDR' 16 13\n",
      "DEBUG:PIL.PngImagePlugin:STREAM b'IDAT' 41 8192\n",
      "DEBUG:PIL.PngImagePlugin:STREAM b'IHDR' 16 13\n",
      "DEBUG:PIL.PngImagePlugin:STREAM b'IDAT' 41 8192\n",
      "DEBUG:PIL.Image:Error closing: Operation on closed image\n",
      "DEBUG:PIL.PngImagePlugin:STREAM b'IHDR' 16 13\n",
      "DEBUG:PIL.PngImagePlugin:STREAM b'IDAT' 41 8111\n",
      "DEBUG:PIL.PngImagePlugin:STREAM b'IHDR' 16 13\n",
      "DEBUG:PIL.PngImagePlugin:STREAM b'IDAT' 41 8111\n",
      "DEBUG:PIL.Image:Error closing: Operation on closed image\n",
      "DEBUG:PIL.PngImagePlugin:STREAM b'IHDR' 16 13\n",
      "DEBUG:PIL.PngImagePlugin:STREAM b'IDAT' 41 8192\n",
      "DEBUG:PIL.PngImagePlugin:STREAM b'IHDR' 16 13\n",
      "DEBUG:PIL.PngImagePlugin:STREAM b'IDAT' 41 8192\n",
      "DEBUG:PIL.Image:Error closing: Operation on closed image\n",
      "DEBUG:PIL.PngImagePlugin:STREAM b'IHDR' 16 13\n",
      "DEBUG:PIL.PngImagePlugin:STREAM b'IDAT' 41 8192\n",
      "DEBUG:PIL.PngImagePlugin:STREAM b'IHDR' 16 13\n",
      "DEBUG:PIL.PngImagePlugin:STREAM b'IDAT' 41 8192\n",
      "DEBUG:PIL.Image:Error closing: Operation on closed image\n",
      "DEBUG:PIL.PngImagePlugin:STREAM b'IHDR' 16 13\n",
      "DEBUG:PIL.PngImagePlugin:STREAM b'IDAT' 41 8192\n",
      "DEBUG:PIL.PngImagePlugin:STREAM b'IHDR' 16 13\n",
      "DEBUG:PIL.PngImagePlugin:STREAM b'IDAT' 41 8192\n",
      "DEBUG:PIL.Image:Error closing: Operation on closed image\n",
      "DEBUG:PIL.PngImagePlugin:STREAM b'IHDR' 16 13\n",
      "DEBUG:PIL.PngImagePlugin:STREAM b'IDAT' 41 7964\n",
      "DEBUG:PIL.PngImagePlugin:STREAM b'IHDR' 16 13\n",
      "DEBUG:PIL.PngImagePlugin:STREAM b'IDAT' 41 7964\n",
      "DEBUG:PIL.Image:Error closing: Operation on closed image\n",
      "DEBUG:PIL.PngImagePlugin:STREAM b'IHDR' 16 13\n",
      "DEBUG:PIL.PngImagePlugin:STREAM b'IDAT' 41 8192\n",
      "DEBUG:PIL.PngImagePlugin:STREAM b'IHDR' 16 13\n",
      "DEBUG:PIL.PngImagePlugin:STREAM b'IDAT' 41 8192\n",
      "DEBUG:PIL.Image:Error closing: Operation on closed image\n",
      "DEBUG:PIL.PngImagePlugin:STREAM b'IHDR' 16 13\n",
      "DEBUG:PIL.PngImagePlugin:STREAM b'IDAT' 41 8192\n",
      "DEBUG:PIL.PngImagePlugin:STREAM b'IHDR' 16 13\n",
      "DEBUG:PIL.PngImagePlugin:STREAM b'IDAT' 41 8192\n",
      "DEBUG:PIL.Image:Error closing: Operation on closed image\n",
      "DEBUG:PIL.PngImagePlugin:STREAM b'IHDR' 16 13\n",
      "DEBUG:PIL.PngImagePlugin:STREAM b'IDAT' 41 8129\n",
      "DEBUG:PIL.PngImagePlugin:STREAM b'IHDR' 16 13\n",
      "DEBUG:PIL.PngImagePlugin:STREAM b'IDAT' 41 8129\n",
      "DEBUG:PIL.Image:Error closing: Operation on closed image\n",
      "DEBUG:PIL.PngImagePlugin:STREAM b'IHDR' 16 13\n",
      "DEBUG:PIL.PngImagePlugin:STREAM b'IDAT' 41 8192\n",
      "DEBUG:PIL.PngImagePlugin:STREAM b'IHDR' 16 13\n",
      "DEBUG:PIL.PngImagePlugin:STREAM b'IDAT' 41 8192\n",
      "DEBUG:PIL.Image:Error closing: Operation on closed image\n",
      "DEBUG:PIL.PngImagePlugin:STREAM b'IHDR' 16 13\n",
      "DEBUG:PIL.PngImagePlugin:STREAM b'IDAT' 41 8150\n",
      "DEBUG:PIL.PngImagePlugin:STREAM b'IHDR' 16 13\n",
      "DEBUG:PIL.PngImagePlugin:STREAM b'IDAT' 41 8150\n",
      "DEBUG:PIL.Image:Error closing: Operation on closed image\n",
      "DEBUG:PIL.PngImagePlugin:STREAM b'IHDR' 16 13\n",
      "DEBUG:PIL.PngImagePlugin:STREAM b'IDAT' 41 8192\n",
      "DEBUG:PIL.PngImagePlugin:STREAM b'IHDR' 16 13\n",
      "DEBUG:PIL.PngImagePlugin:STREAM b'IDAT' 41 8192\n",
      "DEBUG:PIL.Image:Error closing: Operation on closed image\n",
      "DEBUG:PIL.PngImagePlugin:STREAM b'IHDR' 16 13\n",
      "DEBUG:PIL.PngImagePlugin:STREAM b'IDAT' 41 8192\n",
      "DEBUG:PIL.PngImagePlugin:STREAM b'IHDR' 16 13\n",
      "DEBUG:PIL.PngImagePlugin:STREAM b'IDAT' 41 8192\n",
      "DEBUG:PIL.Image:Error closing: Operation on closed image\n",
      "DEBUG:PIL.PngImagePlugin:STREAM b'IHDR' 16 13\n",
      "DEBUG:PIL.PngImagePlugin:STREAM b'IDAT' 41 8192\n",
      "DEBUG:PIL.PngImagePlugin:STREAM b'IHDR' 16 13\n",
      "DEBUG:PIL.PngImagePlugin:STREAM b'IDAT' 41 8192\n",
      "DEBUG:PIL.Image:Error closing: Operation on closed image\n",
      "DEBUG:PIL.PngImagePlugin:STREAM b'IHDR' 16 13\n",
      "DEBUG:PIL.PngImagePlugin:STREAM b'IDAT' 41 8192\n",
      "DEBUG:PIL.PngImagePlugin:STREAM b'IHDR' 16 13\n",
      "DEBUG:PIL.PngImagePlugin:STREAM b'IDAT' 41 8192\n",
      "DEBUG:PIL.Image:Error closing: Operation on closed image\n",
      "DEBUG:PIL.PngImagePlugin:STREAM b'IHDR' 16 13\n",
      "DEBUG:PIL.PngImagePlugin:STREAM b'IDAT' 41 8192\n",
      "DEBUG:PIL.PngImagePlugin:STREAM b'IHDR' 16 13\n",
      "DEBUG:PIL.PngImagePlugin:STREAM b'IDAT' 41 8192\n",
      "DEBUG:PIL.Image:Error closing: Operation on closed image\n",
      "DEBUG:PIL.PngImagePlugin:STREAM b'IHDR' 16 13\n",
      "DEBUG:PIL.PngImagePlugin:STREAM b'IDAT' 41 8192\n",
      "DEBUG:PIL.PngImagePlugin:STREAM b'IHDR' 16 13\n",
      "DEBUG:PIL.PngImagePlugin:STREAM b'IDAT' 41 8192\n",
      "DEBUG:PIL.Image:Error closing: Operation on closed image\n",
      "DEBUG:PIL.PngImagePlugin:STREAM b'IHDR' 16 13\n",
      "DEBUG:PIL.PngImagePlugin:STREAM b'IDAT' 41 8192\n",
      "DEBUG:PIL.PngImagePlugin:STREAM b'IHDR' 16 13\n",
      "DEBUG:PIL.PngImagePlugin:STREAM b'IDAT' 41 8192\n",
      "DEBUG:PIL.Image:Error closing: Operation on closed image\n",
      "DEBUG:PIL.PngImagePlugin:STREAM b'IHDR' 16 13\n",
      "DEBUG:PIL.PngImagePlugin:STREAM b'IDAT' 41 8192\n",
      "DEBUG:PIL.PngImagePlugin:STREAM b'IHDR' 16 13\n",
      "DEBUG:PIL.PngImagePlugin:STREAM b'IDAT' 41 8192\n",
      "DEBUG:PIL.Image:Error closing: Operation on closed image\n",
      "DEBUG:PIL.PngImagePlugin:STREAM b'IHDR' 16 13\n",
      "DEBUG:PIL.PngImagePlugin:STREAM b'IDAT' 41 8133\n",
      "DEBUG:PIL.PngImagePlugin:STREAM b'IHDR' 16 13\n",
      "DEBUG:PIL.PngImagePlugin:STREAM b'IDAT' 41 8133\n",
      "DEBUG:PIL.Image:Error closing: Operation on closed image\n",
      "DEBUG:PIL.PngImagePlugin:STREAM b'IHDR' 16 13\n",
      "DEBUG:PIL.PngImagePlugin:STREAM b'IDAT' 41 8192\n",
      "DEBUG:PIL.PngImagePlugin:STREAM b'IHDR' 16 13\n",
      "DEBUG:PIL.PngImagePlugin:STREAM b'IDAT' 41 8192\n",
      "DEBUG:PIL.Image:Error closing: Operation on closed image\n",
      "DEBUG:PIL.PngImagePlugin:STREAM b'IHDR' 16 13\n",
      "DEBUG:PIL.PngImagePlugin:STREAM b'IDAT' 41 8192\n",
      "DEBUG:PIL.PngImagePlugin:STREAM b'IHDR' 16 13\n",
      "DEBUG:PIL.PngImagePlugin:STREAM b'IDAT' 41 8192\n",
      "DEBUG:PIL.Image:Error closing: Operation on closed image\n",
      "DEBUG:PIL.PngImagePlugin:STREAM b'IHDR' 16 13\n",
      "DEBUG:PIL.PngImagePlugin:STREAM b'IDAT' 41 8192\n",
      "DEBUG:PIL.PngImagePlugin:STREAM b'IHDR' 16 13\n",
      "DEBUG:PIL.PngImagePlugin:STREAM b'IDAT' 41 8192\n",
      "DEBUG:PIL.Image:Error closing: Operation on closed image\n",
      "DEBUG:PIL.PngImagePlugin:STREAM b'IHDR' 16 13\n",
      "DEBUG:PIL.PngImagePlugin:STREAM b'IDAT' 41 8192\n",
      "DEBUG:PIL.PngImagePlugin:STREAM b'IHDR' 16 13\n",
      "DEBUG:PIL.PngImagePlugin:STREAM b'IDAT' 41 8192\n",
      "DEBUG:PIL.Image:Error closing: Operation on closed image\n",
      "DEBUG:PIL.PngImagePlugin:STREAM b'IHDR' 16 13\n",
      "DEBUG:PIL.PngImagePlugin:STREAM b'IDAT' 41 7941\n",
      "DEBUG:PIL.PngImagePlugin:STREAM b'IHDR' 16 13\n",
      "DEBUG:PIL.PngImagePlugin:STREAM b'IDAT' 41 7941\n",
      "DEBUG:PIL.Image:Error closing: Operation on closed image\n",
      "DEBUG:PIL.PngImagePlugin:STREAM b'IHDR' 16 13\n",
      "DEBUG:PIL.PngImagePlugin:STREAM b'IDAT' 41 8192\n",
      "DEBUG:PIL.PngImagePlugin:STREAM b'IHDR' 16 13\n",
      "DEBUG:PIL.PngImagePlugin:STREAM b'IDAT' 41 8192\n",
      "DEBUG:PIL.PngImagePlugin:STREAM b'IDAT' 8245 4\n",
      "DEBUG:PIL.Image:Error closing: Operation on closed image\n",
      "DEBUG:PIL.PngImagePlugin:STREAM b'IHDR' 16 13\n",
      "DEBUG:PIL.PngImagePlugin:STREAM b'IDAT' 41 8192\n",
      "DEBUG:PIL.PngImagePlugin:STREAM b'IHDR' 16 13\n",
      "DEBUG:PIL.PngImagePlugin:STREAM b'IDAT' 41 8192\n",
      "DEBUG:PIL.Image:Error closing: Operation on closed image\n",
      "DEBUG:PIL.PngImagePlugin:STREAM b'IHDR' 16 13\n",
      "DEBUG:PIL.PngImagePlugin:STREAM b'IDAT' 41 8192\n",
      "DEBUG:PIL.PngImagePlugin:STREAM b'IHDR' 16 13\n",
      "DEBUG:PIL.PngImagePlugin:STREAM b'IDAT' 41 8192\n",
      "DEBUG:PIL.Image:Error closing: Operation on closed image\n",
      "DEBUG:PIL.PngImagePlugin:STREAM b'IHDR' 16 13\n",
      "DEBUG:PIL.PngImagePlugin:STREAM b'IDAT' 41 8192\n",
      "DEBUG:PIL.PngImagePlugin:STREAM b'IHDR' 16 13\n",
      "DEBUG:PIL.PngImagePlugin:STREAM b'IDAT' 41 8192\n",
      "DEBUG:PIL.Image:Error closing: Operation on closed image\n",
      "DEBUG:PIL.PngImagePlugin:STREAM b'IHDR' 16 13\n",
      "DEBUG:PIL.PngImagePlugin:STREAM b'IDAT' 41 8192\n",
      "DEBUG:PIL.PngImagePlugin:STREAM b'IHDR' 16 13\n",
      "DEBUG:PIL.PngImagePlugin:STREAM b'IDAT' 41 8192\n",
      "DEBUG:PIL.Image:Error closing: Operation on closed image\n",
      "DEBUG:PIL.PngImagePlugin:STREAM b'IHDR' 16 13\n",
      "DEBUG:PIL.PngImagePlugin:STREAM b'IDAT' 41 8192\n",
      "DEBUG:PIL.PngImagePlugin:STREAM b'IHDR' 16 13\n",
      "DEBUG:PIL.PngImagePlugin:STREAM b'IDAT' 41 8192\n",
      "DEBUG:PIL.Image:Error closing: Operation on closed image\n",
      "DEBUG:PIL.PngImagePlugin:STREAM b'IHDR' 16 13\n",
      "DEBUG:PIL.PngImagePlugin:STREAM b'IDAT' 41 8192\n",
      "DEBUG:PIL.PngImagePlugin:STREAM b'IHDR' 16 13\n",
      "DEBUG:PIL.PngImagePlugin:STREAM b'IDAT' 41 8192\n",
      "DEBUG:PIL.Image:Error closing: Operation on closed image\n",
      "DEBUG:PIL.PngImagePlugin:STREAM b'IHDR' 16 13\n",
      "DEBUG:PIL.PngImagePlugin:STREAM b'IDAT' 41 8192\n",
      "DEBUG:PIL.PngImagePlugin:STREAM b'IHDR' 16 13\n",
      "DEBUG:PIL.PngImagePlugin:STREAM b'IDAT' 41 8192\n",
      "DEBUG:PIL.Image:Error closing: Operation on closed image\n",
      "DEBUG:PIL.PngImagePlugin:STREAM b'IHDR' 16 13\n",
      "DEBUG:PIL.PngImagePlugin:STREAM b'IDAT' 41 8192\n",
      "DEBUG:PIL.PngImagePlugin:STREAM b'IHDR' 16 13\n",
      "DEBUG:PIL.PngImagePlugin:STREAM b'IDAT' 41 8192\n",
      "DEBUG:PIL.Image:Error closing: Operation on closed image\n",
      "DEBUG:PIL.PngImagePlugin:STREAM b'IHDR' 16 13\n",
      "DEBUG:PIL.PngImagePlugin:STREAM b'IDAT' 41 8192\n",
      "DEBUG:PIL.PngImagePlugin:STREAM b'IHDR' 16 13\n",
      "DEBUG:PIL.PngImagePlugin:STREAM b'IDAT' 41 8192\n",
      "DEBUG:PIL.Image:Error closing: Operation on closed image\n",
      "DEBUG:PIL.PngImagePlugin:STREAM b'IHDR' 16 13\n",
      "DEBUG:PIL.PngImagePlugin:STREAM b'IDAT' 41 8192\n",
      "DEBUG:PIL.PngImagePlugin:STREAM b'IHDR' 16 13\n",
      "DEBUG:PIL.PngImagePlugin:STREAM b'IDAT' 41 8192\n",
      "DEBUG:PIL.Image:Error closing: Operation on closed image\n",
      "DEBUG:PIL.PngImagePlugin:STREAM b'IHDR' 16 13\n",
      "DEBUG:PIL.PngImagePlugin:STREAM b'IDAT' 41 8082\n",
      "DEBUG:PIL.PngImagePlugin:STREAM b'IHDR' 16 13\n",
      "DEBUG:PIL.PngImagePlugin:STREAM b'IDAT' 41 8082\n",
      "DEBUG:PIL.Image:Error closing: Operation on closed image\n",
      "DEBUG:PIL.PngImagePlugin:STREAM b'IHDR' 16 13\n",
      "DEBUG:PIL.PngImagePlugin:STREAM b'IDAT' 41 8151\n",
      "DEBUG:PIL.PngImagePlugin:STREAM b'IHDR' 16 13\n",
      "DEBUG:PIL.PngImagePlugin:STREAM b'IDAT' 41 8151\n",
      "DEBUG:PIL.Image:Error closing: Operation on closed image\n",
      "DEBUG:PIL.PngImagePlugin:STREAM b'IHDR' 16 13\n",
      "DEBUG:PIL.PngImagePlugin:STREAM b'IDAT' 41 8192\n",
      "DEBUG:PIL.PngImagePlugin:STREAM b'IHDR' 16 13\n",
      "DEBUG:PIL.PngImagePlugin:STREAM b'IDAT' 41 8192\n",
      "DEBUG:PIL.Image:Error closing: Operation on closed image\n",
      "DEBUG:PIL.PngImagePlugin:STREAM b'IHDR' 16 13\n",
      "DEBUG:PIL.PngImagePlugin:STREAM b'IDAT' 41 8192\n",
      "DEBUG:PIL.PngImagePlugin:STREAM b'IHDR' 16 13\n",
      "DEBUG:PIL.PngImagePlugin:STREAM b'IDAT' 41 8192\n",
      "DEBUG:PIL.Image:Error closing: Operation on closed image\n",
      "DEBUG:PIL.PngImagePlugin:STREAM b'IHDR' 16 13\n",
      "DEBUG:PIL.PngImagePlugin:STREAM b'IDAT' 41 8192\n",
      "DEBUG:PIL.PngImagePlugin:STREAM b'IHDR' 16 13\n",
      "DEBUG:PIL.PngImagePlugin:STREAM b'IDAT' 41 8192\n",
      "DEBUG:PIL.Image:Error closing: Operation on closed image\n",
      "DEBUG:PIL.PngImagePlugin:STREAM b'IHDR' 16 13\n",
      "DEBUG:PIL.PngImagePlugin:STREAM b'IDAT' 41 8192\n",
      "DEBUG:PIL.PngImagePlugin:STREAM b'IHDR' 16 13\n",
      "DEBUG:PIL.PngImagePlugin:STREAM b'IDAT' 41 8192\n",
      "DEBUG:PIL.Image:Error closing: Operation on closed image\n",
      "DEBUG:PIL.PngImagePlugin:STREAM b'IHDR' 16 13\n",
      "DEBUG:PIL.PngImagePlugin:STREAM b'IDAT' 41 8192\n",
      "DEBUG:PIL.PngImagePlugin:STREAM b'IHDR' 16 13\n",
      "DEBUG:PIL.PngImagePlugin:STREAM b'IDAT' 41 8192\n",
      "DEBUG:PIL.Image:Error closing: Operation on closed image\n",
      "DEBUG:PIL.PngImagePlugin:STREAM b'IHDR' 16 13\n",
      "DEBUG:PIL.PngImagePlugin:STREAM b'IDAT' 41 8192\n",
      "DEBUG:PIL.PngImagePlugin:STREAM b'IHDR' 16 13\n",
      "DEBUG:PIL.PngImagePlugin:STREAM b'IDAT' 41 8192\n",
      "DEBUG:PIL.Image:Error closing: Operation on closed image\n",
      "DEBUG:PIL.PngImagePlugin:STREAM b'IHDR' 16 13\n",
      "DEBUG:PIL.PngImagePlugin:STREAM b'IDAT' 41 8192\n",
      "DEBUG:PIL.PngImagePlugin:STREAM b'IHDR' 16 13\n",
      "DEBUG:PIL.PngImagePlugin:STREAM b'IDAT' 41 8192\n",
      "DEBUG:PIL.Image:Error closing: Operation on closed image\n",
      "DEBUG:PIL.PngImagePlugin:STREAM b'IHDR' 16 13\n",
      "DEBUG:PIL.PngImagePlugin:STREAM b'IDAT' 41 8192\n",
      "DEBUG:PIL.PngImagePlugin:STREAM b'IHDR' 16 13\n",
      "DEBUG:PIL.PngImagePlugin:STREAM b'IDAT' 41 8192\n",
      "DEBUG:PIL.Image:Error closing: Operation on closed image\n",
      "DEBUG:PIL.PngImagePlugin:STREAM b'IHDR' 16 13\n",
      "DEBUG:PIL.PngImagePlugin:STREAM b'IDAT' 41 8192\n",
      "DEBUG:PIL.PngImagePlugin:STREAM b'IHDR' 16 13\n",
      "DEBUG:PIL.PngImagePlugin:STREAM b'IDAT' 41 8192\n",
      "DEBUG:PIL.Image:Error closing: Operation on closed image\n",
      "DEBUG:PIL.PngImagePlugin:STREAM b'IHDR' 16 13\n",
      "DEBUG:PIL.PngImagePlugin:STREAM b'IDAT' 41 8192\n",
      "DEBUG:PIL.PngImagePlugin:STREAM b'IHDR' 16 13\n",
      "DEBUG:PIL.PngImagePlugin:STREAM b'IDAT' 41 8192\n",
      "DEBUG:PIL.Image:Error closing: Operation on closed image\n",
      "DEBUG:PIL.PngImagePlugin:STREAM b'IHDR' 16 13\n",
      "DEBUG:PIL.PngImagePlugin:STREAM b'IDAT' 41 8192\n",
      "DEBUG:PIL.PngImagePlugin:STREAM b'IHDR' 16 13\n",
      "DEBUG:PIL.PngImagePlugin:STREAM b'IDAT' 41 8192\n",
      "DEBUG:PIL.Image:Error closing: Operation on closed image\n",
      "DEBUG:PIL.PngImagePlugin:STREAM b'IHDR' 16 13\n",
      "DEBUG:PIL.PngImagePlugin:STREAM b'IDAT' 41 8109\n",
      "DEBUG:PIL.PngImagePlugin:STREAM b'IHDR' 16 13\n",
      "DEBUG:PIL.PngImagePlugin:STREAM b'IDAT' 41 8109\n",
      "DEBUG:PIL.Image:Error closing: Operation on closed image\n",
      "DEBUG:PIL.PngImagePlugin:STREAM b'IHDR' 16 13\n",
      "DEBUG:PIL.PngImagePlugin:STREAM b'IDAT' 41 8192\n",
      "DEBUG:PIL.PngImagePlugin:STREAM b'IHDR' 16 13\n",
      "DEBUG:PIL.PngImagePlugin:STREAM b'IDAT' 41 8192\n",
      "DEBUG:PIL.Image:Error closing: Operation on closed image\n",
      "DEBUG:PIL.PngImagePlugin:STREAM b'IHDR' 16 13\n",
      "DEBUG:PIL.PngImagePlugin:STREAM b'IDAT' 41 8097\n",
      "DEBUG:PIL.PngImagePlugin:STREAM b'IHDR' 16 13\n",
      "DEBUG:PIL.PngImagePlugin:STREAM b'IDAT' 41 8097\n",
      "DEBUG:PIL.Image:Error closing: Operation on closed image\n",
      "DEBUG:PIL.PngImagePlugin:STREAM b'IHDR' 16 13\n",
      "DEBUG:PIL.PngImagePlugin:STREAM b'IDAT' 41 8192\n",
      "DEBUG:PIL.PngImagePlugin:STREAM b'IHDR' 16 13\n",
      "DEBUG:PIL.PngImagePlugin:STREAM b'IDAT' 41 8192\n",
      "DEBUG:PIL.Image:Error closing: Operation on closed image\n",
      "DEBUG:PIL.PngImagePlugin:STREAM b'IHDR' 16 13\n",
      "DEBUG:PIL.PngImagePlugin:STREAM b'IDAT' 41 8192\n",
      "DEBUG:PIL.PngImagePlugin:STREAM b'IHDR' 16 13\n",
      "DEBUG:PIL.PngImagePlugin:STREAM b'IDAT' 41 8192\n",
      "DEBUG:PIL.Image:Error closing: Operation on closed image\n",
      "DEBUG:PIL.PngImagePlugin:STREAM b'IHDR' 16 13\n",
      "DEBUG:PIL.PngImagePlugin:STREAM b'IDAT' 41 8164\n",
      "DEBUG:PIL.PngImagePlugin:STREAM b'IHDR' 16 13\n",
      "DEBUG:PIL.PngImagePlugin:STREAM b'IDAT' 41 8164\n",
      "DEBUG:PIL.Image:Error closing: Operation on closed image\n",
      "DEBUG:PIL.PngImagePlugin:STREAM b'IHDR' 16 13\n",
      "DEBUG:PIL.PngImagePlugin:STREAM b'IDAT' 41 8192\n",
      "DEBUG:PIL.PngImagePlugin:STREAM b'IHDR' 16 13\n",
      "DEBUG:PIL.PngImagePlugin:STREAM b'IDAT' 41 8192\n",
      "DEBUG:PIL.Image:Error closing: Operation on closed image\n",
      "DEBUG:PIL.PngImagePlugin:STREAM b'IHDR' 16 13\n",
      "DEBUG:PIL.PngImagePlugin:STREAM b'IDAT' 41 8192\n",
      "DEBUG:PIL.PngImagePlugin:STREAM b'IHDR' 16 13\n",
      "DEBUG:PIL.PngImagePlugin:STREAM b'IDAT' 41 8192\n",
      "DEBUG:PIL.Image:Error closing: Operation on closed image\n",
      "DEBUG:PIL.PngImagePlugin:STREAM b'IHDR' 16 13\n",
      "DEBUG:PIL.PngImagePlugin:STREAM b'IDAT' 41 8192\n",
      "DEBUG:PIL.PngImagePlugin:STREAM b'IHDR' 16 13\n",
      "DEBUG:PIL.PngImagePlugin:STREAM b'IDAT' 41 8192\n",
      "DEBUG:PIL.Image:Error closing: Operation on closed image\n",
      "DEBUG:PIL.PngImagePlugin:STREAM b'IHDR' 16 13\n",
      "DEBUG:PIL.PngImagePlugin:STREAM b'IDAT' 41 8192\n",
      "DEBUG:PIL.PngImagePlugin:STREAM b'IHDR' 16 13\n",
      "DEBUG:PIL.PngImagePlugin:STREAM b'IDAT' 41 8192\n",
      "DEBUG:PIL.Image:Error closing: Operation on closed image\n",
      "DEBUG:PIL.PngImagePlugin:STREAM b'IHDR' 16 13\n",
      "DEBUG:PIL.PngImagePlugin:STREAM b'IDAT' 41 8192\n",
      "DEBUG:PIL.PngImagePlugin:STREAM b'IHDR' 16 13\n",
      "DEBUG:PIL.PngImagePlugin:STREAM b'IDAT' 41 8192\n",
      "DEBUG:PIL.Image:Error closing: Operation on closed image\n",
      "DEBUG:PIL.PngImagePlugin:STREAM b'IHDR' 16 13\n",
      "DEBUG:PIL.PngImagePlugin:STREAM b'IDAT' 41 8192\n",
      "DEBUG:PIL.PngImagePlugin:STREAM b'IHDR' 16 13\n",
      "DEBUG:PIL.PngImagePlugin:STREAM b'IDAT' 41 8192\n",
      "DEBUG:PIL.Image:Error closing: Operation on closed image\n",
      "DEBUG:PIL.PngImagePlugin:STREAM b'IHDR' 16 13\n",
      "DEBUG:PIL.PngImagePlugin:STREAM b'IDAT' 41 8192\n",
      "DEBUG:PIL.PngImagePlugin:STREAM b'IHDR' 16 13\n",
      "DEBUG:PIL.PngImagePlugin:STREAM b'IDAT' 41 8192\n",
      "DEBUG:PIL.Image:Error closing: Operation on closed image\n",
      "DEBUG:PIL.PngImagePlugin:STREAM b'IHDR' 16 13\n",
      "DEBUG:PIL.PngImagePlugin:STREAM b'IDAT' 41 8095\n",
      "DEBUG:PIL.PngImagePlugin:STREAM b'IHDR' 16 13\n",
      "DEBUG:PIL.PngImagePlugin:STREAM b'IDAT' 41 8095\n",
      "DEBUG:PIL.Image:Error closing: Operation on closed image\n",
      "DEBUG:PIL.PngImagePlugin:STREAM b'IHDR' 16 13\n",
      "DEBUG:PIL.PngImagePlugin:STREAM b'IDAT' 41 8152\n",
      "DEBUG:PIL.PngImagePlugin:STREAM b'IHDR' 16 13\n",
      "DEBUG:PIL.PngImagePlugin:STREAM b'IDAT' 41 8152\n",
      "DEBUG:PIL.Image:Error closing: Operation on closed image\n",
      "DEBUG:PIL.PngImagePlugin:STREAM b'IHDR' 16 13\n",
      "DEBUG:PIL.PngImagePlugin:STREAM b'IDAT' 41 8192\n",
      "DEBUG:PIL.PngImagePlugin:STREAM b'IHDR' 16 13\n",
      "DEBUG:PIL.PngImagePlugin:STREAM b'IDAT' 41 8192\n",
      "DEBUG:PIL.Image:Error closing: Operation on closed image\n",
      "DEBUG:PIL.PngImagePlugin:STREAM b'IHDR' 16 13\n",
      "DEBUG:PIL.PngImagePlugin:STREAM b'IDAT' 41 8192\n",
      "DEBUG:PIL.PngImagePlugin:STREAM b'IHDR' 16 13\n",
      "DEBUG:PIL.PngImagePlugin:STREAM b'IDAT' 41 8192\n",
      "DEBUG:PIL.Image:Error closing: Operation on closed image\n",
      "DEBUG:PIL.PngImagePlugin:STREAM b'IHDR' 16 13\n",
      "DEBUG:PIL.PngImagePlugin:STREAM b'IDAT' 41 8192\n",
      "DEBUG:PIL.PngImagePlugin:STREAM b'IHDR' 16 13\n",
      "DEBUG:PIL.PngImagePlugin:STREAM b'IDAT' 41 8192\n",
      "DEBUG:PIL.Image:Error closing: Operation on closed image\n",
      "DEBUG:PIL.PngImagePlugin:STREAM b'IHDR' 16 13\n",
      "DEBUG:PIL.PngImagePlugin:STREAM b'IDAT' 41 8192\n",
      "DEBUG:PIL.PngImagePlugin:STREAM b'IHDR' 16 13\n",
      "DEBUG:PIL.PngImagePlugin:STREAM b'IDAT' 41 8192\n",
      "DEBUG:PIL.Image:Error closing: Operation on closed image\n",
      "DEBUG:PIL.PngImagePlugin:STREAM b'IHDR' 16 13\n",
      "DEBUG:PIL.PngImagePlugin:STREAM b'IDAT' 41 8192\n",
      "DEBUG:PIL.PngImagePlugin:STREAM b'IHDR' 16 13\n",
      "DEBUG:PIL.PngImagePlugin:STREAM b'IDAT' 41 8192\n",
      "DEBUG:PIL.Image:Error closing: Operation on closed image\n",
      "DEBUG:PIL.PngImagePlugin:STREAM b'IHDR' 16 13\n",
      "DEBUG:PIL.PngImagePlugin:STREAM b'IDAT' 41 8099\n",
      "DEBUG:PIL.PngImagePlugin:STREAM b'IHDR' 16 13\n",
      "DEBUG:PIL.PngImagePlugin:STREAM b'IDAT' 41 8099\n",
      "DEBUG:PIL.Image:Error closing: Operation on closed image\n",
      "DEBUG:PIL.PngImagePlugin:STREAM b'IHDR' 16 13\n",
      "DEBUG:PIL.PngImagePlugin:STREAM b'IDAT' 41 8192\n",
      "DEBUG:PIL.PngImagePlugin:STREAM b'IHDR' 16 13\n",
      "DEBUG:PIL.PngImagePlugin:STREAM b'IDAT' 41 8192\n",
      "DEBUG:PIL.Image:Error closing: Operation on closed image\n",
      "DEBUG:PIL.PngImagePlugin:STREAM b'IHDR' 16 13\n",
      "DEBUG:PIL.PngImagePlugin:STREAM b'IDAT' 41 8067\n",
      "DEBUG:PIL.PngImagePlugin:STREAM b'IHDR' 16 13\n",
      "DEBUG:PIL.PngImagePlugin:STREAM b'IDAT' 41 8067\n",
      "DEBUG:PIL.Image:Error closing: Operation on closed image\n",
      "DEBUG:PIL.PngImagePlugin:STREAM b'IHDR' 16 13\n",
      "DEBUG:PIL.PngImagePlugin:STREAM b'IDAT' 41 8192\n",
      "DEBUG:PIL.PngImagePlugin:STREAM b'IHDR' 16 13\n",
      "DEBUG:PIL.PngImagePlugin:STREAM b'IDAT' 41 8192\n",
      "DEBUG:PIL.Image:Error closing: Operation on closed image\n",
      "DEBUG:PIL.PngImagePlugin:STREAM b'IHDR' 16 13\n",
      "DEBUG:PIL.PngImagePlugin:STREAM b'IDAT' 41 8163\n",
      "DEBUG:PIL.PngImagePlugin:STREAM b'IHDR' 16 13\n",
      "DEBUG:PIL.PngImagePlugin:STREAM b'IDAT' 41 8163\n",
      "DEBUG:PIL.Image:Error closing: Operation on closed image\n",
      "DEBUG:PIL.PngImagePlugin:STREAM b'IHDR' 16 13\n",
      "DEBUG:PIL.PngImagePlugin:STREAM b'IDAT' 41 8192\n",
      "DEBUG:PIL.PngImagePlugin:STREAM b'IHDR' 16 13\n",
      "DEBUG:PIL.PngImagePlugin:STREAM b'IDAT' 41 8192\n",
      "DEBUG:PIL.Image:Error closing: Operation on closed image\n",
      "DEBUG:PIL.PngImagePlugin:STREAM b'IHDR' 16 13\n",
      "DEBUG:PIL.PngImagePlugin:STREAM b'IDAT' 41 8118\n",
      "DEBUG:PIL.PngImagePlugin:STREAM b'IHDR' 16 13\n",
      "DEBUG:PIL.PngImagePlugin:STREAM b'IDAT' 41 8118\n",
      "DEBUG:PIL.Image:Error closing: Operation on closed image\n",
      "DEBUG:PIL.PngImagePlugin:STREAM b'IHDR' 16 13\n",
      "DEBUG:PIL.PngImagePlugin:STREAM b'IDAT' 41 8192\n",
      "DEBUG:PIL.PngImagePlugin:STREAM b'IHDR' 16 13\n",
      "DEBUG:PIL.PngImagePlugin:STREAM b'IDAT' 41 8192\n",
      "DEBUG:PIL.Image:Error closing: Operation on closed image\n",
      "DEBUG:PIL.PngImagePlugin:STREAM b'IHDR' 16 13\n",
      "DEBUG:PIL.PngImagePlugin:STREAM b'IDAT' 41 8192\n",
      "DEBUG:PIL.PngImagePlugin:STREAM b'IHDR' 16 13\n",
      "DEBUG:PIL.PngImagePlugin:STREAM b'IDAT' 41 8192\n",
      "DEBUG:PIL.Image:Error closing: Operation on closed image\n",
      "DEBUG:PIL.PngImagePlugin:STREAM b'IHDR' 16 13\n",
      "DEBUG:PIL.PngImagePlugin:STREAM b'IDAT' 41 8192\n",
      "DEBUG:PIL.PngImagePlugin:STREAM b'IHDR' 16 13\n",
      "DEBUG:PIL.PngImagePlugin:STREAM b'IDAT' 41 8192\n",
      "DEBUG:PIL.Image:Error closing: Operation on closed image\n",
      "DEBUG:PIL.PngImagePlugin:STREAM b'IHDR' 16 13\n",
      "DEBUG:PIL.PngImagePlugin:STREAM b'IDAT' 41 8192\n",
      "DEBUG:PIL.PngImagePlugin:STREAM b'IHDR' 16 13\n",
      "DEBUG:PIL.PngImagePlugin:STREAM b'IDAT' 41 8192\n",
      "DEBUG:PIL.Image:Error closing: Operation on closed image\n",
      "DEBUG:PIL.PngImagePlugin:STREAM b'IHDR' 16 13\n",
      "DEBUG:PIL.PngImagePlugin:STREAM b'IDAT' 41 8192\n",
      "DEBUG:PIL.PngImagePlugin:STREAM b'IHDR' 16 13\n",
      "DEBUG:PIL.PngImagePlugin:STREAM b'IDAT' 41 8192\n",
      "DEBUG:PIL.Image:Error closing: Operation on closed image\n",
      "DEBUG:PIL.PngImagePlugin:STREAM b'IHDR' 16 13\n",
      "DEBUG:PIL.PngImagePlugin:STREAM b'IDAT' 41 8192\n",
      "DEBUG:PIL.PngImagePlugin:STREAM b'IHDR' 16 13\n",
      "DEBUG:PIL.PngImagePlugin:STREAM b'IDAT' 41 8192\n",
      "DEBUG:PIL.Image:Error closing: Operation on closed image\n",
      "DEBUG:PIL.PngImagePlugin:STREAM b'IHDR' 16 13\n",
      "DEBUG:PIL.PngImagePlugin:STREAM b'IDAT' 41 8192\n",
      "DEBUG:PIL.PngImagePlugin:STREAM b'IHDR' 16 13\n",
      "DEBUG:PIL.PngImagePlugin:STREAM b'IDAT' 41 8192\n",
      "DEBUG:PIL.Image:Error closing: Operation on closed image\n",
      "DEBUG:PIL.PngImagePlugin:STREAM b'IHDR' 16 13\n",
      "DEBUG:PIL.PngImagePlugin:STREAM b'IDAT' 41 8192\n",
      "DEBUG:PIL.PngImagePlugin:STREAM b'IHDR' 16 13\n",
      "DEBUG:PIL.PngImagePlugin:STREAM b'IDAT' 41 8192\n",
      "DEBUG:PIL.Image:Error closing: Operation on closed image\n",
      "DEBUG:PIL.PngImagePlugin:STREAM b'IHDR' 16 13\n",
      "DEBUG:PIL.PngImagePlugin:STREAM b'IDAT' 41 8192\n",
      "DEBUG:PIL.PngImagePlugin:STREAM b'IHDR' 16 13\n",
      "DEBUG:PIL.PngImagePlugin:STREAM b'IDAT' 41 8192\n",
      "DEBUG:PIL.Image:Error closing: Operation on closed image\n",
      "DEBUG:PIL.PngImagePlugin:STREAM b'IHDR' 16 13\n",
      "DEBUG:PIL.PngImagePlugin:STREAM b'IDAT' 41 8192\n",
      "DEBUG:PIL.PngImagePlugin:STREAM b'IHDR' 16 13\n",
      "DEBUG:PIL.PngImagePlugin:STREAM b'IDAT' 41 8192\n",
      "DEBUG:PIL.Image:Error closing: Operation on closed image\n",
      "DEBUG:PIL.PngImagePlugin:STREAM b'IHDR' 16 13\n",
      "DEBUG:PIL.PngImagePlugin:STREAM b'IDAT' 41 8192\n",
      "DEBUG:PIL.PngImagePlugin:STREAM b'IHDR' 16 13\n",
      "DEBUG:PIL.PngImagePlugin:STREAM b'IDAT' 41 8192\n",
      "DEBUG:PIL.Image:Error closing: Operation on closed image\n",
      "DEBUG:PIL.PngImagePlugin:STREAM b'IHDR' 16 13\n",
      "DEBUG:PIL.PngImagePlugin:STREAM b'IDAT' 41 8192\n",
      "DEBUG:PIL.PngImagePlugin:STREAM b'IHDR' 16 13\n",
      "DEBUG:PIL.PngImagePlugin:STREAM b'IDAT' 41 8192\n",
      "DEBUG:PIL.Image:Error closing: Operation on closed image\n",
      "DEBUG:PIL.PngImagePlugin:STREAM b'IHDR' 16 13\n",
      "DEBUG:PIL.PngImagePlugin:STREAM b'IDAT' 41 8192\n",
      "DEBUG:PIL.PngImagePlugin:STREAM b'IHDR' 16 13\n",
      "DEBUG:PIL.PngImagePlugin:STREAM b'IDAT' 41 8192\n",
      "DEBUG:PIL.Image:Error closing: Operation on closed image\n",
      "DEBUG:PIL.PngImagePlugin:STREAM b'IHDR' 16 13\n",
      "DEBUG:PIL.PngImagePlugin:STREAM b'IDAT' 41 8192\n",
      "DEBUG:PIL.PngImagePlugin:STREAM b'IHDR' 16 13\n",
      "DEBUG:PIL.PngImagePlugin:STREAM b'IDAT' 41 8192\n",
      "DEBUG:PIL.Image:Error closing: Operation on closed image\n",
      "DEBUG:PIL.PngImagePlugin:STREAM b'IHDR' 16 13\n",
      "DEBUG:PIL.PngImagePlugin:STREAM b'IDAT' 41 8192\n",
      "DEBUG:PIL.PngImagePlugin:STREAM b'IHDR' 16 13\n",
      "DEBUG:PIL.PngImagePlugin:STREAM b'IDAT' 41 8192\n",
      "DEBUG:PIL.Image:Error closing: Operation on closed image\n",
      "DEBUG:PIL.PngImagePlugin:STREAM b'IHDR' 16 13\n",
      "DEBUG:PIL.PngImagePlugin:STREAM b'IDAT' 41 8192\n",
      "DEBUG:PIL.PngImagePlugin:STREAM b'IHDR' 16 13\n",
      "DEBUG:PIL.PngImagePlugin:STREAM b'IDAT' 41 8192\n",
      "DEBUG:PIL.Image:Error closing: Operation on closed image\n",
      "DEBUG:PIL.PngImagePlugin:STREAM b'IHDR' 16 13\n",
      "DEBUG:PIL.PngImagePlugin:STREAM b'IDAT' 41 8164\n",
      "DEBUG:PIL.PngImagePlugin:STREAM b'IHDR' 16 13\n",
      "DEBUG:PIL.PngImagePlugin:STREAM b'IDAT' 41 8164\n",
      "DEBUG:PIL.Image:Error closing: Operation on closed image\n",
      "DEBUG:PIL.PngImagePlugin:STREAM b'IHDR' 16 13\n",
      "DEBUG:PIL.PngImagePlugin:STREAM b'IDAT' 41 8192\n",
      "DEBUG:PIL.PngImagePlugin:STREAM b'IHDR' 16 13\n",
      "DEBUG:PIL.PngImagePlugin:STREAM b'IDAT' 41 8192\n",
      "DEBUG:PIL.Image:Error closing: Operation on closed image\n",
      "DEBUG:PIL.PngImagePlugin:STREAM b'IHDR' 16 13\n",
      "DEBUG:PIL.PngImagePlugin:STREAM b'IDAT' 41 8130\n",
      "DEBUG:PIL.PngImagePlugin:STREAM b'IHDR' 16 13\n",
      "DEBUG:PIL.PngImagePlugin:STREAM b'IDAT' 41 8130\n",
      "DEBUG:PIL.Image:Error closing: Operation on closed image\n",
      "DEBUG:PIL.PngImagePlugin:STREAM b'IHDR' 16 13\n",
      "DEBUG:PIL.PngImagePlugin:STREAM b'IDAT' 41 8192\n",
      "DEBUG:PIL.PngImagePlugin:STREAM b'IHDR' 16 13\n",
      "DEBUG:PIL.PngImagePlugin:STREAM b'IDAT' 41 8192\n",
      "DEBUG:PIL.Image:Error closing: Operation on closed image\n",
      "DEBUG:PIL.PngImagePlugin:STREAM b'IHDR' 16 13\n",
      "DEBUG:PIL.PngImagePlugin:STREAM b'IDAT' 41 8064\n",
      "DEBUG:PIL.PngImagePlugin:STREAM b'IHDR' 16 13\n",
      "DEBUG:PIL.PngImagePlugin:STREAM b'IDAT' 41 8064\n",
      "DEBUG:PIL.Image:Error closing: Operation on closed image\n",
      "DEBUG:PIL.PngImagePlugin:STREAM b'IHDR' 16 13\n",
      "DEBUG:PIL.PngImagePlugin:STREAM b'IDAT' 41 8192\n",
      "DEBUG:PIL.PngImagePlugin:STREAM b'IHDR' 16 13\n",
      "DEBUG:PIL.PngImagePlugin:STREAM b'IDAT' 41 8192\n",
      "DEBUG:PIL.Image:Error closing: Operation on closed image\n",
      "DEBUG:PIL.PngImagePlugin:STREAM b'IHDR' 16 13\n",
      "DEBUG:PIL.PngImagePlugin:STREAM b'IDAT' 41 8192\n",
      "DEBUG:PIL.PngImagePlugin:STREAM b'IHDR' 16 13\n",
      "DEBUG:PIL.PngImagePlugin:STREAM b'IDAT' 41 8192\n",
      "DEBUG:PIL.Image:Error closing: Operation on closed image\n",
      "DEBUG:PIL.PngImagePlugin:STREAM b'IHDR' 16 13\n",
      "DEBUG:PIL.PngImagePlugin:STREAM b'IDAT' 41 8192\n",
      "DEBUG:PIL.PngImagePlugin:STREAM b'IHDR' 16 13\n",
      "DEBUG:PIL.PngImagePlugin:STREAM b'IDAT' 41 8192\n",
      "DEBUG:PIL.Image:Error closing: Operation on closed image\n",
      "DEBUG:PIL.PngImagePlugin:STREAM b'IHDR' 16 13\n",
      "DEBUG:PIL.PngImagePlugin:STREAM b'IDAT' 41 8192\n",
      "DEBUG:PIL.PngImagePlugin:STREAM b'IHDR' 16 13\n",
      "DEBUG:PIL.PngImagePlugin:STREAM b'IDAT' 41 8192\n",
      "DEBUG:PIL.Image:Error closing: Operation on closed image\n",
      "DEBUG:PIL.PngImagePlugin:STREAM b'IHDR' 16 13\n",
      "DEBUG:PIL.PngImagePlugin:STREAM b'IDAT' 41 8192\n",
      "DEBUG:PIL.PngImagePlugin:STREAM b'IHDR' 16 13\n",
      "DEBUG:PIL.PngImagePlugin:STREAM b'IDAT' 41 8192\n",
      "DEBUG:PIL.Image:Error closing: Operation on closed image\n",
      "DEBUG:PIL.PngImagePlugin:STREAM b'IHDR' 16 13\n",
      "DEBUG:PIL.PngImagePlugin:STREAM b'IDAT' 41 8192\n",
      "DEBUG:PIL.PngImagePlugin:STREAM b'IHDR' 16 13\n",
      "DEBUG:PIL.PngImagePlugin:STREAM b'IDAT' 41 8192\n",
      "DEBUG:PIL.Image:Error closing: Operation on closed image\n",
      "DEBUG:PIL.PngImagePlugin:STREAM b'IHDR' 16 13\n",
      "DEBUG:PIL.PngImagePlugin:STREAM b'IDAT' 41 8139\n",
      "DEBUG:PIL.PngImagePlugin:STREAM b'IHDR' 16 13\n",
      "DEBUG:PIL.PngImagePlugin:STREAM b'IDAT' 41 8139\n",
      "DEBUG:PIL.Image:Error closing: Operation on closed image\n",
      "DEBUG:PIL.PngImagePlugin:STREAM b'IHDR' 16 13\n",
      "DEBUG:PIL.PngImagePlugin:STREAM b'IDAT' 41 8192\n",
      "DEBUG:PIL.PngImagePlugin:STREAM b'IHDR' 16 13\n",
      "DEBUG:PIL.PngImagePlugin:STREAM b'IDAT' 41 8192\n",
      "DEBUG:PIL.Image:Error closing: Operation on closed image\n",
      "DEBUG:PIL.PngImagePlugin:STREAM b'IHDR' 16 13\n",
      "DEBUG:PIL.PngImagePlugin:STREAM b'IDAT' 41 8192\n",
      "DEBUG:PIL.PngImagePlugin:STREAM b'IHDR' 16 13\n",
      "DEBUG:PIL.PngImagePlugin:STREAM b'IDAT' 41 8192\n",
      "DEBUG:PIL.Image:Error closing: Operation on closed image\n",
      "DEBUG:PIL.PngImagePlugin:STREAM b'IHDR' 16 13\n",
      "DEBUG:PIL.PngImagePlugin:STREAM b'IDAT' 41 8192\n",
      "DEBUG:PIL.PngImagePlugin:STREAM b'IHDR' 16 13\n",
      "DEBUG:PIL.PngImagePlugin:STREAM b'IDAT' 41 8192\n",
      "DEBUG:PIL.Image:Error closing: Operation on closed image\n",
      "DEBUG:PIL.PngImagePlugin:STREAM b'IHDR' 16 13\n",
      "DEBUG:PIL.PngImagePlugin:STREAM b'IDAT' 41 8192\n",
      "DEBUG:PIL.PngImagePlugin:STREAM b'IHDR' 16 13\n",
      "DEBUG:PIL.PngImagePlugin:STREAM b'IDAT' 41 8192\n",
      "DEBUG:PIL.Image:Error closing: Operation on closed image\n",
      "DEBUG:PIL.PngImagePlugin:STREAM b'IHDR' 16 13\n",
      "DEBUG:PIL.PngImagePlugin:STREAM b'IDAT' 41 8192\n",
      "DEBUG:PIL.PngImagePlugin:STREAM b'IHDR' 16 13\n",
      "DEBUG:PIL.PngImagePlugin:STREAM b'IDAT' 41 8192\n",
      "DEBUG:PIL.Image:Error closing: Operation on closed image\n",
      "DEBUG:PIL.PngImagePlugin:STREAM b'IHDR' 16 13\n",
      "DEBUG:PIL.PngImagePlugin:STREAM b'IDAT' 41 8192\n",
      "DEBUG:PIL.PngImagePlugin:STREAM b'IHDR' 16 13\n",
      "DEBUG:PIL.PngImagePlugin:STREAM b'IDAT' 41 8192\n",
      "DEBUG:PIL.Image:Error closing: Operation on closed image\n",
      "DEBUG:PIL.PngImagePlugin:STREAM b'IHDR' 16 13\n",
      "DEBUG:PIL.PngImagePlugin:STREAM b'IDAT' 41 8192\n",
      "DEBUG:PIL.PngImagePlugin:STREAM b'IHDR' 16 13\n",
      "DEBUG:PIL.PngImagePlugin:STREAM b'IDAT' 41 8192\n",
      "DEBUG:PIL.Image:Error closing: Operation on closed image\n",
      "DEBUG:PIL.PngImagePlugin:STREAM b'IHDR' 16 13\n",
      "DEBUG:PIL.PngImagePlugin:STREAM b'IDAT' 41 8061\n",
      "DEBUG:PIL.PngImagePlugin:STREAM b'IHDR' 16 13\n",
      "DEBUG:PIL.PngImagePlugin:STREAM b'IDAT' 41 8061\n",
      "DEBUG:PIL.Image:Error closing: Operation on closed image\n",
      "DEBUG:PIL.PngImagePlugin:STREAM b'IHDR' 16 13\n",
      "DEBUG:PIL.PngImagePlugin:STREAM b'IDAT' 41 8192\n",
      "DEBUG:PIL.PngImagePlugin:STREAM b'IHDR' 16 13\n",
      "DEBUG:PIL.PngImagePlugin:STREAM b'IDAT' 41 8192\n",
      "DEBUG:PIL.Image:Error closing: Operation on closed image\n",
      "DEBUG:PIL.PngImagePlugin:STREAM b'IHDR' 16 13\n",
      "DEBUG:PIL.PngImagePlugin:STREAM b'IDAT' 41 8037\n",
      "DEBUG:PIL.PngImagePlugin:STREAM b'IHDR' 16 13\n",
      "DEBUG:PIL.PngImagePlugin:STREAM b'IDAT' 41 8037\n",
      "DEBUG:PIL.Image:Error closing: Operation on closed image\n",
      "DEBUG:PIL.PngImagePlugin:STREAM b'IHDR' 16 13\n",
      "DEBUG:PIL.PngImagePlugin:STREAM b'IDAT' 41 8192\n",
      "DEBUG:PIL.PngImagePlugin:STREAM b'IHDR' 16 13\n",
      "DEBUG:PIL.PngImagePlugin:STREAM b'IDAT' 41 8192\n",
      "DEBUG:PIL.Image:Error closing: Operation on closed image\n",
      "DEBUG:PIL.PngImagePlugin:STREAM b'IHDR' 16 13\n",
      "DEBUG:PIL.PngImagePlugin:STREAM b'IDAT' 41 8106\n",
      "DEBUG:PIL.PngImagePlugin:STREAM b'IHDR' 16 13\n",
      "DEBUG:PIL.PngImagePlugin:STREAM b'IDAT' 41 8106\n",
      "DEBUG:PIL.Image:Error closing: Operation on closed image\n",
      "DEBUG:PIL.PngImagePlugin:STREAM b'IHDR' 16 13\n",
      "DEBUG:PIL.PngImagePlugin:STREAM b'IDAT' 41 8192\n",
      "DEBUG:PIL.PngImagePlugin:STREAM b'IHDR' 16 13\n",
      "DEBUG:PIL.PngImagePlugin:STREAM b'IDAT' 41 8192\n",
      "DEBUG:PIL.Image:Error closing: Operation on closed image\n",
      "DEBUG:PIL.PngImagePlugin:STREAM b'IHDR' 16 13\n",
      "DEBUG:PIL.PngImagePlugin:STREAM b'IDAT' 41 8192\n",
      "DEBUG:PIL.PngImagePlugin:STREAM b'IHDR' 16 13\n",
      "DEBUG:PIL.PngImagePlugin:STREAM b'IDAT' 41 8192\n",
      "DEBUG:PIL.Image:Error closing: Operation on closed image\n",
      "DEBUG:PIL.PngImagePlugin:STREAM b'IHDR' 16 13\n",
      "DEBUG:PIL.PngImagePlugin:STREAM b'IDAT' 41 8192\n",
      "DEBUG:PIL.PngImagePlugin:STREAM b'IHDR' 16 13\n",
      "DEBUG:PIL.PngImagePlugin:STREAM b'IDAT' 41 8192\n",
      "DEBUG:PIL.Image:Error closing: Operation on closed image\n",
      "DEBUG:PIL.PngImagePlugin:STREAM b'IHDR' 16 13\n",
      "DEBUG:PIL.PngImagePlugin:STREAM b'IDAT' 41 8192\n",
      "DEBUG:PIL.PngImagePlugin:STREAM b'IHDR' 16 13\n",
      "DEBUG:PIL.PngImagePlugin:STREAM b'IDAT' 41 8192\n",
      "DEBUG:PIL.Image:Error closing: Operation on closed image\n",
      "DEBUG:PIL.PngImagePlugin:STREAM b'IHDR' 16 13\n",
      "DEBUG:PIL.PngImagePlugin:STREAM b'IDAT' 41 8192\n",
      "DEBUG:PIL.PngImagePlugin:STREAM b'IHDR' 16 13\n",
      "DEBUG:PIL.PngImagePlugin:STREAM b'IDAT' 41 8192\n",
      "DEBUG:PIL.Image:Error closing: Operation on closed image\n",
      "DEBUG:PIL.PngImagePlugin:STREAM b'IHDR' 16 13\n",
      "DEBUG:PIL.PngImagePlugin:STREAM b'IDAT' 41 8192\n",
      "DEBUG:PIL.PngImagePlugin:STREAM b'IHDR' 16 13\n",
      "DEBUG:PIL.PngImagePlugin:STREAM b'IDAT' 41 8192\n",
      "DEBUG:PIL.Image:Error closing: Operation on closed image\n",
      "DEBUG:PIL.PngImagePlugin:STREAM b'IHDR' 16 13\n",
      "DEBUG:PIL.PngImagePlugin:STREAM b'IDAT' 41 8192\n",
      "DEBUG:PIL.PngImagePlugin:STREAM b'IHDR' 16 13\n",
      "DEBUG:PIL.PngImagePlugin:STREAM b'IDAT' 41 8192\n",
      "DEBUG:PIL.Image:Error closing: Operation on closed image\n",
      "DEBUG:PIL.PngImagePlugin:STREAM b'IHDR' 16 13\n",
      "DEBUG:PIL.PngImagePlugin:STREAM b'IDAT' 41 8192\n",
      "DEBUG:PIL.PngImagePlugin:STREAM b'IHDR' 16 13\n",
      "DEBUG:PIL.PngImagePlugin:STREAM b'IDAT' 41 8192\n",
      "DEBUG:PIL.Image:Error closing: Operation on closed image\n",
      "DEBUG:PIL.PngImagePlugin:STREAM b'IHDR' 16 13\n",
      "DEBUG:PIL.PngImagePlugin:STREAM b'IDAT' 41 8192\n",
      "DEBUG:PIL.PngImagePlugin:STREAM b'IHDR' 16 13\n",
      "DEBUG:PIL.PngImagePlugin:STREAM b'IDAT' 41 8192\n",
      "DEBUG:PIL.Image:Error closing: Operation on closed image\n",
      "DEBUG:PIL.PngImagePlugin:STREAM b'IHDR' 16 13\n",
      "DEBUG:PIL.PngImagePlugin:STREAM b'IDAT' 41 8192\n",
      "DEBUG:PIL.PngImagePlugin:STREAM b'IHDR' 16 13\n",
      "DEBUG:PIL.PngImagePlugin:STREAM b'IDAT' 41 8192\n",
      "DEBUG:PIL.Image:Error closing: Operation on closed image\n",
      "DEBUG:PIL.PngImagePlugin:STREAM b'IHDR' 16 13\n",
      "DEBUG:PIL.PngImagePlugin:STREAM b'IDAT' 41 8192\n",
      "DEBUG:PIL.PngImagePlugin:STREAM b'IHDR' 16 13\n",
      "DEBUG:PIL.PngImagePlugin:STREAM b'IDAT' 41 8192\n",
      "DEBUG:PIL.Image:Error closing: Operation on closed image\n",
      "DEBUG:PIL.PngImagePlugin:STREAM b'IHDR' 16 13\n",
      "DEBUG:PIL.PngImagePlugin:STREAM b'IDAT' 41 8192\n",
      "DEBUG:PIL.PngImagePlugin:STREAM b'IHDR' 16 13\n",
      "DEBUG:PIL.PngImagePlugin:STREAM b'IDAT' 41 8192\n",
      "DEBUG:PIL.Image:Error closing: Operation on closed image\n",
      "DEBUG:PIL.PngImagePlugin:STREAM b'IHDR' 16 13\n",
      "DEBUG:PIL.PngImagePlugin:STREAM b'IDAT' 41 8192\n",
      "DEBUG:PIL.PngImagePlugin:STREAM b'IHDR' 16 13\n",
      "DEBUG:PIL.PngImagePlugin:STREAM b'IDAT' 41 8192\n",
      "DEBUG:PIL.Image:Error closing: Operation on closed image\n",
      "DEBUG:PIL.PngImagePlugin:STREAM b'IHDR' 16 13\n",
      "DEBUG:PIL.PngImagePlugin:STREAM b'IDAT' 41 8192\n",
      "DEBUG:PIL.PngImagePlugin:STREAM b'IHDR' 16 13\n",
      "DEBUG:PIL.PngImagePlugin:STREAM b'IDAT' 41 8192\n",
      "DEBUG:PIL.Image:Error closing: Operation on closed image\n",
      "DEBUG:PIL.PngImagePlugin:STREAM b'IHDR' 16 13\n",
      "DEBUG:PIL.PngImagePlugin:STREAM b'IDAT' 41 8192\n",
      "DEBUG:PIL.PngImagePlugin:STREAM b'IHDR' 16 13\n",
      "DEBUG:PIL.PngImagePlugin:STREAM b'IDAT' 41 8192\n",
      "DEBUG:PIL.Image:Error closing: Operation on closed image\n",
      "DEBUG:PIL.PngImagePlugin:STREAM b'IHDR' 16 13\n",
      "DEBUG:PIL.PngImagePlugin:STREAM b'IDAT' 41 8136\n",
      "DEBUG:PIL.PngImagePlugin:STREAM b'IHDR' 16 13\n",
      "DEBUG:PIL.PngImagePlugin:STREAM b'IDAT' 41 8136\n",
      "DEBUG:PIL.Image:Error closing: Operation on closed image\n",
      "DEBUG:PIL.PngImagePlugin:STREAM b'IHDR' 16 13\n",
      "DEBUG:PIL.PngImagePlugin:STREAM b'IDAT' 41 8192\n",
      "DEBUG:PIL.PngImagePlugin:STREAM b'IHDR' 16 13\n",
      "DEBUG:PIL.PngImagePlugin:STREAM b'IDAT' 41 8192\n",
      "DEBUG:PIL.Image:Error closing: Operation on closed image\n",
      "DEBUG:PIL.PngImagePlugin:STREAM b'IHDR' 16 13\n",
      "DEBUG:PIL.PngImagePlugin:STREAM b'IDAT' 41 8192\n",
      "DEBUG:PIL.PngImagePlugin:STREAM b'IHDR' 16 13\n",
      "DEBUG:PIL.PngImagePlugin:STREAM b'IDAT' 41 8192\n",
      "DEBUG:PIL.Image:Error closing: Operation on closed image\n",
      "DEBUG:PIL.PngImagePlugin:STREAM b'IHDR' 16 13\n",
      "DEBUG:PIL.PngImagePlugin:STREAM b'IDAT' 41 8192\n",
      "DEBUG:PIL.PngImagePlugin:STREAM b'IHDR' 16 13\n",
      "DEBUG:PIL.PngImagePlugin:STREAM b'IDAT' 41 8192\n",
      "DEBUG:PIL.Image:Error closing: Operation on closed image\n",
      "DEBUG:PIL.PngImagePlugin:STREAM b'IHDR' 16 13\n",
      "DEBUG:PIL.PngImagePlugin:STREAM b'IDAT' 41 8039\n",
      "DEBUG:PIL.PngImagePlugin:STREAM b'IHDR' 16 13\n",
      "DEBUG:PIL.PngImagePlugin:STREAM b'IDAT' 41 8039\n",
      "DEBUG:PIL.Image:Error closing: Operation on closed image\n",
      "DEBUG:PIL.PngImagePlugin:STREAM b'IHDR' 16 13\n",
      "DEBUG:PIL.PngImagePlugin:STREAM b'IDAT' 41 8046\n",
      "DEBUG:PIL.PngImagePlugin:STREAM b'IHDR' 16 13\n",
      "DEBUG:PIL.PngImagePlugin:STREAM b'IDAT' 41 8046\n",
      "DEBUG:PIL.Image:Error closing: Operation on closed image\n",
      "DEBUG:PIL.PngImagePlugin:STREAM b'IHDR' 16 13\n",
      "DEBUG:PIL.PngImagePlugin:STREAM b'IDAT' 41 8192\n",
      "DEBUG:PIL.PngImagePlugin:STREAM b'IHDR' 16 13\n",
      "DEBUG:PIL.PngImagePlugin:STREAM b'IDAT' 41 8192\n",
      "DEBUG:PIL.Image:Error closing: Operation on closed image\n",
      "DEBUG:PIL.PngImagePlugin:STREAM b'IHDR' 16 13\n",
      "DEBUG:PIL.PngImagePlugin:STREAM b'IDAT' 41 8192\n",
      "DEBUG:PIL.PngImagePlugin:STREAM b'IHDR' 16 13\n",
      "DEBUG:PIL.PngImagePlugin:STREAM b'IDAT' 41 8192\n",
      "DEBUG:PIL.Image:Error closing: Operation on closed image\n",
      "DEBUG:PIL.PngImagePlugin:STREAM b'IHDR' 16 13\n",
      "DEBUG:PIL.PngImagePlugin:STREAM b'IDAT' 41 8192\n",
      "DEBUG:PIL.PngImagePlugin:STREAM b'IHDR' 16 13\n",
      "DEBUG:PIL.PngImagePlugin:STREAM b'IDAT' 41 8192\n",
      "DEBUG:PIL.Image:Error closing: Operation on closed image\n",
      "DEBUG:PIL.PngImagePlugin:STREAM b'IHDR' 16 13\n",
      "DEBUG:PIL.PngImagePlugin:STREAM b'IDAT' 41 8192\n",
      "DEBUG:PIL.PngImagePlugin:STREAM b'IHDR' 16 13\n",
      "DEBUG:PIL.PngImagePlugin:STREAM b'IDAT' 41 8192\n",
      "DEBUG:PIL.Image:Error closing: Operation on closed image\n",
      "DEBUG:PIL.PngImagePlugin:STREAM b'IHDR' 16 13\n",
      "DEBUG:PIL.PngImagePlugin:STREAM b'IDAT' 41 8192\n",
      "DEBUG:PIL.PngImagePlugin:STREAM b'IHDR' 16 13\n",
      "DEBUG:PIL.PngImagePlugin:STREAM b'IDAT' 41 8192\n",
      "DEBUG:PIL.PngImagePlugin:STREAM b'IDAT' 8245 3\n",
      "DEBUG:PIL.Image:Error closing: Operation on closed image\n",
      "DEBUG:PIL.PngImagePlugin:STREAM b'IHDR' 16 13\n",
      "DEBUG:PIL.PngImagePlugin:STREAM b'IDAT' 41 8192\n",
      "DEBUG:PIL.PngImagePlugin:STREAM b'IHDR' 16 13\n",
      "DEBUG:PIL.PngImagePlugin:STREAM b'IDAT' 41 8192\n",
      "DEBUG:PIL.Image:Error closing: Operation on closed image\n",
      "DEBUG:PIL.PngImagePlugin:STREAM b'IHDR' 16 13\n",
      "DEBUG:PIL.PngImagePlugin:STREAM b'IDAT' 41 8192\n",
      "DEBUG:PIL.PngImagePlugin:STREAM b'IHDR' 16 13\n",
      "DEBUG:PIL.PngImagePlugin:STREAM b'IDAT' 41 8192\n",
      "DEBUG:PIL.Image:Error closing: Operation on closed image\n",
      "DEBUG:PIL.PngImagePlugin:STREAM b'IHDR' 16 13\n",
      "DEBUG:PIL.PngImagePlugin:STREAM b'IDAT' 41 8192\n",
      "DEBUG:PIL.PngImagePlugin:STREAM b'IHDR' 16 13\n",
      "DEBUG:PIL.PngImagePlugin:STREAM b'IDAT' 41 8192\n",
      "DEBUG:PIL.Image:Error closing: Operation on closed image\n",
      "DEBUG:PIL.PngImagePlugin:STREAM b'IHDR' 16 13\n",
      "DEBUG:PIL.PngImagePlugin:STREAM b'IDAT' 41 8192\n",
      "DEBUG:PIL.PngImagePlugin:STREAM b'IHDR' 16 13\n",
      "DEBUG:PIL.PngImagePlugin:STREAM b'IDAT' 41 8192\n",
      "DEBUG:PIL.Image:Error closing: Operation on closed image\n",
      "DEBUG:PIL.PngImagePlugin:STREAM b'IHDR' 16 13\n",
      "DEBUG:PIL.PngImagePlugin:STREAM b'IDAT' 41 8192\n",
      "DEBUG:PIL.PngImagePlugin:STREAM b'IHDR' 16 13\n",
      "DEBUG:PIL.PngImagePlugin:STREAM b'IDAT' 41 8192\n",
      "DEBUG:PIL.Image:Error closing: Operation on closed image\n",
      "DEBUG:PIL.PngImagePlugin:STREAM b'IHDR' 16 13\n",
      "DEBUG:PIL.PngImagePlugin:STREAM b'IDAT' 41 8192\n",
      "DEBUG:PIL.PngImagePlugin:STREAM b'IHDR' 16 13\n",
      "DEBUG:PIL.PngImagePlugin:STREAM b'IDAT' 41 8192\n",
      "DEBUG:PIL.Image:Error closing: Operation on closed image\n",
      "DEBUG:PIL.PngImagePlugin:STREAM b'IHDR' 16 13\n",
      "DEBUG:PIL.PngImagePlugin:STREAM b'IDAT' 41 8192\n",
      "DEBUG:PIL.PngImagePlugin:STREAM b'IHDR' 16 13\n",
      "DEBUG:PIL.PngImagePlugin:STREAM b'IDAT' 41 8192\n",
      "DEBUG:PIL.Image:Error closing: Operation on closed image\n"
     ]
    }
   ],
   "source": [
    "x_test, y_test = import_data()\n",
    "y_test = np.copy(y_test.astype(int))"
   ]
  },
  {
   "cell_type": "code",
   "execution_count": 16,
   "metadata": {},
   "outputs": [
    {
     "name": "stdout",
     "output_type": "stream",
     "text": [
      "xtest: (200, 480, 640, 3)\n",
      "ytest: (200,)\n"
     ]
    }
   ],
   "source": [
    "print(f\"xtest: {x_test.shape}\")\n",
    "print(f\"ytest: {y_test.shape}\")"
   ]
  },
  {
   "cell_type": "code",
   "execution_count": 18,
   "metadata": {},
   "outputs": [
    {
     "name": "stdout",
     "output_type": "stream",
     "text": [
      "1\n"
     ]
    }
   ],
   "source": [
    "print(y_test[0])"
   ]
  },
  {
   "cell_type": "markdown",
   "metadata": {},
   "source": [
    "### Pre-trained NN"
   ]
  },
  {
   "cell_type": "code",
   "execution_count": 19,
   "metadata": {},
   "outputs": [
    {
     "name": "stderr",
     "output_type": "stream",
     "text": [
      "WARNING: All log messages before absl::InitializeLog() is called are written to STDERR\n",
      "I0000 00:00:1734860604.469080    4170 gl_context_egl.cc:85] Successfully initialized EGL. Major : 1 Minor: 5\n",
      "I0000 00:00:1734860604.470848    5029 gl_context.cc:369] GL version: 3.2 (OpenGL ES 3.2 Mesa 24.0.9-0ubuntu0.3), renderer: Mesa Intel(R) Iris(R) Plus Graphics (ICL GT2)\n"
     ]
    },
    {
     "name": "stderr",
     "output_type": "stream",
     "text": [
      "INFO: Created TensorFlow Lite XNNPACK delegate for CPU.\n",
      "W0000 00:00:1734860604.536513    5017 inference_feedback_manager.cc:114] Feedback manager requires a model with a single signature inference. Disabling support for feedback tensors.\n",
      "W0000 00:00:1734860604.551346    5021 inference_feedback_manager.cc:114] Feedback manager requires a model with a single signature inference. Disabling support for feedback tensors.\n"
     ]
    }
   ],
   "source": [
    "detector = HandDetector(maxHands=1, detectionCon=0.8)"
   ]
  },
  {
   "cell_type": "code",
   "execution_count": 20,
   "metadata": {},
   "outputs": [],
   "source": [
    "def pre_trained_detection(img):\n",
    "    if img.dtype != np.uint8:\n",
    "        img = (img * 255).astype(np.uint8)\n",
    "    hands = detector.findHands(img, draw=False)  \n",
    "    if hands:  \n",
    "        hand = hands[0]\n",
    "        if hand:    \n",
    "            lmlist = hand[0]['lmList']\n",
    "            fingerup = detector.fingersUp(hand[0])  \n",
    "            finger_count = sum(fingerup)  \n",
    "            return finger_count\n",
    "        else:\n",
    "            return 0"
   ]
  },
  {
   "cell_type": "code",
   "execution_count": 21,
   "metadata": {},
   "outputs": [
    {
     "name": "stderr",
     "output_type": "stream",
     "text": [
      "W0000 00:00:1734860606.663240    5022 landmark_projection_calculator.cc:186] Using NORM_RECT without IMAGE_DIMENSIONS is only supported for the square ROI. Provide IMAGE_DIMENSIONS or use PROJECTION_MATRIX.\n"
     ]
    },
    {
     "name": "stdout",
     "output_type": "stream",
     "text": [
      "176\n"
     ]
    }
   ],
   "source": [
    "correct = 0\n",
    "for i in range(len(y_test)):\n",
    "    finger_test = pre_trained_detection(x_test[i])\n",
    "    if finger_test == y_test[i]:\n",
    "        correct += 1\n",
    "print(correct)"
   ]
  },
  {
   "cell_type": "markdown",
   "metadata": {},
   "source": [
    "### Our Processing"
   ]
  },
  {
   "cell_type": "code",
   "execution_count": 26,
   "metadata": {},
   "outputs": [],
   "source": [
    "def our_detection(frame):\n",
    "    resizing_size_X = 512\n",
    "    resizing_size_Y = 512\n",
    "    resizing_size = (resizing_size_X, resizing_size_Y)\n",
    "    #frame = cv2.flip(frame, 1)\n",
    "    try:\n",
    "        plt.imshow(frame)\n",
    "        faceMask = np.ones((frame.shape[0], frame.shape[1]))\n",
    "        # faceMask = removeFaceMask(frame, face_cascade)\n",
    "        original = frame.copy()\n",
    "\n",
    "        print(np.max(frame))\n",
    "        frame = np.multiply(frame, faceMask[:, :, np.newaxis])\n",
    "        frame = frame.astype(np.uint8)\n",
    "        frame = cv2.resize(frame, resizing_size)\n",
    "        #cv2.imshow('Original Frame', frame)\n",
    "\n",
    "        frame = cv2.cvtColor(frame, cv2.COLOR_BGR2RGB)\n",
    "        \n",
    "        YCC = cv2.cvtColor(frame, cv2.COLOR_RGB2YCrCb)\n",
    "        frame = frame.astype(np.float64) / 255\n",
    "        C = YCC[:, :, 1:]\n",
    "\n",
    "        skin_mask = prob_skin_c(C, skin_mean, skin_cov, non_skin_mean, non_skin_cov)\n",
    "        #cv2.imshow('Skin Mask before cleaning wiz threshold',  cv2.threshold(skin_mask, 0.75, 1, cv2.THRESH_BINARY)[1])\n",
    "\n",
    "        hand_mask = cleanMask(skin_mask, original, resizing_size)\n",
    "\n",
    "        if hand_mask.dtype != np.uint8:\n",
    "            hand_mask = (hand_mask * 255).astype(np.uint8)\n",
    "\n",
    "        skeleton = skeletonize(hand_mask)\n",
    "        try:\n",
    "            finger_count = count_fingers(hand_mask)\n",
    "        except:\n",
    "            finger_count = 0\n",
    "\n",
    "        return finger_count\n",
    "        logger.info(f\"Fingers detected: {finger_count}\")\n",
    "    except Exception as e:\n",
    "        logger.error(f\"Error during processing: {e}\")\n",
    "        return 0\n"
   ]
  },
  {
   "cell_type": "code",
   "execution_count": 27,
   "metadata": {},
   "outputs": [
    {
     "name": "stderr",
     "output_type": "stream",
     "text": [
      "WARNING:matplotlib.image:Clipping input data to the valid range for imshow with RGB data ([0..1] for floats or [0..255] for integers). Got range [18.0..232.0].\n"
     ]
    },
    {
     "name": "stderr",
     "output_type": "stream",
     "text": [
      "ERROR:webcam_skin_detection:Error during processing: OpenCV(4.10.0) /home/conda/feedstock_root/build_artifacts/libopencv_1729143266536/work/modules/objdetect/src/cascadedetect.cpp:1389: error: (-215:Assertion failed) scaleFactor > 1 && _image.depth() == CV_8U in function 'detectMultiScale'\n",
      "\n"
     ]
    },
    {
     "name": "stdout",
     "output_type": "stream",
     "text": [
      "(480, 640, 3)\n",
      "232.0\n"
     ]
    },
    {
     "data": {
      "image/png": "[encoded data removed]",
      "text/plain": [
       "<Figure size 640x480 with 1 Axes>"
      ]
     },
     "metadata": {},
     "output_type": "display_data"
    }
   ],
   "source": [
    "    \n",
    "x_test[0] = (x_test[0] * 255).astype(np.uint8)\n",
    "print(x_test[0].shape)\n",
    "finger_test = our_detection(x_test[0])\n",
    "if finger_test == y_test[0]:\n",
    "    correct += 1\n"
   ]
  },
  {
   "cell_type": "code",
   "execution_count": null,
   "metadata": {},
   "outputs": [
    {
     "name": "stdout",
     "output_type": "stream",
     "text": [
      "(480, 640, 3)\n"
     ]
    },
    {
     "ename": "error",
     "evalue": "OpenCV(4.10.0) /home/conda/feedstock_root/build_artifacts/libopencv_1729143266536/work/modules/imgproc/src/color.simd_helpers.hpp:94: error: (-2:Unspecified error) in function 'cv::impl::{anonymous}::CvtHelper<VScn, VDcn, VDepth, sizePolicy>::CvtHelper(cv::InputArray, cv::OutputArray, int) [with VScn = cv::impl::{anonymous}::Set<3, 4>; VDcn = cv::impl::{anonymous}::Set<1>; VDepth = cv::impl::{anonymous}::Set<0, 2, 5>; cv::impl::{anonymous}::SizePolicy sizePolicy = cv::impl::<unnamed>::NONE; cv::InputArray = const cv::_InputArray&; cv::OutputArray = const cv::_OutputArray&]'\n> Unsupported depth of input image:\n>     'VDepth::contains(depth)'\n> where\n>     'depth' is 6 (CV_64F)\n",
     "output_type": "error",
     "traceback": [
      "\u001b[0;31m---------------------------------------------------------------------------\u001b[0m",
      "\u001b[0;31merror\u001b[0m                                     Traceback (most recent call last)",
      "Cell \u001b[0;32mIn[76], line 6\u001b[0m\n\u001b[1;32m      4\u001b[0m x_test[i] \u001b[38;5;241m=\u001b[39m (x_test[i] \u001b[38;5;241m*\u001b[39m \u001b[38;5;241m255\u001b[39m)\u001b[38;5;241m.\u001b[39mastype(np\u001b[38;5;241m.\u001b[39muint8)\n\u001b[1;32m      5\u001b[0m \u001b[38;5;28mprint\u001b[39m(x_test[i]\u001b[38;5;241m.\u001b[39mshape)\n\u001b[0;32m----> 6\u001b[0m finger_test \u001b[38;5;241m=\u001b[39m our_detection(\u001b[43mcv2\u001b[49m\u001b[38;5;241;43m.\u001b[39;49m\u001b[43mcvtColor\u001b[49m\u001b[43m(\u001b[49m\u001b[43mx_test\u001b[49m\u001b[43m[\u001b[49m\u001b[43mi\u001b[49m\u001b[43m]\u001b[49m\u001b[43m,\u001b[49m\u001b[43m \u001b[49m\u001b[43mcv2\u001b[49m\u001b[38;5;241;43m.\u001b[39;49m\u001b[43mCOLOR_BGR2GRAY\u001b[49m\u001b[43m)\u001b[49m)\n\u001b[1;32m      7\u001b[0m \u001b[38;5;28;01mif\u001b[39;00m finger_test \u001b[38;5;241m==\u001b[39m y_test[i]:\n\u001b[1;32m      8\u001b[0m     correct \u001b[38;5;241m+\u001b[39m\u001b[38;5;241m=\u001b[39m \u001b[38;5;241m1\u001b[39m\n",
      "\u001b[0;31merror\u001b[0m: OpenCV(4.10.0) /home/conda/feedstock_root/build_artifacts/libopencv_1729143266536/work/modules/imgproc/src/color.simd_helpers.hpp:94: error: (-2:Unspecified error) in function 'cv::impl::{anonymous}::CvtHelper<VScn, VDcn, VDepth, sizePolicy>::CvtHelper(cv::InputArray, cv::OutputArray, int) [with VScn = cv::impl::{anonymous}::Set<3, 4>; VDcn = cv::impl::{anonymous}::Set<1>; VDepth = cv::impl::{anonymous}::Set<0, 2, 5>; cv::impl::{anonymous}::SizePolicy sizePolicy = cv::impl::<unnamed>::NONE; cv::InputArray = const cv::_InputArray&; cv::OutputArray = const cv::_OutputArray&]'\n> Unsupported depth of input image:\n>     'VDepth::contains(depth)'\n> where\n>     'depth' is 6 (CV_64F)\n"
     ]
    }
   ],
   "source": [
    "correct = 0\n",
    "for i in range(len(y_test)):\n",
    "    \n",
    "    x_test[i] = (x_test[i] * 255).astype(np.uint8)\n",
    "    print(x_test[i].shape)\n",
    "    finger_test = our_detection(x_test[i])\n",
    "    if finger_test == y_test[i]:\n",
    "        correct += 1\n",
    "print(correct)"
   ]
  },
  {
   "cell_type": "code",
   "execution_count": null,
   "metadata": {},
   "outputs": [],
   "source": [
    "def main():\n",
    "    our_fingers_count = our_detection()\n",
    "    pre_trained_fingers_count = pre_trained_detection()\n",
    "    if our_fingers_count == pre_trained_fingers_count:\n",
    "        print(\"Right\", our_fingers_count)"
   ]
  },
  {
   "cell_type": "code",
   "execution_count": 27,
   "metadata": {},
   "outputs": [
    {
     "name": "stderr",
     "output_type": "stream",
     "text": [
      "INFO:webcam_skin_detection:Webcam opened successfully\n",
      "WARNING:webcam_skin_detection:No contours found in the mask\n",
      "INFO:webcam_skin_detection:Fingers detected: 0\n"
     ]
    },
    {
     "name": "stdout",
     "output_type": "stream",
     "text": [
      "middle point [217, 365]\n",
      "min,max [0, 89, 356, 511]\n",
      "middle point [217, 365]\n",
      "min,max [122, 313, 211, 511]\n",
      "face shall be removed\n"
     ]
    },
    {
     "name": "stderr",
     "output_type": "stream",
     "text": [
      "WARNING:webcam_skin_detection:No contours found in the mask\n",
      "INFO:webcam_skin_detection:Fingers detected: 0\n",
      "WARNING:webcam_skin_detection:No contours found in the mask\n",
      "INFO:webcam_skin_detection:Fingers detected: 0\n"
     ]
    },
    {
     "name": "stdout",
     "output_type": "stream",
     "text": [
      "middle point [216, 363]\n",
      "min,max [0, 101, 381, 511]\n",
      "middle point [216, 363]\n",
      "min,max [121, 338, 207, 511]\n",
      "face shall be removed\n",
      "middle point [217, 360]\n",
      "min,max [0, 75, 401, 511]\n",
      "middle point [217, 360]\n",
      "min,max [120, 328, 205, 511]\n",
      "face shall be removed\n"
     ]
    },
    {
     "name": "stderr",
     "output_type": "stream",
     "text": [
      "WARNING:webcam_skin_detection:No contours found in the mask\n",
      "INFO:webcam_skin_detection:Fingers detected: 0\n",
      "WARNING:webcam_skin_detection:No contours found in the mask\n",
      "INFO:webcam_skin_detection:Fingers detected: 0\n"
     ]
    },
    {
     "name": "stdout",
     "output_type": "stream",
     "text": [
      "middle point [216, 364]\n",
      "min,max [320, 370, 167, 411]\n",
      "middle point [216, 364]\n",
      "min,max [119, 333, 203, 511]\n",
      "face shall be removed\n",
      "middle point [216, 362]\n",
      "min,max [284, 358, 136, 329]\n",
      "middle point [216, 362]\n",
      "min,max [119, 322, 202, 511]\n",
      "face shall be removed\n"
     ]
    },
    {
     "name": "stderr",
     "output_type": "stream",
     "text": [
      "WARNING:webcam_skin_detection:No contours found in the mask\n",
      "INFO:webcam_skin_detection:Fingers detected: 0\n",
      "WARNING:webcam_skin_detection:No contours found in the mask\n",
      "INFO:webcam_skin_detection:Fingers detected: 0\n"
     ]
    },
    {
     "name": "stdout",
     "output_type": "stream",
     "text": [
      "middle point [217, 363]\n",
      "min,max [310, 352, 161, 391]\n",
      "middle point [217, 363]\n",
      "min,max [119, 341, 206, 511]\n",
      "face shall be removed\n",
      "middle point [214, 362]\n",
      "min,max [320, 341, 169, 313]\n",
      "middle point [214, 362]\n",
      "min,max [114, 368, 205, 511]\n",
      "face shall be removed\n"
     ]
    },
    {
     "name": "stderr",
     "output_type": "stream",
     "text": [
      "WARNING:webcam_skin_detection:No contours found in the mask\n",
      "INFO:webcam_skin_detection:Fingers detected: 0\n",
      "WARNING:webcam_skin_detection:No contours found in the mask\n",
      "INFO:webcam_skin_detection:Fingers detected: 0\n"
     ]
    },
    {
     "name": "stdout",
     "output_type": "stream",
     "text": [
      "middle point [207, 362]\n",
      "min,max [83, 102, 274, 346]\n",
      "middle point [207, 362]\n",
      "min,max [117, 356, 206, 511]\n",
      "face shall be removed\n",
      "middle point [206, 364]\n",
      "min,max [312, 360, 245, 399]\n",
      "middle point [206, 364]\n",
      "min,max [114, 323, 56, 511]\n",
      "face shall be removed\n"
     ]
    },
    {
     "name": "stderr",
     "output_type": "stream",
     "text": [
      "WARNING:webcam_skin_detection:No contours found in the mask\n",
      "INFO:webcam_skin_detection:Fingers detected: 0\n",
      "WARNING:webcam_skin_detection:No contours found in the mask\n",
      "INFO:webcam_skin_detection:Fingers detected: 0\n"
     ]
    },
    {
     "name": "stdout",
     "output_type": "stream",
     "text": [
      "middle point [202, 363]\n",
      "min,max [119, 154, 126, 209]\n",
      "middle point [202, 363]\n",
      "min,max [117, 309, 204, 511]\n",
      "face shall be removed\n",
      "middle point [207, 362]\n",
      "min,max [196, 224, 113, 197]\n",
      "middle point [207, 362]\n",
      "min,max [116, 311, 206, 511]\n",
      "face shall be removed\n"
     ]
    },
    {
     "name": "stderr",
     "output_type": "stream",
     "text": [
      "WARNING:webcam_skin_detection:No contours found in the mask\n",
      "INFO:webcam_skin_detection:Fingers detected: 0\n",
      "WARNING:webcam_skin_detection:No contours found in the mask\n",
      "INFO:webcam_skin_detection:Fingers detected: 0\n"
     ]
    },
    {
     "name": "stdout",
     "output_type": "stream",
     "text": [
      "middle point [210, 363]\n",
      "min,max [2, 27, 431, 511]\n",
      "middle point [210, 363]\n",
      "min,max [117, 320, 207, 511]\n",
      "face shall be removed\n",
      "middle point [210, 368]\n",
      "min,max [297, 366, 151, 333]\n",
      "middle point [210, 368]\n",
      "min,max [103, 309, 209, 511]\n",
      "face shall be removed\n"
     ]
    },
    {
     "name": "stderr",
     "output_type": "stream",
     "text": [
      "WARNING:webcam_skin_detection:No contours found in the mask\n",
      "INFO:webcam_skin_detection:Fingers detected: 0\n",
      "WARNING:webcam_skin_detection:No contours found in the mask\n",
      "INFO:webcam_skin_detection:Fingers detected: 0\n"
     ]
    },
    {
     "name": "stdout",
     "output_type": "stream",
     "text": [
      "middle point [212, 368]\n",
      "min,max [340, 360, 280, 409]\n",
      "middle point [212, 368]\n",
      "min,max [106, 331, 205, 511]\n",
      "face shall be removed\n",
      "middle point [207, 360]\n",
      "min,max [15, 54, 435, 511]\n",
      "middle point [207, 360]\n",
      "min,max [99, 307, 202, 511]\n",
      "face shall be removed\n"
     ]
    },
    {
     "name": "stderr",
     "output_type": "stream",
     "text": [
      "WARNING:webcam_skin_detection:No contours found in the mask\n",
      "INFO:webcam_skin_detection:Fingers detected: 0\n",
      "WARNING:webcam_skin_detection:No contours found in the mask\n",
      "INFO:webcam_skin_detection:Fingers detected: 0\n"
     ]
    },
    {
     "name": "stdout",
     "output_type": "stream",
     "text": [
      "middle point [202, 363]\n",
      "min,max [311, 342, 214, 332]\n",
      "middle point [202, 363]\n",
      "min,max [111, 357, 205, 511]\n",
      "face shall be removed\n",
      "middle point [190, 361]\n",
      "min,max [82, 110, 173, 266]\n",
      "middle point [190, 361]\n",
      "min,max [92, 291, 204, 511]\n",
      "face shall be removed\n"
     ]
    },
    {
     "name": "stderr",
     "output_type": "stream",
     "text": [
      "WARNING:webcam_skin_detection:No contours found in the mask\n",
      "INFO:webcam_skin_detection:Fingers detected: 0\n",
      "WARNING:webcam_skin_detection:No contours found in the mask\n",
      "INFO:webcam_skin_detection:Fingers detected: 0\n"
     ]
    },
    {
     "name": "stdout",
     "output_type": "stream",
     "text": [
      "middle point [170, 355]\n",
      "min,max [51, 77, 327, 435]\n",
      "middle point [170, 355]\n",
      "min,max [84, 288, 200, 511]\n",
      "face shall be removed\n",
      "middle point [176, 348]\n",
      "min,max [307, 330, 297, 395]\n",
      "middle point [176, 348]\n",
      "min,max [89, 307, 194, 511]\n",
      "face shall be removed\n"
     ]
    },
    {
     "name": "stderr",
     "output_type": "stream",
     "text": [
      "WARNING:webcam_skin_detection:No contours found in the mask\n",
      "INFO:webcam_skin_detection:Fingers detected: 0\n",
      "WARNING:webcam_skin_detection:No contours found in the mask\n",
      "INFO:webcam_skin_detection:Fingers detected: 0\n"
     ]
    },
    {
     "name": "stdout",
     "output_type": "stream",
     "text": [
      "middle point [175, 350]\n",
      "min,max [149, 175, 111, 190]\n",
      "middle point [175, 350]\n",
      "min,max [90, 280, 195, 511]\n",
      "face shall be removed\n",
      "middle point [166, 345]\n",
      "min,max [280, 299, 135, 249]\n",
      "middle point [166, 345]\n",
      "min,max [79, 301, 182, 511]\n",
      "face shall be removed\n"
     ]
    },
    {
     "name": "stderr",
     "output_type": "stream",
     "text": [
      "WARNING:webcam_skin_detection:No contours found in the mask\n",
      "INFO:webcam_skin_detection:Fingers detected: 0\n",
      "WARNING:webcam_skin_detection:No contours found in the mask\n",
      "INFO:webcam_skin_detection:Fingers detected: 0\n"
     ]
    },
    {
     "name": "stdout",
     "output_type": "stream",
     "text": [
      "middle point [153, 343]\n",
      "min,max [127, 146, 114, 175]\n",
      "middle point [153, 343]\n",
      "min,max [69, 267, 183, 511]\n",
      "face shall be removed\n",
      "middle point [140, 340]\n",
      "min,max [455, 477, 444, 503]\n",
      "middle point [140, 340]\n",
      "min,max [50, 248, 181, 511]\n",
      "face shall be removed\n"
     ]
    },
    {
     "name": "stderr",
     "output_type": "stream",
     "text": [
      "WARNING:webcam_skin_detection:No contours found in the mask\n",
      "INFO:webcam_skin_detection:Fingers detected: 0\n",
      "WARNING:webcam_skin_detection:No contours found in the mask\n",
      "INFO:webcam_skin_detection:Fingers detected: 0\n"
     ]
    },
    {
     "name": "stdout",
     "output_type": "stream",
     "text": [
      "middle point [138, 341]\n",
      "min,max [18, 45, 157, 282]\n",
      "middle point [138, 341]\n",
      "min,max [23, 243, 184, 511]\n",
      "face shall be removed\n",
      "middle point [138, 355]\n",
      "min,max [34, 74, 115, 239]\n",
      "middle point [138, 355]\n",
      "min,max [0, 263, 196, 511]\n",
      "face shall be removed\n"
     ]
    },
    {
     "name": "stderr",
     "output_type": "stream",
     "text": [
      "WARNING:webcam_skin_detection:No contours found in the mask\n",
      "INFO:webcam_skin_detection:Fingers detected: 0\n"
     ]
    },
    {
     "name": "stdout",
     "output_type": "stream",
     "text": [
      "middle point [141, 351]\n",
      "min,max [30, 81, 108, 276]\n",
      "middle point [141, 351]\n",
      "min,max [0, 276, 193, 511]\n",
      "face shall be removed\n"
     ]
    },
    {
     "name": "stderr",
     "output_type": "stream",
     "text": [
      "WARNING:webcam_skin_detection:No contours found in the mask\n",
      "INFO:webcam_skin_detection:Fingers detected: 0\n",
      "WARNING:webcam_skin_detection:No contours found in the mask\n",
      "INFO:webcam_skin_detection:Fingers detected: 0\n"
     ]
    },
    {
     "name": "stdout",
     "output_type": "stream",
     "text": [
      "middle point [149, 354]\n",
      "min,max [0, 53, 372, 511]\n",
      "middle point [149, 354]\n",
      "min,max [60, 250, 200, 511]\n",
      "face shall be removed\n",
      "middle point [149, 355]\n",
      "min,max [26, 58, 393, 511]\n",
      "middle point [149, 355]\n",
      "min,max [60, 251, 199, 511]\n",
      "face shall be removed\n"
     ]
    },
    {
     "name": "stderr",
     "output_type": "stream",
     "text": [
      "WARNING:webcam_skin_detection:No contours found in the mask\n",
      "INFO:webcam_skin_detection:Fingers detected: 0\n",
      "WARNING:webcam_skin_detection:No contours found in the mask\n",
      "INFO:webcam_skin_detection:Fingers detected: 0\n"
     ]
    },
    {
     "name": "stdout",
     "output_type": "stream",
     "text": [
      "middle point [148, 357]\n",
      "min,max [151, 167, 104, 162]\n",
      "middle point [148, 357]\n",
      "min,max [0, 253, 201, 511]\n",
      "face shall be removed\n",
      "middle point [150, 361]\n",
      "min,max [0, 44, 426, 511]\n",
      "middle point [150, 361]\n",
      "min,max [58, 282, 205, 511]\n",
      "face shall be removed\n"
     ]
    },
    {
     "name": "stderr",
     "output_type": "stream",
     "text": [
      "WARNING:webcam_skin_detection:No contours found in the mask\n",
      "INFO:webcam_skin_detection:Fingers detected: 0\n",
      "WARNING:webcam_skin_detection:No contours found in the mask\n",
      "INFO:webcam_skin_detection:Fingers detected: 0\n"
     ]
    },
    {
     "name": "stdout",
     "output_type": "stream",
     "text": [
      "middle point [154, 361]\n",
      "min,max [0, 56, 421, 511]\n",
      "middle point [154, 361]\n",
      "min,max [62, 285, 202, 511]\n",
      "face shall be removed\n",
      "middle point [154, 364]\n",
      "min,max [0, 42, 371, 511]\n",
      "middle point [154, 364]\n",
      "min,max [44, 259, 201, 511]\n",
      "face shall be removed\n"
     ]
    },
    {
     "name": "stderr",
     "output_type": "stream",
     "text": [
      "WARNING:webcam_skin_detection:No contours found in the mask\n",
      "INFO:webcam_skin_detection:Fingers detected: 0\n",
      "WARNING:webcam_skin_detection:No contours found in the mask\n",
      "INFO:webcam_skin_detection:Fingers detected: 0\n"
     ]
    },
    {
     "name": "stdout",
     "output_type": "stream",
     "text": [
      "middle point [154, 362]\n",
      "min,max [165, 181, 102, 177]\n",
      "middle point [154, 362]\n",
      "min,max [65, 257, 203, 511]\n",
      "face shall be removed\n",
      "middle point [152, 364]\n",
      "min,max [0, 32, 436, 511]\n",
      "middle point [152, 364]\n",
      "min,max [66, 270, 203, 511]\n",
      "face shall be removed\n"
     ]
    },
    {
     "name": "stderr",
     "output_type": "stream",
     "text": [
      "WARNING:webcam_skin_detection:No contours found in the mask\n",
      "INFO:webcam_skin_detection:Fingers detected: 0\n",
      "WARNING:webcam_skin_detection:No contours found in the mask\n",
      "INFO:webcam_skin_detection:Fingers detected: 0\n"
     ]
    },
    {
     "name": "stdout",
     "output_type": "stream",
     "text": [
      "middle point [153, 363]\n",
      "min,max [273, 314, 156, 412]\n",
      "middle point [153, 363]\n",
      "min,max [67, 259, 207, 511]\n",
      "face shall be removed\n",
      "middle point [153, 363]\n",
      "min,max [285, 310, 219, 401]\n",
      "middle point [153, 363]\n",
      "min,max [63, 261, 208, 511]\n",
      "face shall be removed\n"
     ]
    },
    {
     "name": "stderr",
     "output_type": "stream",
     "text": [
      "WARNING:webcam_skin_detection:No contours found in the mask\n",
      "INFO:webcam_skin_detection:Fingers detected: 0\n",
      "WARNING:webcam_skin_detection:No contours found in the mask\n",
      "INFO:webcam_skin_detection:Fingers detected: 0\n"
     ]
    },
    {
     "name": "stdout",
     "output_type": "stream",
     "text": [
      "middle point [154, 363]\n",
      "min,max [129, 157, 114, 190]\n",
      "middle point [154, 363]\n",
      "min,max [51, 289, 207, 511]\n",
      "face shall be removed\n",
      "middle point [155, 363]\n",
      "min,max [277, 314, 308, 466]\n",
      "middle point [155, 363]\n",
      "min,max [37, 261, 208, 511]\n",
      "face shall be removed\n"
     ]
    },
    {
     "name": "stderr",
     "output_type": "stream",
     "text": [
      "WARNING:webcam_skin_detection:No contours found in the mask\n",
      "INFO:webcam_skin_detection:Fingers detected: 0\n",
      "WARNING:webcam_skin_detection:No contours found in the mask\n",
      "INFO:webcam_skin_detection:Fingers detected: 0\n"
     ]
    },
    {
     "name": "stdout",
     "output_type": "stream",
     "text": [
      "middle point [154, 364]\n",
      "min,max [255, 280, 155, 218]\n",
      "middle point [154, 364]\n",
      "min,max [67, 269, 210, 511]\n",
      "face shall be removed\n",
      "middle point [156, 361]\n",
      "min,max [292, 322, 230, 396]\n",
      "middle point [156, 361]\n",
      "min,max [67, 286, 210, 511]\n",
      "face shall be removed\n"
     ]
    },
    {
     "name": "stderr",
     "output_type": "stream",
     "text": [
      "WARNING:webcam_skin_detection:No contours found in the mask\n",
      "INFO:webcam_skin_detection:Fingers detected: 0\n",
      "WARNING:webcam_skin_detection:No contours found in the mask\n",
      "INFO:webcam_skin_detection:Fingers detected: 0\n"
     ]
    },
    {
     "name": "stdout",
     "output_type": "stream",
     "text": [
      "middle point [156, 363]\n",
      "min,max [65, 99, 114, 210]\n",
      "middle point [156, 363]\n",
      "min,max [67, 261, 205, 511]\n",
      "face shall be removed\n",
      "middle point [158, 365]\n",
      "min,max [69, 86, 117, 200]\n",
      "middle point [158, 365]\n",
      "min,max [68, 259, 205, 511]\n",
      "face shall be removed\n"
     ]
    },
    {
     "name": "stderr",
     "output_type": "stream",
     "text": [
      "WARNING:webcam_skin_detection:No contours found in the mask\n",
      "INFO:webcam_skin_detection:Fingers detected: 0\n",
      "WARNING:webcam_skin_detection:No contours found in the mask\n",
      "INFO:webcam_skin_detection:Fingers detected: 0\n"
     ]
    },
    {
     "name": "stdout",
     "output_type": "stream",
     "text": [
      "middle point [154, 363]\n",
      "min,max [0, 63, 418, 511]\n",
      "middle point [154, 363]\n",
      "min,max [67, 259, 207, 511]\n",
      "face shall be removed\n",
      "middle point [156, 362]\n",
      "min,max [0, 42, 393, 511]\n",
      "middle point [156, 362]\n",
      "min,max [66, 272, 209, 511]\n",
      "face shall be removed\n"
     ]
    },
    {
     "name": "stderr",
     "output_type": "stream",
     "text": [
      "WARNING:webcam_skin_detection:No contours found in the mask\n",
      "INFO:webcam_skin_detection:Fingers detected: 0\n",
      "WARNING:webcam_skin_detection:No contours found in the mask\n",
      "INFO:webcam_skin_detection:Fingers detected: 0\n"
     ]
    },
    {
     "name": "stdout",
     "output_type": "stream",
     "text": [
      "middle point [153, 365]\n",
      "min,max [71, 102, 109, 212]\n",
      "middle point [153, 365]\n",
      "min,max [66, 259, 212, 511]\n",
      "face shall be removed\n",
      "middle point [154, 361]\n",
      "min,max [0, 24, 440, 511]\n",
      "middle point [154, 361]\n",
      "min,max [41, 277, 209, 511]\n",
      "face shall be removed\n"
     ]
    },
    {
     "name": "stderr",
     "output_type": "stream",
     "text": [
      "WARNING:webcam_skin_detection:No contours found in the mask\n",
      "INFO:webcam_skin_detection:Fingers detected: 0\n",
      "WARNING:webcam_skin_detection:No contours found in the mask\n",
      "INFO:webcam_skin_detection:Fingers detected: 0\n"
     ]
    },
    {
     "name": "stdout",
     "output_type": "stream",
     "text": [
      "middle point [151, 362]\n",
      "min,max [251, 319, 138, 331]\n",
      "middle point [151, 362]\n",
      "min,max [66, 272, 211, 511]\n",
      "face shall be removed\n",
      "middle point [154, 363]\n",
      "min,max [288, 312, 291, 415]\n",
      "middle point [154, 363]\n",
      "min,max [15, 269, 209, 511]\n",
      "face shall be removed\n"
     ]
    },
    {
     "name": "stderr",
     "output_type": "stream",
     "text": [
      "WARNING:webcam_skin_detection:No contours found in the mask\n",
      "INFO:webcam_skin_detection:Fingers detected: 0\n",
      "WARNING:webcam_skin_detection:No contours found in the mask\n",
      "INFO:webcam_skin_detection:Fingers detected: 0\n"
     ]
    },
    {
     "name": "stdout",
     "output_type": "stream",
     "text": [
      "middle point [154, 365]\n",
      "min,max [290, 314, 265, 400]\n",
      "middle point [154, 365]\n",
      "min,max [65, 259, 211, 511]\n",
      "face shall be removed\n",
      "middle point [154, 363]\n",
      "min,max [161, 193, 96, 190]\n",
      "middle point [154, 363]\n",
      "min,max [66, 269, 208, 511]\n",
      "face shall be removed\n"
     ]
    },
    {
     "name": "stderr",
     "output_type": "stream",
     "text": [
      "WARNING:webcam_skin_detection:No contours found in the mask\n",
      "INFO:webcam_skin_detection:Fingers detected: 0\n",
      "WARNING:webcam_skin_detection:No contours found in the mask\n",
      "INFO:webcam_skin_detection:Fingers detected: 0\n"
     ]
    },
    {
     "name": "stdout",
     "output_type": "stream",
     "text": [
      "middle point [151, 362]\n",
      "min,max [26, 64, 419, 511]\n",
      "middle point [151, 362]\n",
      "min,max [66, 291, 209, 511]\n",
      "face shall be removed\n",
      "middle point [157, 362]\n",
      "min,max [36, 77, 150, 268]\n",
      "middle point [157, 362]\n",
      "min,max [67, 284, 210, 511]\n",
      "face shall be removed\n"
     ]
    },
    {
     "name": "stderr",
     "output_type": "stream",
     "text": [
      "WARNING:webcam_skin_detection:No contours found in the mask\n",
      "INFO:webcam_skin_detection:Fingers detected: 0\n",
      "WARNING:webcam_skin_detection:No contours found in the mask\n",
      "INFO:webcam_skin_detection:Fingers detected: 0\n"
     ]
    },
    {
     "name": "stdout",
     "output_type": "stream",
     "text": [
      "middle point [160, 365]\n",
      "min,max [26, 58, 262, 432]\n",
      "middle point [160, 365]\n",
      "min,max [67, 258, 210, 511]\n",
      "face shall be removed\n",
      "middle point [160, 363]\n",
      "min,max [288, 317, 227, 416]\n",
      "middle point [160, 363]\n",
      "min,max [67, 285, 209, 511]\n",
      "face shall be removed\n"
     ]
    },
    {
     "name": "stderr",
     "output_type": "stream",
     "text": [
      "WARNING:webcam_skin_detection:No contours found in the mask\n",
      "INFO:webcam_skin_detection:Fingers detected: 0\n",
      "WARNING:webcam_skin_detection:No contours found in the mask\n",
      "INFO:webcam_skin_detection:Fingers detected: 0\n"
     ]
    },
    {
     "name": "stdout",
     "output_type": "stream",
     "text": [
      "middle point [164, 364]\n",
      "min,max [255, 299, 162, 225]\n",
      "middle point [164, 364]\n",
      "min,max [67, 260, 209, 511]\n",
      "face shall be removed\n",
      "middle point [172, 362]\n",
      "min,max [0, 22, 423, 511]\n",
      "middle point [172, 362]\n",
      "min,max [57, 279, 210, 511]\n",
      "face shall be removed\n"
     ]
    },
    {
     "name": "stderr",
     "output_type": "stream",
     "text": [
      "WARNING:webcam_skin_detection:No contours found in the mask\n",
      "INFO:webcam_skin_detection:Fingers detected: 0\n",
      "WARNING:webcam_skin_detection:No contours found in the mask\n",
      "INFO:webcam_skin_detection:Fingers detected: 0\n"
     ]
    },
    {
     "name": "stdout",
     "output_type": "stream",
     "text": [
      "middle point [175, 363]\n",
      "min,max [193, 245, 121, 196]\n",
      "middle point [175, 363]\n",
      "min,max [71, 263, 208, 511]\n",
      "face shall be removed\n",
      "middle point [178, 362]\n",
      "min,max [0, 51, 413, 511]\n",
      "middle point [178, 362]\n",
      "min,max [69, 284, 206, 511]\n",
      "face shall be removed\n"
     ]
    },
    {
     "name": "stderr",
     "output_type": "stream",
     "text": [
      "WARNING:webcam_skin_detection:No contours found in the mask\n",
      "INFO:webcam_skin_detection:Fingers detected: 0\n",
      "WARNING:webcam_skin_detection:No contours found in the mask\n",
      "INFO:webcam_skin_detection:Fingers detected: 0\n"
     ]
    },
    {
     "name": "stdout",
     "output_type": "stream",
     "text": [
      "middle point [174, 364]\n",
      "min,max [0, 66, 320, 511]\n",
      "middle point [174, 364]\n",
      "min,max [68, 261, 207, 511]\n",
      "face shall be removed\n",
      "middle point [174, 361]\n",
      "min,max [146, 186, 96, 198]\n",
      "middle point [174, 361]\n",
      "min,max [68, 277, 211, 511]\n",
      "face shall be removed\n"
     ]
    },
    {
     "name": "stderr",
     "output_type": "stream",
     "text": [
      "WARNING:webcam_skin_detection:No contours found in the mask\n",
      "INFO:webcam_skin_detection:Fingers detected: 0\n",
      "WARNING:webcam_skin_detection:No contours found in the mask\n",
      "INFO:webcam_skin_detection:Fingers detected: 0\n"
     ]
    },
    {
     "name": "stdout",
     "output_type": "stream",
     "text": [
      "middle point [174, 360]\n",
      "min,max [265, 296, 132, 240]\n",
      "middle point [174, 360]\n",
      "min,max [68, 283, 206, 511]\n",
      "face shall be removed\n",
      "middle point [166, 358]\n",
      "min,max [455, 479, 419, 492]\n",
      "middle point [166, 358]\n",
      "min,max [69, 278, 205, 511]\n",
      "face shall be removed\n"
     ]
    },
    {
     "name": "stderr",
     "output_type": "stream",
     "text": [
      "WARNING:webcam_skin_detection:No contours found in the mask\n",
      "INFO:webcam_skin_detection:Fingers detected: 0\n",
      "WARNING:webcam_skin_detection:No contours found in the mask\n",
      "INFO:webcam_skin_detection:Fingers detected: 0\n"
     ]
    },
    {
     "name": "stdout",
     "output_type": "stream",
     "text": [
      "middle point [162, 361]\n",
      "min,max [77, 93, 113, 208]\n",
      "middle point [162, 361]\n",
      "min,max [47, 261, 206, 511]\n",
      "face shall be removed\n",
      "middle point [153, 362]\n",
      "min,max [454, 481, 414, 504]\n",
      "middle point [153, 362]\n",
      "min,max [62, 267, 207, 511]\n",
      "face shall be removed\n"
     ]
    },
    {
     "name": "stderr",
     "output_type": "stream",
     "text": [
      "WARNING:webcam_skin_detection:No contours found in the mask\n",
      "INFO:webcam_skin_detection:Fingers detected: 0\n",
      "WARNING:webcam_skin_detection:No contours found in the mask\n",
      "INFO:webcam_skin_detection:Fingers detected: 0\n"
     ]
    },
    {
     "name": "stdout",
     "output_type": "stream",
     "text": [
      "middle point [145, 363]\n",
      "min,max [35, 51, 190, 247]\n",
      "middle point [145, 363]\n",
      "min,max [0, 253, 212, 511]\n",
      "face shall be removed\n",
      "middle point [137, 363]\n",
      "min,max [119, 134, 132, 191]\n",
      "middle point [137, 363]\n",
      "min,max [0, 234, 212, 511]\n",
      "face shall be removed\n"
     ]
    },
    {
     "name": "stderr",
     "output_type": "stream",
     "text": [
      "WARNING:webcam_skin_detection:No contours found in the mask\n",
      "INFO:webcam_skin_detection:Fingers detected: 0\n",
      "WARNING:webcam_skin_detection:No contours found in the mask\n",
      "INFO:webcam_skin_detection:Fingers detected: 0\n"
     ]
    },
    {
     "name": "stdout",
     "output_type": "stream",
     "text": [
      "middle point [114, 367]\n",
      "min,max [375, 511, 410, 511]\n",
      "middle point [114, 367]\n",
      "min,max [0, 210, 214, 511]\n",
      "face shall be removed\n",
      "middle point [114, 367]\n",
      "min,max [333, 511, 356, 511]\n",
      "middle point [114, 367]\n",
      "min,max [0, 205, 216, 511]\n",
      "face shall be removed\n"
     ]
    },
    {
     "name": "stderr",
     "output_type": "stream",
     "text": [
      "INFO:webcam_skin_detection:Fingers detected: 2\n"
     ]
    },
    {
     "name": "stdout",
     "output_type": "stream",
     "text": [
      "middle point [114, 367]\n",
      "min,max [322, 511, 296, 511]\n",
      "middle point [114, 367]\n",
      "min,max [0, 199, 224, 511]\n",
      "face shall be removed\n"
     ]
    },
    {
     "name": "stderr",
     "output_type": "stream",
     "text": [
      "INFO:webcam_skin_detection:Fingers detected: 2\n"
     ]
    },
    {
     "name": "stdout",
     "output_type": "stream",
     "text": [
      "middle point [114, 367]\n",
      "min,max [314, 511, 260, 511]\n",
      "middle point [114, 367]\n",
      "min,max [0, 205, 212, 511]\n",
      "face shall be removed\n"
     ]
    },
    {
     "name": "stderr",
     "output_type": "stream",
     "text": [
      "INFO:webcam_skin_detection:Fingers detected: 2\n"
     ]
    },
    {
     "name": "stdout",
     "output_type": "stream",
     "text": [
      "middle point [114, 367]\n",
      "min,max [0, 165, 237, 511]\n",
      "face shall be removed\n",
      "middle point [114, 367]\n",
      "min,max [303, 511, 233, 511]\n",
      "middle point [114, 367]\n",
      "min,max [0, 178, 229, 511]\n",
      "face shall be removed\n",
      "middle point [114, 367]\n",
      "min,max [300, 511, 215, 511]\n"
     ]
    },
    {
     "name": "stderr",
     "output_type": "stream",
     "text": [
      "INFO:webcam_skin_detection:Fingers detected: 2\n",
      "INFO:webcam_skin_detection:Fingers detected: 3\n"
     ]
    },
    {
     "name": "stdout",
     "output_type": "stream",
     "text": [
      "middle point [114, 367]\n",
      "min,max [0, 176, 233, 511]\n",
      "face shall be removed\n",
      "middle point [114, 367]\n",
      "min,max [300, 511, 194, 511]\n",
      "middle point [114, 367]\n",
      "min,max [0, 152, 244, 511]\n",
      "face shall be removed\n",
      "middle point [114, 367]\n",
      "min,max [298, 511, 152, 511]\n"
     ]
    },
    {
     "name": "stderr",
     "output_type": "stream",
     "text": [
      "INFO:webcam_skin_detection:Fingers detected: 3\n",
      "INFO:webcam_skin_detection:Fingers detected: 5\n"
     ]
    },
    {
     "name": "stdout",
     "output_type": "stream",
     "text": [
      "middle point [114, 367]\n",
      "min,max [0, 155, 248, 511]\n",
      "face shall be removed\n",
      "middle point [114, 367]\n",
      "min,max [290, 511, 117, 511]\n",
      "middle point [114, 367]\n",
      "min,max [0, 155, 240, 511]\n",
      "face shall be removed\n",
      "middle point [114, 367]\n",
      "min,max [286, 511, 94, 511]\n"
     ]
    },
    {
     "name": "stderr",
     "output_type": "stream",
     "text": [
      "INFO:webcam_skin_detection:Fingers detected: 5\n",
      "INFO:webcam_skin_detection:Fingers detected: 5\n"
     ]
    },
    {
     "name": "stdout",
     "output_type": "stream",
     "text": [
      "middle point [114, 367]\n",
      "min,max [0, 162, 240, 511]\n",
      "face shall be removed\n",
      "middle point [114, 367]\n",
      "min,max [286, 511, 87, 511]\n",
      "middle point [114, 367]\n",
      "min,max [0, 156, 244, 511]\n",
      "face shall be removed\n",
      "middle point [114, 367]\n",
      "min,max [287, 511, 89, 511]\n"
     ]
    },
    {
     "name": "stderr",
     "output_type": "stream",
     "text": [
      "INFO:webcam_skin_detection:Fingers detected: 6\n",
      "INFO:webcam_skin_detection:Fingers detected: 6\n"
     ]
    },
    {
     "name": "stdout",
     "output_type": "stream",
     "text": [
      "middle point [114, 367]\n",
      "min,max [0, 163, 246, 511]\n",
      "face shall be removed\n",
      "middle point [114, 367]\n",
      "min,max [290, 511, 93, 511]\n",
      "middle point [114, 367]\n",
      "min,max [0, 184, 235, 511]\n",
      "face shall be removed\n",
      "middle point [114, 367]\n",
      "min,max [292, 511, 98, 511]\n"
     ]
    },
    {
     "name": "stderr",
     "output_type": "stream",
     "text": [
      "INFO:webcam_skin_detection:Fingers detected: 5\n",
      "INFO:webcam_skin_detection:Fingers detected: 4\n"
     ]
    },
    {
     "name": "stdout",
     "output_type": "stream",
     "text": [
      "middle point [114, 367]\n",
      "min,max [0, 165, 246, 511]\n",
      "face shall be removed\n",
      "middle point [114, 367]\n",
      "min,max [295, 511, 104, 511]\n",
      "middle point [114, 367]\n",
      "min,max [0, 167, 240, 511]\n",
      "face shall be removed\n",
      "middle point [114, 367]\n",
      "min,max [296, 511, 85, 511]\n"
     ]
    },
    {
     "name": "stderr",
     "output_type": "stream",
     "text": [
      "INFO:webcam_skin_detection:Fingers detected: 4\n",
      "INFO:webcam_skin_detection:Fingers detected: 4\n"
     ]
    },
    {
     "name": "stdout",
     "output_type": "stream",
     "text": [
      "middle point [114, 367]\n",
      "min,max [0, 192, 199, 511]\n",
      "face shall be removed\n",
      "middle point [114, 367]\n",
      "min,max [296, 511, 112, 511]\n",
      "middle point [114, 367]\n",
      "min,max [0, 183, 246, 511]\n",
      "face shall be removed\n",
      "middle point [114, 367]\n",
      "min,max [295, 511, 89, 511]\n"
     ]
    },
    {
     "name": "stderr",
     "output_type": "stream",
     "text": [
      "INFO:webcam_skin_detection:Fingers detected: 5\n",
      "INFO:webcam_skin_detection:Fingers detected: 4\n"
     ]
    },
    {
     "name": "stdout",
     "output_type": "stream",
     "text": [
      "middle point [114, 367]\n",
      "min,max [0, 192, 246, 511]\n",
      "face shall be removed\n",
      "middle point [114, 367]\n",
      "min,max [295, 511, 113, 511]\n",
      "middle point [114, 367]\n",
      "min,max [0, 183, 238, 511]\n",
      "face shall be removed\n",
      "middle point [114, 367]\n",
      "min,max [293, 511, 111, 511]\n"
     ]
    },
    {
     "name": "stderr",
     "output_type": "stream",
     "text": [
      "INFO:webcam_skin_detection:Fingers detected: 4\n",
      "INFO:webcam_skin_detection:Fingers detected: 5\n"
     ]
    },
    {
     "name": "stdout",
     "output_type": "stream",
     "text": [
      "middle point [114, 367]\n",
      "min,max [0, 161, 245, 511]\n",
      "face shall be removed\n",
      "middle point [114, 367]\n",
      "min,max [293, 511, 113, 511]\n",
      "middle point [114, 367]\n",
      "min,max [0, 163, 235, 511]\n",
      "face shall be removed\n",
      "middle point [114, 367]\n",
      "min,max [291, 511, 113, 511]\n"
     ]
    },
    {
     "name": "stderr",
     "output_type": "stream",
     "text": [
      "INFO:webcam_skin_detection:Fingers detected: 4\n",
      "INFO:webcam_skin_detection:Fingers detected: 2\n"
     ]
    },
    {
     "name": "stdout",
     "output_type": "stream",
     "text": [
      "middle point [114, 367]\n",
      "min,max [0, 165, 244, 511]\n",
      "face shall be removed\n",
      "middle point [114, 367]\n",
      "min,max [318, 511, 144, 511]\n",
      "middle point [114, 367]\n",
      "min,max [0, 164, 197, 511]\n",
      "face shall be removed\n",
      "middle point [114, 367]\n",
      "min,max [306, 511, 155, 511]\n"
     ]
    },
    {
     "name": "stderr",
     "output_type": "stream",
     "text": [
      "INFO:webcam_skin_detection:Fingers detected: 1\n",
      "INFO:webcam_skin_detection:Fingers detected: 1\n"
     ]
    },
    {
     "name": "stdout",
     "output_type": "stream",
     "text": [
      "middle point [114, 367]\n",
      "min,max [0, 160, 238, 511]\n",
      "face shall be removed\n",
      "middle point [114, 367]\n",
      "min,max [305, 511, 154, 511]\n",
      "middle point [114, 367]\n",
      "min,max [304, 511, 155, 511]\n",
      "middle point [114, 367]\n",
      "min,max [0, 179, 198, 511]\n",
      "face shall be removed\n"
     ]
    },
    {
     "name": "stderr",
     "output_type": "stream",
     "text": [
      "INFO:webcam_skin_detection:Fingers detected: 2\n",
      "INFO:webcam_skin_detection:Fingers detected: 2\n"
     ]
    },
    {
     "name": "stdout",
     "output_type": "stream",
     "text": [
      "middle point [114, 367]\n",
      "min,max [305, 511, 153, 511]\n",
      "middle point [114, 367]\n",
      "min,max [0, 206, 240, 511]\n",
      "face shall be removed\n",
      "middle point [114, 367]\n",
      "min,max [0, 165, 236, 511]\n",
      "face shall be removed\n",
      "middle point [114, 367]\n",
      "min,max [306, 511, 153, 511]\n"
     ]
    },
    {
     "name": "stderr",
     "output_type": "stream",
     "text": [
      "INFO:webcam_skin_detection:Fingers detected: 2\n",
      "INFO:webcam_skin_detection:Fingers detected: 1\n"
     ]
    },
    {
     "name": "stdout",
     "output_type": "stream",
     "text": [
      "middle point [114, 367]\n",
      "min,max [0, 159, 248, 511]\n",
      "face shall be removed\n",
      "middle point [114, 367]\n",
      "min,max [308, 511, 153, 511]\n",
      "middle point [114, 367]\n",
      "min,max [0, 167, 238, 511]\n",
      "face shall be removed\n",
      "middle point [114, 367]\n",
      "min,max [309, 511, 153, 511]\n"
     ]
    },
    {
     "name": "stderr",
     "output_type": "stream",
     "text": [
      "INFO:webcam_skin_detection:Fingers detected: 1\n",
      "INFO:webcam_skin_detection:Fingers detected: 2\n"
     ]
    },
    {
     "name": "stdout",
     "output_type": "stream",
     "text": [
      "middle point [114, 367]\n",
      "min,max [0, 165, 246, 511]\n",
      "face shall be removed\n",
      "middle point [114, 367]\n",
      "min,max [309, 511, 153, 511]\n",
      "middle point [114, 367]\n",
      "min,max [0, 192, 247, 511]\n",
      "face shall be removed\n",
      "middle point [114, 367]\n",
      "min,max [309, 511, 153, 511]\n"
     ]
    },
    {
     "name": "stderr",
     "output_type": "stream",
     "text": [
      "INFO:webcam_skin_detection:Fingers detected: 1\n",
      "INFO:webcam_skin_detection:Fingers detected: 1\n"
     ]
    },
    {
     "name": "stdout",
     "output_type": "stream",
     "text": [
      "middle point [114, 367]\n",
      "min,max [0, 159, 248, 511]\n",
      "face shall be removed\n",
      "middle point [114, 367]\n",
      "min,max [309, 511, 147, 511]\n",
      "middle point [114, 367]\n",
      "min,max [0, 180, 246, 511]\n",
      "face shall be removed\n",
      "middle point [114, 367]\n",
      "min,max [312, 511, 132, 511]\n"
     ]
    },
    {
     "name": "stderr",
     "output_type": "stream",
     "text": [
      "INFO:webcam_skin_detection:Fingers detected: 1\n",
      "INFO:webcam_skin_detection:Fingers detected: 1\n"
     ]
    },
    {
     "name": "stdout",
     "output_type": "stream",
     "text": [
      "middle point [114, 367]\n",
      "min,max [0, 160, 248, 511]\n",
      "face shall be removed\n",
      "middle point [114, 367]\n",
      "min,max [314, 511, 122, 511]\n",
      "middle point [114, 367]\n",
      "min,max [0, 182, 230, 511]\n",
      "face shall be removed\n",
      "middle point [114, 367]\n",
      "min,max [317, 511, 112, 511]\n"
     ]
    },
    {
     "name": "stderr",
     "output_type": "stream",
     "text": [
      "INFO:webcam_skin_detection:Fingers detected: 1\n",
      "INFO:webcam_skin_detection:Fingers detected: 1\n"
     ]
    },
    {
     "name": "stdout",
     "output_type": "stream",
     "text": [
      "middle point [114, 367]\n",
      "min,max [0, 168, 240, 511]\n",
      "face shall be removed\n",
      "middle point [114, 367]\n",
      "min,max [320, 511, 109, 511]\n",
      "middle point [114, 367]\n",
      "min,max [0, 180, 246, 511]\n",
      "face shall be removed\n",
      "middle point [114, 367]\n",
      "min,max [326, 511, 108, 511]\n"
     ]
    },
    {
     "name": "stderr",
     "output_type": "stream",
     "text": [
      "INFO:webcam_skin_detection:Fingers detected: 2\n",
      "INFO:webcam_skin_detection:Fingers detected: 1\n"
     ]
    },
    {
     "name": "stdout",
     "output_type": "stream",
     "text": [
      "middle point [114, 367]\n",
      "min,max [0, 169, 243, 511]\n",
      "face shall be removed\n",
      "middle point [114, 367]\n",
      "min,max [336, 511, 102, 511]\n",
      "middle point [114, 367]\n",
      "min,max [0, 182, 244, 511]\n",
      "face shall be removed\n",
      "middle point [114, 367]\n",
      "min,max [346, 511, 100, 511]\n"
     ]
    },
    {
     "name": "stderr",
     "output_type": "stream",
     "text": [
      "INFO:webcam_skin_detection:Fingers detected: 1\n",
      "INFO:webcam_skin_detection:Fingers detected: 2\n",
      "INFO:webcam_skin_detection:Fingers detected: 1\n"
     ]
    },
    {
     "name": "stdout",
     "output_type": "stream",
     "text": [
      "middle point [114, 367]\n",
      "min,max [0, 165, 255, 511]\n",
      "face shall be removed\n",
      "middle point [114, 367]\n",
      "min,max [357, 511, 100, 511]\n",
      "middle point [114, 367]\n",
      "min,max [365, 511, 102, 511]\n",
      "middle point [114, 367]\n",
      "min,max [0, 184, 246, 511]\n",
      "face shall be removed\n"
     ]
    },
    {
     "name": "stderr",
     "output_type": "stream",
     "text": [
      "INFO:webcam_skin_detection:Fingers detected: 2\n",
      "INFO:webcam_skin_detection:Fingers detected: 1\n"
     ]
    },
    {
     "name": "stdout",
     "output_type": "stream",
     "text": [
      "middle point [114, 367]\n",
      "min,max [378, 511, 104, 511]\n",
      "middle point [114, 367]\n",
      "min,max [0, 172, 248, 511]\n",
      "face shall be removed\n",
      "middle point [114, 367]\n",
      "min,max [359, 511, 107, 511]\n",
      "middle point [114, 367]\n",
      "min,max [0, 184, 248, 511]\n",
      "face shall be removed\n"
     ]
    },
    {
     "name": "stderr",
     "output_type": "stream",
     "text": [
      "INFO:webcam_skin_detection:Fingers detected: 2\n",
      "INFO:webcam_skin_detection:Fingers detected: 2\n"
     ]
    },
    {
     "name": "stdout",
     "output_type": "stream",
     "text": [
      "middle point [114, 367]\n",
      "min,max [397, 511, 115, 511]\n",
      "middle point [114, 367]\n",
      "min,max [0, 173, 248, 511]\n",
      "face shall be removed\n",
      "middle point [114, 367]\n",
      "min,max [398, 511, 119, 511]\n",
      "middle point [114, 367]\n",
      "min,max [0, 194, 229, 511]\n",
      "face shall be removed\n"
     ]
    },
    {
     "name": "stderr",
     "output_type": "stream",
     "text": [
      "INFO:webcam_skin_detection:Fingers detected: 2\n",
      "INFO:webcam_skin_detection:Fingers detected: 2\n"
     ]
    },
    {
     "name": "stdout",
     "output_type": "stream",
     "text": [
      "middle point [114, 367]\n",
      "min,max [386, 511, 131, 511]\n",
      "middle point [114, 367]\n",
      "min,max [0, 191, 241, 511]\n",
      "face shall be removed\n",
      "middle point [114, 367]\n",
      "min,max [393, 511, 141, 511]\n",
      "middle point [114, 367]\n",
      "min,max [0, 188, 242, 511]\n",
      "face shall be removed\n"
     ]
    },
    {
     "name": "stderr",
     "output_type": "stream",
     "text": [
      "INFO:webcam_skin_detection:Fingers detected: 2\n"
     ]
    },
    {
     "name": "stdout",
     "output_type": "stream",
     "text": [
      "middle point [114, 367]\n",
      "min,max [421, 511, 153, 511]\n",
      "middle point [114, 367]\n",
      "min,max [2, 178, 250, 511]\n",
      "face shall be removed\n",
      "middle point [114, 367]\n",
      "min,max [374, 511, 161, 511]\n",
      "middle point [114, 367]\n",
      "min,max [0, 181, 244, 511]\n",
      "face shall be removed\n"
     ]
    },
    {
     "name": "stderr",
     "output_type": "stream",
     "text": [
      "INFO:webcam_skin_detection:Fingers detected: 2\n",
      "INFO:webcam_skin_detection:Fingers detected: 1\n",
      "INFO:webcam_skin_detection:Fingers detected: 2\n"
     ]
    },
    {
     "name": "stdout",
     "output_type": "stream",
     "text": [
      "middle point [114, 367]\n",
      "min,max [413, 511, 168, 511]\n",
      "middle point [114, 367]\n",
      "min,max [0, 178, 238, 511]\n",
      "face shall be removed\n",
      "middle point [114, 367]\n",
      "min,max [407, 511, 177, 511]\n",
      "middle point [114, 367]\n",
      "min,max [0, 191, 244, 511]\n",
      "face shall be removed\n"
     ]
    },
    {
     "name": "stderr",
     "output_type": "stream",
     "text": [
      "INFO:webcam_skin_detection:Fingers detected: 3\n",
      "INFO:webcam_skin_detection:Fingers detected: 3\n"
     ]
    },
    {
     "name": "stdout",
     "output_type": "stream",
     "text": [
      "middle point [114, 367]\n",
      "min,max [399, 511, 186, 511]\n",
      "middle point [114, 367]\n",
      "min,max [5, 184, 252, 511]\n",
      "face shall be removed\n",
      "middle point [114, 367]\n",
      "min,max [394, 511, 196, 511]\n",
      "middle point [114, 367]\n",
      "min,max [18, 173, 252, 511]\n",
      "face shall be removed\n"
     ]
    },
    {
     "name": "stderr",
     "output_type": "stream",
     "text": [
      "INFO:webcam_skin_detection:Fingers detected: 1\n"
     ]
    },
    {
     "name": "stdout",
     "output_type": "stream",
     "text": [
      "middle point [114, 367]\n",
      "min,max [381, 511, 203, 511]\n",
      "middle point [114, 367]\n",
      "min,max [17, 173, 253, 511]\n",
      "face shall be removed\n",
      "middle point [114, 367]\n",
      "min,max [390, 511, 200, 511]\n",
      "middle point [114, 367]\n",
      "min,max [21, 175, 244, 511]\n",
      "face shall be removed\n"
     ]
    },
    {
     "name": "stderr",
     "output_type": "stream",
     "text": [
      "INFO:webcam_skin_detection:Fingers detected: 1\n",
      "INFO:webcam_skin_detection:Fingers detected: 1\n",
      "INFO:webcam_skin_detection:Fingers detected: 1\n"
     ]
    },
    {
     "name": "stdout",
     "output_type": "stream",
     "text": [
      "middle point [114, 367]\n",
      "min,max [391, 511, 197, 511]\n",
      "middle point [114, 367]\n",
      "min,max [0, 200, 240, 511]\n",
      "face shall be removed\n",
      "middle point [114, 367]\n",
      "min,max [393, 511, 189, 511]\n",
      "middle point [114, 367]\n",
      "min,max [0, 213, 244, 511]\n",
      "face shall be removed\n"
     ]
    },
    {
     "name": "stderr",
     "output_type": "stream",
     "text": [
      "INFO:webcam_skin_detection:Fingers detected: 2\n"
     ]
    },
    {
     "name": "stdout",
     "output_type": "stream",
     "text": [
      "middle point [114, 367]\n",
      "min,max [392, 511, 186, 511]\n",
      "middle point [114, 367]\n",
      "min,max [3, 180, 253, 511]\n",
      "face shall be removed\n",
      "middle point [114, 367]\n",
      "min,max [389, 511, 182, 511]\n",
      "middle point [114, 367]\n",
      "min,max [0, 197, 241, 511]\n",
      "face shall be removed\n"
     ]
    },
    {
     "name": "stderr",
     "output_type": "stream",
     "text": [
      "INFO:webcam_skin_detection:Fingers detected: 1\n",
      "INFO:webcam_skin_detection:Fingers detected: 1\n"
     ]
    },
    {
     "name": "stdout",
     "output_type": "stream",
     "text": [
      "middle point [114, 367]\n",
      "min,max [362, 511, 182, 511]\n",
      "middle point [114, 367]\n",
      "min,max [0, 190, 246, 511]\n",
      "face shall be removed\n"
     ]
    },
    {
     "name": "stderr",
     "output_type": "stream",
     "text": [
      "INFO:webcam_skin_detection:Fingers detected: 1\n"
     ]
    },
    {
     "name": "stdout",
     "output_type": "stream",
     "text": [
      "middle point [114, 367]\n",
      "min,max [388, 511, 182, 511]\n",
      "middle point [114, 367]\n",
      "min,max [0, 193, 239, 511]\n",
      "face shall be removed\n"
     ]
    },
    {
     "name": "stderr",
     "output_type": "stream",
     "text": [
      "INFO:webcam_skin_detection:Fingers detected: 1\n"
     ]
    },
    {
     "name": "stdout",
     "output_type": "stream",
     "text": [
      "middle point [114, 367]\n",
      "min,max [388, 511, 183, 511]\n",
      "middle point [114, 367]\n",
      "min,max [0, 200, 244, 511]\n",
      "face shall be removed\n"
     ]
    },
    {
     "name": "stderr",
     "output_type": "stream",
     "text": [
      "INFO:webcam_skin_detection:Fingers detected: 2\n"
     ]
    },
    {
     "name": "stdout",
     "output_type": "stream",
     "text": [
      "middle point [114, 367]\n",
      "min,max [386, 511, 184, 511]\n",
      "middle point [114, 367]\n",
      "min,max [20, 176, 247, 511]\n",
      "face shall be removed\n"
     ]
    },
    {
     "name": "stderr",
     "output_type": "stream",
     "text": [
      "INFO:webcam_skin_detection:Fingers detected: 2\n"
     ]
    },
    {
     "name": "stdout",
     "output_type": "stream",
     "text": [
      "middle point [114, 367]\n",
      "min,max [388, 511, 179, 511]\n",
      "middle point [114, 367]\n",
      "min,max [27, 176, 247, 511]\n",
      "face shall be removed\n"
     ]
    },
    {
     "name": "stderr",
     "output_type": "stream",
     "text": [
      "INFO:webcam_skin_detection:Fingers detected: 1\n"
     ]
    },
    {
     "name": "stdout",
     "output_type": "stream",
     "text": [
      "middle point [114, 367]\n",
      "min,max [388, 511, 174, 511]\n",
      "middle point [114, 367]\n",
      "min,max [0, 189, 240, 511]\n",
      "face shall be removed\n"
     ]
    },
    {
     "name": "stderr",
     "output_type": "stream",
     "text": [
      "INFO:webcam_skin_detection:Fingers detected: 1\n"
     ]
    },
    {
     "name": "stdout",
     "output_type": "stream",
     "text": [
      "middle point [114, 367]\n",
      "min,max [383, 511, 168, 511]\n",
      "middle point [114, 367]\n",
      "min,max [0, 227, 177, 511]\n",
      "face shall be removed\n"
     ]
    },
    {
     "name": "stderr",
     "output_type": "stream",
     "text": [
      "INFO:webcam_skin_detection:Fingers detected: 2\n",
      "INFO:webcam_skin_detection:Fingers detected: 3\n"
     ]
    },
    {
     "name": "stdout",
     "output_type": "stream",
     "text": [
      "middle point [114, 367]\n",
      "min,max [381, 511, 157, 511]\n",
      "middle point [114, 367]\n",
      "min,max [19, 175, 250, 511]\n",
      "face shall be removed\n",
      "middle point [114, 367]\n",
      "min,max [378, 511, 153, 511]\n",
      "middle point [114, 367]\n",
      "min,max [0, 175, 245, 511]\n",
      "face shall be removed\n"
     ]
    },
    {
     "name": "stderr",
     "output_type": "stream",
     "text": [
      "INFO:webcam_skin_detection:Fingers detected: 1\n",
      "INFO:webcam_skin_detection:Fingers detected: 1\n"
     ]
    },
    {
     "name": "stdout",
     "output_type": "stream",
     "text": [
      "middle point [114, 367]\n",
      "min,max [351, 511, 147, 511]\n",
      "middle point [114, 367]\n",
      "min,max [0, 189, 244, 511]\n",
      "face shall be removed\n",
      "middle point [114, 367]\n",
      "min,max [378, 511, 143, 511]\n",
      "middle point [114, 367]\n",
      "min,max [0, 181, 246, 511]\n",
      "face shall be removed\n"
     ]
    },
    {
     "name": "stderr",
     "output_type": "stream",
     "text": [
      "INFO:webcam_skin_detection:Fingers detected: 2\n",
      "INFO:webcam_skin_detection:Fingers detected: 2\n"
     ]
    },
    {
     "name": "stdout",
     "output_type": "stream",
     "text": [
      "middle point [114, 367]\n",
      "min,max [29, 175, 248, 511]\n",
      "face shall be removed\n",
      "middle point [114, 367]\n",
      "min,max [371, 511, 131, 511]\n",
      "middle point [114, 367]\n",
      "min,max [11, 177, 249, 511]\n",
      "face shall be removed\n",
      "middle point [114, 367]\n",
      "min,max [368, 511, 124, 511]\n"
     ]
    },
    {
     "name": "stderr",
     "output_type": "stream",
     "text": [
      "INFO:webcam_skin_detection:Fingers detected: 1\n"
     ]
    },
    {
     "name": "stdout",
     "output_type": "stream",
     "text": [
      "middle point [114, 367]\n",
      "min,max [366, 511, 118, 511]\n",
      "middle point [114, 367]\n",
      "min,max [0, 200, 244, 511]\n",
      "face shall be removed\n"
     ]
    },
    {
     "name": "stderr",
     "output_type": "stream",
     "text": [
      "INFO:webcam_skin_detection:Fingers detected: 3\n"
     ]
    },
    {
     "name": "stdout",
     "output_type": "stream",
     "text": [
      "middle point [114, 367]\n",
      "min,max [15, 181, 247, 511]\n",
      "face shall be removed\n",
      "middle point [114, 367]\n",
      "min,max [367, 511, 114, 511]\n",
      "middle point [114, 367]\n",
      "min,max [366, 511, 110, 511]\n",
      "middle point [114, 367]\n",
      "min,max [0, 183, 195, 511]\n",
      "face shall be removed\n"
     ]
    },
    {
     "name": "stderr",
     "output_type": "stream",
     "text": [
      "INFO:webcam_skin_detection:Fingers detected: 1\n",
      "INFO:webcam_skin_detection:Fingers detected: 1\n"
     ]
    },
    {
     "name": "stdout",
     "output_type": "stream",
     "text": [
      "middle point [114, 367]\n",
      "min,max [365, 511, 108, 511]\n",
      "middle point [114, 367]\n",
      "min,max [0, 181, 247, 511]\n",
      "face shall be removed\n",
      "middle point [114, 367]\n",
      "min,max [363, 511, 104, 511]\n",
      "middle point [114, 367]\n",
      "min,max [0, 190, 251, 511]\n",
      "face shall be removed\n"
     ]
    },
    {
     "name": "stderr",
     "output_type": "stream",
     "text": [
      "INFO:webcam_skin_detection:Fingers detected: 1\n",
      "INFO:webcam_skin_detection:Fingers detected: 1\n"
     ]
    },
    {
     "name": "stdout",
     "output_type": "stream",
     "text": [
      "middle point [114, 367]\n",
      "min,max [0, 178, 245, 511]\n",
      "face shall be removed\n",
      "middle point [114, 367]\n",
      "min,max [362, 511, 103, 511]\n",
      "middle point [114, 367]\n",
      "min,max [363, 511, 103, 511]\n",
      "middle point [114, 367]\n",
      "min,max [0, 178, 244, 511]\n",
      "face shall be removed\n"
     ]
    },
    {
     "name": "stderr",
     "output_type": "stream",
     "text": [
      "INFO:webcam_skin_detection:Fingers detected: 1\n",
      "INFO:webcam_skin_detection:Fingers detected: 1\n"
     ]
    },
    {
     "name": "stdout",
     "output_type": "stream",
     "text": [
      "middle point [114, 367]\n",
      "min,max [363, 511, 105, 511]\n",
      "middle point [114, 367]\n",
      "min,max [0, 183, 244, 511]\n",
      "face shall be removed\n",
      "middle point [114, 367]\n",
      "min,max [348, 511, 106, 511]\n",
      "middle point [114, 367]\n",
      "min,max [0, 182, 240, 511]\n",
      "face shall be removed\n"
     ]
    },
    {
     "name": "stderr",
     "output_type": "stream",
     "text": [
      "INFO:webcam_skin_detection:Fingers detected: 1\n",
      "INFO:webcam_skin_detection:Fingers detected: 1\n"
     ]
    },
    {
     "name": "stdout",
     "output_type": "stream",
     "text": [
      "middle point [114, 367]\n",
      "min,max [0, 183, 243, 511]\n",
      "face shall be removed\n",
      "middle point [114, 367]\n",
      "min,max [364, 511, 107, 511]\n",
      "middle point [114, 367]\n",
      "min,max [364, 511, 107, 511]\n",
      "middle point [114, 367]\n",
      "min,max [0, 189, 244, 511]\n",
      "face shall be removed\n"
     ]
    },
    {
     "name": "stderr",
     "output_type": "stream",
     "text": [
      "INFO:webcam_skin_detection:Fingers detected: 1\n",
      "INFO:webcam_skin_detection:Fingers detected: 1\n"
     ]
    },
    {
     "name": "stdout",
     "output_type": "stream",
     "text": [
      "middle point [114, 367]\n",
      "min,max [365, 511, 109, 511]\n",
      "middle point [114, 367]\n",
      "min,max [0, 195, 235, 511]\n",
      "face shall be removed\n",
      "middle point [114, 367]\n",
      "min,max [23, 183, 248, 511]\n",
      "face shall be removed\n",
      "middle point [114, 367]\n",
      "min,max [365, 511, 109, 511]\n"
     ]
    },
    {
     "name": "stderr",
     "output_type": "stream",
     "text": [
      "INFO:webcam_skin_detection:Fingers detected: 2\n",
      "INFO:webcam_skin_detection:Fingers detected: 1\n"
     ]
    },
    {
     "name": "stdout",
     "output_type": "stream",
     "text": [
      "middle point [114, 367]\n",
      "min,max [0, 187, 247, 511]\n",
      "face shall be removed\n",
      "middle point [114, 367]\n",
      "min,max [348, 511, 109, 511]\n",
      "middle point [114, 367]\n",
      "min,max [366, 511, 110, 511]\n",
      "middle point [114, 367]\n",
      "min,max [0, 187, 242, 511]\n",
      "face shall be removed\n"
     ]
    },
    {
     "name": "stderr",
     "output_type": "stream",
     "text": [
      "INFO:webcam_skin_detection:Fingers detected: 1\n",
      "INFO:webcam_skin_detection:Fingers detected: 1\n"
     ]
    },
    {
     "name": "stdout",
     "output_type": "stream",
     "text": [
      "middle point [114, 367]\n",
      "min,max [343, 511, 112, 511]\n",
      "middle point [114, 367]\n",
      "min,max [0, 201, 240, 511]\n",
      "face shall be removed\n",
      "middle point [114, 367]\n",
      "min,max [366, 511, 115, 511]\n",
      "middle point [114, 367]\n",
      "min,max [0, 212, 245, 511]\n",
      "face shall be removed\n"
     ]
    },
    {
     "name": "stderr",
     "output_type": "stream",
     "text": [
      "INFO:webcam_skin_detection:Fingers detected: 1\n",
      "INFO:webcam_skin_detection:Fingers detected: 1\n"
     ]
    },
    {
     "name": "stdout",
     "output_type": "stream",
     "text": [
      "middle point [114, 367]\n",
      "min,max [363, 511, 121, 511]\n",
      "middle point [114, 367]\n",
      "min,max [0, 179, 246, 511]\n",
      "face shall be removed\n",
      "middle point [114, 367]\n",
      "min,max [362, 511, 128, 511]\n",
      "middle point [114, 367]\n",
      "min,max [0, 192, 212, 511]\n",
      "face shall be removed\n"
     ]
    },
    {
     "name": "stderr",
     "output_type": "stream",
     "text": [
      "INFO:webcam_skin_detection:Fingers detected: 1\n",
      "INFO:webcam_skin_detection:Fingers detected: 1\n"
     ]
    },
    {
     "name": "stdout",
     "output_type": "stream",
     "text": [
      "middle point [114, 367]\n",
      "min,max [359, 511, 134, 511]\n",
      "middle point [114, 367]\n",
      "min,max [0, 210, 247, 511]\n",
      "face shall be removed\n",
      "middle point [114, 367]\n",
      "min,max [357, 511, 143, 511]\n",
      "middle point [114, 367]\n",
      "min,max [0, 192, 140, 511]\n",
      "face shall be removed\n"
     ]
    },
    {
     "name": "stderr",
     "output_type": "stream",
     "text": [
      "INFO:webcam_skin_detection:Fingers detected: 1\n",
      "INFO:webcam_skin_detection:Fingers detected: 1\n",
      "INFO:webcam_skin_detection:Fingers detected: 1\n"
     ]
    },
    {
     "name": "stdout",
     "output_type": "stream",
     "text": [
      "middle point [114, 367]\n",
      "min,max [356, 511, 153, 511]\n",
      "middle point [114, 367]\n",
      "min,max [7, 182, 255, 511]\n",
      "face shall be removed\n",
      "middle point [114, 367]\n",
      "min,max [353, 511, 159, 511]\n",
      "middle point [114, 367]\n",
      "min,max [0, 199, 244, 511]\n",
      "face shall be removed\n"
     ]
    },
    {
     "name": "stderr",
     "output_type": "stream",
     "text": [
      "INFO:webcam_skin_detection:Fingers detected: 2\n",
      "INFO:webcam_skin_detection:Fingers detected: 1\n"
     ]
    },
    {
     "name": "stdout",
     "output_type": "stream",
     "text": [
      "middle point [114, 367]\n",
      "min,max [27, 181, 248, 511]\n",
      "face shall be removed\n",
      "middle point [114, 367]\n",
      "min,max [348, 511, 166, 511]\n",
      "middle point [114, 367]\n",
      "min,max [12, 173, 252, 511]\n",
      "face shall be removed\n",
      "middle point [114, 367]\n",
      "min,max [347, 511, 170, 511]\n"
     ]
    },
    {
     "name": "stderr",
     "output_type": "stream",
     "text": [
      "INFO:webcam_skin_detection:Fingers detected: 1\n"
     ]
    },
    {
     "name": "stdout",
     "output_type": "stream",
     "text": [
      "middle point [114, 367]\n",
      "min,max [342, 511, 182, 511]\n",
      "middle point [114, 367]\n",
      "min,max [0, 200, 212, 511]\n",
      "face shall be removed\n"
     ]
    },
    {
     "name": "stderr",
     "output_type": "stream",
     "text": [
      "INFO:webcam_skin_detection:Fingers detected: 1\n"
     ]
    },
    {
     "name": "stdout",
     "output_type": "stream",
     "text": [
      "middle point [114, 367]\n",
      "min,max [334, 511, 190, 511]\n",
      "middle point [114, 367]\n",
      "min,max [0, 215, 239, 511]\n",
      "face shall be removed\n"
     ]
    },
    {
     "name": "stderr",
     "output_type": "stream",
     "text": [
      "INFO:webcam_skin_detection:Fingers detected: 1\n"
     ]
    },
    {
     "name": "stdout",
     "output_type": "stream",
     "text": [
      "middle point [114, 367]\n",
      "min,max [333, 511, 199, 511]\n",
      "middle point [114, 367]\n",
      "min,max [0, 177, 239, 511]\n",
      "face shall be removed\n",
      "middle point [114, 367]\n",
      "min,max [331, 511, 206, 511]\n",
      "middle point [114, 367]\n",
      "min,max [0, 202, 156, 511]\n",
      "face shall be removed\n"
     ]
    },
    {
     "name": "stderr",
     "output_type": "stream",
     "text": [
      "INFO:webcam_skin_detection:Fingers detected: 1\n",
      "INFO:webcam_skin_detection:Fingers detected: 1\n"
     ]
    },
    {
     "name": "stdout",
     "output_type": "stream",
     "text": [
      "middle point [114, 367]\n",
      "min,max [328, 511, 216, 511]\n",
      "middle point [114, 367]\n",
      "min,max [0, 194, 244, 511]\n",
      "face shall be removed\n"
     ]
    },
    {
     "name": "stderr",
     "output_type": "stream",
     "text": [
      "INFO:webcam_skin_detection:Fingers detected: 2\n"
     ]
    },
    {
     "name": "stdout",
     "output_type": "stream",
     "text": [
      "middle point [114, 367]\n",
      "min,max [325, 511, 232, 511]\n",
      "middle point [114, 367]\n",
      "min,max [0, 206, 245, 511]\n",
      "face shall be removed\n",
      "middle point [114, 367]\n",
      "min,max [316, 511, 253, 511]\n",
      "middle point [114, 367]\n",
      "min,max [0, 200, 245, 511]\n",
      "face shall be removed\n"
     ]
    },
    {
     "name": "stderr",
     "output_type": "stream",
     "text": [
      "INFO:webcam_skin_detection:Fingers detected: 2\n",
      "INFO:webcam_skin_detection:Fingers detected: 1\n",
      "INFO:webcam_skin_detection:Fingers detected: 1\n"
     ]
    },
    {
     "name": "stdout",
     "output_type": "stream",
     "text": [
      "middle point [114, 367]\n",
      "min,max [309, 511, 266, 511]\n",
      "middle point [114, 367]\n",
      "min,max [0, 178, 247, 511]\n",
      "face shall be removed\n",
      "middle point [114, 367]\n",
      "min,max [298, 511, 280, 511]\n",
      "middle point [114, 367]\n",
      "min,max [7, 175, 245, 511]\n",
      "face shall be removed\n"
     ]
    },
    {
     "name": "stderr",
     "output_type": "stream",
     "text": [
      "INFO:webcam_skin_detection:Fingers detected: 1\n"
     ]
    },
    {
     "name": "stdout",
     "output_type": "stream",
     "text": [
      "middle point [114, 367]\n",
      "min,max [287, 511, 295, 511]\n",
      "middle point [114, 367]\n",
      "min,max [0, 200, 239, 511]\n",
      "face shall be removed\n",
      "middle point [114, 367]\n",
      "min,max [284, 501, 314, 511]\n",
      "middle point [114, 367]\n",
      "min,max [0, 181, 246, 511]\n",
      "face shall be removed\n"
     ]
    },
    {
     "name": "stderr",
     "output_type": "stream",
     "text": [
      "INFO:webcam_skin_detection:Fingers detected: 1\n",
      "WARNING:webcam_skin_detection:No contours found in the mask\n",
      "INFO:webcam_skin_detection:Fingers detected: 0\n",
      "WARNING:webcam_skin_detection:No contours found in the mask\n",
      "INFO:webcam_skin_detection:Fingers detected: 0\n"
     ]
    },
    {
     "name": "stdout",
     "output_type": "stream",
     "text": [
      "middle point [114, 367]\n",
      "min,max [299, 511, 341, 511]\n",
      "middle point [114, 367]\n",
      "min,max [0, 181, 248, 511]\n",
      "face shall be removed\n",
      "middle point [114, 367]\n",
      "min,max [305, 511, 344, 511]\n",
      "middle point [114, 367]\n",
      "min,max [0, 200, 240, 511]\n",
      "face shall be removed\n"
     ]
    },
    {
     "name": "stderr",
     "output_type": "stream",
     "text": [
      "WARNING:webcam_skin_detection:No contours found in the mask\n",
      "INFO:webcam_skin_detection:Fingers detected: 0\n",
      "WARNING:webcam_skin_detection:No contours found in the mask\n",
      "INFO:webcam_skin_detection:Fingers detected: 0\n"
     ]
    },
    {
     "name": "stdout",
     "output_type": "stream",
     "text": [
      "middle point [114, 367]\n",
      "min,max [304, 511, 342, 511]\n",
      "middle point [114, 367]\n",
      "min,max [0, 216, 246, 511]\n",
      "face shall be removed\n",
      "middle point [114, 367]\n",
      "min,max [300, 511, 342, 511]\n",
      "middle point [114, 367]\n",
      "min,max [0, 192, 201, 511]\n",
      "face shall be removed\n"
     ]
    },
    {
     "name": "stderr",
     "output_type": "stream",
     "text": [
      "INFO:webcam_skin_detection:Fingers detected: 1\n"
     ]
    },
    {
     "name": "stdout",
     "output_type": "stream",
     "text": [
      "middle point [114, 367]\n",
      "min,max [305, 505, 345, 511]\n",
      "middle point [114, 367]\n",
      "min,max [12, 178, 248, 511]\n",
      "face shall be removed\n",
      "middle point [114, 367]\n",
      "min,max [304, 511, 348, 511]\n",
      "middle point [114, 367]\n",
      "min,max [18, 181, 248, 511]\n",
      "face shall be removed\n"
     ]
    },
    {
     "name": "stderr",
     "output_type": "stream",
     "text": [
      "INFO:webcam_skin_detection:Fingers detected: 1\n",
      "WARNING:webcam_skin_detection:No contours found in the mask\n",
      "INFO:webcam_skin_detection:Fingers detected: 0\n",
      "WARNING:webcam_skin_detection:No contours found in the mask\n",
      "INFO:webcam_skin_detection:Fingers detected: 0\n"
     ]
    },
    {
     "name": "stdout",
     "output_type": "stream",
     "text": [
      "middle point [114, 367]\n",
      "min,max [308, 511, 345, 511]\n",
      "middle point [114, 367]\n",
      "min,max [0, 200, 246, 511]\n",
      "face shall be removed\n",
      "middle point [114, 367]\n",
      "min,max [309, 511, 344, 511]\n",
      "middle point [114, 367]\n",
      "min,max [0, 181, 248, 511]\n",
      "face shall be removed\n"
     ]
    },
    {
     "name": "stderr",
     "output_type": "stream",
     "text": [
      "INFO:webcam_skin_detection:Fingers detected: 2\n"
     ]
    },
    {
     "name": "stdout",
     "output_type": "stream",
     "text": [
      "middle point [114, 367]\n",
      "min,max [309, 511, 339, 511]\n",
      "middle point [114, 367]\n",
      "min,max [0, 199, 244, 511]\n",
      "face shall be removed\n",
      "middle point [114, 367]\n",
      "min,max [292, 511, 286, 511]\n",
      "middle point [114, 367]\n",
      "min,max [0, 200, 239, 511]\n",
      "face shall be removed\n"
     ]
    },
    {
     "name": "stderr",
     "output_type": "stream",
     "text": [
      "INFO:webcam_skin_detection:Fingers detected: 3\n",
      "INFO:webcam_skin_detection:Fingers detected: 4\n"
     ]
    },
    {
     "name": "stdout",
     "output_type": "stream",
     "text": [
      "middle point [114, 367]\n",
      "min,max [284, 504, 244, 511]\n",
      "middle point [114, 367]\n",
      "min,max [2, 186, 158, 511]\n",
      "face shall be removed\n",
      "middle point [114, 367]\n",
      "min,max [31, 187, 246, 511]\n",
      "face shall be removed\n",
      "middle point [114, 367]\n",
      "min,max [282, 511, 224, 511]\n"
     ]
    },
    {
     "name": "stderr",
     "output_type": "stream",
     "text": [
      "INFO:webcam_skin_detection:Fingers detected: 4\n",
      "INFO:webcam_skin_detection:Fingers detected: 4\n"
     ]
    },
    {
     "name": "stdout",
     "output_type": "stream",
     "text": [
      "middle point [114, 367]\n",
      "min,max [0, 241, 235, 511]\n",
      "face shall be removed\n",
      "middle point [114, 367]\n",
      "min,max [279, 510, 212, 511]\n"
     ]
    },
    {
     "name": "stderr",
     "output_type": "stream",
     "text": [
      "INFO:webcam_skin_detection:Fingers detected: 4\n"
     ]
    },
    {
     "name": "stdout",
     "output_type": "stream",
     "text": [
      "middle point [114, 367]\n",
      "min,max [12, 203, 237, 511]\n",
      "face shall be removed\n",
      "middle point [114, 367]\n",
      "min,max [277, 508, 214, 511]\n"
     ]
    },
    {
     "name": "stderr",
     "output_type": "stream",
     "text": [
      "INFO:webcam_skin_detection:Fingers detected: 4\n"
     ]
    },
    {
     "name": "stdout",
     "output_type": "stream",
     "text": [
      "middle point [114, 367]\n",
      "min,max [0, 237, 237, 511]\n",
      "face shall be removed\n",
      "middle point [114, 367]\n",
      "min,max [276, 506, 214, 511]\n",
      "middle point [114, 367]\n",
      "min,max [5, 238, 235, 511]\n",
      "face shall be removed\n",
      "middle point [114, 367]\n",
      "min,max [272, 501, 214, 511]\n"
     ]
    },
    {
     "name": "stderr",
     "output_type": "stream",
     "text": [
      "INFO:webcam_skin_detection:Fingers detected: 4\n",
      "INFO:webcam_skin_detection:Webcam released and windows closed\n"
     ]
    }
   ],
   "source": [
    "if __name__ == \"__main__\":\n",
    "    main()"
   ]
  },
  {
   "cell_type": "code",
   "execution_count": null,
   "metadata": {},
   "outputs": [],
   "source": []
  }
 ],
 "metadata": {
  "kernelspec": {
   "display_name": "env",
   "language": "python",
   "name": "python3"
  },
  "language_info": {
   "codemirror_mode": {
    "name": "ipython",
    "version": 3
   },
   "file_extension": ".py",
   "mimetype": "text/x-python",
   "name": "python",
   "nbconvert_exporter": "python",
   "pygments_lexer": "ipython3",
   "version": "3.12.3"
  }
 },
 "nbformat": 4,
 "nbformat_minor": 2
}
